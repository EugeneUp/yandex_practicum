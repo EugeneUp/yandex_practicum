{
 "cells": [
  {
   "cell_type": "markdown",
   "id": "b7fdfa50",
   "metadata": {},
   "source": [
    "# Исследование по поиску клиентов с неоптимальными тарифами\n",
    "\n",
    "В исследовании заказчиком является провайдер виртуальной телефонии, его клиенты − колл-центры.\n",
    "\n",
    "Представлены следующие тарифы:\n",
    "<table>\n",
    "    <tr><th> <th><th> Тариф А <th><th> Тариф B <th><th> Тариф С <th><tr>\n",
    "    <tr><td> Ежемесячная плата за тариф <td><td> 4000 ₽ <td><td> 2000 ₽ <td><td> 1000 ₽ <td><tr>\n",
    "    <tr><td> Дополнительная ежемесячная плата за каждого оператора <td><td> 50 ₽ <td><td> 150 ₽ <td><td> 300 ₽ <td><tr>\n",
    "    <tr><td> Все входящие <td><td> бесплатно <td><td> бесплатно <td><td> бесплатно <td><tr>\n",
    "    <tr><td> Исходящие звонки внутри сети, включённые в тариф <td><td> 2000 минут <td><td> 500 минут <td><td> 0 минут <td><tr>\n",
    "    <tr><td> Исходящие звонки внутри сети, цена сверх лимита <td><td> 0.1 ₽/мин <td><td> 0.15 ₽/мин <td><td> 0.3 ₽/мин <td><tr>\n",
    "    <tr><td> Исходящие звонки, кроме внутренних <td><td> 0.3 ₽/мин <td><td> 0.5 ₽/мин <td><td> 0.7 ₽/мин <td><tr>\n",
    "<table>\n",
    "\n",
    "**Цель проекта**:\\\n",
    "Для повышения лояльности клиентов и уменьшения потенциального оттока из-за переплаты, нужно проанализировать тарифы компании и понять:\n",
    "- насколько они подходят колл-центрам;\n",
    "- насколько для наших клиентов будет выгодна смена тарифа;\n",
    "- какую долю клиентов целесообразно переводить;\n",
    "- сильно ли изменится выручка после оптимизации тарифов."
   ]
  },
  {
   "cell_type": "markdown",
   "id": "9165edff",
   "metadata": {},
   "source": [
    "**План декомпозиции исследования:**\n",
    "\n",
    "1. [Предобработка данных](#step_1)\n",
    "    * [Проверка на дубликаты и пропуски в данных](#step_1_1)\n",
    "    * [Проверка типов данных и их приведение](#step_1_2)\n",
    "    * [Объединим таблицы и добавим столбцы для расчёта выручки](#step_1_3)\n",
    "2. [Исследовательский анализ](#step_2)\n",
    "    * [Поиск активных клиентов](#step_2_1)\n",
    "    * [Подсчёт выручки по активным клиентам](#step_2_2)\n",
    "    * [Выручка и среднее арифметическое в разрезе тарифов](#step_2_3)\n",
    "    * [Корректировка неоптимальных тарифов и подсчёт выручки по результату](#step_2_4)\n",
    "3. [Статистический анализ](#step_3)\n",
    "    * [Проверим различие выручки на тарифных планах A и B](#step_3_1)\n",
    "    * [Проверим различие выручки до и после оптимизации тарифов](#step_3_2)\n",
    "4. [Выводы и предложения по сохранению выручки после оптимизации тарифов у клиентов](#step_4)"
   ]
  },
  {
   "cell_type": "code",
   "execution_count": 1,
   "id": "ec5c3ea8",
   "metadata": {},
   "outputs": [],
   "source": [
    "# загрузка библиотек\n",
    "import pandas as pd\n",
    "import matplotlib.pyplot as plt\n",
    "import seaborn as sns\n",
    "import numpy as np\n",
    "import scipy.stats as st\n",
    "import datetime as dt"
   ]
  },
  {
   "cell_type": "code",
   "execution_count": 2,
   "id": "1d245900",
   "metadata": {},
   "outputs": [],
   "source": [
    "# загрузка датасетов\n",
    "clients = pd.read_csv('/telecom_clients.csv')\n",
    "calls = pd.read_csv('/telecom_dataset.csv')"
   ]
  },
  {
   "cell_type": "code",
   "execution_count": 3,
   "id": "ebfe920e",
   "metadata": {},
   "outputs": [],
   "source": [
    "# снимаем ограничение на количество столбцов\n",
    "pd.set_option('display.max_columns', None)\n",
    "\n",
    "# снимаем ограничение на ширину столбцов\n",
    "pd.set_option('display.max_colwidth', None)\n",
    "\n",
    "# игнорируем предупреждения\n",
    "pd.set_option('chained_assignment', None)"
   ]
  },
  {
   "cell_type": "code",
   "execution_count": 4,
   "id": "10a4591a",
   "metadata": {},
   "outputs": [
    {
     "name": "stdout",
     "output_type": "stream",
     "text": [
      "<class 'pandas.core.frame.DataFrame'>\n",
      "RangeIndex: 732 entries, 0 to 731\n",
      "Data columns (total 3 columns):\n",
      " #   Column       Non-Null Count  Dtype \n",
      "---  ------       --------------  ----- \n",
      " 0   user_id      732 non-null    int64 \n",
      " 1   tariff_plan  732 non-null    object\n",
      " 2   date_start   732 non-null    object\n",
      "dtypes: int64(1), object(2)\n",
      "memory usage: 17.3+ KB\n"
     ]
    },
    {
     "data": {
      "text/html": [
       "<div>\n",
       "<style scoped>\n",
       "    .dataframe tbody tr th:only-of-type {\n",
       "        vertical-align: middle;\n",
       "    }\n",
       "\n",
       "    .dataframe tbody tr th {\n",
       "        vertical-align: top;\n",
       "    }\n",
       "\n",
       "    .dataframe thead th {\n",
       "        text-align: right;\n",
       "    }\n",
       "</style>\n",
       "<table border=\"1\" class=\"dataframe\">\n",
       "  <thead>\n",
       "    <tr style=\"text-align: right;\">\n",
       "      <th></th>\n",
       "      <th>user_id</th>\n",
       "      <th>tariff_plan</th>\n",
       "      <th>date_start</th>\n",
       "    </tr>\n",
       "  </thead>\n",
       "  <tbody>\n",
       "    <tr>\n",
       "      <th>136</th>\n",
       "      <td>168008</td>\n",
       "      <td>C</td>\n",
       "      <td>2019-10-09</td>\n",
       "    </tr>\n",
       "    <tr>\n",
       "      <th>526</th>\n",
       "      <td>168558</td>\n",
       "      <td>B</td>\n",
       "      <td>2019-10-30</td>\n",
       "    </tr>\n",
       "    <tr>\n",
       "      <th>547</th>\n",
       "      <td>167310</td>\n",
       "      <td>B</td>\n",
       "      <td>2019-09-11</td>\n",
       "    </tr>\n",
       "    <tr>\n",
       "      <th>395</th>\n",
       "      <td>167994</td>\n",
       "      <td>C</td>\n",
       "      <td>2019-10-09</td>\n",
       "    </tr>\n",
       "    <tr>\n",
       "      <th>347</th>\n",
       "      <td>167035</td>\n",
       "      <td>C</td>\n",
       "      <td>2019-08-29</td>\n",
       "    </tr>\n",
       "  </tbody>\n",
       "</table>\n",
       "</div>"
      ],
      "text/plain": [
       "     user_id tariff_plan  date_start\n",
       "136   168008           C  2019-10-09\n",
       "526   168558           B  2019-10-30\n",
       "547   167310           B  2019-09-11\n",
       "395   167994           C  2019-10-09\n",
       "347   167035           C  2019-08-29"
      ]
     },
     "metadata": {},
     "output_type": "display_data"
    },
    {
     "data": {
      "text/html": [
       "<div>\n",
       "<style scoped>\n",
       "    .dataframe tbody tr th:only-of-type {\n",
       "        vertical-align: middle;\n",
       "    }\n",
       "\n",
       "    .dataframe tbody tr th {\n",
       "        vertical-align: top;\n",
       "    }\n",
       "\n",
       "    .dataframe thead th {\n",
       "        text-align: right;\n",
       "    }\n",
       "</style>\n",
       "<table border=\"1\" class=\"dataframe\">\n",
       "  <thead>\n",
       "    <tr style=\"text-align: right;\">\n",
       "      <th></th>\n",
       "      <th>user_id</th>\n",
       "    </tr>\n",
       "  </thead>\n",
       "  <tbody>\n",
       "    <tr>\n",
       "      <th>count</th>\n",
       "      <td>732.000000</td>\n",
       "    </tr>\n",
       "    <tr>\n",
       "      <th>mean</th>\n",
       "      <td>167431.927596</td>\n",
       "    </tr>\n",
       "    <tr>\n",
       "      <th>std</th>\n",
       "      <td>633.810383</td>\n",
       "    </tr>\n",
       "    <tr>\n",
       "      <th>min</th>\n",
       "      <td>166373.000000</td>\n",
       "    </tr>\n",
       "    <tr>\n",
       "      <th>25%</th>\n",
       "      <td>166900.750000</td>\n",
       "    </tr>\n",
       "    <tr>\n",
       "      <th>50%</th>\n",
       "      <td>167432.000000</td>\n",
       "    </tr>\n",
       "    <tr>\n",
       "      <th>75%</th>\n",
       "      <td>167973.000000</td>\n",
       "    </tr>\n",
       "    <tr>\n",
       "      <th>max</th>\n",
       "      <td>168606.000000</td>\n",
       "    </tr>\n",
       "  </tbody>\n",
       "</table>\n",
       "</div>"
      ],
      "text/plain": [
       "             user_id\n",
       "count     732.000000\n",
       "mean   167431.927596\n",
       "std       633.810383\n",
       "min    166373.000000\n",
       "25%    166900.750000\n",
       "50%    167432.000000\n",
       "75%    167973.000000\n",
       "max    168606.000000"
      ]
     },
     "metadata": {},
     "output_type": "display_data"
    },
    {
     "data": {
      "text/plain": [
       "None"
      ]
     },
     "metadata": {},
     "output_type": "display_data"
    }
   ],
   "source": [
    "# общее знакомство с данными\n",
    "display(\n",
    "    clients.sample(5),\n",
    "    clients.describe(),\n",
    "    clients.info()\n",
    ")"
   ]
  },
  {
   "cell_type": "code",
   "execution_count": 5,
   "id": "40094fc6",
   "metadata": {},
   "outputs": [
    {
     "name": "stdout",
     "output_type": "stream",
     "text": [
      "<class 'pandas.core.frame.DataFrame'>\n",
      "RangeIndex: 53902 entries, 0 to 53901\n",
      "Data columns (total 9 columns):\n",
      " #   Column               Non-Null Count  Dtype  \n",
      "---  ------               --------------  -----  \n",
      " 0   user_id              53902 non-null  int64  \n",
      " 1   date                 53902 non-null  object \n",
      " 2   direction            53902 non-null  object \n",
      " 3   internal             53785 non-null  object \n",
      " 4   operator_id          45730 non-null  float64\n",
      " 5   is_missed_call       53902 non-null  bool   \n",
      " 6   calls_count          53902 non-null  int64  \n",
      " 7   call_duration        53902 non-null  int64  \n",
      " 8   total_call_duration  53902 non-null  int64  \n",
      "dtypes: bool(1), float64(1), int64(4), object(3)\n",
      "memory usage: 3.3+ MB\n"
     ]
    },
    {
     "data": {
      "text/html": [
       "<div>\n",
       "<style scoped>\n",
       "    .dataframe tbody tr th:only-of-type {\n",
       "        vertical-align: middle;\n",
       "    }\n",
       "\n",
       "    .dataframe tbody tr th {\n",
       "        vertical-align: top;\n",
       "    }\n",
       "\n",
       "    .dataframe thead th {\n",
       "        text-align: right;\n",
       "    }\n",
       "</style>\n",
       "<table border=\"1\" class=\"dataframe\">\n",
       "  <thead>\n",
       "    <tr style=\"text-align: right;\">\n",
       "      <th></th>\n",
       "      <th>user_id</th>\n",
       "      <th>date</th>\n",
       "      <th>direction</th>\n",
       "      <th>internal</th>\n",
       "      <th>operator_id</th>\n",
       "      <th>is_missed_call</th>\n",
       "      <th>calls_count</th>\n",
       "      <th>call_duration</th>\n",
       "      <th>total_call_duration</th>\n",
       "    </tr>\n",
       "  </thead>\n",
       "  <tbody>\n",
       "    <tr>\n",
       "      <th>7932</th>\n",
       "      <td>166658</td>\n",
       "      <td>2019-08-21 00:00:00+03:00</td>\n",
       "      <td>out</td>\n",
       "      <td>False</td>\n",
       "      <td>890410.0</td>\n",
       "      <td>True</td>\n",
       "      <td>2</td>\n",
       "      <td>0</td>\n",
       "      <td>34</td>\n",
       "    </tr>\n",
       "    <tr>\n",
       "      <th>43931</th>\n",
       "      <td>168021</td>\n",
       "      <td>2019-10-24 00:00:00+03:00</td>\n",
       "      <td>in</td>\n",
       "      <td>False</td>\n",
       "      <td>NaN</td>\n",
       "      <td>True</td>\n",
       "      <td>7</td>\n",
       "      <td>0</td>\n",
       "      <td>114</td>\n",
       "    </tr>\n",
       "    <tr>\n",
       "      <th>50230</th>\n",
       "      <td>168252</td>\n",
       "      <td>2019-11-01 00:00:00+03:00</td>\n",
       "      <td>out</td>\n",
       "      <td>False</td>\n",
       "      <td>940588.0</td>\n",
       "      <td>True</td>\n",
       "      <td>1</td>\n",
       "      <td>0</td>\n",
       "      <td>2</td>\n",
       "    </tr>\n",
       "    <tr>\n",
       "      <th>29397</th>\n",
       "      <td>167235</td>\n",
       "      <td>2019-11-14 00:00:00+03:00</td>\n",
       "      <td>in</td>\n",
       "      <td>False</td>\n",
       "      <td>NaN</td>\n",
       "      <td>True</td>\n",
       "      <td>3</td>\n",
       "      <td>0</td>\n",
       "      <td>158</td>\n",
       "    </tr>\n",
       "    <tr>\n",
       "      <th>19623</th>\n",
       "      <td>166983</td>\n",
       "      <td>2019-11-24 00:00:00+03:00</td>\n",
       "      <td>out</td>\n",
       "      <td>False</td>\n",
       "      <td>901884.0</td>\n",
       "      <td>False</td>\n",
       "      <td>14</td>\n",
       "      <td>3169</td>\n",
       "      <td>3436</td>\n",
       "    </tr>\n",
       "  </tbody>\n",
       "</table>\n",
       "</div>"
      ],
      "text/plain": [
       "       user_id                       date direction internal  operator_id  \\\n",
       "7932    166658  2019-08-21 00:00:00+03:00       out    False     890410.0   \n",
       "43931   168021  2019-10-24 00:00:00+03:00        in    False          NaN   \n",
       "50230   168252  2019-11-01 00:00:00+03:00       out    False     940588.0   \n",
       "29397   167235  2019-11-14 00:00:00+03:00        in    False          NaN   \n",
       "19623   166983  2019-11-24 00:00:00+03:00       out    False     901884.0   \n",
       "\n",
       "       is_missed_call  calls_count  call_duration  total_call_duration  \n",
       "7932             True            2              0                   34  \n",
       "43931            True            7              0                  114  \n",
       "50230            True            1              0                    2  \n",
       "29397            True            3              0                  158  \n",
       "19623           False           14           3169                 3436  "
      ]
     },
     "metadata": {},
     "output_type": "display_data"
    },
    {
     "data": {
      "text/html": [
       "<div>\n",
       "<style scoped>\n",
       "    .dataframe tbody tr th:only-of-type {\n",
       "        vertical-align: middle;\n",
       "    }\n",
       "\n",
       "    .dataframe tbody tr th {\n",
       "        vertical-align: top;\n",
       "    }\n",
       "\n",
       "    .dataframe thead th {\n",
       "        text-align: right;\n",
       "    }\n",
       "</style>\n",
       "<table border=\"1\" class=\"dataframe\">\n",
       "  <thead>\n",
       "    <tr style=\"text-align: right;\">\n",
       "      <th></th>\n",
       "      <th>user_id</th>\n",
       "      <th>operator_id</th>\n",
       "      <th>calls_count</th>\n",
       "      <th>call_duration</th>\n",
       "      <th>total_call_duration</th>\n",
       "    </tr>\n",
       "  </thead>\n",
       "  <tbody>\n",
       "    <tr>\n",
       "      <th>count</th>\n",
       "      <td>53902.000000</td>\n",
       "      <td>45730.000000</td>\n",
       "      <td>53902.000000</td>\n",
       "      <td>53902.000000</td>\n",
       "      <td>53902.000000</td>\n",
       "    </tr>\n",
       "    <tr>\n",
       "      <th>mean</th>\n",
       "      <td>167295.344477</td>\n",
       "      <td>916535.993002</td>\n",
       "      <td>16.451245</td>\n",
       "      <td>866.684427</td>\n",
       "      <td>1157.133297</td>\n",
       "    </tr>\n",
       "    <tr>\n",
       "      <th>std</th>\n",
       "      <td>598.883775</td>\n",
       "      <td>21254.123136</td>\n",
       "      <td>62.917170</td>\n",
       "      <td>3731.791202</td>\n",
       "      <td>4403.468763</td>\n",
       "    </tr>\n",
       "    <tr>\n",
       "      <th>min</th>\n",
       "      <td>166377.000000</td>\n",
       "      <td>879896.000000</td>\n",
       "      <td>1.000000</td>\n",
       "      <td>0.000000</td>\n",
       "      <td>0.000000</td>\n",
       "    </tr>\n",
       "    <tr>\n",
       "      <th>25%</th>\n",
       "      <td>166782.000000</td>\n",
       "      <td>900788.000000</td>\n",
       "      <td>1.000000</td>\n",
       "      <td>0.000000</td>\n",
       "      <td>47.000000</td>\n",
       "    </tr>\n",
       "    <tr>\n",
       "      <th>50%</th>\n",
       "      <td>167162.000000</td>\n",
       "      <td>913938.000000</td>\n",
       "      <td>4.000000</td>\n",
       "      <td>38.000000</td>\n",
       "      <td>210.000000</td>\n",
       "    </tr>\n",
       "    <tr>\n",
       "      <th>75%</th>\n",
       "      <td>167819.000000</td>\n",
       "      <td>937708.000000</td>\n",
       "      <td>12.000000</td>\n",
       "      <td>572.000000</td>\n",
       "      <td>902.000000</td>\n",
       "    </tr>\n",
       "    <tr>\n",
       "      <th>max</th>\n",
       "      <td>168606.000000</td>\n",
       "      <td>973286.000000</td>\n",
       "      <td>4817.000000</td>\n",
       "      <td>144395.000000</td>\n",
       "      <td>166155.000000</td>\n",
       "    </tr>\n",
       "  </tbody>\n",
       "</table>\n",
       "</div>"
      ],
      "text/plain": [
       "             user_id    operator_id   calls_count  call_duration  \\\n",
       "count   53902.000000   45730.000000  53902.000000   53902.000000   \n",
       "mean   167295.344477  916535.993002     16.451245     866.684427   \n",
       "std       598.883775   21254.123136     62.917170    3731.791202   \n",
       "min    166377.000000  879896.000000      1.000000       0.000000   \n",
       "25%    166782.000000  900788.000000      1.000000       0.000000   \n",
       "50%    167162.000000  913938.000000      4.000000      38.000000   \n",
       "75%    167819.000000  937708.000000     12.000000     572.000000   \n",
       "max    168606.000000  973286.000000   4817.000000  144395.000000   \n",
       "\n",
       "       total_call_duration  \n",
       "count         53902.000000  \n",
       "mean           1157.133297  \n",
       "std            4403.468763  \n",
       "min               0.000000  \n",
       "25%              47.000000  \n",
       "50%             210.000000  \n",
       "75%             902.000000  \n",
       "max          166155.000000  "
      ]
     },
     "metadata": {},
     "output_type": "display_data"
    },
    {
     "data": {
      "text/plain": [
       "None"
      ]
     },
     "metadata": {},
     "output_type": "display_data"
    }
   ],
   "source": [
    "# общее знакомство с данными\n",
    "display(\n",
    "    calls.sample(5),\n",
    "    calls.describe(),\n",
    "    calls.info()\n",
    ")"
   ]
  },
  {
   "cell_type": "markdown",
   "id": "f27749ea",
   "metadata": {},
   "source": [
    "В датасете по клиентам:\n",
    "- тип данных нужно сменить только у столбца с датой подключения;\n",
    "- пропусков нет.\n",
    "\n",
    "В датасете звонков:\n",
    "- нужно сменить тип данных в столбце даты. У `operator_id` сменить тип на целочисленный для удобства;\n",
    "- есть пропуски в `operator_id` и `internal` - идентификатор оператора нужен для дальнейшего исследования по расчёту выручки, также как и определить внешний или внутренний был звонок, проверим на следующем этапе;\n",
    "- также на следующем шаге проверим дубликаты."
   ]
  },
  {
   "cell_type": "markdown",
   "id": "0ef42bbc",
   "metadata": {},
   "source": [
    "## Предобработка данных <a id=\"step_1\"></a>"
   ]
  },
  {
   "cell_type": "markdown",
   "id": "35cc4b16",
   "metadata": {},
   "source": [
    "### Проверка на дубликаты и пропуски в данных <a id=\"step_1_1\"></a>"
   ]
  },
  {
   "cell_type": "markdown",
   "id": "bfe1eb06",
   "metadata": {},
   "source": [
    "#### Проверим строки на полные дубликаты"
   ]
  },
  {
   "cell_type": "code",
   "execution_count": 6,
   "id": "efa575d9",
   "metadata": {},
   "outputs": [
    {
     "data": {
      "text/html": [
       "<div>\n",
       "<style scoped>\n",
       "    .dataframe tbody tr th:only-of-type {\n",
       "        vertical-align: middle;\n",
       "    }\n",
       "\n",
       "    .dataframe tbody tr th {\n",
       "        vertical-align: top;\n",
       "    }\n",
       "\n",
       "    .dataframe thead th {\n",
       "        text-align: right;\n",
       "    }\n",
       "</style>\n",
       "<table border=\"1\" class=\"dataframe\">\n",
       "  <thead>\n",
       "    <tr style=\"text-align: right;\">\n",
       "      <th></th>\n",
       "      <th>user_id</th>\n",
       "      <th>date</th>\n",
       "      <th>direction</th>\n",
       "      <th>internal</th>\n",
       "      <th>operator_id</th>\n",
       "      <th>is_missed_call</th>\n",
       "      <th>calls_count</th>\n",
       "      <th>call_duration</th>\n",
       "      <th>total_call_duration</th>\n",
       "    </tr>\n",
       "  </thead>\n",
       "  <tbody>\n",
       "    <tr>\n",
       "      <th>8</th>\n",
       "      <td>166377</td>\n",
       "      <td>2019-08-05 00:00:00+03:00</td>\n",
       "      <td>out</td>\n",
       "      <td>False</td>\n",
       "      <td>880020.0</td>\n",
       "      <td>True</td>\n",
       "      <td>8</td>\n",
       "      <td>0</td>\n",
       "      <td>50</td>\n",
       "    </tr>\n",
       "    <tr>\n",
       "      <th>28</th>\n",
       "      <td>166377</td>\n",
       "      <td>2019-08-12 00:00:00+03:00</td>\n",
       "      <td>in</td>\n",
       "      <td>False</td>\n",
       "      <td>NaN</td>\n",
       "      <td>True</td>\n",
       "      <td>2</td>\n",
       "      <td>0</td>\n",
       "      <td>34</td>\n",
       "    </tr>\n",
       "    <tr>\n",
       "      <th>44</th>\n",
       "      <td>166377</td>\n",
       "      <td>2019-08-14 00:00:00+03:00</td>\n",
       "      <td>out</td>\n",
       "      <td>False</td>\n",
       "      <td>880026.0</td>\n",
       "      <td>False</td>\n",
       "      <td>10</td>\n",
       "      <td>1567</td>\n",
       "      <td>1654</td>\n",
       "    </tr>\n",
       "    <tr>\n",
       "      <th>45</th>\n",
       "      <td>166377</td>\n",
       "      <td>2019-08-14 00:00:00+03:00</td>\n",
       "      <td>in</td>\n",
       "      <td>False</td>\n",
       "      <td>NaN</td>\n",
       "      <td>True</td>\n",
       "      <td>1</td>\n",
       "      <td>0</td>\n",
       "      <td>3</td>\n",
       "    </tr>\n",
       "    <tr>\n",
       "      <th>51</th>\n",
       "      <td>166377</td>\n",
       "      <td>2019-08-15 00:00:00+03:00</td>\n",
       "      <td>out</td>\n",
       "      <td>False</td>\n",
       "      <td>880026.0</td>\n",
       "      <td>False</td>\n",
       "      <td>11</td>\n",
       "      <td>1413</td>\n",
       "      <td>1473</td>\n",
       "    </tr>\n",
       "    <tr>\n",
       "      <th>...</th>\n",
       "      <td>...</td>\n",
       "      <td>...</td>\n",
       "      <td>...</td>\n",
       "      <td>...</td>\n",
       "      <td>...</td>\n",
       "      <td>...</td>\n",
       "      <td>...</td>\n",
       "      <td>...</td>\n",
       "      <td>...</td>\n",
       "    </tr>\n",
       "    <tr>\n",
       "      <th>53869</th>\n",
       "      <td>168601</td>\n",
       "      <td>2019-11-25 00:00:00+03:00</td>\n",
       "      <td>in</td>\n",
       "      <td>False</td>\n",
       "      <td>952914.0</td>\n",
       "      <td>False</td>\n",
       "      <td>7</td>\n",
       "      <td>1229</td>\n",
       "      <td>1282</td>\n",
       "    </tr>\n",
       "    <tr>\n",
       "      <th>53874</th>\n",
       "      <td>168601</td>\n",
       "      <td>2019-11-26 00:00:00+03:00</td>\n",
       "      <td>in</td>\n",
       "      <td>False</td>\n",
       "      <td>952914.0</td>\n",
       "      <td>False</td>\n",
       "      <td>4</td>\n",
       "      <td>539</td>\n",
       "      <td>562</td>\n",
       "    </tr>\n",
       "    <tr>\n",
       "      <th>53875</th>\n",
       "      <td>168601</td>\n",
       "      <td>2019-11-26 00:00:00+03:00</td>\n",
       "      <td>in</td>\n",
       "      <td>False</td>\n",
       "      <td>NaN</td>\n",
       "      <td>True</td>\n",
       "      <td>3</td>\n",
       "      <td>0</td>\n",
       "      <td>35</td>\n",
       "    </tr>\n",
       "    <tr>\n",
       "      <th>53885</th>\n",
       "      <td>168603</td>\n",
       "      <td>2019-11-20 00:00:00+03:00</td>\n",
       "      <td>out</td>\n",
       "      <td>False</td>\n",
       "      <td>959118.0</td>\n",
       "      <td>True</td>\n",
       "      <td>3</td>\n",
       "      <td>0</td>\n",
       "      <td>89</td>\n",
       "    </tr>\n",
       "    <tr>\n",
       "      <th>53900</th>\n",
       "      <td>168606</td>\n",
       "      <td>2019-11-15 00:00:00+03:00</td>\n",
       "      <td>out</td>\n",
       "      <td>True</td>\n",
       "      <td>957922.0</td>\n",
       "      <td>False</td>\n",
       "      <td>4</td>\n",
       "      <td>3130</td>\n",
       "      <td>3190</td>\n",
       "    </tr>\n",
       "  </tbody>\n",
       "</table>\n",
       "<p>4900 rows × 9 columns</p>\n",
       "</div>"
      ],
      "text/plain": [
       "       user_id                       date direction internal  operator_id  \\\n",
       "8       166377  2019-08-05 00:00:00+03:00       out    False     880020.0   \n",
       "28      166377  2019-08-12 00:00:00+03:00        in    False          NaN   \n",
       "44      166377  2019-08-14 00:00:00+03:00       out    False     880026.0   \n",
       "45      166377  2019-08-14 00:00:00+03:00        in    False          NaN   \n",
       "51      166377  2019-08-15 00:00:00+03:00       out    False     880026.0   \n",
       "...        ...                        ...       ...      ...          ...   \n",
       "53869   168601  2019-11-25 00:00:00+03:00        in    False     952914.0   \n",
       "53874   168601  2019-11-26 00:00:00+03:00        in    False     952914.0   \n",
       "53875   168601  2019-11-26 00:00:00+03:00        in    False          NaN   \n",
       "53885   168603  2019-11-20 00:00:00+03:00       out    False     959118.0   \n",
       "53900   168606  2019-11-15 00:00:00+03:00       out     True     957922.0   \n",
       "\n",
       "       is_missed_call  calls_count  call_duration  total_call_duration  \n",
       "8                True            8              0                   50  \n",
       "28               True            2              0                   34  \n",
       "44              False           10           1567                 1654  \n",
       "45               True            1              0                    3  \n",
       "51              False           11           1413                 1473  \n",
       "...               ...          ...            ...                  ...  \n",
       "53869           False            7           1229                 1282  \n",
       "53874           False            4            539                  562  \n",
       "53875            True            3              0                   35  \n",
       "53885            True            3              0                   89  \n",
       "53900           False            4           3130                 3190  \n",
       "\n",
       "[4900 rows x 9 columns]"
      ]
     },
     "execution_count": 6,
     "metadata": {},
     "output_type": "execute_result"
    }
   ],
   "source": [
    "calls.loc[calls.duplicated()]"
   ]
  },
  {
   "cell_type": "markdown",
   "id": "74f682c8",
   "metadata": {},
   "source": [
    "4900 строк задвоилось - удалим дубликаты и сохраним только первые вхождения."
   ]
  },
  {
   "cell_type": "code",
   "execution_count": 7,
   "id": "3552bdf8",
   "metadata": {},
   "outputs": [],
   "source": [
    "calls = calls.drop_duplicates(ignore_index=True)"
   ]
  },
  {
   "cell_type": "markdown",
   "id": "242c8187",
   "metadata": {},
   "source": [
    "#### Проверим строки, где возникли пропуски в столбце `internal`"
   ]
  },
  {
   "cell_type": "code",
   "execution_count": 8,
   "id": "af54726a",
   "metadata": {},
   "outputs": [
    {
     "name": "stdout",
     "output_type": "stream",
     "text": [
      "Всего пропусков в столбце: 110\n",
      "Пропусков по исходящим звонкам: 2\n"
     ]
    }
   ],
   "source": [
    "print('Всего пропусков в столбце:', calls.loc[(calls['internal'].isna()), 'user_id'].count())\n",
    "print('Пропусков по исходящим звонкам:', calls.loc[(calls['internal'].isna())&(calls['direction']=='out'), 'user_id'].count())"
   ]
  },
  {
   "cell_type": "markdown",
   "id": "5be6f5e4",
   "metadata": {},
   "source": [
    "Проверим были ли минуты по исходящим звонкам"
   ]
  },
  {
   "cell_type": "code",
   "execution_count": 9,
   "id": "42b69aeb",
   "metadata": {},
   "outputs": [
    {
     "data": {
      "text/html": [
       "<div>\n",
       "<style scoped>\n",
       "    .dataframe tbody tr th:only-of-type {\n",
       "        vertical-align: middle;\n",
       "    }\n",
       "\n",
       "    .dataframe tbody tr th {\n",
       "        vertical-align: top;\n",
       "    }\n",
       "\n",
       "    .dataframe thead th {\n",
       "        text-align: right;\n",
       "    }\n",
       "</style>\n",
       "<table border=\"1\" class=\"dataframe\">\n",
       "  <thead>\n",
       "    <tr style=\"text-align: right;\">\n",
       "      <th></th>\n",
       "      <th>user_id</th>\n",
       "      <th>date</th>\n",
       "      <th>direction</th>\n",
       "      <th>internal</th>\n",
       "      <th>operator_id</th>\n",
       "      <th>is_missed_call</th>\n",
       "      <th>calls_count</th>\n",
       "      <th>call_duration</th>\n",
       "      <th>total_call_duration</th>\n",
       "    </tr>\n",
       "  </thead>\n",
       "  <tbody>\n",
       "    <tr>\n",
       "      <th>19099</th>\n",
       "      <td>167016</td>\n",
       "      <td>2019-10-23 00:00:00+03:00</td>\n",
       "      <td>out</td>\n",
       "      <td>NaN</td>\n",
       "      <td>NaN</td>\n",
       "      <td>True</td>\n",
       "      <td>3</td>\n",
       "      <td>0</td>\n",
       "      <td>196</td>\n",
       "    </tr>\n",
       "    <tr>\n",
       "      <th>46717</th>\n",
       "      <td>168291</td>\n",
       "      <td>2019-11-28 00:00:00+03:00</td>\n",
       "      <td>out</td>\n",
       "      <td>NaN</td>\n",
       "      <td>NaN</td>\n",
       "      <td>True</td>\n",
       "      <td>3</td>\n",
       "      <td>0</td>\n",
       "      <td>93</td>\n",
       "    </tr>\n",
       "  </tbody>\n",
       "</table>\n",
       "</div>"
      ],
      "text/plain": [
       "       user_id                       date direction internal  operator_id  \\\n",
       "19099   167016  2019-10-23 00:00:00+03:00       out      NaN          NaN   \n",
       "46717   168291  2019-11-28 00:00:00+03:00       out      NaN          NaN   \n",
       "\n",
       "       is_missed_call  calls_count  call_duration  total_call_duration  \n",
       "19099            True            3              0                  196  \n",
       "46717            True            3              0                   93  "
      ]
     },
     "execution_count": 9,
     "metadata": {},
     "output_type": "execute_result"
    }
   ],
   "source": [
    "calls.loc[(calls['internal'].isna())&(calls['direction']=='out')]"
   ]
  },
  {
   "cell_type": "markdown",
   "id": "953f3ef3",
   "metadata": {},
   "source": [
    "По исходящим звонкам минут для тарификации не было.\\\n",
    "Следовательно данные пропуски не отразятся на расчётах - заполним пропуски значением `True`"
   ]
  },
  {
   "cell_type": "code",
   "execution_count": 10,
   "id": "7056732c",
   "metadata": {},
   "outputs": [],
   "source": [
    "calls['internal'] = calls['internal'].fillna(True)"
   ]
  },
  {
   "cell_type": "markdown",
   "id": "41e0d54e",
   "metadata": {},
   "source": [
    "#### Проверим пропуски в столбце `operator_id`"
   ]
  },
  {
   "cell_type": "code",
   "execution_count": 11,
   "id": "dad74352",
   "metadata": {},
   "outputs": [
    {
     "name": "stdout",
     "output_type": "stream",
     "text": [
      "Всего пропусков в столбце: 7456 \n",
      "Пропусков с принятым звонком: 113 \n",
      "Пропусков с ненулевой продолжительностью: 0\n"
     ]
    }
   ],
   "source": [
    "print(\n",
    "    'Всего пропусков в столбце:',\n",
    "    calls.loc[(calls['operator_id'].isna()), 'user_id'].count(),'\\n'\n",
    "    'Пропусков с принятым звонком:',\n",
    "    calls.loc[(calls['operator_id'].isna())&(calls['is_missed_call']==False), 'user_id'].count(),'\\n'\n",
    "    'Пропусков с ненулевой продолжительностью:',\n",
    "    calls.loc[(calls['internal'].isna())&(calls['call_duration']!=0), 'user_id'].count()\n",
    ")"
   ]
  },
  {
   "cell_type": "markdown",
   "id": "3f3f3f54",
   "metadata": {},
   "source": [
    "Т.к. количество операторов влияет на стоимость услуг - заполним пропуски идентификаторами текущих операторов, которые работают в соответствующих колл-центрах"
   ]
  },
  {
   "cell_type": "code",
   "execution_count": 12,
   "id": "c56a2c2c",
   "metadata": {},
   "outputs": [],
   "source": [
    "calls['operator_id'] = (\n",
    "    calls\n",
    "    .groupby('user_id', group_keys=False)['operator_id']\n",
    "    .apply(lambda x: x.fillna(method='bfill').fillna(method='ffill'))\n",
    ")"
   ]
  },
  {
   "cell_type": "code",
   "execution_count": 13,
   "id": "34f321af",
   "metadata": {},
   "outputs": [
    {
     "data": {
      "text/html": [
       "<div>\n",
       "<style scoped>\n",
       "    .dataframe tbody tr th:only-of-type {\n",
       "        vertical-align: middle;\n",
       "    }\n",
       "\n",
       "    .dataframe tbody tr th {\n",
       "        vertical-align: top;\n",
       "    }\n",
       "\n",
       "    .dataframe thead th {\n",
       "        text-align: right;\n",
       "    }\n",
       "</style>\n",
       "<table border=\"1\" class=\"dataframe\">\n",
       "  <thead>\n",
       "    <tr style=\"text-align: right;\">\n",
       "      <th></th>\n",
       "      <th>user_id</th>\n",
       "      <th>date</th>\n",
       "      <th>direction</th>\n",
       "      <th>internal</th>\n",
       "      <th>operator_id</th>\n",
       "      <th>is_missed_call</th>\n",
       "      <th>calls_count</th>\n",
       "      <th>call_duration</th>\n",
       "      <th>total_call_duration</th>\n",
       "    </tr>\n",
       "  </thead>\n",
       "  <tbody>\n",
       "    <tr>\n",
       "      <th>5973</th>\n",
       "      <td>166554</td>\n",
       "      <td>2019-08-09 00:00:00+03:00</td>\n",
       "      <td>in</td>\n",
       "      <td>True</td>\n",
       "      <td>NaN</td>\n",
       "      <td>True</td>\n",
       "      <td>2</td>\n",
       "      <td>0</td>\n",
       "      <td>8</td>\n",
       "    </tr>\n",
       "    <tr>\n",
       "      <th>6694</th>\n",
       "      <td>166584</td>\n",
       "      <td>2019-08-16 00:00:00+03:00</td>\n",
       "      <td>in</td>\n",
       "      <td>False</td>\n",
       "      <td>NaN</td>\n",
       "      <td>True</td>\n",
       "      <td>2</td>\n",
       "      <td>0</td>\n",
       "      <td>4</td>\n",
       "    </tr>\n",
       "    <tr>\n",
       "      <th>20924</th>\n",
       "      <td>167077</td>\n",
       "      <td>2019-09-06 00:00:00+03:00</td>\n",
       "      <td>in</td>\n",
       "      <td>False</td>\n",
       "      <td>NaN</td>\n",
       "      <td>True</td>\n",
       "      <td>1</td>\n",
       "      <td>0</td>\n",
       "      <td>2</td>\n",
       "    </tr>\n",
       "    <tr>\n",
       "      <th>20925</th>\n",
       "      <td>167077</td>\n",
       "      <td>2019-09-07 00:00:00+03:00</td>\n",
       "      <td>in</td>\n",
       "      <td>False</td>\n",
       "      <td>NaN</td>\n",
       "      <td>True</td>\n",
       "      <td>1</td>\n",
       "      <td>0</td>\n",
       "      <td>1</td>\n",
       "    </tr>\n",
       "    <tr>\n",
       "      <th>20926</th>\n",
       "      <td>167077</td>\n",
       "      <td>2019-09-09 00:00:00+03:00</td>\n",
       "      <td>in</td>\n",
       "      <td>False</td>\n",
       "      <td>NaN</td>\n",
       "      <td>True</td>\n",
       "      <td>1</td>\n",
       "      <td>0</td>\n",
       "      <td>2</td>\n",
       "    </tr>\n",
       "    <tr>\n",
       "      <th>...</th>\n",
       "      <td>...</td>\n",
       "      <td>...</td>\n",
       "      <td>...</td>\n",
       "      <td>...</td>\n",
       "      <td>...</td>\n",
       "      <td>...</td>\n",
       "      <td>...</td>\n",
       "      <td>...</td>\n",
       "      <td>...</td>\n",
       "    </tr>\n",
       "    <tr>\n",
       "      <th>48700</th>\n",
       "      <td>168446</td>\n",
       "      <td>2019-10-31 00:00:00+03:00</td>\n",
       "      <td>in</td>\n",
       "      <td>False</td>\n",
       "      <td>NaN</td>\n",
       "      <td>True</td>\n",
       "      <td>1</td>\n",
       "      <td>0</td>\n",
       "      <td>2</td>\n",
       "    </tr>\n",
       "    <tr>\n",
       "      <th>48701</th>\n",
       "      <td>168446</td>\n",
       "      <td>2019-11-08 00:00:00+03:00</td>\n",
       "      <td>in</td>\n",
       "      <td>False</td>\n",
       "      <td>NaN</td>\n",
       "      <td>True</td>\n",
       "      <td>1</td>\n",
       "      <td>0</td>\n",
       "      <td>3</td>\n",
       "    </tr>\n",
       "    <tr>\n",
       "      <th>48796</th>\n",
       "      <td>168490</td>\n",
       "      <td>2019-11-13 00:00:00+03:00</td>\n",
       "      <td>in</td>\n",
       "      <td>False</td>\n",
       "      <td>NaN</td>\n",
       "      <td>True</td>\n",
       "      <td>1</td>\n",
       "      <td>0</td>\n",
       "      <td>2</td>\n",
       "    </tr>\n",
       "    <tr>\n",
       "      <th>48797</th>\n",
       "      <td>168490</td>\n",
       "      <td>2019-11-26 00:00:00+03:00</td>\n",
       "      <td>in</td>\n",
       "      <td>False</td>\n",
       "      <td>NaN</td>\n",
       "      <td>True</td>\n",
       "      <td>1</td>\n",
       "      <td>0</td>\n",
       "      <td>0</td>\n",
       "    </tr>\n",
       "    <tr>\n",
       "      <th>48828</th>\n",
       "      <td>168578</td>\n",
       "      <td>2019-11-19 00:00:00+03:00</td>\n",
       "      <td>in</td>\n",
       "      <td>False</td>\n",
       "      <td>NaN</td>\n",
       "      <td>True</td>\n",
       "      <td>1</td>\n",
       "      <td>0</td>\n",
       "      <td>2</td>\n",
       "    </tr>\n",
       "  </tbody>\n",
       "</table>\n",
       "<p>99 rows × 9 columns</p>\n",
       "</div>"
      ],
      "text/plain": [
       "       user_id                       date direction  internal  operator_id  \\\n",
       "5973    166554  2019-08-09 00:00:00+03:00        in      True          NaN   \n",
       "6694    166584  2019-08-16 00:00:00+03:00        in     False          NaN   \n",
       "20924   167077  2019-09-06 00:00:00+03:00        in     False          NaN   \n",
       "20925   167077  2019-09-07 00:00:00+03:00        in     False          NaN   \n",
       "20926   167077  2019-09-09 00:00:00+03:00        in     False          NaN   \n",
       "...        ...                        ...       ...       ...          ...   \n",
       "48700   168446  2019-10-31 00:00:00+03:00        in     False          NaN   \n",
       "48701   168446  2019-11-08 00:00:00+03:00        in     False          NaN   \n",
       "48796   168490  2019-11-13 00:00:00+03:00        in     False          NaN   \n",
       "48797   168490  2019-11-26 00:00:00+03:00        in     False          NaN   \n",
       "48828   168578  2019-11-19 00:00:00+03:00        in     False          NaN   \n",
       "\n",
       "       is_missed_call  calls_count  call_duration  total_call_duration  \n",
       "5973             True            2              0                    8  \n",
       "6694             True            2              0                    4  \n",
       "20924            True            1              0                    2  \n",
       "20925            True            1              0                    1  \n",
       "20926            True            1              0                    2  \n",
       "...               ...          ...            ...                  ...  \n",
       "48700            True            1              0                    2  \n",
       "48701            True            1              0                    3  \n",
       "48796            True            1              0                    2  \n",
       "48797            True            1              0                    0  \n",
       "48828            True            1              0                    2  \n",
       "\n",
       "[99 rows x 9 columns]"
      ]
     },
     "execution_count": 13,
     "metadata": {},
     "output_type": "execute_result"
    }
   ],
   "source": [
    "calls.loc[(calls['operator_id'].isna())]"
   ]
  },
  {
   "cell_type": "markdown",
   "id": "3ed7df71",
   "metadata": {},
   "source": [
    "Пропуски остались только у колл-центров, в которых не было ни одного принятого звонка - заполним фиктивным значением, чтобы не возникло ошибок в дальнейшей части исследования."
   ]
  },
  {
   "cell_type": "code",
   "execution_count": 14,
   "id": "2927ca59",
   "metadata": {},
   "outputs": [],
   "source": [
    "calls.loc[(calls['operator_id'].isna()), 'operator_id'] = 999999"
   ]
  },
  {
   "cell_type": "markdown",
   "id": "0b4df2ba",
   "metadata": {},
   "source": [
    "### Проверка типов данных и их приведение <a id=\"step_1_2\"></a>"
   ]
  },
  {
   "cell_type": "markdown",
   "id": "dee3aab7",
   "metadata": {},
   "source": [
    "Меняем тип у столбцов с датами"
   ]
  },
  {
   "cell_type": "code",
   "execution_count": 15,
   "id": "db3dcd39",
   "metadata": {},
   "outputs": [],
   "source": [
    "calls['date'] = pd.to_datetime(calls['date']).dt.date\n",
    "calls['date'] = pd.to_datetime(calls['date'])\n",
    "\n",
    "clients['date_start'] = pd.to_datetime(clients['date_start'])"
   ]
  },
  {
   "cell_type": "markdown",
   "id": "8532e399",
   "metadata": {},
   "source": [
    "Меняем тип данных у столбца `operator_id`"
   ]
  },
  {
   "cell_type": "code",
   "execution_count": 16,
   "id": "eee8b109",
   "metadata": {},
   "outputs": [],
   "source": [
    "calls['operator_id'] = calls['operator_id'].astype('int')"
   ]
  },
  {
   "cell_type": "code",
   "execution_count": 17,
   "id": "3d896d32",
   "metadata": {},
   "outputs": [
    {
     "name": "stdout",
     "output_type": "stream",
     "text": [
      "<class 'pandas.core.frame.DataFrame'>\n",
      "RangeIndex: 49002 entries, 0 to 49001\n",
      "Data columns (total 9 columns):\n",
      " #   Column               Non-Null Count  Dtype         \n",
      "---  ------               --------------  -----         \n",
      " 0   user_id              49002 non-null  int64         \n",
      " 1   date                 49002 non-null  datetime64[ns]\n",
      " 2   direction            49002 non-null  object        \n",
      " 3   internal             49002 non-null  bool          \n",
      " 4   operator_id          49002 non-null  int32         \n",
      " 5   is_missed_call       49002 non-null  bool          \n",
      " 6   calls_count          49002 non-null  int64         \n",
      " 7   call_duration        49002 non-null  int64         \n",
      " 8   total_call_duration  49002 non-null  int64         \n",
      "dtypes: bool(2), datetime64[ns](1), int32(1), int64(4), object(1)\n",
      "memory usage: 2.5+ MB\n"
     ]
    }
   ],
   "source": [
    "calls.info()"
   ]
  },
  {
   "cell_type": "markdown",
   "id": "2e122597",
   "metadata": {},
   "source": [
    "### Объединим таблицы и добавим столбцы для расчёта выручки <a id=\"step_1_3\"></a>"
   ]
  },
  {
   "cell_type": "markdown",
   "id": "ae27888f",
   "metadata": {},
   "source": [
    "Для расчёта выручки объединим таблицы и добавим дополнительные столбцы:\n",
    "- месяц тарифа;\n",
    "- количество уникальных операторов по каждому пользователю в конкретный месяц тарифа;\n",
    "- звонки переведём в минуты для удобства расчёта выручки."
   ]
  },
  {
   "cell_type": "markdown",
   "id": "edb7dce3",
   "metadata": {},
   "source": [
    "#### Объединяем таблицы"
   ]
  },
  {
   "cell_type": "code",
   "execution_count": 18,
   "id": "abbb0c3a",
   "metadata": {},
   "outputs": [
    {
     "data": {
      "text/plain": [
       "(49002, 9)"
      ]
     },
     "metadata": {},
     "output_type": "display_data"
    },
    {
     "data": {
      "text/plain": [
       "(732, 3)"
      ]
     },
     "metadata": {},
     "output_type": "display_data"
    },
    {
     "data": {
      "text/plain": [
       "(49427, 11)"
      ]
     },
     "execution_count": 18,
     "metadata": {},
     "output_type": "execute_result"
    }
   ],
   "source": [
    "display(\n",
    "    calls.shape,\n",
    "    clients.shape\n",
    ")\n",
    "\n",
    "df = clients.merge(calls, on='user_id', how='left')\n",
    "df.shape"
   ]
  },
  {
   "cell_type": "markdown",
   "id": "c462c1f5",
   "metadata": {},
   "source": [
    "#### Добавляем тарифный месяц\n",
    "Столбец поможет расчитать звонки, оказанные услуги и выручку помесячно.\\\n",
    "Если у колл-центров не было совершённых звонков - укажем месяц начала тарифа."
   ]
  },
  {
   "cell_type": "code",
   "execution_count": 19,
   "id": "4dabb7f1",
   "metadata": {},
   "outputs": [],
   "source": [
    "get_billing_month = (\n",
    "    lambda row:\n",
    "    row['date_start'].month if (\n",
    "        (row['date'].month - row['date_start'].month <= 1 and row['date'].day < row['date_start'].day)\n",
    "        or (row['date'].month == row['date_start'].month)\n",
    "    )\n",
    "    else (\n",
    "        row['date'].month if (\n",
    "            (row['date'].day >= row['date_start'].day)\n",
    "            or (row['date'].month == row['date_start'].month and row['date'].day < row['date_start'].day)\n",
    "        )\n",
    "        else (\n",
    "            row['date_start'].month if row['date'] is pd.NaT\n",
    "            else row['date'].month - 1\n",
    "             )\n",
    "    )\n",
    ")"
   ]
  },
  {
   "cell_type": "code",
   "execution_count": 20,
   "id": "4d0ca48e",
   "metadata": {},
   "outputs": [],
   "source": [
    "df['month'] = df.apply(lambda row: get_billing_month(row), axis=1)"
   ]
  },
  {
   "cell_type": "markdown",
   "id": "6c9d2b7e",
   "metadata": {},
   "source": [
    "#### Пересчитаем звонки из секунд в минуты\n",
    "Т.к. тарификация идёт за каждую минуту - округляем в большую сторону."
   ]
  },
  {
   "cell_type": "code",
   "execution_count": 21,
   "id": "8dc0fc8b",
   "metadata": {},
   "outputs": [],
   "source": [
    "df['call_duration'] = np.ceil(df['call_duration'] / 60)"
   ]
  },
  {
   "cell_type": "markdown",
   "id": "395b511c",
   "metadata": {},
   "source": [
    "#### Сгруппируем данные по идентификатору колл-центра, месяцу тарифа, а также по направлению и сети звонка"
   ]
  },
  {
   "cell_type": "code",
   "execution_count": 22,
   "id": "8d5c0241",
   "metadata": {
    "scrolled": false
   },
   "outputs": [],
   "source": [
    "res = (\n",
    "    df.groupby(['user_id', 'month', 'direction', 'internal'], as_index=False)\n",
    "    .agg(\n",
    "        current_tariff=('tariff_plan', 'first'),\n",
    "        calls_duration=('call_duration', 'sum')\n",
    "    )\n",
    ")\n",
    "\n",
    "res = res.set_index(['user_id', 'month'])"
   ]
  },
  {
   "cell_type": "markdown",
   "id": "7b6c347e",
   "metadata": {},
   "source": [
    "#### Теперь добавим количество уникальных операторов по идентификатору колл-центра и месяцу тарифа "
   ]
  },
  {
   "cell_type": "code",
   "execution_count": 23,
   "id": "fe4921c4",
   "metadata": {},
   "outputs": [
    {
     "data": {
      "text/html": [
       "<div>\n",
       "<style scoped>\n",
       "    .dataframe tbody tr th:only-of-type {\n",
       "        vertical-align: middle;\n",
       "    }\n",
       "\n",
       "    .dataframe tbody tr th {\n",
       "        vertical-align: top;\n",
       "    }\n",
       "\n",
       "    .dataframe thead th {\n",
       "        text-align: right;\n",
       "    }\n",
       "</style>\n",
       "<table border=\"1\" class=\"dataframe\">\n",
       "  <thead>\n",
       "    <tr style=\"text-align: right;\">\n",
       "      <th></th>\n",
       "      <th></th>\n",
       "      <th>direction</th>\n",
       "      <th>internal</th>\n",
       "      <th>current_tariff</th>\n",
       "      <th>calls_duration</th>\n",
       "      <th>operators_count</th>\n",
       "    </tr>\n",
       "    <tr>\n",
       "      <th>user_id</th>\n",
       "      <th>month</th>\n",
       "      <th></th>\n",
       "      <th></th>\n",
       "      <th></th>\n",
       "      <th></th>\n",
       "      <th></th>\n",
       "    </tr>\n",
       "  </thead>\n",
       "  <tbody>\n",
       "    <tr>\n",
       "      <th rowspan=\"5\" valign=\"top\">166377</th>\n",
       "      <th>8</th>\n",
       "      <td>in</td>\n",
       "      <td>False</td>\n",
       "      <td>B</td>\n",
       "      <td>27.0</td>\n",
       "      <td>5</td>\n",
       "    </tr>\n",
       "    <tr>\n",
       "      <th>8</th>\n",
       "      <td>out</td>\n",
       "      <td>False</td>\n",
       "      <td>B</td>\n",
       "      <td>1102.0</td>\n",
       "      <td>5</td>\n",
       "    </tr>\n",
       "    <tr>\n",
       "      <th>8</th>\n",
       "      <td>out</td>\n",
       "      <td>True</td>\n",
       "      <td>B</td>\n",
       "      <td>1.0</td>\n",
       "      <td>5</td>\n",
       "    </tr>\n",
       "    <tr>\n",
       "      <th>9</th>\n",
       "      <td>in</td>\n",
       "      <td>False</td>\n",
       "      <td>B</td>\n",
       "      <td>36.0</td>\n",
       "      <td>4</td>\n",
       "    </tr>\n",
       "    <tr>\n",
       "      <th>9</th>\n",
       "      <td>out</td>\n",
       "      <td>False</td>\n",
       "      <td>B</td>\n",
       "      <td>1455.0</td>\n",
       "      <td>4</td>\n",
       "    </tr>\n",
       "    <tr>\n",
       "      <th>...</th>\n",
       "      <th>...</th>\n",
       "      <td>...</td>\n",
       "      <td>...</td>\n",
       "      <td>...</td>\n",
       "      <td>...</td>\n",
       "      <td>...</td>\n",
       "    </tr>\n",
       "    <tr>\n",
       "      <th rowspan=\"2\" valign=\"top\">168603</th>\n",
       "      <th>10</th>\n",
       "      <td>in</td>\n",
       "      <td>False</td>\n",
       "      <td>B</td>\n",
       "      <td>0.0</td>\n",
       "      <td>1</td>\n",
       "    </tr>\n",
       "    <tr>\n",
       "      <th>10</th>\n",
       "      <td>out</td>\n",
       "      <td>False</td>\n",
       "      <td>B</td>\n",
       "      <td>17.0</td>\n",
       "      <td>1</td>\n",
       "    </tr>\n",
       "    <tr>\n",
       "      <th rowspan=\"3\" valign=\"top\">168606</th>\n",
       "      <th>10</th>\n",
       "      <td>in</td>\n",
       "      <td>False</td>\n",
       "      <td>C</td>\n",
       "      <td>12.0</td>\n",
       "      <td>1</td>\n",
       "    </tr>\n",
       "    <tr>\n",
       "      <th>10</th>\n",
       "      <td>out</td>\n",
       "      <td>False</td>\n",
       "      <td>C</td>\n",
       "      <td>15.0</td>\n",
       "      <td>1</td>\n",
       "    </tr>\n",
       "    <tr>\n",
       "      <th>10</th>\n",
       "      <td>out</td>\n",
       "      <td>True</td>\n",
       "      <td>C</td>\n",
       "      <td>61.0</td>\n",
       "      <td>1</td>\n",
       "    </tr>\n",
       "  </tbody>\n",
       "</table>\n",
       "<p>1743 rows × 5 columns</p>\n",
       "</div>"
      ],
      "text/plain": [
       "              direction internal current_tariff  calls_duration  \\\n",
       "user_id month                                                     \n",
       "166377  8            in    False              B            27.0   \n",
       "        8           out    False              B          1102.0   \n",
       "        8           out     True              B             1.0   \n",
       "        9            in    False              B            36.0   \n",
       "        9           out    False              B          1455.0   \n",
       "...                 ...      ...            ...             ...   \n",
       "168603  10           in    False              B             0.0   \n",
       "        10          out    False              B            17.0   \n",
       "168606  10           in    False              C            12.0   \n",
       "        10          out    False              C            15.0   \n",
       "        10          out     True              C            61.0   \n",
       "\n",
       "               operators_count  \n",
       "user_id month                   \n",
       "166377  8                    5  \n",
       "        8                    5  \n",
       "        8                    5  \n",
       "        9                    4  \n",
       "        9                    4  \n",
       "...                        ...  \n",
       "168603  10                   1  \n",
       "        10                   1  \n",
       "168606  10                   1  \n",
       "        10                   1  \n",
       "        10                   1  \n",
       "\n",
       "[1743 rows x 5 columns]"
      ]
     },
     "execution_count": 23,
     "metadata": {},
     "output_type": "execute_result"
    }
   ],
   "source": [
    "res['operators_count'] = df.groupby(['user_id', 'month'], as_index=True).agg(operators_count=('operator_id', 'nunique'))\n",
    "res"
   ]
  },
  {
   "cell_type": "markdown",
   "id": "2a2cfbda",
   "metadata": {},
   "source": [
    "#### Развернём данные по минутам звонков\n",
    "Сделаем 4 столбца с отдельными показателями по каждому направлению:\n",
    "- исходящие внутри сети\n",
    "- исходящие вне сети\n",
    "- входящие внутри сети\n",
    "- входящие вне сети"
   ]
  },
  {
   "cell_type": "code",
   "execution_count": 24,
   "id": "057d1afc",
   "metadata": {},
   "outputs": [
    {
     "data": {
      "text/html": [
       "<div>\n",
       "<style scoped>\n",
       "    .dataframe tbody tr th:only-of-type {\n",
       "        vertical-align: middle;\n",
       "    }\n",
       "\n",
       "    .dataframe tbody tr th {\n",
       "        vertical-align: top;\n",
       "    }\n",
       "\n",
       "    .dataframe thead th {\n",
       "        text-align: right;\n",
       "    }\n",
       "</style>\n",
       "<table border=\"1\" class=\"dataframe\">\n",
       "  <thead>\n",
       "    <tr style=\"text-align: right;\">\n",
       "      <th></th>\n",
       "      <th>user_id</th>\n",
       "      <th>month</th>\n",
       "      <th>current_tariff</th>\n",
       "      <th>operators_count</th>\n",
       "      <th>calls_out_internal</th>\n",
       "      <th>calls_out_external</th>\n",
       "      <th>calls_in_internal</th>\n",
       "      <th>calls_in_external</th>\n",
       "    </tr>\n",
       "  </thead>\n",
       "  <tbody>\n",
       "    <tr>\n",
       "      <th>0</th>\n",
       "      <td>166377</td>\n",
       "      <td>8</td>\n",
       "      <td>B</td>\n",
       "      <td>5</td>\n",
       "      <td>1.0</td>\n",
       "      <td>1102.0</td>\n",
       "      <td>0.0</td>\n",
       "      <td>27.0</td>\n",
       "    </tr>\n",
       "    <tr>\n",
       "      <th>1</th>\n",
       "      <td>166377</td>\n",
       "      <td>9</td>\n",
       "      <td>B</td>\n",
       "      <td>4</td>\n",
       "      <td>0.0</td>\n",
       "      <td>1455.0</td>\n",
       "      <td>0.0</td>\n",
       "      <td>36.0</td>\n",
       "    </tr>\n",
       "    <tr>\n",
       "      <th>2</th>\n",
       "      <td>166377</td>\n",
       "      <td>10</td>\n",
       "      <td>B</td>\n",
       "      <td>5</td>\n",
       "      <td>1.0</td>\n",
       "      <td>1385.0</td>\n",
       "      <td>0.0</td>\n",
       "      <td>45.0</td>\n",
       "    </tr>\n",
       "    <tr>\n",
       "      <th>3</th>\n",
       "      <td>166377</td>\n",
       "      <td>11</td>\n",
       "      <td>B</td>\n",
       "      <td>4</td>\n",
       "      <td>2.0</td>\n",
       "      <td>1327.0</td>\n",
       "      <td>0.0</td>\n",
       "      <td>55.0</td>\n",
       "    </tr>\n",
       "    <tr>\n",
       "      <th>4</th>\n",
       "      <td>166391</td>\n",
       "      <td>8</td>\n",
       "      <td>C</td>\n",
       "      <td>2</td>\n",
       "      <td>0.0</td>\n",
       "      <td>0.0</td>\n",
       "      <td>1.0</td>\n",
       "      <td>4.0</td>\n",
       "    </tr>\n",
       "    <tr>\n",
       "      <th>...</th>\n",
       "      <td>...</td>\n",
       "      <td>...</td>\n",
       "      <td>...</td>\n",
       "      <td>...</td>\n",
       "      <td>...</td>\n",
       "      <td>...</td>\n",
       "      <td>...</td>\n",
       "      <td>...</td>\n",
       "    </tr>\n",
       "    <tr>\n",
       "      <th>777</th>\n",
       "      <td>168583</td>\n",
       "      <td>10</td>\n",
       "      <td>B</td>\n",
       "      <td>2</td>\n",
       "      <td>0.0</td>\n",
       "      <td>0.0</td>\n",
       "      <td>0.0</td>\n",
       "      <td>21.0</td>\n",
       "    </tr>\n",
       "    <tr>\n",
       "      <th>778</th>\n",
       "      <td>168598</td>\n",
       "      <td>10</td>\n",
       "      <td>C</td>\n",
       "      <td>1</td>\n",
       "      <td>0.0</td>\n",
       "      <td>0.0</td>\n",
       "      <td>1.0</td>\n",
       "      <td>76.0</td>\n",
       "    </tr>\n",
       "    <tr>\n",
       "      <th>779</th>\n",
       "      <td>168601</td>\n",
       "      <td>10</td>\n",
       "      <td>C</td>\n",
       "      <td>2</td>\n",
       "      <td>0.0</td>\n",
       "      <td>415.0</td>\n",
       "      <td>0.0</td>\n",
       "      <td>147.0</td>\n",
       "    </tr>\n",
       "    <tr>\n",
       "      <th>780</th>\n",
       "      <td>168603</td>\n",
       "      <td>10</td>\n",
       "      <td>B</td>\n",
       "      <td>1</td>\n",
       "      <td>0.0</td>\n",
       "      <td>17.0</td>\n",
       "      <td>0.0</td>\n",
       "      <td>0.0</td>\n",
       "    </tr>\n",
       "    <tr>\n",
       "      <th>781</th>\n",
       "      <td>168606</td>\n",
       "      <td>10</td>\n",
       "      <td>C</td>\n",
       "      <td>1</td>\n",
       "      <td>61.0</td>\n",
       "      <td>15.0</td>\n",
       "      <td>0.0</td>\n",
       "      <td>12.0</td>\n",
       "    </tr>\n",
       "  </tbody>\n",
       "</table>\n",
       "<p>782 rows × 8 columns</p>\n",
       "</div>"
      ],
      "text/plain": [
       "     user_id  month current_tariff  operators_count  calls_out_internal  \\\n",
       "0     166377      8              B                5                 1.0   \n",
       "1     166377      9              B                4                 0.0   \n",
       "2     166377     10              B                5                 1.0   \n",
       "3     166377     11              B                4                 2.0   \n",
       "4     166391      8              C                2                 0.0   \n",
       "..       ...    ...            ...              ...                 ...   \n",
       "777   168583     10              B                2                 0.0   \n",
       "778   168598     10              C                1                 0.0   \n",
       "779   168601     10              C                2                 0.0   \n",
       "780   168603     10              B                1                 0.0   \n",
       "781   168606     10              C                1                61.0   \n",
       "\n",
       "     calls_out_external  calls_in_internal  calls_in_external  \n",
       "0                1102.0                0.0               27.0  \n",
       "1                1455.0                0.0               36.0  \n",
       "2                1385.0                0.0               45.0  \n",
       "3                1327.0                0.0               55.0  \n",
       "4                   0.0                1.0                4.0  \n",
       "..                  ...                ...                ...  \n",
       "777                 0.0                0.0               21.0  \n",
       "778                 0.0                1.0               76.0  \n",
       "779               415.0                0.0              147.0  \n",
       "780                17.0                0.0                0.0  \n",
       "781                15.0                0.0               12.0  \n",
       "\n",
       "[782 rows x 8 columns]"
      ]
     },
     "execution_count": 24,
     "metadata": {},
     "output_type": "execute_result"
    }
   ],
   "source": [
    "res['calls_out_internal'] = res.loc[(res['direction']=='out')&(res['internal']==True), 'calls_duration']\n",
    "res['calls_out_external'] = res.loc[(res['direction']=='out')&(res['internal']==False), 'calls_duration']\n",
    "res['calls_in_internal'] = res.loc[(res['direction']=='in')&(res['internal']==True), 'calls_duration']\n",
    "res['calls_in_external'] = res.loc[(res['direction']=='in')&(res['internal']==False), 'calls_duration']\n",
    "\n",
    "res = res.reset_index()\n",
    "res = (\n",
    "    res\n",
    "    .groupby(['user_id', 'month'], as_index=False)\n",
    "    .agg(\n",
    "        current_tariff=('current_tariff', 'first'),\n",
    "        operators_count=('operators_count', 'first'),\n",
    "        calls_out_internal=('calls_out_internal', 'first'),\n",
    "        calls_out_external=('calls_out_external', 'first'),\n",
    "        calls_in_internal=('calls_in_internal', 'first'),\n",
    "        calls_in_external=('calls_in_external', 'first')\n",
    "    ).fillna(0)\n",
    ")\n",
    "\n",
    "res"
   ]
  },
  {
   "cell_type": "markdown",
   "id": "fb893f3a",
   "metadata": {},
   "source": [
    "#### Промежуточный вывод\n",
    "Скорректировали типы данных, избавились от дубликатов и заполнили пропуски с расчётом, чтобы это не сказалось на расчёте выручки. Также добавили столбцы для дальнейшего анализа.\\\n",
    "В итоге получили таблицу, где в каждой строке данные сгруппированы по пользователю и месяцу тарифа.\n",
    "\n",
    "Переходим к нахождению активных клиентов и расчёту выручки."
   ]
  },
  {
   "cell_type": "markdown",
   "id": "a76e6f70",
   "metadata": {},
   "source": [
    "## Исследовательский анализ <a id=\"step_2\"></a>"
   ]
  },
  {
   "cell_type": "code",
   "execution_count": 25,
   "id": "75be8e3a",
   "metadata": {},
   "outputs": [
    {
     "data": {
      "text/plain": [
       "Timestamp('2019-08-02 00:00:00')"
      ]
     },
     "metadata": {},
     "output_type": "display_data"
    },
    {
     "data": {
      "text/plain": [
       "Timestamp('2019-11-28 00:00:00')"
      ]
     },
     "metadata": {},
     "output_type": "display_data"
    }
   ],
   "source": [
    "display(\n",
    "    calls['date'].min(),\n",
    "    calls['date'].max()\n",
    ")"
   ]
  },
  {
   "cell_type": "markdown",
   "id": "74f1f9c1",
   "metadata": {},
   "source": [
    "### Поиск активных клиентов <a id=\"step_2_1\"></a>"
   ]
  },
  {
   "cell_type": "markdown",
   "id": "17838a26",
   "metadata": {},
   "source": [
    "Нам предоставлены данные за период со 2 августа по 28 ноября 2019 года.\\\n",
    "В ходе исследования мы должны проверить оптимальность тарифов у актуальных колл-центров - возьмём клиентов, которые совершали звонки в октябре-ноябре."
   ]
  },
  {
   "cell_type": "code",
   "execution_count": 26,
   "id": "41f9631b",
   "metadata": {},
   "outputs": [
    {
     "name": "stdout",
     "output_type": "stream",
     "text": [
      "Количество активных пользователей: 259\n"
     ]
    }
   ],
   "source": [
    "recent_users = res.loc[\n",
    "    (res['month'].isin([10, 11]))&\n",
    "    ((res['calls_out_internal']>0)|(res['calls_out_external']>0)|(res['calls_in_internal']>0)|(res['calls_in_external']>0)),\n",
    "    'user_id'\n",
    "]\n",
    "actual_df = res[res['user_id'].isin(recent_users)]\n",
    "print('Количество активных пользователей:', actual_df['user_id'].nunique())"
   ]
  },
  {
   "cell_type": "markdown",
   "id": "671cf014",
   "metadata": {},
   "source": [
    "Отобрали активных пользователей за последние два месяца и взяли по ним показатели за весь период - переходим к расчёту выручки"
   ]
  },
  {
   "cell_type": "markdown",
   "id": "08653bb8",
   "metadata": {},
   "source": [
    "### Подсчёт выручки по активным клиентам <a id=\"step_2_2\"></a>"
   ]
  },
  {
   "cell_type": "markdown",
   "id": "191dd687",
   "metadata": {},
   "source": [
    "Сделаем функцию, которая рассчитает выручку по текущему тарифу и оптимальному тарифу, а также разницу между ними"
   ]
  },
  {
   "cell_type": "code",
   "execution_count": 27,
   "id": "d103a2ba",
   "metadata": {},
   "outputs": [],
   "source": [
    "def calculate_revenue(row):\n",
    "    base_rates = {'A': 4000, 'B': 2000, 'C': 1000}\n",
    "    operator_costs = {'A': 50, 'B': 150, 'C': 300}\n",
    "    external_call_rates = {'A': 0.3, 'B': 0.5, 'C': 0.7}\n",
    "    internal_call_package = {'A': 2000, 'B': 500, 'C': 0}\n",
    "    internal_call_exceed_rates = {'A': 0.1, 'B': 0.15, 'C': 0.3}\n",
    "\n",
    "    # Расчет выручки по текущему тарифу\n",
    "    base_fee = base_rates[row['current_tariff']]\n",
    "    operators_fee = row['operators_count'] * operator_costs[row['current_tariff']]\n",
    "    external_fee = row['calls_out_external'] * external_call_rates[row['current_tariff']]\n",
    "    internal_fee = (\n",
    "        max(0, row['calls_out_internal'] - internal_call_package[row['current_tariff']]) *\n",
    "        internal_call_exceed_rates[row['current_tariff']]\n",
    "    )\n",
    "    \n",
    "    \n",
    "    current_revenue = base_fee + operators_fee + external_fee + internal_fee\n",
    "\n",
    "    # Находим самый выгодный тариф\n",
    "    optimal_tariff = min(['A', 'B', 'C'], key=lambda t: calculate_min_revenue(row, t))\n",
    "\n",
    "    # Рассчитываем разницу между текущим тарифом и самым выгодным\n",
    "    tariff_difference = current_revenue - calculate_min_revenue(row, optimal_tariff)\n",
    "\n",
    "    # Рассчитываем сумму выручки по самому выгодному тарифу\n",
    "    optimal_revenue = calculate_min_revenue(row, optimal_tariff)\n",
    "\n",
    "    return pd.Series([current_revenue, optimal_tariff, optimal_revenue, tariff_difference])\n",
    "\n",
    "def calculate_min_revenue(row, tariff):\n",
    "    base_rates = {'A': 4000, 'B': 2000, 'C': 1000}\n",
    "    operator_costs = {'A': 50, 'B': 150, 'C': 300}\n",
    "    external_call_rates = {'A': 0.3, 'B': 0.5, 'C': 0.7}\n",
    "    internal_call_package = {'A': 2000, 'B': 500, 'C': 0}\n",
    "    internal_call_exceed_rates = {'A': 0.1, 'B': 0.15, 'C': 0.3}\n",
    "\n",
    "    base_fee = base_rates[tariff]\n",
    "    operators_fee = row['operators_count'] * operator_costs[tariff]\n",
    "    external_fee = row['calls_out_external'] * external_call_rates[tariff]\n",
    "    internal_fee = max(0, row['calls_out_internal'] - internal_call_package[tariff]) *internal_call_exceed_rates[tariff]\n",
    "    \n",
    "    total_revenue = base_fee + operators_fee + external_fee + internal_fee\n",
    "    return total_revenue\n",
    "\n",
    "data = actual_df.copy()\n",
    "\n",
    "data[['current_revenue', 'optimal_tariff', 'optimal_revenue', 'tariff_difference']] = data.apply(calculate_revenue, axis=1)"
   ]
  },
  {
   "cell_type": "code",
   "execution_count": 28,
   "id": "32b00f6e",
   "metadata": {},
   "outputs": [
    {
     "data": {
      "image/png": "[encoded data removed]",
      "text/plain": [
       "<Figure size 640x480 with 1 Axes>"
      ]
     },
     "metadata": {},
     "output_type": "display_data"
    }
   ],
   "source": [
    "plt.hist(data['current_revenue'], bins=100)\n",
    "plt.title('Распределение ежемесячной выручки с пользователя')\n",
    "plt.xlabel('Ежемесячная выручка по пользователям')\n",
    "plt.ylabel('Количество пользователей')\n",
    "plt.show()"
   ]
  },
  {
   "cell_type": "markdown",
   "id": "f97de663",
   "metadata": {},
   "source": [
    "По графику видно, что большая часть активных клиентов располагаются на тарифе C - самый большой пик около 1000 рублей.\\\n",
    "Также заметны пики около 2000 и 4000 рублей - по тарифам B и A соответственно.\\\n",
    "При этом есть клиенты, которые платят ежемесячно более 20000 рублей."
   ]
  },
  {
   "cell_type": "markdown",
   "id": "87a9b987",
   "metadata": {},
   "source": [
    "### Выручка и среднее арифметическое в разрезе тарифов <a id=\"step_2_3\"></a>\n",
    "\n",
    "Проверим соотношение выручки между тарифами"
   ]
  },
  {
   "cell_type": "code",
   "execution_count": 29,
   "id": "bd628c92",
   "metadata": {},
   "outputs": [
    {
     "data": {
      "text/html": [
       "<div>\n",
       "<style scoped>\n",
       "    .dataframe tbody tr th:only-of-type {\n",
       "        vertical-align: middle;\n",
       "    }\n",
       "\n",
       "    .dataframe tbody tr th {\n",
       "        vertical-align: top;\n",
       "    }\n",
       "\n",
       "    .dataframe thead th {\n",
       "        text-align: right;\n",
       "    }\n",
       "</style>\n",
       "<table border=\"1\" class=\"dataframe\">\n",
       "  <thead>\n",
       "    <tr style=\"text-align: right;\">\n",
       "      <th></th>\n",
       "      <th>current_tariff</th>\n",
       "      <th>revenue_amount</th>\n",
       "      <th>revenue_mean</th>\n",
       "      <th>revenue_median</th>\n",
       "      <th>users_count</th>\n",
       "    </tr>\n",
       "  </thead>\n",
       "  <tbody>\n",
       "    <tr>\n",
       "      <th>0</th>\n",
       "      <td>A</td>\n",
       "      <td>419151.2</td>\n",
       "      <td>5305.711392</td>\n",
       "      <td>4202.8</td>\n",
       "      <td>29</td>\n",
       "    </tr>\n",
       "    <tr>\n",
       "      <th>1</th>\n",
       "      <td>B</td>\n",
       "      <td>684266.7</td>\n",
       "      <td>2693.963386</td>\n",
       "      <td>2445.5</td>\n",
       "      <td>92</td>\n",
       "    </tr>\n",
       "    <tr>\n",
       "      <th>2</th>\n",
       "      <td>C</td>\n",
       "      <td>676968.1</td>\n",
       "      <td>1844.599728</td>\n",
       "      <td>1484.1</td>\n",
       "      <td>138</td>\n",
       "    </tr>\n",
       "  </tbody>\n",
       "</table>\n",
       "</div>"
      ],
      "text/plain": [
       "  current_tariff  revenue_amount  revenue_mean  revenue_median  users_count\n",
       "0              A        419151.2   5305.711392          4202.8           29\n",
       "1              B        684266.7   2693.963386          2445.5           92\n",
       "2              C        676968.1   1844.599728          1484.1          138"
      ]
     },
     "metadata": {},
     "output_type": "display_data"
    },
    {
     "data": {
      "image/png": "[encoded data removed]",
      "text/plain": [
       "<Figure size 1000x500 with 2 Axes>"
      ]
     },
     "metadata": {},
     "output_type": "display_data"
    }
   ],
   "source": [
    "revenue_by_tariff = (\n",
    "    data\n",
    "    .groupby('current_tariff', as_index=False)\n",
    "    .agg(\n",
    "        revenue_amount=('current_revenue', 'sum'),\n",
    "        revenue_mean=('current_revenue', 'mean'),\n",
    "        revenue_median=('current_revenue', 'median'),\n",
    "        users_count=('user_id', 'nunique')\n",
    "    )\n",
    ")\n",
    "\n",
    "display(revenue_by_tariff)\n",
    "\n",
    "\n",
    "fig, axs = plt.subplots(1, 2, figsize=(10, 5))\n",
    "axs[0].pie(revenue_by_tariff['revenue_amount'],\n",
    "        labels = revenue_by_tariff['current_tariff'], \n",
    "        autopct='%1.1f%%',\n",
    "        counterclock=False)\n",
    "axs[0].set_title('Соотношение выручки по тарифам')\n",
    "\n",
    "axs[1].pie(revenue_by_tariff['revenue_amount']/revenue_by_tariff['users_count'],\n",
    "        labels = revenue_by_tariff['current_tariff'], \n",
    "        autopct='%1.1f%%',\n",
    "        counterclock=False)\n",
    "axs[1].set_title('Средняя выручка на одного клиента по тарифам')\n",
    "plt.show()"
   ]
  },
  {
   "cell_type": "markdown",
   "id": "780e3b48",
   "metadata": {},
   "source": [
    "Видим, что тариф В приносит 38,4% выручки, тариф С - 38%, а на тариф А приходится 23,5%.\\\n",
    "При этом средняя выручка отдельного клиента на тарифе А составляет 53,9%, когда на тарифе С - только 18,3%."
   ]
  },
  {
   "cell_type": "markdown",
   "id": "859983fd",
   "metadata": {},
   "source": [
    "### Корректировка неоптимальных тарифов и подсчёт выручки по результату <a id=\"step_2_4\"></a>\n",
    "\n",
    "Посмотрим как обстоят дела с переплатами по отдельным тарифам."
   ]
  },
  {
   "cell_type": "code",
   "execution_count": 30,
   "id": "8e51a72c",
   "metadata": {},
   "outputs": [
    {
     "data": {
      "text/html": [
       "<div>\n",
       "<style scoped>\n",
       "    .dataframe tbody tr th:only-of-type {\n",
       "        vertical-align: middle;\n",
       "    }\n",
       "\n",
       "    .dataframe tbody tr th {\n",
       "        vertical-align: top;\n",
       "    }\n",
       "\n",
       "    .dataframe thead th {\n",
       "        text-align: right;\n",
       "    }\n",
       "</style>\n",
       "<table border=\"1\" class=\"dataframe\">\n",
       "  <thead>\n",
       "    <tr style=\"text-align: right;\">\n",
       "      <th></th>\n",
       "      <th>current_tariff</th>\n",
       "      <th>revenue_amount</th>\n",
       "      <th>optimal_amount</th>\n",
       "      <th>diff_to_optimal</th>\n",
       "      <th>diff_mean</th>\n",
       "      <th>diff_median</th>\n",
       "    </tr>\n",
       "  </thead>\n",
       "  <tbody>\n",
       "    <tr>\n",
       "      <th>0</th>\n",
       "      <td>A</td>\n",
       "      <td>419151.2</td>\n",
       "      <td>280827.75</td>\n",
       "      <td>138323.45</td>\n",
       "      <td>1750.929747</td>\n",
       "      <td>2240.00</td>\n",
       "    </tr>\n",
       "    <tr>\n",
       "      <th>1</th>\n",
       "      <td>B</td>\n",
       "      <td>684266.7</td>\n",
       "      <td>538286.05</td>\n",
       "      <td>145980.65</td>\n",
       "      <td>574.726969</td>\n",
       "      <td>663.65</td>\n",
       "    </tr>\n",
       "    <tr>\n",
       "      <th>2</th>\n",
       "      <td>C</td>\n",
       "      <td>676968.1</td>\n",
       "      <td>661853.70</td>\n",
       "      <td>15114.40</td>\n",
       "      <td>41.183651</td>\n",
       "      <td>0.00</td>\n",
       "    </tr>\n",
       "  </tbody>\n",
       "</table>\n",
       "</div>"
      ],
      "text/plain": [
       "  current_tariff  revenue_amount  optimal_amount  diff_to_optimal  \\\n",
       "0              A        419151.2       280827.75        138323.45   \n",
       "1              B        684266.7       538286.05        145980.65   \n",
       "2              C        676968.1       661853.70         15114.40   \n",
       "\n",
       "     diff_mean  diff_median  \n",
       "0  1750.929747      2240.00  \n",
       "1   574.726969       663.65  \n",
       "2    41.183651         0.00  "
      ]
     },
     "metadata": {},
     "output_type": "display_data"
    },
    {
     "data": {
      "image/png": "[encoded data removed]",
      "text/plain": [
       "<Figure size 640x480 with 1 Axes>"
      ]
     },
     "metadata": {},
     "output_type": "display_data"
    }
   ],
   "source": [
    "difference_by_tariff = (\n",
    "    data\n",
    "    .groupby('current_tariff', as_index=False)\n",
    "    .agg(\n",
    "        revenue_amount=('current_revenue', 'sum'),\n",
    "        optimal_amount=('optimal_revenue', 'sum'),\n",
    "        diff_to_optimal=('tariff_difference', 'sum'),\n",
    "        diff_mean=('tariff_difference', 'mean'),\n",
    "        diff_median=('tariff_difference', 'median'),\n",
    "    )\n",
    ")\n",
    "display(difference_by_tariff)\n",
    "\n",
    "fig, ax = plt.subplots()\n",
    "index = np.arange(3)\n",
    "bw = 0.4\n",
    "plt.title('Изменение выручки после оптимизации тарифов')\n",
    "plt.bar(index - bw/2, difference_by_tariff['revenue_amount'], bw, label='Текущий')\n",
    "plt.bar(index + bw/2, difference_by_tariff['optimal_amount'], bw, label='Оптимальный')\n",
    "plt.xticks(index, difference_by_tariff['current_tariff'].unique())\n",
    "plt.ylim([275000, 825000])\n",
    "plt.legend(loc=2)\n",
    "plt.show()"
   ]
  },
  {
   "cell_type": "markdown",
   "id": "dc9beb3a",
   "metadata": {},
   "source": [
    "По графику видим, что самые большие переплаты у абонентов тарифов А и В - около 140000 рублей на каждый тариф.\\\n",
    "А вот на тарифе С практически нет клиентов с переплатой."
   ]
  },
  {
   "cell_type": "markdown",
   "id": "82b5708a",
   "metadata": {},
   "source": [
    "### Промежуточные выводы\n",
    "\n",
    "- тариф В приносит 38,4% выручки, тариф С - 38%, а на тариф А приходится 23,5%;\n",
    "- при этом средняя выручка отдельного клиента на тарифе А составляет 53,9%, тариф В - 27,8%, а на тарифе С - только 18,3%.\n",
    "- на тарифе С - 138 активных абонентов и практически нет переплат;\n",
    "- переплаты на тарифе А и В около 140 тысяч рублей на всех клиентов каждого тарифа. При этом клиентов на тарифе А меньше в 3 раза, чем на В - 29 к 92 соответственно."
   ]
  },
  {
   "cell_type": "markdown",
   "id": "9f0a64f8",
   "metadata": {},
   "source": [
    "## Статистический анализ <a id=\"step_3\"></a>"
   ]
  },
  {
   "cell_type": "markdown",
   "id": "31e37270",
   "metadata": {},
   "source": [
    "### Проверим различие выручки на тарифных планах A и B <a id=\"step_3_1\"></a>\n",
    "\n",
    "<p>Введем нулевую и альтернативные гипотезы:</p>\n",
    "\n",
    "$\\begin{equation*}\n",
    " \\begin{cases}\n",
    "   H_0 :\\text{Выручка между тарифами А и В статистически не различается}\\\\\n",
    "   H_1 :\\text{В выручке между тарифами А и В статистически есть различие}\n",
    " \\end{cases}\n",
    "\\end{equation*}$"
   ]
  },
  {
   "cell_type": "code",
   "execution_count": 31,
   "id": "efa9126c",
   "metadata": {},
   "outputs": [
    {
     "name": "stdout",
     "output_type": "stream",
     "text": [
      "Средняя выручка с клиента тарифа А: 5305.7 рублей\n",
      "Средняя выручка с клиента тарифа В: 2694.0 рублей\n",
      "p-value: 3.901542777954485e-09\n",
      "Отвергаем нулевую гипотезу - есть статистическое различие в выручке между тарифами А и В\n"
     ]
    }
   ],
   "source": [
    "revenue_A = data[data['current_tariff'] == 'A']['current_revenue']\n",
    "revenue_B = data[data['current_tariff'] == 'B']['current_revenue']\n",
    "\n",
    "print(f\"Средняя выручка с клиента тарифа А: {revenue_A.mean():.1f} рублей\")\n",
    "print(f\"Средняя выручка с клиента тарифа В: {revenue_B.mean():.1f} рублей\")\n",
    "\n",
    "alpha = 0.05\n",
    "results = st.ttest_ind(revenue_A, revenue_B, equal_var=False, alternative='two-sided')\n",
    "print(f'p-value: {results.pvalue}')\n",
    " \n",
    "if results.pvalue < alpha:\n",
    "    print('Отвергаем нулевую гипотезу - есть статистическое различие в выручке между тарифами А и В')\n",
    "else:\n",
    "    print('Нет оснований отвергнуть нулевую гипотезу - нет статистического различия в выручке между тарифами А и В')"
   ]
  },
  {
   "cell_type": "markdown",
   "id": "3175f0a5",
   "metadata": {},
   "source": [
    "### Проверим различие выручки до и после оптимизации тарифов <a id=\"step_3_2\"></a>\n",
    "\n",
    "<p>Введем нулевую и альтернативные гипотезы:</p>\n",
    "\n",
    "$\\begin{equation*}\n",
    " \\begin{cases}\n",
    "   H_0 :\\text{Выручка до и после оптимизации статистически не различается}\\\\\n",
    "   H_1 :\\text{В выручке до и после оптимизации статистически есть различие}\n",
    " \\end{cases}\n",
    "\\end{equation*}$"
   ]
  },
  {
   "cell_type": "code",
   "execution_count": 32,
   "id": "5fd72e27",
   "metadata": {},
   "outputs": [
    {
     "name": "stdout",
     "output_type": "stream",
     "text": [
      "Выручка до оптимизации тарифов: 1780386.0 рублей\n",
      "Выручка после оптимизации тарифов: 1480967.5 рублей\n",
      "p-value: 2.3118388190978487e-54\n",
      "Отвергаем нулевую гипотезу - есть статистическое различие в выручке до и после оптимизации тарифов\n"
     ]
    }
   ],
   "source": [
    "current_revenue = data['current_revenue']\n",
    "optimal_revenue = data['optimal_revenue']\n",
    "\n",
    "print(f\"Выручка до оптимизации тарифов: {current_revenue.sum():.1f} рублей\")\n",
    "print(f\"Выручка после оптимизации тарифов: {optimal_revenue.sum():.1f} рублей\")\n",
    "\n",
    "alpha = 0.05\n",
    "results = st.ttest_rel(current_revenue, optimal_revenue)\n",
    "print(f'p-value: {results.pvalue}')\n",
    " \n",
    "if results.pvalue < alpha:\n",
    "    print('Отвергаем нулевую гипотезу - есть статистическое различие в выручке до и после оптимизации тарифов')\n",
    "else:\n",
    "    print('Нет оснований отвергнуть нулевую гипотезу - нет статистического различия в выручке до и после оптимизации тарифов')"
   ]
  },
  {
   "cell_type": "markdown",
   "id": "7969e118",
   "metadata": {},
   "source": [
    "### Выводы по тестам\n",
    "\n",
    "По двум тестам подтвердили статистически значимые различия:\n",
    "- клиенты на тарифе А платят больше, чем на тарифе В;\n",
    "- выручка после оптимизации тарифов станет меньше."
   ]
  },
  {
   "cell_type": "markdown",
   "id": "795286ff",
   "metadata": {},
   "source": [
    "## Выводы и предложения по сохранению выручки после оптимизации тарифов у клиентов <a id=\"step_4\"></a>"
   ]
  },
  {
   "cell_type": "markdown",
   "id": "a3db87fb",
   "metadata": {},
   "source": [
    "### Выводы\n",
    "Нам были предоставлены данные за период со 2 августа по 28 ноября 2019 года.\n",
    "Клиенты провайдера виртуальной телефонии, колл-центры, подключены к одному из трёх тарифов: А, В и С.\n",
    "\n",
    "В исследовательском анализе обнаружили следующие особенности:\n",
    "- тариф В приносит 38,4% выручки, тариф С - 38%, а на тариф А приходится 23,5%;\n",
    "- при этом средняя выручка отдельного клиента на тарифе А составляет 53,9%, тариф В - 27,8%, а на тарифе С - только 18,3%.\n",
    "- на тарифе С - 138 активных абонентов и практически нет переплат;\n",
    "- переплаты на тарифе А и В около 140 тысяч рублей на всех клиентов каждого тарифа. При этом клиентов на тарифе А меньше в 3 раза, чем на В - 29 к 92 соответственно.\n",
    "\n",
    "С помощью тестов доказали, что есть статистические различия:\n",
    "- средняя выручка с пользователя тарифа А отличается от тарифа В - клиенты тарифа А в среднем платят больше;\n",
    "- выручка до и после оптимизации тарифов различается - после оптимизации выручка станет меньше."
   ]
  },
  {
   "cell_type": "markdown",
   "id": "00e60343",
   "metadata": {},
   "source": [
    "### Предложения\n",
    "При оптимизации тарифов будем поддерживать баланс между потерей выручки и сдерживании возможного оттока клиентов.\n",
    "\n",
    "#### Тариф С:\n",
    "На тарифе С практически нет переплат - на 138 активных клиентов выходит лишь 15114,40 рублей.\\\n",
    "Клиенты с переплатами используют услуги сверх тарифа, что указывает на потенциальный рост их бизнеса.\\\n",
    "**Решение: всем клиентам с переплатой предложить смену тарифа на оптимальный.**\n",
    "\n",
    "#### Тариф В:\n",
    "На 92 активных клиентов приходится 145980,65 рублей переплаты.\\\n",
    "В среднем за месяц переплата составляет 574,73 рубля на абонента, а медиана - 663,65 рублей.\\\n",
    "**Решение: 25% клиентам с самыми большими по размеру переплатами предложить перейти на более выгодный тариф. Т.к. медиана больше среднего значения - больших переплат по количеству не так много и потеря выручки будет не так значительна.**\n",
    "\n",
    "#### Тариф А:\n",
    "На 29 активных клиентов приходится 138323,45 рублей переплаты.\\\n",
    "В среднем за месяц переплата составляет 1750,93 рубля на абонента, а медиана - 2240 рублей.\\\n",
    "**Решение: т.к. здесь медиана также больше среднего значения, поступим как и с клиентами на тарифе В - 25% клиентам с самыми большими по размеру переплатами предложить перейти на более выгодный тариф.**"
   ]
  }
 ],
 "metadata": {
  "kernelspec": {
   "display_name": "Python 3 (ipykernel)",
   "language": "python",
   "name": "python3"
  },
  "language_info": {
   "codemirror_mode": {
    "name": "ipython",
    "version": 3
   },
   "file_extension": ".py",
   "mimetype": "text/x-python",
   "name": "python",
   "nbconvert_exporter": "python",
   "pygments_lexer": "ipython3",
   "version": "3.11.4"
  },
  "toc": {
   "base_numbering": 1,
   "nav_menu": {},
   "number_sections": true,
   "sideBar": true,
   "skip_h1_title": true,
   "title_cell": "Table of Contents",
   "title_sidebar": "Contents",
   "toc_cell": false,
   "toc_position": {},
   "toc_section_display": true,
   "toc_window_display": false
  }
 },
 "nbformat": 4,
 "nbformat_minor": 5
}
