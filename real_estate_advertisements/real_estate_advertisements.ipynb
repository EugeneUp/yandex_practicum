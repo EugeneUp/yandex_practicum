{
 "cells": [
  {
   "cell_type": "markdown",
   "metadata": {},
   "source": [
    "# Исследование объявлений о продаже квартир\n",
    "\n",
    "**Цель исследования**\\\n",
    "Найти основные параметры и факторы, которые влияют на рыночную цену квартир. Это позволит\n",
    "отследить аномалии и мошенническую деятельность при автоматизации процесса оценки.\n",
    "\n",
    "**Входные данные**\\\n",
    "Архив объявлений о продаже квартир в Санкт-Петербурге и соседних населённых пунктах за несколько лет.\n",
    "\n",
    "**Ход исследования**\\\n",
    "Одна часть информации была указана пользователями самостоятельно, другая - получена автоматически на основе картографических данных.\n",
    "\n",
    "Мы проверим данные на ошибки и оценим их влияние на исследование; затем, на этапе предобработки поищем возможность исправить самые критичные ошибки.\n",
    "Далее проведем расчеты, на основании которых проанализируем данные и выявим параметры, влияющие на ценообразование квартиры.\n",
    "\n",
    "Исследование пройдёт в четыре этапа:\n",
    "*    Обзор данных;\n",
    "*    Предобработка данных;\n",
    "*    Расчеты;\n",
    "*    Исследовательский анализ данных;"
   ]
  },
  {
   "cell_type": "markdown",
   "metadata": {},
   "source": [
    "## Обзор данных "
   ]
  },
  {
   "cell_type": "code",
   "execution_count": 1,
   "metadata": {
    "hidePrompt": true
   },
   "outputs": [],
   "source": [
    "# подключаем библиотеки\n",
    "import pandas as pd\n",
    "import numpy as np\n",
    "import matplotlib.pyplot as plt\n",
    "import seaborn as sns"
   ]
  },
  {
   "cell_type": "code",
   "execution_count": 2,
   "metadata": {
    "hidePrompt": true,
    "scrolled": false
   },
   "outputs": [],
   "source": [
    "# сохраняем данные из файла в переменную\n",
    "df = pd.read_csv('/datasets/real_estate_data.csv', sep='\\\\t', decimal='.', engine='python')"
   ]
  },
  {
   "cell_type": "code",
   "execution_count": 3,
   "metadata": {
    "hidePrompt": true
   },
   "outputs": [
    {
     "data": {
      "text/html": [
       "<div>\n",
       "<style scoped>\n",
       "    .dataframe tbody tr th:only-of-type {\n",
       "        vertical-align: middle;\n",
       "    }\n",
       "\n",
       "    .dataframe tbody tr th {\n",
       "        vertical-align: top;\n",
       "    }\n",
       "\n",
       "    .dataframe thead th {\n",
       "        text-align: right;\n",
       "    }\n",
       "</style>\n",
       "<table border=\"1\" class=\"dataframe\">\n",
       "  <thead>\n",
       "    <tr style=\"text-align: right;\">\n",
       "      <th></th>\n",
       "      <th>total_images</th>\n",
       "      <th>last_price</th>\n",
       "      <th>total_area</th>\n",
       "      <th>first_day_exposition</th>\n",
       "      <th>rooms</th>\n",
       "      <th>ceiling_height</th>\n",
       "      <th>floors_total</th>\n",
       "      <th>living_area</th>\n",
       "      <th>floor</th>\n",
       "      <th>is_apartment</th>\n",
       "      <th>studio</th>\n",
       "      <th>open_plan</th>\n",
       "      <th>kitchen_area</th>\n",
       "      <th>balcony</th>\n",
       "      <th>locality_name</th>\n",
       "      <th>airports_nearest</th>\n",
       "      <th>cityCenters_nearest</th>\n",
       "      <th>parks_around3000</th>\n",
       "      <th>parks_nearest</th>\n",
       "      <th>ponds_around3000</th>\n",
       "      <th>ponds_nearest</th>\n",
       "      <th>days_exposition</th>\n",
       "    </tr>\n",
       "  </thead>\n",
       "  <tbody>\n",
       "    <tr>\n",
       "      <th>7382</th>\n",
       "      <td>11</td>\n",
       "      <td>2690000.0</td>\n",
       "      <td>32.00</td>\n",
       "      <td>2017-11-11T00:00:00</td>\n",
       "      <td>1</td>\n",
       "      <td>NaN</td>\n",
       "      <td>3.0</td>\n",
       "      <td>20.00</td>\n",
       "      <td>2</td>\n",
       "      <td>NaN</td>\n",
       "      <td>False</td>\n",
       "      <td>False</td>\n",
       "      <td>5.0</td>\n",
       "      <td>0.0</td>\n",
       "      <td>Колпино</td>\n",
       "      <td>26325.0</td>\n",
       "      <td>32112.0</td>\n",
       "      <td>1.0</td>\n",
       "      <td>341.0</td>\n",
       "      <td>3.0</td>\n",
       "      <td>295.0</td>\n",
       "      <td>4.0</td>\n",
       "    </tr>\n",
       "    <tr>\n",
       "      <th>5203</th>\n",
       "      <td>10</td>\n",
       "      <td>5600000.0</td>\n",
       "      <td>54.50</td>\n",
       "      <td>2018-11-01T00:00:00</td>\n",
       "      <td>2</td>\n",
       "      <td>NaN</td>\n",
       "      <td>18.0</td>\n",
       "      <td>29.60</td>\n",
       "      <td>11</td>\n",
       "      <td>NaN</td>\n",
       "      <td>False</td>\n",
       "      <td>False</td>\n",
       "      <td>11.3</td>\n",
       "      <td>2.0</td>\n",
       "      <td>посёлок Мурино</td>\n",
       "      <td>NaN</td>\n",
       "      <td>NaN</td>\n",
       "      <td>NaN</td>\n",
       "      <td>NaN</td>\n",
       "      <td>NaN</td>\n",
       "      <td>NaN</td>\n",
       "      <td>32.0</td>\n",
       "    </tr>\n",
       "    <tr>\n",
       "      <th>21125</th>\n",
       "      <td>9</td>\n",
       "      <td>17667280.0</td>\n",
       "      <td>112.00</td>\n",
       "      <td>2017-08-23T00:00:00</td>\n",
       "      <td>2</td>\n",
       "      <td>NaN</td>\n",
       "      <td>9.0</td>\n",
       "      <td>NaN</td>\n",
       "      <td>5</td>\n",
       "      <td>NaN</td>\n",
       "      <td>False</td>\n",
       "      <td>False</td>\n",
       "      <td>NaN</td>\n",
       "      <td>NaN</td>\n",
       "      <td>Санкт-Петербург</td>\n",
       "      <td>31170.0</td>\n",
       "      <td>6498.0</td>\n",
       "      <td>1.0</td>\n",
       "      <td>1057.0</td>\n",
       "      <td>1.0</td>\n",
       "      <td>563.0</td>\n",
       "      <td>NaN</td>\n",
       "    </tr>\n",
       "    <tr>\n",
       "      <th>17424</th>\n",
       "      <td>3</td>\n",
       "      <td>2700000.0</td>\n",
       "      <td>26.69</td>\n",
       "      <td>2017-08-02T00:00:00</td>\n",
       "      <td>1</td>\n",
       "      <td>2.78</td>\n",
       "      <td>19.0</td>\n",
       "      <td>17.40</td>\n",
       "      <td>3</td>\n",
       "      <td>NaN</td>\n",
       "      <td>False</td>\n",
       "      <td>False</td>\n",
       "      <td>3.0</td>\n",
       "      <td>1.0</td>\n",
       "      <td>Санкт-Петербург</td>\n",
       "      <td>34155.0</td>\n",
       "      <td>15319.0</td>\n",
       "      <td>0.0</td>\n",
       "      <td>NaN</td>\n",
       "      <td>0.0</td>\n",
       "      <td>NaN</td>\n",
       "      <td>71.0</td>\n",
       "    </tr>\n",
       "    <tr>\n",
       "      <th>4547</th>\n",
       "      <td>11</td>\n",
       "      <td>8800000.0</td>\n",
       "      <td>68.00</td>\n",
       "      <td>2018-12-11T00:00:00</td>\n",
       "      <td>2</td>\n",
       "      <td>2.50</td>\n",
       "      <td>25.0</td>\n",
       "      <td>32.00</td>\n",
       "      <td>16</td>\n",
       "      <td>NaN</td>\n",
       "      <td>False</td>\n",
       "      <td>False</td>\n",
       "      <td>12.0</td>\n",
       "      <td>NaN</td>\n",
       "      <td>Санкт-Петербург</td>\n",
       "      <td>33917.0</td>\n",
       "      <td>15016.0</td>\n",
       "      <td>0.0</td>\n",
       "      <td>NaN</td>\n",
       "      <td>1.0</td>\n",
       "      <td>1016.0</td>\n",
       "      <td>45.0</td>\n",
       "    </tr>\n",
       "    <tr>\n",
       "      <th>16390</th>\n",
       "      <td>1</td>\n",
       "      <td>2400000.0</td>\n",
       "      <td>49.00</td>\n",
       "      <td>2018-01-11T00:00:00</td>\n",
       "      <td>2</td>\n",
       "      <td>NaN</td>\n",
       "      <td>9.0</td>\n",
       "      <td>NaN</td>\n",
       "      <td>4</td>\n",
       "      <td>NaN</td>\n",
       "      <td>False</td>\n",
       "      <td>False</td>\n",
       "      <td>NaN</td>\n",
       "      <td>NaN</td>\n",
       "      <td>Кириши</td>\n",
       "      <td>NaN</td>\n",
       "      <td>NaN</td>\n",
       "      <td>NaN</td>\n",
       "      <td>NaN</td>\n",
       "      <td>NaN</td>\n",
       "      <td>NaN</td>\n",
       "      <td>45.0</td>\n",
       "    </tr>\n",
       "    <tr>\n",
       "      <th>9365</th>\n",
       "      <td>4</td>\n",
       "      <td>5129783.0</td>\n",
       "      <td>53.00</td>\n",
       "      <td>2019-02-13T00:00:00</td>\n",
       "      <td>2</td>\n",
       "      <td>2.56</td>\n",
       "      <td>12.0</td>\n",
       "      <td>31.42</td>\n",
       "      <td>8</td>\n",
       "      <td>NaN</td>\n",
       "      <td>False</td>\n",
       "      <td>False</td>\n",
       "      <td>NaN</td>\n",
       "      <td>NaN</td>\n",
       "      <td>городской посёлок Янино-1</td>\n",
       "      <td>NaN</td>\n",
       "      <td>NaN</td>\n",
       "      <td>NaN</td>\n",
       "      <td>NaN</td>\n",
       "      <td>NaN</td>\n",
       "      <td>NaN</td>\n",
       "      <td>NaN</td>\n",
       "    </tr>\n",
       "    <tr>\n",
       "      <th>15036</th>\n",
       "      <td>15</td>\n",
       "      <td>2990000.0</td>\n",
       "      <td>31.10</td>\n",
       "      <td>2018-11-11T00:00:00</td>\n",
       "      <td>1</td>\n",
       "      <td>2.50</td>\n",
       "      <td>5.0</td>\n",
       "      <td>17.00</td>\n",
       "      <td>2</td>\n",
       "      <td>False</td>\n",
       "      <td>False</td>\n",
       "      <td>False</td>\n",
       "      <td>6.0</td>\n",
       "      <td>2.0</td>\n",
       "      <td>посёлок Шушары</td>\n",
       "      <td>17352.0</td>\n",
       "      <td>31357.0</td>\n",
       "      <td>0.0</td>\n",
       "      <td>NaN</td>\n",
       "      <td>1.0</td>\n",
       "      <td>527.0</td>\n",
       "      <td>148.0</td>\n",
       "    </tr>\n",
       "    <tr>\n",
       "      <th>14560</th>\n",
       "      <td>7</td>\n",
       "      <td>4500000.0</td>\n",
       "      <td>37.00</td>\n",
       "      <td>2019-04-18T00:00:00</td>\n",
       "      <td>1</td>\n",
       "      <td>2.60</td>\n",
       "      <td>12.0</td>\n",
       "      <td>18.40</td>\n",
       "      <td>8</td>\n",
       "      <td>False</td>\n",
       "      <td>False</td>\n",
       "      <td>False</td>\n",
       "      <td>7.0</td>\n",
       "      <td>1.0</td>\n",
       "      <td>Санкт-Петербург</td>\n",
       "      <td>11978.0</td>\n",
       "      <td>12931.0</td>\n",
       "      <td>1.0</td>\n",
       "      <td>632.0</td>\n",
       "      <td>1.0</td>\n",
       "      <td>707.0</td>\n",
       "      <td>7.0</td>\n",
       "    </tr>\n",
       "    <tr>\n",
       "      <th>13923</th>\n",
       "      <td>14</td>\n",
       "      <td>7990000.0</td>\n",
       "      <td>81.00</td>\n",
       "      <td>2017-10-26T00:00:00</td>\n",
       "      <td>3</td>\n",
       "      <td>NaN</td>\n",
       "      <td>12.0</td>\n",
       "      <td>52.00</td>\n",
       "      <td>6</td>\n",
       "      <td>False</td>\n",
       "      <td>False</td>\n",
       "      <td>False</td>\n",
       "      <td>13.0</td>\n",
       "      <td>2.0</td>\n",
       "      <td>Санкт-Петербург</td>\n",
       "      <td>30855.0</td>\n",
       "      <td>7925.0</td>\n",
       "      <td>0.0</td>\n",
       "      <td>NaN</td>\n",
       "      <td>2.0</td>\n",
       "      <td>724.0</td>\n",
       "      <td>70.0</td>\n",
       "    </tr>\n",
       "  </tbody>\n",
       "</table>\n",
       "</div>"
      ],
      "text/plain": [
       "       total_images  last_price  total_area first_day_exposition  rooms  \\\n",
       "7382             11   2690000.0       32.00  2017-11-11T00:00:00      1   \n",
       "5203             10   5600000.0       54.50  2018-11-01T00:00:00      2   \n",
       "21125             9  17667280.0      112.00  2017-08-23T00:00:00      2   \n",
       "17424             3   2700000.0       26.69  2017-08-02T00:00:00      1   \n",
       "4547             11   8800000.0       68.00  2018-12-11T00:00:00      2   \n",
       "16390             1   2400000.0       49.00  2018-01-11T00:00:00      2   \n",
       "9365              4   5129783.0       53.00  2019-02-13T00:00:00      2   \n",
       "15036            15   2990000.0       31.10  2018-11-11T00:00:00      1   \n",
       "14560             7   4500000.0       37.00  2019-04-18T00:00:00      1   \n",
       "13923            14   7990000.0       81.00  2017-10-26T00:00:00      3   \n",
       "\n",
       "       ceiling_height  floors_total  living_area  floor is_apartment  studio  \\\n",
       "7382              NaN           3.0        20.00      2          NaN   False   \n",
       "5203              NaN          18.0        29.60     11          NaN   False   \n",
       "21125             NaN           9.0          NaN      5          NaN   False   \n",
       "17424            2.78          19.0        17.40      3          NaN   False   \n",
       "4547             2.50          25.0        32.00     16          NaN   False   \n",
       "16390             NaN           9.0          NaN      4          NaN   False   \n",
       "9365             2.56          12.0        31.42      8          NaN   False   \n",
       "15036            2.50           5.0        17.00      2        False   False   \n",
       "14560            2.60          12.0        18.40      8        False   False   \n",
       "13923             NaN          12.0        52.00      6        False   False   \n",
       "\n",
       "       open_plan  kitchen_area  balcony              locality_name  \\\n",
       "7382       False           5.0      0.0                    Колпино   \n",
       "5203       False          11.3      2.0             посёлок Мурино   \n",
       "21125      False           NaN      NaN            Санкт-Петербург   \n",
       "17424      False           3.0      1.0            Санкт-Петербург   \n",
       "4547       False          12.0      NaN            Санкт-Петербург   \n",
       "16390      False           NaN      NaN                     Кириши   \n",
       "9365       False           NaN      NaN  городской посёлок Янино-1   \n",
       "15036      False           6.0      2.0             посёлок Шушары   \n",
       "14560      False           7.0      1.0            Санкт-Петербург   \n",
       "13923      False          13.0      2.0            Санкт-Петербург   \n",
       "\n",
       "       airports_nearest  cityCenters_nearest  parks_around3000  parks_nearest  \\\n",
       "7382            26325.0              32112.0               1.0          341.0   \n",
       "5203                NaN                  NaN               NaN            NaN   \n",
       "21125           31170.0               6498.0               1.0         1057.0   \n",
       "17424           34155.0              15319.0               0.0            NaN   \n",
       "4547            33917.0              15016.0               0.0            NaN   \n",
       "16390               NaN                  NaN               NaN            NaN   \n",
       "9365                NaN                  NaN               NaN            NaN   \n",
       "15036           17352.0              31357.0               0.0            NaN   \n",
       "14560           11978.0              12931.0               1.0          632.0   \n",
       "13923           30855.0               7925.0               0.0            NaN   \n",
       "\n",
       "       ponds_around3000  ponds_nearest  days_exposition  \n",
       "7382                3.0          295.0              4.0  \n",
       "5203                NaN            NaN             32.0  \n",
       "21125               1.0          563.0              NaN  \n",
       "17424               0.0            NaN             71.0  \n",
       "4547                1.0         1016.0             45.0  \n",
       "16390               NaN            NaN             45.0  \n",
       "9365                NaN            NaN              NaN  \n",
       "15036               1.0          527.0            148.0  \n",
       "14560               1.0          707.0              7.0  \n",
       "13923               2.0          724.0             70.0  "
      ]
     },
     "execution_count": 3,
     "metadata": {},
     "output_type": "execute_result"
    }
   ],
   "source": [
    "# просмотр 10 случайных строк\n",
    "pd.set_option('display.max_columns', None)\n",
    "df.sample(10)"
   ]
  },
  {
   "cell_type": "code",
   "execution_count": 4,
   "metadata": {
    "hidePrompt": true
   },
   "outputs": [
    {
     "name": "stdout",
     "output_type": "stream",
     "text": [
      "<class 'pandas.core.frame.DataFrame'>\n",
      "RangeIndex: 23699 entries, 0 to 23698\n",
      "Data columns (total 22 columns):\n",
      " #   Column                Non-Null Count  Dtype  \n",
      "---  ------                --------------  -----  \n",
      " 0   total_images          23699 non-null  int64  \n",
      " 1   last_price            23699 non-null  float64\n",
      " 2   total_area            23699 non-null  float64\n",
      " 3   first_day_exposition  23699 non-null  object \n",
      " 4   rooms                 23699 non-null  int64  \n",
      " 5   ceiling_height        14504 non-null  float64\n",
      " 6   floors_total          23613 non-null  float64\n",
      " 7   living_area           21796 non-null  float64\n",
      " 8   floor                 23699 non-null  int64  \n",
      " 9   is_apartment          2775 non-null   object \n",
      " 10  studio                23699 non-null  bool   \n",
      " 11  open_plan             23699 non-null  bool   \n",
      " 12  kitchen_area          21421 non-null  float64\n",
      " 13  balcony               12180 non-null  float64\n",
      " 14  locality_name         23650 non-null  object \n",
      " 15  airports_nearest      18157 non-null  float64\n",
      " 16  cityCenters_nearest   18180 non-null  float64\n",
      " 17  parks_around3000      18181 non-null  float64\n",
      " 18  parks_nearest         8079 non-null   float64\n",
      " 19  ponds_around3000      18181 non-null  float64\n",
      " 20  ponds_nearest         9110 non-null   float64\n",
      " 21  days_exposition       20518 non-null  float64\n",
      "dtypes: bool(2), float64(14), int64(3), object(3)\n",
      "memory usage: 3.7+ MB\n"
     ]
    }
   ],
   "source": [
    "# просмотр общей информации по набору данных\n",
    "df.info()"
   ]
  },
  {
   "cell_type": "code",
   "execution_count": 5,
   "metadata": {
    "hidePrompt": true
   },
   "outputs": [
    {
     "data": {
      "text/html": [
       "<div>\n",
       "<style scoped>\n",
       "    .dataframe tbody tr th:only-of-type {\n",
       "        vertical-align: middle;\n",
       "    }\n",
       "\n",
       "    .dataframe tbody tr th {\n",
       "        vertical-align: top;\n",
       "    }\n",
       "\n",
       "    .dataframe thead th {\n",
       "        text-align: right;\n",
       "    }\n",
       "</style>\n",
       "<table border=\"1\" class=\"dataframe\">\n",
       "  <thead>\n",
       "    <tr style=\"text-align: right;\">\n",
       "      <th></th>\n",
       "      <th>total_images</th>\n",
       "      <th>last_price</th>\n",
       "      <th>total_area</th>\n",
       "      <th>rooms</th>\n",
       "      <th>ceiling_height</th>\n",
       "      <th>floors_total</th>\n",
       "      <th>living_area</th>\n",
       "      <th>floor</th>\n",
       "      <th>kitchen_area</th>\n",
       "      <th>balcony</th>\n",
       "      <th>airports_nearest</th>\n",
       "      <th>cityCenters_nearest</th>\n",
       "      <th>parks_around3000</th>\n",
       "      <th>parks_nearest</th>\n",
       "      <th>ponds_around3000</th>\n",
       "      <th>ponds_nearest</th>\n",
       "      <th>days_exposition</th>\n",
       "    </tr>\n",
       "  </thead>\n",
       "  <tbody>\n",
       "    <tr>\n",
       "      <th>count</th>\n",
       "      <td>23699.000000</td>\n",
       "      <td>2.369900e+04</td>\n",
       "      <td>23699.000000</td>\n",
       "      <td>23699.000000</td>\n",
       "      <td>14504.000000</td>\n",
       "      <td>23613.000000</td>\n",
       "      <td>21796.000000</td>\n",
       "      <td>23699.000000</td>\n",
       "      <td>21421.000000</td>\n",
       "      <td>12180.000000</td>\n",
       "      <td>18157.000000</td>\n",
       "      <td>18180.000000</td>\n",
       "      <td>18181.000000</td>\n",
       "      <td>8079.000000</td>\n",
       "      <td>18181.000000</td>\n",
       "      <td>9110.000000</td>\n",
       "      <td>20518.000000</td>\n",
       "    </tr>\n",
       "    <tr>\n",
       "      <th>mean</th>\n",
       "      <td>9.858475</td>\n",
       "      <td>6.541549e+06</td>\n",
       "      <td>60.348651</td>\n",
       "      <td>2.070636</td>\n",
       "      <td>2.771499</td>\n",
       "      <td>10.673824</td>\n",
       "      <td>34.457852</td>\n",
       "      <td>5.892358</td>\n",
       "      <td>10.569807</td>\n",
       "      <td>1.150082</td>\n",
       "      <td>28793.672193</td>\n",
       "      <td>14191.277833</td>\n",
       "      <td>0.611408</td>\n",
       "      <td>490.804555</td>\n",
       "      <td>0.770255</td>\n",
       "      <td>517.980900</td>\n",
       "      <td>180.888634</td>\n",
       "    </tr>\n",
       "    <tr>\n",
       "      <th>std</th>\n",
       "      <td>5.682529</td>\n",
       "      <td>1.088701e+07</td>\n",
       "      <td>35.654083</td>\n",
       "      <td>1.078405</td>\n",
       "      <td>1.261056</td>\n",
       "      <td>6.597173</td>\n",
       "      <td>22.030445</td>\n",
       "      <td>4.885249</td>\n",
       "      <td>5.905438</td>\n",
       "      <td>1.071300</td>\n",
       "      <td>12630.880622</td>\n",
       "      <td>8608.386210</td>\n",
       "      <td>0.802074</td>\n",
       "      <td>342.317995</td>\n",
       "      <td>0.938346</td>\n",
       "      <td>277.720643</td>\n",
       "      <td>219.727988</td>\n",
       "    </tr>\n",
       "    <tr>\n",
       "      <th>min</th>\n",
       "      <td>0.000000</td>\n",
       "      <td>1.219000e+04</td>\n",
       "      <td>12.000000</td>\n",
       "      <td>0.000000</td>\n",
       "      <td>1.000000</td>\n",
       "      <td>1.000000</td>\n",
       "      <td>2.000000</td>\n",
       "      <td>1.000000</td>\n",
       "      <td>1.300000</td>\n",
       "      <td>0.000000</td>\n",
       "      <td>0.000000</td>\n",
       "      <td>181.000000</td>\n",
       "      <td>0.000000</td>\n",
       "      <td>1.000000</td>\n",
       "      <td>0.000000</td>\n",
       "      <td>13.000000</td>\n",
       "      <td>1.000000</td>\n",
       "    </tr>\n",
       "    <tr>\n",
       "      <th>25%</th>\n",
       "      <td>6.000000</td>\n",
       "      <td>3.400000e+06</td>\n",
       "      <td>40.000000</td>\n",
       "      <td>1.000000</td>\n",
       "      <td>2.520000</td>\n",
       "      <td>5.000000</td>\n",
       "      <td>18.600000</td>\n",
       "      <td>2.000000</td>\n",
       "      <td>7.000000</td>\n",
       "      <td>0.000000</td>\n",
       "      <td>18585.000000</td>\n",
       "      <td>9238.000000</td>\n",
       "      <td>0.000000</td>\n",
       "      <td>288.000000</td>\n",
       "      <td>0.000000</td>\n",
       "      <td>294.000000</td>\n",
       "      <td>45.000000</td>\n",
       "    </tr>\n",
       "    <tr>\n",
       "      <th>50%</th>\n",
       "      <td>9.000000</td>\n",
       "      <td>4.650000e+06</td>\n",
       "      <td>52.000000</td>\n",
       "      <td>2.000000</td>\n",
       "      <td>2.650000</td>\n",
       "      <td>9.000000</td>\n",
       "      <td>30.000000</td>\n",
       "      <td>4.000000</td>\n",
       "      <td>9.100000</td>\n",
       "      <td>1.000000</td>\n",
       "      <td>26726.000000</td>\n",
       "      <td>13098.500000</td>\n",
       "      <td>0.000000</td>\n",
       "      <td>455.000000</td>\n",
       "      <td>1.000000</td>\n",
       "      <td>502.000000</td>\n",
       "      <td>95.000000</td>\n",
       "    </tr>\n",
       "    <tr>\n",
       "      <th>75%</th>\n",
       "      <td>14.000000</td>\n",
       "      <td>6.800000e+06</td>\n",
       "      <td>69.900000</td>\n",
       "      <td>3.000000</td>\n",
       "      <td>2.800000</td>\n",
       "      <td>16.000000</td>\n",
       "      <td>42.300000</td>\n",
       "      <td>8.000000</td>\n",
       "      <td>12.000000</td>\n",
       "      <td>2.000000</td>\n",
       "      <td>37273.000000</td>\n",
       "      <td>16293.000000</td>\n",
       "      <td>1.000000</td>\n",
       "      <td>612.000000</td>\n",
       "      <td>1.000000</td>\n",
       "      <td>729.000000</td>\n",
       "      <td>232.000000</td>\n",
       "    </tr>\n",
       "    <tr>\n",
       "      <th>max</th>\n",
       "      <td>50.000000</td>\n",
       "      <td>7.630000e+08</td>\n",
       "      <td>900.000000</td>\n",
       "      <td>19.000000</td>\n",
       "      <td>100.000000</td>\n",
       "      <td>60.000000</td>\n",
       "      <td>409.700000</td>\n",
       "      <td>33.000000</td>\n",
       "      <td>112.000000</td>\n",
       "      <td>5.000000</td>\n",
       "      <td>84869.000000</td>\n",
       "      <td>65968.000000</td>\n",
       "      <td>3.000000</td>\n",
       "      <td>3190.000000</td>\n",
       "      <td>3.000000</td>\n",
       "      <td>1344.000000</td>\n",
       "      <td>1580.000000</td>\n",
       "    </tr>\n",
       "  </tbody>\n",
       "</table>\n",
       "</div>"
      ],
      "text/plain": [
       "       total_images    last_price    total_area         rooms  ceiling_height  \\\n",
       "count  23699.000000  2.369900e+04  23699.000000  23699.000000    14504.000000   \n",
       "mean       9.858475  6.541549e+06     60.348651      2.070636        2.771499   \n",
       "std        5.682529  1.088701e+07     35.654083      1.078405        1.261056   \n",
       "min        0.000000  1.219000e+04     12.000000      0.000000        1.000000   \n",
       "25%        6.000000  3.400000e+06     40.000000      1.000000        2.520000   \n",
       "50%        9.000000  4.650000e+06     52.000000      2.000000        2.650000   \n",
       "75%       14.000000  6.800000e+06     69.900000      3.000000        2.800000   \n",
       "max       50.000000  7.630000e+08    900.000000     19.000000      100.000000   \n",
       "\n",
       "       floors_total   living_area         floor  kitchen_area       balcony  \\\n",
       "count  23613.000000  21796.000000  23699.000000  21421.000000  12180.000000   \n",
       "mean      10.673824     34.457852      5.892358     10.569807      1.150082   \n",
       "std        6.597173     22.030445      4.885249      5.905438      1.071300   \n",
       "min        1.000000      2.000000      1.000000      1.300000      0.000000   \n",
       "25%        5.000000     18.600000      2.000000      7.000000      0.000000   \n",
       "50%        9.000000     30.000000      4.000000      9.100000      1.000000   \n",
       "75%       16.000000     42.300000      8.000000     12.000000      2.000000   \n",
       "max       60.000000    409.700000     33.000000    112.000000      5.000000   \n",
       "\n",
       "       airports_nearest  cityCenters_nearest  parks_around3000  parks_nearest  \\\n",
       "count      18157.000000         18180.000000      18181.000000    8079.000000   \n",
       "mean       28793.672193         14191.277833          0.611408     490.804555   \n",
       "std        12630.880622          8608.386210          0.802074     342.317995   \n",
       "min            0.000000           181.000000          0.000000       1.000000   \n",
       "25%        18585.000000          9238.000000          0.000000     288.000000   \n",
       "50%        26726.000000         13098.500000          0.000000     455.000000   \n",
       "75%        37273.000000         16293.000000          1.000000     612.000000   \n",
       "max        84869.000000         65968.000000          3.000000    3190.000000   \n",
       "\n",
       "       ponds_around3000  ponds_nearest  days_exposition  \n",
       "count      18181.000000    9110.000000     20518.000000  \n",
       "mean           0.770255     517.980900       180.888634  \n",
       "std            0.938346     277.720643       219.727988  \n",
       "min            0.000000      13.000000         1.000000  \n",
       "25%            0.000000     294.000000        45.000000  \n",
       "50%            1.000000     502.000000        95.000000  \n",
       "75%            1.000000     729.000000       232.000000  \n",
       "max            3.000000    1344.000000      1580.000000  "
      ]
     },
     "execution_count": 5,
     "metadata": {},
     "output_type": "execute_result"
    }
   ],
   "source": [
    "# получение информации о количественных данных\n",
    "df.describe()"
   ]
  },
  {
   "cell_type": "code",
   "execution_count": 6,
   "metadata": {
    "hidePrompt": true
   },
   "outputs": [
    {
     "data": {
      "image/png": "[encoded data removed]",
      "text/plain": [
       "<Figure size 1500x2000 with 20 Axes>"
      ]
     },
     "metadata": {},
     "output_type": "display_data"
    }
   ],
   "source": [
    "# гистограммы количественных столбцов для предварительного просмотра\n",
    "df.hist(bins=10, figsize=(15, 20))\n",
    "plt.show()"
   ]
  },
  {
   "cell_type": "markdown",
   "metadata": {},
   "source": [
    "### Вывод\n",
    "\n",
    "После первичного просмотра базы данных обнаружены следующие недочёты:\n",
    "- Данные с типом *object*: `is_apartment` и `locality_name` имеют пропуски. Также названия населённых пунктов нужно проверить на неявные дубликаты. Заменить тип данных *first_day_exposition* на *datetime*.\n",
    "- Столбцы, связанные с параметрами квартиры, имеют пропуски: `ceiling_height`, `floors_total`, `living_area`, `kitchen_area`, `balcony`. Также поменять тип данных в количестве этажей и количестве балконов.\n",
    "- Столбцы, связанные с местоположением квартиры, имеют большие пропуски: `locality_name`, `airports_nearest`, `cityCenters_nearest`, `parks_around3000`, `parks_nearest`, `ponds_around3000`, `ponds_nearest`, `days_exposition`. На диаграммах из-за этого сильная \"дрожь\"."
   ]
  },
  {
   "cell_type": "markdown",
   "metadata": {},
   "source": [
    "## Предобработка данных"
   ]
  },
  {
   "cell_type": "markdown",
   "metadata": {},
   "source": [
    "### Переименование колонок к одному виду"
   ]
  },
  {
   "cell_type": "code",
   "execution_count": 7,
   "metadata": {
    "hidePrompt": true
   },
   "outputs": [
    {
     "data": {
      "text/plain": [
       "Index(['total_images', 'last_price', 'total_area', 'first_day_exposition',\n",
       "       'rooms', 'ceiling_height', 'floors_total', 'living_area', 'floor',\n",
       "       'is_apartment', 'is_studio', 'is_open_plan', 'kitchen_area', 'balcony',\n",
       "       'locality_name', 'airports_nearest', 'city_centers_nearest',\n",
       "       'parks_around_3000', 'parks_nearest', 'ponds_around_3000',\n",
       "       'ponds_nearest', 'days_exposition'],\n",
       "      dtype='object')"
      ]
     },
     "execution_count": 7,
     "metadata": {},
     "output_type": "execute_result"
    }
   ],
   "source": [
    "# передаём словарь с названиями колонок, которые нужно заменить и на какие названия\n",
    "df = df.rename(columns={'cityCenters_nearest': 'city_centers_nearest', \n",
    "                        'parks_around3000': 'parks_around_3000', \n",
    "                        'ponds_around3000': 'ponds_around_3000',\n",
    "                        'studio': 'is_studio',\n",
    "                        'open_plan': 'is_open_plan'\n",
    "                       })\n",
    "\n",
    "df.columns"
   ]
  },
  {
   "cell_type": "markdown",
   "metadata": {},
   "source": [
    "### Удаляем пропуски данных, которые могут сильно повлиять на результат"
   ]
  },
  {
   "cell_type": "markdown",
   "metadata": {},
   "source": [
    "`locality_name`: удаляем строки, где не указан населённый пункт, т.к. дальнейшая обработка таких строк невозможна."
   ]
  },
  {
   "cell_type": "code",
   "execution_count": 8,
   "metadata": {
    "hidePrompt": true
   },
   "outputs": [],
   "source": [
    "# переводим названия населённых пунктов к нижнему регистру для удобства обработки\n",
    "df['locality_name'] = df['locality_name'].str.lower()\n",
    "\n",
    "# удаляем строки, где нет необходимых данных\n",
    "df = df.dropna(subset=['locality_name'])"
   ]
  },
  {
   "cell_type": "markdown",
   "metadata": {},
   "source": [
    "### Убираем неявные дубликаты в наименованиях населённых пунктов"
   ]
  },
  {
   "cell_type": "code",
   "execution_count": 9,
   "metadata": {
    "hidePrompt": true
   },
   "outputs": [
    {
     "data": {
      "text/plain": [
       "санкт-петербург            15721\n",
       "мурино                       590\n",
       "кудрово                      472\n",
       "шушары                       440\n",
       "всеволожск                   398\n",
       "                           ...  \n",
       "пельгора                       1\n",
       "каложицы                       1\n",
       "платформа 69-й километр        1\n",
       "почап                          1\n",
       "дзержинского                   1\n",
       "Name: locality_name, Length: 305, dtype: int64"
      ]
     },
     "execution_count": 9,
     "metadata": {},
     "output_type": "execute_result"
    }
   ],
   "source": [
    "# список слов, которые можно удалить, чтобы убрать виды населённых пунктов из названий\n",
    "list_deleted = ['поселок ', 'посёлок ', 'село ', 'деревня ', 'станции ', 'городской ', 'городского типа ', 'коттеджный ',\\\n",
    "                'садовое товарищество ', 'при железнодорожной ', 'садоводческое некоммерческое товарищество ']\n",
    "\n",
    "# удаляем виды населённых пунктов\n",
    "for i in range(len(list_deleted)):\n",
    "    df['locality_name'] = df['locality_name'].str.replace(list_deleted[i], '')\n",
    "\n",
    "df['locality_name'].value_counts()"
   ]
  },
  {
   "cell_type": "markdown",
   "metadata": {},
   "source": [
    "### Пропуски `is_apartment`"
   ]
  },
  {
   "cell_type": "markdown",
   "metadata": {},
   "source": [
    "`is_apartment`: Заменяем пропущенные значения на *False*, т.к. люди, размещающие объявления квартир, не всегда указывали, что продают не апартаменты."
   ]
  },
  {
   "cell_type": "code",
   "execution_count": 10,
   "metadata": {
    "hidePrompt": true
   },
   "outputs": [
    {
     "data": {
      "text/plain": [
       "False    23600\n",
       "True        50\n",
       "Name: is_apartment, dtype: int64"
      ]
     },
     "execution_count": 10,
     "metadata": {},
     "output_type": "execute_result"
    }
   ],
   "source": [
    "# Проставляем пропуски в определителе апартаментов - Нет\n",
    "df.loc[df['is_apartment'].isna(), 'is_apartment'] = False\n",
    "df['is_apartment'].value_counts()"
   ]
  },
  {
   "cell_type": "markdown",
   "metadata": {},
   "source": [
    "### Пропуски в числовых данных"
   ]
  },
  {
   "cell_type": "markdown",
   "metadata": {},
   "source": [
    "Есть менее 100 пропусков в столбце `floors_total` - удалим, т.к. не можем быть уверены, что все пользователи в таких случаях живут на крайних этажах.\n",
    "\n",
    "Максимальное количество этажей в Санкт-Петербурге  - 37 в ЖК \"Князь Александр Невский\".\\\n",
    "Выше 37 только два объявления - удаляем."
   ]
  },
  {
   "cell_type": "code",
   "execution_count": 11,
   "metadata": {
    "hidePrompt": true
   },
   "outputs": [
    {
     "data": {
      "text/html": [
       "<div>\n",
       "<style scoped>\n",
       "    .dataframe tbody tr th:only-of-type {\n",
       "        vertical-align: middle;\n",
       "    }\n",
       "\n",
       "    .dataframe tbody tr th {\n",
       "        vertical-align: top;\n",
       "    }\n",
       "\n",
       "    .dataframe thead th {\n",
       "        text-align: right;\n",
       "    }\n",
       "</style>\n",
       "<table border=\"1\" class=\"dataframe\">\n",
       "  <thead>\n",
       "    <tr style=\"text-align: right;\">\n",
       "      <th></th>\n",
       "      <th>total_images</th>\n",
       "      <th>last_price</th>\n",
       "      <th>total_area</th>\n",
       "      <th>first_day_exposition</th>\n",
       "      <th>rooms</th>\n",
       "      <th>ceiling_height</th>\n",
       "      <th>floors_total</th>\n",
       "      <th>living_area</th>\n",
       "      <th>floor</th>\n",
       "      <th>is_apartment</th>\n",
       "      <th>is_studio</th>\n",
       "      <th>is_open_plan</th>\n",
       "      <th>kitchen_area</th>\n",
       "      <th>balcony</th>\n",
       "      <th>locality_name</th>\n",
       "      <th>airports_nearest</th>\n",
       "      <th>city_centers_nearest</th>\n",
       "      <th>parks_around_3000</th>\n",
       "      <th>parks_nearest</th>\n",
       "      <th>ponds_around_3000</th>\n",
       "      <th>ponds_nearest</th>\n",
       "      <th>days_exposition</th>\n",
       "    </tr>\n",
       "  </thead>\n",
       "  <tbody>\n",
       "    <tr>\n",
       "      <th>2253</th>\n",
       "      <td>12</td>\n",
       "      <td>3800000.0</td>\n",
       "      <td>45.5</td>\n",
       "      <td>2018-06-28T00:00:00</td>\n",
       "      <td>2</td>\n",
       "      <td>2.88</td>\n",
       "      <td>60.0</td>\n",
       "      <td>27.4</td>\n",
       "      <td>4</td>\n",
       "      <td>False</td>\n",
       "      <td>False</td>\n",
       "      <td>False</td>\n",
       "      <td>7.4</td>\n",
       "      <td>NaN</td>\n",
       "      <td>кронштадт</td>\n",
       "      <td>67763.0</td>\n",
       "      <td>49488.0</td>\n",
       "      <td>2.0</td>\n",
       "      <td>342.0</td>\n",
       "      <td>3.0</td>\n",
       "      <td>614.0</td>\n",
       "      <td>166.0</td>\n",
       "    </tr>\n",
       "    <tr>\n",
       "      <th>16731</th>\n",
       "      <td>9</td>\n",
       "      <td>3978000.0</td>\n",
       "      <td>40.0</td>\n",
       "      <td>2018-09-24T00:00:00</td>\n",
       "      <td>1</td>\n",
       "      <td>2.65</td>\n",
       "      <td>52.0</td>\n",
       "      <td>10.5</td>\n",
       "      <td>18</td>\n",
       "      <td>False</td>\n",
       "      <td>False</td>\n",
       "      <td>False</td>\n",
       "      <td>14.0</td>\n",
       "      <td>NaN</td>\n",
       "      <td>санкт-петербург</td>\n",
       "      <td>20728.0</td>\n",
       "      <td>12978.0</td>\n",
       "      <td>1.0</td>\n",
       "      <td>793.0</td>\n",
       "      <td>0.0</td>\n",
       "      <td>NaN</td>\n",
       "      <td>45.0</td>\n",
       "    </tr>\n",
       "  </tbody>\n",
       "</table>\n",
       "</div>"
      ],
      "text/plain": [
       "       total_images  last_price  total_area first_day_exposition  rooms  \\\n",
       "2253             12   3800000.0        45.5  2018-06-28T00:00:00      2   \n",
       "16731             9   3978000.0        40.0  2018-09-24T00:00:00      1   \n",
       "\n",
       "       ceiling_height  floors_total  living_area  floor is_apartment  \\\n",
       "2253             2.88          60.0         27.4      4        False   \n",
       "16731            2.65          52.0         10.5     18        False   \n",
       "\n",
       "       is_studio  is_open_plan  kitchen_area  balcony    locality_name  \\\n",
       "2253       False         False           7.4      NaN        кронштадт   \n",
       "16731      False         False          14.0      NaN  санкт-петербург   \n",
       "\n",
       "       airports_nearest  city_centers_nearest  parks_around_3000  \\\n",
       "2253            67763.0               49488.0                2.0   \n",
       "16731           20728.0               12978.0                1.0   \n",
       "\n",
       "       parks_nearest  ponds_around_3000  ponds_nearest  days_exposition  \n",
       "2253           342.0                3.0          614.0            166.0  \n",
       "16731          793.0                0.0            NaN             45.0  "
      ]
     },
     "metadata": {},
     "output_type": "display_data"
    }
   ],
   "source": [
    "# Удаляем строки, где пропущены значения количества этажей в здании\n",
    "df = df.dropna(subset=['floors_total'])\n",
    "\n",
    "# Проверяем на максимальный этаж по Санкт-Петербургу\n",
    "display(df[df['floors_total'] > 37])\n",
    "\n",
    "# Удаляем аномальные строки\n",
    "df = df[df['floors_total'] < 38]"
   ]
  },
  {
   "cell_type": "markdown",
   "metadata": {},
   "source": [
    "`living_area`, `kitchen_area` имеют пропуски. \n",
    "Найдём коэффициент средней жилой площади и средней площади кухонь к средней общей площади и заполним пропуски.\n",
    "`kitchen_area` в квартирах-студиях предварительно заполним 0, т.к. кухня в объектах такого типа является частью жилой площади."
   ]
  },
  {
   "cell_type": "code",
   "execution_count": 12,
   "metadata": {
    "hidePrompt": true,
    "scrolled": false
   },
   "outputs": [],
   "source": [
    "# находим средние арифметические значения\n",
    "living_area_mean = df.loc[df['living_area'].isnull() == False, 'living_area'].mean()\n",
    "kitchen_area_mean = df.loc[df['kitchen_area'].isnull() == False, 'kitchen_area'].mean()\n",
    "total_area_mean = df['total_area'].mean()\n",
    "\n",
    "# находим соотношения жилой площади к общей и соотношение площади кухни к общей площади\n",
    "ratio_living_area = living_area_mean / total_area_mean\n",
    "ratio_kitchen_area = kitchen_area_mean / total_area_mean\n",
    "\n",
    "# заполняем пропуски площадь кухонь в квартирах-студиях 0 кв.м.\n",
    "df.loc[df['is_studio'] == True, 'kitchen_area'] = 0\n",
    "\n",
    "# заполняем остальные пропуски рассчитанными коэффициентами, умноженными на общую площадь отдельно взятой недвижимости\n",
    "df.loc[df['living_area'].isnull(), 'living_area'] = ratio_living_area * df.loc[df['living_area'].isnull(), 'total_area']\n",
    "df.loc[df['kitchen_area'].isna(), 'kitchen_area'] = ratio_kitchen_area * df.loc[df['kitchen_area'].isna(), 'total_area']"
   ]
  },
  {
   "cell_type": "markdown",
   "metadata": {},
   "source": [
    "- Количество балконов `balcony` заполняем 0, т.к. при наличии пользователь указал бы их наличие.\n",
    "- Высоту потолка `ceiling_height` заполним средним арифметическим"
   ]
  },
  {
   "cell_type": "code",
   "execution_count": 13,
   "metadata": {
    "hidePrompt": true
   },
   "outputs": [
    {
     "data": {
      "text/html": [
       "<div>\n",
       "<style scoped>\n",
       "    .dataframe tbody tr th:only-of-type {\n",
       "        vertical-align: middle;\n",
       "    }\n",
       "\n",
       "    .dataframe tbody tr th {\n",
       "        vertical-align: top;\n",
       "    }\n",
       "\n",
       "    .dataframe thead th {\n",
       "        text-align: right;\n",
       "    }\n",
       "</style>\n",
       "<table border=\"1\" class=\"dataframe\">\n",
       "  <thead>\n",
       "    <tr style=\"text-align: right;\">\n",
       "      <th></th>\n",
       "      <th>total_images</th>\n",
       "      <th>last_price</th>\n",
       "      <th>total_area</th>\n",
       "      <th>rooms</th>\n",
       "      <th>ceiling_height</th>\n",
       "      <th>floors_total</th>\n",
       "      <th>living_area</th>\n",
       "      <th>floor</th>\n",
       "      <th>kitchen_area</th>\n",
       "      <th>balcony</th>\n",
       "      <th>airports_nearest</th>\n",
       "      <th>city_centers_nearest</th>\n",
       "      <th>parks_around_3000</th>\n",
       "      <th>parks_nearest</th>\n",
       "      <th>ponds_around_3000</th>\n",
       "      <th>ponds_nearest</th>\n",
       "      <th>days_exposition</th>\n",
       "    </tr>\n",
       "  </thead>\n",
       "  <tbody>\n",
       "    <tr>\n",
       "      <th>count</th>\n",
       "      <td>23563.000000</td>\n",
       "      <td>2.356300e+04</td>\n",
       "      <td>23563.000000</td>\n",
       "      <td>23563.000000</td>\n",
       "      <td>23563.000000</td>\n",
       "      <td>23563.000000</td>\n",
       "      <td>23563.000000</td>\n",
       "      <td>23563.000000</td>\n",
       "      <td>23563.000000</td>\n",
       "      <td>23563.000000</td>\n",
       "      <td>18039.000000</td>\n",
       "      <td>18062.000000</td>\n",
       "      <td>18063.000000</td>\n",
       "      <td>8028.000000</td>\n",
       "      <td>18063.000000</td>\n",
       "      <td>9035.000000</td>\n",
       "      <td>20392.000000</td>\n",
       "    </tr>\n",
       "    <tr>\n",
       "      <th>mean</th>\n",
       "      <td>9.878369</td>\n",
       "      <td>6.540283e+06</td>\n",
       "      <td>60.324316</td>\n",
       "      <td>2.070704</td>\n",
       "      <td>2.771284</td>\n",
       "      <td>10.672028</td>\n",
       "      <td>34.593653</td>\n",
       "      <td>5.877690</td>\n",
       "      <td>10.469691</td>\n",
       "      <td>0.593727</td>\n",
       "      <td>28795.369921</td>\n",
       "      <td>14190.769184</td>\n",
       "      <td>0.611471</td>\n",
       "      <td>490.561286</td>\n",
       "      <td>0.769418</td>\n",
       "      <td>518.278915</td>\n",
       "      <td>180.748774</td>\n",
       "    </tr>\n",
       "    <tr>\n",
       "      <th>std</th>\n",
       "      <td>5.681377</td>\n",
       "      <td>1.091137e+07</td>\n",
       "      <td>35.658196</td>\n",
       "      <td>1.078614</td>\n",
       "      <td>0.989308</td>\n",
       "      <td>6.581766</td>\n",
       "      <td>22.374071</td>\n",
       "      <td>4.871037</td>\n",
       "      <td>6.076629</td>\n",
       "      <td>0.960685</td>\n",
       "      <td>12629.725100</td>\n",
       "      <td>8609.815411</td>\n",
       "      <td>0.802060</td>\n",
       "      <td>341.594803</td>\n",
       "      <td>0.938557</td>\n",
       "      <td>278.023121</td>\n",
       "      <td>219.741477</td>\n",
       "    </tr>\n",
       "    <tr>\n",
       "      <th>min</th>\n",
       "      <td>0.000000</td>\n",
       "      <td>1.219000e+04</td>\n",
       "      <td>12.000000</td>\n",
       "      <td>0.000000</td>\n",
       "      <td>1.000000</td>\n",
       "      <td>1.000000</td>\n",
       "      <td>2.000000</td>\n",
       "      <td>1.000000</td>\n",
       "      <td>0.000000</td>\n",
       "      <td>0.000000</td>\n",
       "      <td>0.000000</td>\n",
       "      <td>181.000000</td>\n",
       "      <td>0.000000</td>\n",
       "      <td>1.000000</td>\n",
       "      <td>0.000000</td>\n",
       "      <td>13.000000</td>\n",
       "      <td>1.000000</td>\n",
       "    </tr>\n",
       "    <tr>\n",
       "      <th>25%</th>\n",
       "      <td>6.000000</td>\n",
       "      <td>3.400000e+06</td>\n",
       "      <td>40.000000</td>\n",
       "      <td>1.000000</td>\n",
       "      <td>2.600000</td>\n",
       "      <td>5.000000</td>\n",
       "      <td>19.000000</td>\n",
       "      <td>2.000000</td>\n",
       "      <td>7.000000</td>\n",
       "      <td>0.000000</td>\n",
       "      <td>18561.000000</td>\n",
       "      <td>9238.000000</td>\n",
       "      <td>0.000000</td>\n",
       "      <td>288.000000</td>\n",
       "      <td>0.000000</td>\n",
       "      <td>293.000000</td>\n",
       "      <td>45.000000</td>\n",
       "    </tr>\n",
       "    <tr>\n",
       "      <th>50%</th>\n",
       "      <td>9.000000</td>\n",
       "      <td>4.647000e+06</td>\n",
       "      <td>52.000000</td>\n",
       "      <td>2.000000</td>\n",
       "      <td>2.771284</td>\n",
       "      <td>9.000000</td>\n",
       "      <td>30.000000</td>\n",
       "      <td>4.000000</td>\n",
       "      <td>9.000000</td>\n",
       "      <td>0.000000</td>\n",
       "      <td>26757.000000</td>\n",
       "      <td>13096.500000</td>\n",
       "      <td>0.000000</td>\n",
       "      <td>455.000000</td>\n",
       "      <td>1.000000</td>\n",
       "      <td>503.000000</td>\n",
       "      <td>95.000000</td>\n",
       "    </tr>\n",
       "    <tr>\n",
       "      <th>75%</th>\n",
       "      <td>14.000000</td>\n",
       "      <td>6.790000e+06</td>\n",
       "      <td>69.700000</td>\n",
       "      <td>3.000000</td>\n",
       "      <td>2.771284</td>\n",
       "      <td>16.000000</td>\n",
       "      <td>42.100000</td>\n",
       "      <td>8.000000</td>\n",
       "      <td>12.000000</td>\n",
       "      <td>1.000000</td>\n",
       "      <td>37273.000000</td>\n",
       "      <td>16285.000000</td>\n",
       "      <td>1.000000</td>\n",
       "      <td>612.000000</td>\n",
       "      <td>1.000000</td>\n",
       "      <td>730.000000</td>\n",
       "      <td>231.000000</td>\n",
       "    </tr>\n",
       "    <tr>\n",
       "      <th>max</th>\n",
       "      <td>50.000000</td>\n",
       "      <td>7.630000e+08</td>\n",
       "      <td>900.000000</td>\n",
       "      <td>19.000000</td>\n",
       "      <td>100.000000</td>\n",
       "      <td>37.000000</td>\n",
       "      <td>409.700000</td>\n",
       "      <td>33.000000</td>\n",
       "      <td>112.000000</td>\n",
       "      <td>5.000000</td>\n",
       "      <td>84869.000000</td>\n",
       "      <td>65968.000000</td>\n",
       "      <td>3.000000</td>\n",
       "      <td>3190.000000</td>\n",
       "      <td>3.000000</td>\n",
       "      <td>1344.000000</td>\n",
       "      <td>1580.000000</td>\n",
       "    </tr>\n",
       "  </tbody>\n",
       "</table>\n",
       "</div>"
      ],
      "text/plain": [
       "       total_images    last_price    total_area         rooms  ceiling_height  \\\n",
       "count  23563.000000  2.356300e+04  23563.000000  23563.000000    23563.000000   \n",
       "mean       9.878369  6.540283e+06     60.324316      2.070704        2.771284   \n",
       "std        5.681377  1.091137e+07     35.658196      1.078614        0.989308   \n",
       "min        0.000000  1.219000e+04     12.000000      0.000000        1.000000   \n",
       "25%        6.000000  3.400000e+06     40.000000      1.000000        2.600000   \n",
       "50%        9.000000  4.647000e+06     52.000000      2.000000        2.771284   \n",
       "75%       14.000000  6.790000e+06     69.700000      3.000000        2.771284   \n",
       "max       50.000000  7.630000e+08    900.000000     19.000000      100.000000   \n",
       "\n",
       "       floors_total   living_area         floor  kitchen_area       balcony  \\\n",
       "count  23563.000000  23563.000000  23563.000000  23563.000000  23563.000000   \n",
       "mean      10.672028     34.593653      5.877690     10.469691      0.593727   \n",
       "std        6.581766     22.374071      4.871037      6.076629      0.960685   \n",
       "min        1.000000      2.000000      1.000000      0.000000      0.000000   \n",
       "25%        5.000000     19.000000      2.000000      7.000000      0.000000   \n",
       "50%        9.000000     30.000000      4.000000      9.000000      0.000000   \n",
       "75%       16.000000     42.100000      8.000000     12.000000      1.000000   \n",
       "max       37.000000    409.700000     33.000000    112.000000      5.000000   \n",
       "\n",
       "       airports_nearest  city_centers_nearest  parks_around_3000  \\\n",
       "count      18039.000000          18062.000000       18063.000000   \n",
       "mean       28795.369921          14190.769184           0.611471   \n",
       "std        12629.725100           8609.815411           0.802060   \n",
       "min            0.000000            181.000000           0.000000   \n",
       "25%        18561.000000           9238.000000           0.000000   \n",
       "50%        26757.000000          13096.500000           0.000000   \n",
       "75%        37273.000000          16285.000000           1.000000   \n",
       "max        84869.000000          65968.000000           3.000000   \n",
       "\n",
       "       parks_nearest  ponds_around_3000  ponds_nearest  days_exposition  \n",
       "count    8028.000000       18063.000000    9035.000000     20392.000000  \n",
       "mean      490.561286           0.769418     518.278915       180.748774  \n",
       "std       341.594803           0.938557     278.023121       219.741477  \n",
       "min         1.000000           0.000000      13.000000         1.000000  \n",
       "25%       288.000000           0.000000     293.000000        45.000000  \n",
       "50%       455.000000           1.000000     503.000000        95.000000  \n",
       "75%       612.000000           1.000000     730.000000       231.000000  \n",
       "max      3190.000000           3.000000    1344.000000      1580.000000  "
      ]
     },
     "execution_count": 13,
     "metadata": {},
     "output_type": "execute_result"
    }
   ],
   "source": [
    "# заполняем пропуски в балконах нулями\n",
    "df.loc[df['balcony'].isna(), 'balcony'] = 0\n",
    "\n",
    "# заполняем пропуски в высоте потолка средним арифметическим\n",
    "df.loc[df['ceiling_height'].isna(), 'ceiling_height'] = df.loc[df['ceiling_height'].isnull() == False, 'ceiling_height'].mean()\n",
    "df.describe()"
   ]
  },
  {
   "cell_type": "markdown",
   "metadata": {},
   "source": [
    "### Картографические данные"
   ]
  },
  {
   "cell_type": "markdown",
   "metadata": {},
   "source": [
    "Картографические данные имеют большую долю пропусков. Заполнять их не будем, т.к. просчитать заполнение сложно и может привести к ухудшению данных."
   ]
  },
  {
   "cell_type": "markdown",
   "metadata": {},
   "source": [
    "### Меняем типы данных"
   ]
  },
  {
   "cell_type": "markdown",
   "metadata": {},
   "source": [
    "- `first_day_exposition` переводим в *datetime*\n",
    "- `is_apartment` переводим в *bool*\n",
    "- `balcony`, `days_exposition`, `floors_total` переводим в *int*"
   ]
  },
  {
   "cell_type": "code",
   "execution_count": 14,
   "metadata": {
    "hidePrompt": true
   },
   "outputs": [
    {
     "name": "stdout",
     "output_type": "stream",
     "text": [
      "<class 'pandas.core.frame.DataFrame'>\n",
      "Int64Index: 23563 entries, 0 to 23698\n",
      "Data columns (total 22 columns):\n",
      " #   Column                Non-Null Count  Dtype         \n",
      "---  ------                --------------  -----         \n",
      " 0   total_images          23563 non-null  int32         \n",
      " 1   last_price            23563 non-null  float32       \n",
      " 2   total_area            23563 non-null  float32       \n",
      " 3   first_day_exposition  23563 non-null  datetime64[ns]\n",
      " 4   rooms                 23563 non-null  int32         \n",
      " 5   ceiling_height        23563 non-null  float32       \n",
      " 6   floors_total          23563 non-null  int32         \n",
      " 7   living_area           23563 non-null  float32       \n",
      " 8   floor                 23563 non-null  int32         \n",
      " 9   is_apartment          23563 non-null  bool          \n",
      " 10  is_studio             23563 non-null  bool          \n",
      " 11  is_open_plan          23563 non-null  bool          \n",
      " 12  kitchen_area          23563 non-null  float32       \n",
      " 13  balcony               23563 non-null  int32         \n",
      " 14  locality_name         23563 non-null  object        \n",
      " 15  airports_nearest      18039 non-null  float64       \n",
      " 16  city_centers_nearest  18062 non-null  float64       \n",
      " 17  parks_around_3000     18063 non-null  float64       \n",
      " 18  parks_nearest         8028 non-null   float64       \n",
      " 19  ponds_around_3000     18063 non-null  float64       \n",
      " 20  ponds_nearest         9035 non-null   float64       \n",
      " 21  days_exposition       20392 non-null  float64       \n",
      "dtypes: bool(3), datetime64[ns](1), float32(5), float64(7), int32(5), object(1)\n",
      "memory usage: 2.8+ MB\n"
     ]
    }
   ],
   "source": [
    "df['first_day_exposition'] = pd.to_datetime(df['first_day_exposition'], format='%Y.%m.%d')\n",
    "\n",
    "df = df.astype(\n",
    "    {'is_apartment': bool, 'balcony': 'int32', 'floor': 'int32', 'floors_total': 'int32',\n",
    "     'total_images': 'int32', 'rooms': 'int32', 'last_price': 'float32', 'total_area': 'float32',\n",
    "     'ceiling_height': 'float32', 'living_area': 'float32', 'kitchen_area': 'float32'}\n",
    ")\n",
    "\n",
    "df.info()"
   ]
  },
  {
   "cell_type": "markdown",
   "metadata": {},
   "source": [
    "### Удаление аномальных значений"
   ]
  },
  {
   "cell_type": "markdown",
   "metadata": {},
   "source": [
    "#### Цена квартир, общая площадь и количество комнат\n",
    "\n",
    "Актуальные цены на Яндекс.Недвижимость начинаются от 280 тыс. рублей. Возьмём нижнюю планку в 200 тыс. рублей и удалим, что стоит меньше.\\\n",
    "Также переведём цены за квартиры в \"тыс. рублей\", чтобы на графиках были более удобные отображения."
   ]
  },
  {
   "cell_type": "code",
   "execution_count": 15,
   "metadata": {
    "hidePrompt": true,
    "scrolled": true
   },
   "outputs": [
    {
     "name": "stdout",
     "output_type": "stream",
     "text": [
      "Количество квартир дешевле 200 тыс. рублей: 1\n"
     ]
    },
    {
     "data": {
      "text/html": [
       "<div>\n",
       "<style scoped>\n",
       "    .dataframe tbody tr th:only-of-type {\n",
       "        vertical-align: middle;\n",
       "    }\n",
       "\n",
       "    .dataframe tbody tr th {\n",
       "        vertical-align: top;\n",
       "    }\n",
       "\n",
       "    .dataframe thead th {\n",
       "        text-align: right;\n",
       "    }\n",
       "</style>\n",
       "<table border=\"1\" class=\"dataframe\">\n",
       "  <thead>\n",
       "    <tr style=\"text-align: right;\">\n",
       "      <th></th>\n",
       "      <th>total_images</th>\n",
       "      <th>last_price_million</th>\n",
       "      <th>total_area</th>\n",
       "      <th>rooms</th>\n",
       "      <th>ceiling_height</th>\n",
       "      <th>floors_total</th>\n",
       "      <th>living_area</th>\n",
       "      <th>floor</th>\n",
       "      <th>kitchen_area</th>\n",
       "      <th>balcony</th>\n",
       "      <th>airports_nearest</th>\n",
       "      <th>city_centers_nearest</th>\n",
       "      <th>parks_around_3000</th>\n",
       "      <th>parks_nearest</th>\n",
       "      <th>ponds_around_3000</th>\n",
       "      <th>ponds_nearest</th>\n",
       "      <th>days_exposition</th>\n",
       "    </tr>\n",
       "  </thead>\n",
       "  <tbody>\n",
       "    <tr>\n",
       "      <th>count</th>\n",
       "      <td>23562.000000</td>\n",
       "      <td>23562.000000</td>\n",
       "      <td>23562.000000</td>\n",
       "      <td>23562.000000</td>\n",
       "      <td>23562.000000</td>\n",
       "      <td>23562.000000</td>\n",
       "      <td>23562.000000</td>\n",
       "      <td>23562.000000</td>\n",
       "      <td>23562.000000</td>\n",
       "      <td>23562.000000</td>\n",
       "      <td>18038.000000</td>\n",
       "      <td>18061.000000</td>\n",
       "      <td>18062.000000</td>\n",
       "      <td>8027.000000</td>\n",
       "      <td>18062.000000</td>\n",
       "      <td>9035.000000</td>\n",
       "      <td>20391.000000</td>\n",
       "    </tr>\n",
       "    <tr>\n",
       "      <th>mean</th>\n",
       "      <td>9.878491</td>\n",
       "      <td>6.540560</td>\n",
       "      <td>60.322250</td>\n",
       "      <td>2.070707</td>\n",
       "      <td>2.771285</td>\n",
       "      <td>10.671420</td>\n",
       "      <td>34.593761</td>\n",
       "      <td>5.876878</td>\n",
       "      <td>10.468417</td>\n",
       "      <td>0.593753</td>\n",
       "      <td>28794.947167</td>\n",
       "      <td>14191.046841</td>\n",
       "      <td>0.611449</td>\n",
       "      <td>490.522113</td>\n",
       "      <td>0.769461</td>\n",
       "      <td>518.278915</td>\n",
       "      <td>180.757246</td>\n",
       "    </tr>\n",
       "    <tr>\n",
       "      <th>std</th>\n",
       "      <td>5.681467</td>\n",
       "      <td>10.911519</td>\n",
       "      <td>35.657429</td>\n",
       "      <td>1.078636</td>\n",
       "      <td>0.989317</td>\n",
       "      <td>6.581244</td>\n",
       "      <td>22.374449</td>\n",
       "      <td>4.869547</td>\n",
       "      <td>6.073578</td>\n",
       "      <td>0.960698</td>\n",
       "      <td>12629.947564</td>\n",
       "      <td>8609.972907</td>\n",
       "      <td>0.802077</td>\n",
       "      <td>341.598050</td>\n",
       "      <td>0.938566</td>\n",
       "      <td>278.023121</td>\n",
       "      <td>219.743536</td>\n",
       "    </tr>\n",
       "    <tr>\n",
       "      <th>min</th>\n",
       "      <td>0.000000</td>\n",
       "      <td>0.430000</td>\n",
       "      <td>12.000000</td>\n",
       "      <td>0.000000</td>\n",
       "      <td>1.000000</td>\n",
       "      <td>1.000000</td>\n",
       "      <td>2.000000</td>\n",
       "      <td>1.000000</td>\n",
       "      <td>0.000000</td>\n",
       "      <td>0.000000</td>\n",
       "      <td>0.000000</td>\n",
       "      <td>181.000000</td>\n",
       "      <td>0.000000</td>\n",
       "      <td>1.000000</td>\n",
       "      <td>0.000000</td>\n",
       "      <td>13.000000</td>\n",
       "      <td>1.000000</td>\n",
       "    </tr>\n",
       "    <tr>\n",
       "      <th>25%</th>\n",
       "      <td>6.000000</td>\n",
       "      <td>3.400000</td>\n",
       "      <td>40.000000</td>\n",
       "      <td>1.000000</td>\n",
       "      <td>2.600000</td>\n",
       "      <td>5.000000</td>\n",
       "      <td>19.000000</td>\n",
       "      <td>2.000000</td>\n",
       "      <td>7.000000</td>\n",
       "      <td>0.000000</td>\n",
       "      <td>18559.000000</td>\n",
       "      <td>9238.000000</td>\n",
       "      <td>0.000000</td>\n",
       "      <td>288.000000</td>\n",
       "      <td>0.000000</td>\n",
       "      <td>293.000000</td>\n",
       "      <td>45.000000</td>\n",
       "    </tr>\n",
       "    <tr>\n",
       "      <th>50%</th>\n",
       "      <td>9.000000</td>\n",
       "      <td>4.648500</td>\n",
       "      <td>52.000000</td>\n",
       "      <td>2.000000</td>\n",
       "      <td>2.771284</td>\n",
       "      <td>9.000000</td>\n",
       "      <td>30.000000</td>\n",
       "      <td>4.000000</td>\n",
       "      <td>9.000000</td>\n",
       "      <td>0.000000</td>\n",
       "      <td>26756.500000</td>\n",
       "      <td>13098.000000</td>\n",
       "      <td>0.000000</td>\n",
       "      <td>455.000000</td>\n",
       "      <td>1.000000</td>\n",
       "      <td>503.000000</td>\n",
       "      <td>95.000000</td>\n",
       "    </tr>\n",
       "    <tr>\n",
       "      <th>75%</th>\n",
       "      <td>14.000000</td>\n",
       "      <td>6.790000</td>\n",
       "      <td>69.699997</td>\n",
       "      <td>3.000000</td>\n",
       "      <td>2.771284</td>\n",
       "      <td>16.000000</td>\n",
       "      <td>42.099998</td>\n",
       "      <td>8.000000</td>\n",
       "      <td>12.000000</td>\n",
       "      <td>1.000000</td>\n",
       "      <td>37273.000000</td>\n",
       "      <td>16285.000000</td>\n",
       "      <td>1.000000</td>\n",
       "      <td>612.000000</td>\n",
       "      <td>1.000000</td>\n",
       "      <td>730.000000</td>\n",
       "      <td>231.000000</td>\n",
       "    </tr>\n",
       "    <tr>\n",
       "      <th>max</th>\n",
       "      <td>50.000000</td>\n",
       "      <td>763.000000</td>\n",
       "      <td>900.000000</td>\n",
       "      <td>19.000000</td>\n",
       "      <td>100.000000</td>\n",
       "      <td>37.000000</td>\n",
       "      <td>409.700012</td>\n",
       "      <td>33.000000</td>\n",
       "      <td>112.000000</td>\n",
       "      <td>5.000000</td>\n",
       "      <td>84869.000000</td>\n",
       "      <td>65968.000000</td>\n",
       "      <td>3.000000</td>\n",
       "      <td>3190.000000</td>\n",
       "      <td>3.000000</td>\n",
       "      <td>1344.000000</td>\n",
       "      <td>1580.000000</td>\n",
       "    </tr>\n",
       "  </tbody>\n",
       "</table>\n",
       "</div>"
      ],
      "text/plain": [
       "       total_images  last_price_million    total_area         rooms  \\\n",
       "count  23562.000000        23562.000000  23562.000000  23562.000000   \n",
       "mean       9.878491            6.540560     60.322250      2.070707   \n",
       "std        5.681467           10.911519     35.657429      1.078636   \n",
       "min        0.000000            0.430000     12.000000      0.000000   \n",
       "25%        6.000000            3.400000     40.000000      1.000000   \n",
       "50%        9.000000            4.648500     52.000000      2.000000   \n",
       "75%       14.000000            6.790000     69.699997      3.000000   \n",
       "max       50.000000          763.000000    900.000000     19.000000   \n",
       "\n",
       "       ceiling_height  floors_total   living_area         floor  kitchen_area  \\\n",
       "count    23562.000000  23562.000000  23562.000000  23562.000000  23562.000000   \n",
       "mean         2.771285     10.671420     34.593761      5.876878     10.468417   \n",
       "std          0.989317      6.581244     22.374449      4.869547      6.073578   \n",
       "min          1.000000      1.000000      2.000000      1.000000      0.000000   \n",
       "25%          2.600000      5.000000     19.000000      2.000000      7.000000   \n",
       "50%          2.771284      9.000000     30.000000      4.000000      9.000000   \n",
       "75%          2.771284     16.000000     42.099998      8.000000     12.000000   \n",
       "max        100.000000     37.000000    409.700012     33.000000    112.000000   \n",
       "\n",
       "            balcony  airports_nearest  city_centers_nearest  \\\n",
       "count  23562.000000      18038.000000          18061.000000   \n",
       "mean       0.593753      28794.947167          14191.046841   \n",
       "std        0.960698      12629.947564           8609.972907   \n",
       "min        0.000000          0.000000            181.000000   \n",
       "25%        0.000000      18559.000000           9238.000000   \n",
       "50%        0.000000      26756.500000          13098.000000   \n",
       "75%        1.000000      37273.000000          16285.000000   \n",
       "max        5.000000      84869.000000          65968.000000   \n",
       "\n",
       "       parks_around_3000  parks_nearest  ponds_around_3000  ponds_nearest  \\\n",
       "count       18062.000000    8027.000000       18062.000000    9035.000000   \n",
       "mean            0.611449     490.522113           0.769461     518.278915   \n",
       "std             0.802077     341.598050           0.938566     278.023121   \n",
       "min             0.000000       1.000000           0.000000      13.000000   \n",
       "25%             0.000000     288.000000           0.000000     293.000000   \n",
       "50%             0.000000     455.000000           1.000000     503.000000   \n",
       "75%             1.000000     612.000000           1.000000     730.000000   \n",
       "max             3.000000    3190.000000           3.000000    1344.000000   \n",
       "\n",
       "       days_exposition  \n",
       "count     20391.000000  \n",
       "mean        180.757246  \n",
       "std         219.743536  \n",
       "min           1.000000  \n",
       "25%          45.000000  \n",
       "50%          95.000000  \n",
       "75%         231.000000  \n",
       "max        1580.000000  "
      ]
     },
     "execution_count": 15,
     "metadata": {},
     "output_type": "execute_result"
    }
   ],
   "source": [
    "# считаем количество квартир стоимостью ниже 200 тыс. рублей и удаляем их\n",
    "print('Количество квартир дешевле 200 тыс. рублей:', df.query('last_price < 200000')['last_price'].count())\n",
    "\n",
    "# удаляем квартиры дешевле 200 тыс. рублей\n",
    "df = df.loc[df['last_price'] > 200000]\n",
    "\n",
    "# переводим стоимость квартир в миллионы рублей, т.к. меньшие разряды здесь ни к чему\n",
    "# также это поможет для более удачной визуализации\n",
    "df['last_price'] = df['last_price'] / 1000000\n",
    "df = df.rename(columns={'last_price': 'last_price_million'})\n",
    "\n",
    "df.describe()"
   ]
  },
  {
   "cell_type": "markdown",
   "metadata": {},
   "source": [
    "Посмотрим также на максимальные значения по цене квартир, общей площади и количестве комнат - есть ли среди них аномалии или просто попались объявления элитных квартир, а также нетипичные помещения."
   ]
  },
  {
   "cell_type": "code",
   "execution_count": 16,
   "metadata": {
    "hidePrompt": true
   },
   "outputs": [
    {
     "name": "stdout",
     "output_type": "stream",
     "text": [
      "цены выше 50 млн рублей: 131\n",
      "общая площадь больше 250 кв.м.: 111\n",
      "больше 7 комнат : 31\n"
     ]
    }
   ],
   "source": [
    "# смотрим количество строк выше средних значений по отдельным параметрам\n",
    "print('цены выше 50 млн рублей:', df.loc[df['last_price_million'] > 50, 'last_price_million'].count())\n",
    "print('общая площадь больше 250 кв.м.:', df.loc[df['total_area'] > 250, 'total_area'].count())\n",
    "print('больше 7 комнат :', df.loc[df['rooms'] > 7, 'rooms'].count())"
   ]
  },
  {
   "cell_type": "markdown",
   "metadata": {},
   "source": [
    "Строки в пределах от 31 до 131 по отдельным параметрам.\\\n",
    "Удалим строки, где более 7 комнат и обшей площадью более 250 кв.м, т.к. их немного, при этом сильно влияют на расчёты."
   ]
  },
  {
   "cell_type": "code",
   "execution_count": 17,
   "metadata": {
    "hidePrompt": true,
    "scrolled": true
   },
   "outputs": [
    {
     "data": {
      "text/plain": [
       "(23436, 22)"
      ]
     },
     "execution_count": 17,
     "metadata": {},
     "output_type": "execute_result"
    }
   ],
   "source": [
    "# оставляем объявления с 7 и менее комнатами\n",
    "df = df.query('rooms <= 7')\n",
    "\n",
    "# оставляем квартиры с площадью менее или равной 250 кв.м.\n",
    "df = df.query('total_area <= 250')\n",
    "\n",
    "df.shape"
   ]
  },
  {
   "cell_type": "code",
   "execution_count": 18,
   "metadata": {
    "hidePrompt": true,
    "scrolled": false
   },
   "outputs": [
    {
     "data": {
      "text/html": [
       "<div>\n",
       "<style scoped>\n",
       "    .dataframe tbody tr th:only-of-type {\n",
       "        vertical-align: middle;\n",
       "    }\n",
       "\n",
       "    .dataframe tbody tr th {\n",
       "        vertical-align: top;\n",
       "    }\n",
       "\n",
       "    .dataframe thead th {\n",
       "        text-align: right;\n",
       "    }\n",
       "</style>\n",
       "<table border=\"1\" class=\"dataframe\">\n",
       "  <thead>\n",
       "    <tr style=\"text-align: right;\">\n",
       "      <th></th>\n",
       "      <th>total_images</th>\n",
       "      <th>last_price_million</th>\n",
       "      <th>total_area</th>\n",
       "      <th>first_day_exposition</th>\n",
       "      <th>rooms</th>\n",
       "      <th>ceiling_height</th>\n",
       "      <th>floors_total</th>\n",
       "      <th>living_area</th>\n",
       "      <th>floor</th>\n",
       "      <th>is_apartment</th>\n",
       "      <th>is_studio</th>\n",
       "      <th>is_open_plan</th>\n",
       "      <th>kitchen_area</th>\n",
       "      <th>balcony</th>\n",
       "      <th>locality_name</th>\n",
       "      <th>airports_nearest</th>\n",
       "      <th>city_centers_nearest</th>\n",
       "      <th>parks_around_3000</th>\n",
       "      <th>parks_nearest</th>\n",
       "      <th>ponds_around_3000</th>\n",
       "      <th>ponds_nearest</th>\n",
       "      <th>days_exposition</th>\n",
       "    </tr>\n",
       "  </thead>\n",
       "  <tbody>\n",
       "    <tr>\n",
       "      <th>3242</th>\n",
       "      <td>7</td>\n",
       "      <td>4.44</td>\n",
       "      <td>41.000000</td>\n",
       "      <td>2017-07-02</td>\n",
       "      <td>1</td>\n",
       "      <td>2.771284</td>\n",
       "      <td>17</td>\n",
       "      <td>3.0</td>\n",
       "      <td>17</td>\n",
       "      <td>False</td>\n",
       "      <td>False</td>\n",
       "      <td>False</td>\n",
       "      <td>11.0</td>\n",
       "      <td>0</td>\n",
       "      <td>санкт-петербург</td>\n",
       "      <td>19272.0</td>\n",
       "      <td>13073.0</td>\n",
       "      <td>0.0</td>\n",
       "      <td>NaN</td>\n",
       "      <td>0.0</td>\n",
       "      <td>NaN</td>\n",
       "      <td>216.0</td>\n",
       "    </tr>\n",
       "    <tr>\n",
       "      <th>13915</th>\n",
       "      <td>20</td>\n",
       "      <td>6.35</td>\n",
       "      <td>52.000000</td>\n",
       "      <td>2018-02-06</td>\n",
       "      <td>2</td>\n",
       "      <td>3.000000</td>\n",
       "      <td>6</td>\n",
       "      <td>2.0</td>\n",
       "      <td>2</td>\n",
       "      <td>False</td>\n",
       "      <td>False</td>\n",
       "      <td>False</td>\n",
       "      <td>9.0</td>\n",
       "      <td>0</td>\n",
       "      <td>санкт-петербург</td>\n",
       "      <td>32453.0</td>\n",
       "      <td>6521.0</td>\n",
       "      <td>0.0</td>\n",
       "      <td>NaN</td>\n",
       "      <td>1.0</td>\n",
       "      <td>1012.0</td>\n",
       "      <td>91.0</td>\n",
       "    </tr>\n",
       "    <tr>\n",
       "      <th>17582</th>\n",
       "      <td>11</td>\n",
       "      <td>2.68</td>\n",
       "      <td>22.000000</td>\n",
       "      <td>2018-08-11</td>\n",
       "      <td>0</td>\n",
       "      <td>2.771284</td>\n",
       "      <td>25</td>\n",
       "      <td>5.0</td>\n",
       "      <td>8</td>\n",
       "      <td>False</td>\n",
       "      <td>True</td>\n",
       "      <td>False</td>\n",
       "      <td>0.0</td>\n",
       "      <td>2</td>\n",
       "      <td>санкт-петербург</td>\n",
       "      <td>22735.0</td>\n",
       "      <td>11618.0</td>\n",
       "      <td>1.0</td>\n",
       "      <td>835.0</td>\n",
       "      <td>1.0</td>\n",
       "      <td>652.0</td>\n",
       "      <td>70.0</td>\n",
       "    </tr>\n",
       "    <tr>\n",
       "      <th>21758</th>\n",
       "      <td>0</td>\n",
       "      <td>2.33</td>\n",
       "      <td>23.000000</td>\n",
       "      <td>2018-01-01</td>\n",
       "      <td>0</td>\n",
       "      <td>2.771284</td>\n",
       "      <td>24</td>\n",
       "      <td>2.0</td>\n",
       "      <td>22</td>\n",
       "      <td>False</td>\n",
       "      <td>True</td>\n",
       "      <td>False</td>\n",
       "      <td>0.0</td>\n",
       "      <td>0</td>\n",
       "      <td>мурино</td>\n",
       "      <td>NaN</td>\n",
       "      <td>NaN</td>\n",
       "      <td>NaN</td>\n",
       "      <td>NaN</td>\n",
       "      <td>NaN</td>\n",
       "      <td>NaN</td>\n",
       "      <td>66.0</td>\n",
       "    </tr>\n",
       "    <tr>\n",
       "      <th>21943</th>\n",
       "      <td>15</td>\n",
       "      <td>6.10</td>\n",
       "      <td>77.599998</td>\n",
       "      <td>2019-02-28</td>\n",
       "      <td>4</td>\n",
       "      <td>2.500000</td>\n",
       "      <td>9</td>\n",
       "      <td>5.4</td>\n",
       "      <td>1</td>\n",
       "      <td>False</td>\n",
       "      <td>False</td>\n",
       "      <td>False</td>\n",
       "      <td>9.8</td>\n",
       "      <td>0</td>\n",
       "      <td>санкт-петербург</td>\n",
       "      <td>29338.0</td>\n",
       "      <td>11270.0</td>\n",
       "      <td>1.0</td>\n",
       "      <td>584.0</td>\n",
       "      <td>0.0</td>\n",
       "      <td>NaN</td>\n",
       "      <td>33.0</td>\n",
       "    </tr>\n",
       "    <tr>\n",
       "      <th>23574</th>\n",
       "      <td>14</td>\n",
       "      <td>64.99</td>\n",
       "      <td>139.000000</td>\n",
       "      <td>2015-11-24</td>\n",
       "      <td>3</td>\n",
       "      <td>3.000000</td>\n",
       "      <td>8</td>\n",
       "      <td>3.0</td>\n",
       "      <td>8</td>\n",
       "      <td>False</td>\n",
       "      <td>False</td>\n",
       "      <td>False</td>\n",
       "      <td>16.0</td>\n",
       "      <td>1</td>\n",
       "      <td>санкт-петербург</td>\n",
       "      <td>33255.0</td>\n",
       "      <td>5975.0</td>\n",
       "      <td>1.0</td>\n",
       "      <td>630.0</td>\n",
       "      <td>3.0</td>\n",
       "      <td>100.0</td>\n",
       "      <td>280.0</td>\n",
       "    </tr>\n",
       "  </tbody>\n",
       "</table>\n",
       "</div>"
      ],
      "text/plain": [
       "       total_images  last_price_million  total_area first_day_exposition  \\\n",
       "3242              7                4.44   41.000000           2017-07-02   \n",
       "13915            20                6.35   52.000000           2018-02-06   \n",
       "17582            11                2.68   22.000000           2018-08-11   \n",
       "21758             0                2.33   23.000000           2018-01-01   \n",
       "21943            15                6.10   77.599998           2019-02-28   \n",
       "23574            14               64.99  139.000000           2015-11-24   \n",
       "\n",
       "       rooms  ceiling_height  floors_total  living_area  floor  is_apartment  \\\n",
       "3242       1        2.771284            17          3.0     17         False   \n",
       "13915      2        3.000000             6          2.0      2         False   \n",
       "17582      0        2.771284            25          5.0      8         False   \n",
       "21758      0        2.771284            24          2.0     22         False   \n",
       "21943      4        2.500000             9          5.4      1         False   \n",
       "23574      3        3.000000             8          3.0      8         False   \n",
       "\n",
       "       is_studio  is_open_plan  kitchen_area  balcony    locality_name  \\\n",
       "3242       False         False          11.0        0  санкт-петербург   \n",
       "13915      False         False           9.0        0  санкт-петербург   \n",
       "17582       True         False           0.0        2  санкт-петербург   \n",
       "21758       True         False           0.0        0           мурино   \n",
       "21943      False         False           9.8        0  санкт-петербург   \n",
       "23574      False         False          16.0        1  санкт-петербург   \n",
       "\n",
       "       airports_nearest  city_centers_nearest  parks_around_3000  \\\n",
       "3242            19272.0               13073.0                0.0   \n",
       "13915           32453.0                6521.0                0.0   \n",
       "17582           22735.0               11618.0                1.0   \n",
       "21758               NaN                   NaN                NaN   \n",
       "21943           29338.0               11270.0                1.0   \n",
       "23574           33255.0                5975.0                1.0   \n",
       "\n",
       "       parks_nearest  ponds_around_3000  ponds_nearest  days_exposition  \n",
       "3242             NaN                0.0            NaN            216.0  \n",
       "13915            NaN                1.0         1012.0             91.0  \n",
       "17582          835.0                1.0          652.0             70.0  \n",
       "21758            NaN                NaN            NaN             66.0  \n",
       "21943          584.0                0.0            NaN             33.0  \n",
       "23574          630.0                3.0          100.0            280.0  "
      ]
     },
     "metadata": {},
     "output_type": "display_data"
    },
    {
     "name": "stdout",
     "output_type": "stream",
     "text": [
      "жилая площадь + кухня > общей площади: 103\n"
     ]
    },
    {
     "data": {
      "text/html": [
       "<div>\n",
       "<style scoped>\n",
       "    .dataframe tbody tr th:only-of-type {\n",
       "        vertical-align: middle;\n",
       "    }\n",
       "\n",
       "    .dataframe tbody tr th {\n",
       "        vertical-align: top;\n",
       "    }\n",
       "\n",
       "    .dataframe thead th {\n",
       "        text-align: right;\n",
       "    }\n",
       "</style>\n",
       "<table border=\"1\" class=\"dataframe\">\n",
       "  <thead>\n",
       "    <tr style=\"text-align: right;\">\n",
       "      <th></th>\n",
       "      <th>total_images</th>\n",
       "      <th>last_price_million</th>\n",
       "      <th>total_area</th>\n",
       "      <th>first_day_exposition</th>\n",
       "      <th>rooms</th>\n",
       "      <th>ceiling_height</th>\n",
       "      <th>floors_total</th>\n",
       "      <th>living_area</th>\n",
       "      <th>floor</th>\n",
       "      <th>is_apartment</th>\n",
       "      <th>is_studio</th>\n",
       "      <th>is_open_plan</th>\n",
       "      <th>kitchen_area</th>\n",
       "      <th>balcony</th>\n",
       "      <th>locality_name</th>\n",
       "      <th>airports_nearest</th>\n",
       "      <th>city_centers_nearest</th>\n",
       "      <th>parks_around_3000</th>\n",
       "      <th>parks_nearest</th>\n",
       "      <th>ponds_around_3000</th>\n",
       "      <th>ponds_nearest</th>\n",
       "      <th>days_exposition</th>\n",
       "    </tr>\n",
       "  </thead>\n",
       "  <tbody>\n",
       "    <tr>\n",
       "      <th>10011</th>\n",
       "      <td>3</td>\n",
       "      <td>53.0</td>\n",
       "      <td>90.0</td>\n",
       "      <td>2019-03-21</td>\n",
       "      <td>3</td>\n",
       "      <td>3.15</td>\n",
       "      <td>5</td>\n",
       "      <td>73.0</td>\n",
       "      <td>3</td>\n",
       "      <td>False</td>\n",
       "      <td>False</td>\n",
       "      <td>False</td>\n",
       "      <td>12.0</td>\n",
       "      <td>0</td>\n",
       "      <td>санкт-петербург</td>\n",
       "      <td>24698.0</td>\n",
       "      <td>2385.0</td>\n",
       "      <td>3.0</td>\n",
       "      <td>389.0</td>\n",
       "      <td>3.0</td>\n",
       "      <td>564.0</td>\n",
       "      <td>40.0</td>\n",
       "    </tr>\n",
       "  </tbody>\n",
       "</table>\n",
       "</div>"
      ],
      "text/plain": [
       "       total_images  last_price_million  total_area first_day_exposition  \\\n",
       "10011             3                53.0        90.0           2019-03-21   \n",
       "\n",
       "       rooms  ceiling_height  floors_total  living_area  floor  is_apartment  \\\n",
       "10011      3            3.15             5         73.0      3         False   \n",
       "\n",
       "       is_studio  is_open_plan  kitchen_area  balcony    locality_name  \\\n",
       "10011      False         False          12.0        0  санкт-петербург   \n",
       "\n",
       "       airports_nearest  city_centers_nearest  parks_around_3000  \\\n",
       "10011           24698.0                2385.0                3.0   \n",
       "\n",
       "       parks_nearest  ponds_around_3000  ponds_nearest  days_exposition  \n",
       "10011          389.0                3.0          564.0             40.0  "
      ]
     },
     "metadata": {},
     "output_type": "display_data"
    }
   ],
   "source": [
    "#  проверим жилую площадь на минимальное значение для одного человека - 6 кв.м.\n",
    "display(df.loc[df['living_area'] < 6])\n",
    "\n",
    "# проверим превышение жилой площади и кухни над общей площадью\n",
    "print('жилая площадь + кухня > общей площади:', df.query('living_area + kitchen_area > total_area')['total_area'].count())\n",
    "\n",
    "# проверим квартриры, которые дороже 50 млн рублей и общей площадью меньше 100 кв.м.\n",
    "display(df.query('last_price_million > 50 & total_area < 100').sort_values('last_price_million', ascending=False))"
   ]
  },
  {
   "cell_type": "markdown",
   "metadata": {},
   "source": [
    "По жилой площади 6 строк ниже минимума, остальные данные в строках выглядят реальными.\\\n",
    "Чтобы не терять данные - заменю жилую площадь на среднюю, помноженную на коэффициент относительно общей площади.\n",
    "\n",
    "Есть 103 строки, где жилая площадь и кухня превышают общую площадь - удалим строки, т.к. меньше 1%.\n",
    "\n",
    "По цене квартиры выше 50 млн рублей пропорциональны общей площади. Ниже 100 кв.м. со стоимостью выше 50 млн рублей найдена одна квартира - без выбросов."
   ]
  },
  {
   "cell_type": "code",
   "execution_count": 19,
   "metadata": {
    "hidePrompt": true
   },
   "outputs": [],
   "source": [
    "# заменим жилую площадь на среднюю, помноженную на коэффициент относительно общей площади\n",
    "df.loc[df['living_area'] < 6, 'living_area'] = ratio_living_area * df.loc[df['living_area'] < 6, 'total_area']\n",
    "\n",
    "# удаляем строки, где жилая площадь и кухня превышают общую площадь\n",
    "df = df.query('~(living_area + kitchen_area > total_area)')"
   ]
  },
  {
   "cell_type": "markdown",
   "metadata": {},
   "source": [
    "#### Высота потолка\n",
    "\n",
    "Минимальная высота потолка является 2,5 метра. Возможно, некоторые пользователи замеряли расстояние после ремонта, когда расстояние становится меньше - возьмём за нижнюю границу 2,2 метра.\\\n",
    "А максимальную установим в 10 метров, т.к. бывают двухэтажные квартиры."
   ]
  },
  {
   "cell_type": "code",
   "execution_count": 20,
   "metadata": {
    "hidePrompt": true,
    "scrolled": true
   },
   "outputs": [
    {
     "data": {
      "text/html": [
       "<div>\n",
       "<style scoped>\n",
       "    .dataframe tbody tr th:only-of-type {\n",
       "        vertical-align: middle;\n",
       "    }\n",
       "\n",
       "    .dataframe tbody tr th {\n",
       "        vertical-align: top;\n",
       "    }\n",
       "\n",
       "    .dataframe thead th {\n",
       "        text-align: right;\n",
       "    }\n",
       "</style>\n",
       "<table border=\"1\" class=\"dataframe\">\n",
       "  <thead>\n",
       "    <tr style=\"text-align: right;\">\n",
       "      <th></th>\n",
       "      <th>total_images</th>\n",
       "      <th>last_price_million</th>\n",
       "      <th>total_area</th>\n",
       "      <th>first_day_exposition</th>\n",
       "      <th>rooms</th>\n",
       "      <th>ceiling_height</th>\n",
       "      <th>floors_total</th>\n",
       "      <th>living_area</th>\n",
       "      <th>floor</th>\n",
       "      <th>is_apartment</th>\n",
       "      <th>is_studio</th>\n",
       "      <th>is_open_plan</th>\n",
       "      <th>kitchen_area</th>\n",
       "      <th>balcony</th>\n",
       "      <th>locality_name</th>\n",
       "      <th>airports_nearest</th>\n",
       "      <th>city_centers_nearest</th>\n",
       "      <th>parks_around_3000</th>\n",
       "      <th>parks_nearest</th>\n",
       "      <th>ponds_around_3000</th>\n",
       "      <th>ponds_nearest</th>\n",
       "      <th>days_exposition</th>\n",
       "    </tr>\n",
       "  </thead>\n",
       "  <tbody>\n",
       "    <tr>\n",
       "      <th>16884</th>\n",
       "      <td>0</td>\n",
       "      <td>1.500</td>\n",
       "      <td>33.000000</td>\n",
       "      <td>2018-10-03</td>\n",
       "      <td>1</td>\n",
       "      <td>2.00</td>\n",
       "      <td>5</td>\n",
       "      <td>20.000000</td>\n",
       "      <td>5</td>\n",
       "      <td>False</td>\n",
       "      <td>False</td>\n",
       "      <td>False</td>\n",
       "      <td>6.000000</td>\n",
       "      <td>0</td>\n",
       "      <td>выборг</td>\n",
       "      <td>NaN</td>\n",
       "      <td>NaN</td>\n",
       "      <td>NaN</td>\n",
       "      <td>NaN</td>\n",
       "      <td>NaN</td>\n",
       "      <td>NaN</td>\n",
       "      <td>6.0</td>\n",
       "    </tr>\n",
       "    <tr>\n",
       "      <th>5712</th>\n",
       "      <td>5</td>\n",
       "      <td>1.500</td>\n",
       "      <td>42.799999</td>\n",
       "      <td>2017-08-14</td>\n",
       "      <td>2</td>\n",
       "      <td>1.20</td>\n",
       "      <td>2</td>\n",
       "      <td>27.500000</td>\n",
       "      <td>1</td>\n",
       "      <td>False</td>\n",
       "      <td>False</td>\n",
       "      <td>False</td>\n",
       "      <td>5.200000</td>\n",
       "      <td>0</td>\n",
       "      <td>мга</td>\n",
       "      <td>NaN</td>\n",
       "      <td>NaN</td>\n",
       "      <td>NaN</td>\n",
       "      <td>NaN</td>\n",
       "      <td>NaN</td>\n",
       "      <td>NaN</td>\n",
       "      <td>248.0</td>\n",
       "    </tr>\n",
       "    <tr>\n",
       "      <th>5850</th>\n",
       "      <td>9</td>\n",
       "      <td>1.650</td>\n",
       "      <td>35.500000</td>\n",
       "      <td>2018-05-29</td>\n",
       "      <td>1</td>\n",
       "      <td>2.00</td>\n",
       "      <td>5</td>\n",
       "      <td>20.277012</td>\n",
       "      <td>5</td>\n",
       "      <td>False</td>\n",
       "      <td>False</td>\n",
       "      <td>False</td>\n",
       "      <td>6.214987</td>\n",
       "      <td>0</td>\n",
       "      <td>луга</td>\n",
       "      <td>NaN</td>\n",
       "      <td>NaN</td>\n",
       "      <td>NaN</td>\n",
       "      <td>NaN</td>\n",
       "      <td>NaN</td>\n",
       "      <td>NaN</td>\n",
       "      <td>100.0</td>\n",
       "    </tr>\n",
       "    <tr>\n",
       "      <th>14382</th>\n",
       "      <td>9</td>\n",
       "      <td>1.700</td>\n",
       "      <td>35.000000</td>\n",
       "      <td>2015-12-04</td>\n",
       "      <td>1</td>\n",
       "      <td>25.00</td>\n",
       "      <td>5</td>\n",
       "      <td>20.000000</td>\n",
       "      <td>2</td>\n",
       "      <td>False</td>\n",
       "      <td>False</td>\n",
       "      <td>False</td>\n",
       "      <td>8.000000</td>\n",
       "      <td>1</td>\n",
       "      <td>новый свет</td>\n",
       "      <td>NaN</td>\n",
       "      <td>NaN</td>\n",
       "      <td>NaN</td>\n",
       "      <td>NaN</td>\n",
       "      <td>NaN</td>\n",
       "      <td>NaN</td>\n",
       "      <td>206.0</td>\n",
       "    </tr>\n",
       "    <tr>\n",
       "      <th>19329</th>\n",
       "      <td>5</td>\n",
       "      <td>1.700</td>\n",
       "      <td>40.000000</td>\n",
       "      <td>2018-07-15</td>\n",
       "      <td>2</td>\n",
       "      <td>2.00</td>\n",
       "      <td>9</td>\n",
       "      <td>22.847338</td>\n",
       "      <td>8</td>\n",
       "      <td>False</td>\n",
       "      <td>False</td>\n",
       "      <td>False</td>\n",
       "      <td>7.002802</td>\n",
       "      <td>0</td>\n",
       "      <td>сосновый бор</td>\n",
       "      <td>NaN</td>\n",
       "      <td>NaN</td>\n",
       "      <td>NaN</td>\n",
       "      <td>NaN</td>\n",
       "      <td>NaN</td>\n",
       "      <td>NaN</td>\n",
       "      <td>45.0</td>\n",
       "    </tr>\n",
       "    <tr>\n",
       "      <th>11285</th>\n",
       "      <td>0</td>\n",
       "      <td>1.950</td>\n",
       "      <td>37.000000</td>\n",
       "      <td>2019-03-20</td>\n",
       "      <td>1</td>\n",
       "      <td>25.00</td>\n",
       "      <td>5</td>\n",
       "      <td>17.000000</td>\n",
       "      <td>4</td>\n",
       "      <td>False</td>\n",
       "      <td>False</td>\n",
       "      <td>False</td>\n",
       "      <td>9.000000</td>\n",
       "      <td>2</td>\n",
       "      <td>луга</td>\n",
       "      <td>NaN</td>\n",
       "      <td>NaN</td>\n",
       "      <td>NaN</td>\n",
       "      <td>NaN</td>\n",
       "      <td>NaN</td>\n",
       "      <td>NaN</td>\n",
       "      <td>18.0</td>\n",
       "    </tr>\n",
       "    <tr>\n",
       "      <th>4212</th>\n",
       "      <td>1</td>\n",
       "      <td>2.120</td>\n",
       "      <td>35.430000</td>\n",
       "      <td>2017-12-18</td>\n",
       "      <td>1</td>\n",
       "      <td>2.00</td>\n",
       "      <td>18</td>\n",
       "      <td>16.600000</td>\n",
       "      <td>9</td>\n",
       "      <td>False</td>\n",
       "      <td>False</td>\n",
       "      <td>False</td>\n",
       "      <td>8.800000</td>\n",
       "      <td>2</td>\n",
       "      <td>тосно</td>\n",
       "      <td>NaN</td>\n",
       "      <td>NaN</td>\n",
       "      <td>NaN</td>\n",
       "      <td>NaN</td>\n",
       "      <td>NaN</td>\n",
       "      <td>NaN</td>\n",
       "      <td>36.0</td>\n",
       "    </tr>\n",
       "    <tr>\n",
       "      <th>22960</th>\n",
       "      <td>17</td>\n",
       "      <td>2.300</td>\n",
       "      <td>53.599998</td>\n",
       "      <td>2018-10-18</td>\n",
       "      <td>2</td>\n",
       "      <td>2.00</td>\n",
       "      <td>2</td>\n",
       "      <td>19.000000</td>\n",
       "      <td>1</td>\n",
       "      <td>False</td>\n",
       "      <td>False</td>\n",
       "      <td>False</td>\n",
       "      <td>10.000000</td>\n",
       "      <td>0</td>\n",
       "      <td>всеволожск</td>\n",
       "      <td>NaN</td>\n",
       "      <td>NaN</td>\n",
       "      <td>NaN</td>\n",
       "      <td>NaN</td>\n",
       "      <td>NaN</td>\n",
       "      <td>NaN</td>\n",
       "      <td>NaN</td>\n",
       "    </tr>\n",
       "    <tr>\n",
       "      <th>2572</th>\n",
       "      <td>4</td>\n",
       "      <td>2.400</td>\n",
       "      <td>62.000000</td>\n",
       "      <td>2018-12-27</td>\n",
       "      <td>3</td>\n",
       "      <td>2.00</td>\n",
       "      <td>5</td>\n",
       "      <td>40.000000</td>\n",
       "      <td>4</td>\n",
       "      <td>False</td>\n",
       "      <td>False</td>\n",
       "      <td>False</td>\n",
       "      <td>6.000000</td>\n",
       "      <td>1</td>\n",
       "      <td>луга</td>\n",
       "      <td>NaN</td>\n",
       "      <td>NaN</td>\n",
       "      <td>NaN</td>\n",
       "      <td>NaN</td>\n",
       "      <td>NaN</td>\n",
       "      <td>NaN</td>\n",
       "      <td>NaN</td>\n",
       "    </tr>\n",
       "    <tr>\n",
       "      <th>5246</th>\n",
       "      <td>0</td>\n",
       "      <td>2.500</td>\n",
       "      <td>54.000000</td>\n",
       "      <td>2017-10-13</td>\n",
       "      <td>2</td>\n",
       "      <td>27.00</td>\n",
       "      <td>5</td>\n",
       "      <td>30.000000</td>\n",
       "      <td>3</td>\n",
       "      <td>False</td>\n",
       "      <td>False</td>\n",
       "      <td>False</td>\n",
       "      <td>9.000000</td>\n",
       "      <td>2</td>\n",
       "      <td>мины</td>\n",
       "      <td>NaN</td>\n",
       "      <td>NaN</td>\n",
       "      <td>NaN</td>\n",
       "      <td>NaN</td>\n",
       "      <td>NaN</td>\n",
       "      <td>NaN</td>\n",
       "      <td>540.0</td>\n",
       "    </tr>\n",
       "    <tr>\n",
       "      <th>19098</th>\n",
       "      <td>7</td>\n",
       "      <td>2.700</td>\n",
       "      <td>56.000000</td>\n",
       "      <td>2018-02-04</td>\n",
       "      <td>3</td>\n",
       "      <td>2.00</td>\n",
       "      <td>5</td>\n",
       "      <td>46.000000</td>\n",
       "      <td>1</td>\n",
       "      <td>False</td>\n",
       "      <td>False</td>\n",
       "      <td>False</td>\n",
       "      <td>6.000000</td>\n",
       "      <td>0</td>\n",
       "      <td>выборг</td>\n",
       "      <td>NaN</td>\n",
       "      <td>NaN</td>\n",
       "      <td>NaN</td>\n",
       "      <td>NaN</td>\n",
       "      <td>NaN</td>\n",
       "      <td>NaN</td>\n",
       "      <td>282.0</td>\n",
       "    </tr>\n",
       "    <tr>\n",
       "      <th>3148</th>\n",
       "      <td>14</td>\n",
       "      <td>2.900</td>\n",
       "      <td>75.000000</td>\n",
       "      <td>2018-11-12</td>\n",
       "      <td>3</td>\n",
       "      <td>32.00</td>\n",
       "      <td>3</td>\n",
       "      <td>53.000000</td>\n",
       "      <td>2</td>\n",
       "      <td>False</td>\n",
       "      <td>False</td>\n",
       "      <td>False</td>\n",
       "      <td>8.000000</td>\n",
       "      <td>0</td>\n",
       "      <td>волхов</td>\n",
       "      <td>NaN</td>\n",
       "      <td>NaN</td>\n",
       "      <td>NaN</td>\n",
       "      <td>NaN</td>\n",
       "      <td>NaN</td>\n",
       "      <td>NaN</td>\n",
       "      <td>NaN</td>\n",
       "    </tr>\n",
       "    <tr>\n",
       "      <th>552</th>\n",
       "      <td>11</td>\n",
       "      <td>2.999</td>\n",
       "      <td>33.500000</td>\n",
       "      <td>2017-03-30</td>\n",
       "      <td>1</td>\n",
       "      <td>2.00</td>\n",
       "      <td>15</td>\n",
       "      <td>17.500000</td>\n",
       "      <td>6</td>\n",
       "      <td>False</td>\n",
       "      <td>False</td>\n",
       "      <td>False</td>\n",
       "      <td>6.500000</td>\n",
       "      <td>0</td>\n",
       "      <td>санкт-петербург</td>\n",
       "      <td>33972.0</td>\n",
       "      <td>11746.0</td>\n",
       "      <td>1.0</td>\n",
       "      <td>520.0</td>\n",
       "      <td>1.0</td>\n",
       "      <td>949.0</td>\n",
       "      <td>270.0</td>\n",
       "    </tr>\n",
       "    <tr>\n",
       "      <th>4876</th>\n",
       "      <td>7</td>\n",
       "      <td>3.000</td>\n",
       "      <td>25.000000</td>\n",
       "      <td>2017-09-27</td>\n",
       "      <td>0</td>\n",
       "      <td>27.00</td>\n",
       "      <td>25</td>\n",
       "      <td>17.000000</td>\n",
       "      <td>17</td>\n",
       "      <td>False</td>\n",
       "      <td>False</td>\n",
       "      <td>True</td>\n",
       "      <td>4.376751</td>\n",
       "      <td>2</td>\n",
       "      <td>мурино</td>\n",
       "      <td>NaN</td>\n",
       "      <td>NaN</td>\n",
       "      <td>NaN</td>\n",
       "      <td>NaN</td>\n",
       "      <td>NaN</td>\n",
       "      <td>NaN</td>\n",
       "      <td>28.0</td>\n",
       "    </tr>\n",
       "    <tr>\n",
       "      <th>6246</th>\n",
       "      <td>6</td>\n",
       "      <td>3.300</td>\n",
       "      <td>44.400002</td>\n",
       "      <td>2019-03-25</td>\n",
       "      <td>2</td>\n",
       "      <td>25.00</td>\n",
       "      <td>5</td>\n",
       "      <td>31.299999</td>\n",
       "      <td>5</td>\n",
       "      <td>False</td>\n",
       "      <td>False</td>\n",
       "      <td>False</td>\n",
       "      <td>5.700000</td>\n",
       "      <td>0</td>\n",
       "      <td>кронштадт</td>\n",
       "      <td>68923.0</td>\n",
       "      <td>50649.0</td>\n",
       "      <td>1.0</td>\n",
       "      <td>417.0</td>\n",
       "      <td>2.0</td>\n",
       "      <td>73.0</td>\n",
       "      <td>NaN</td>\n",
       "    </tr>\n",
       "    <tr>\n",
       "      <th>11352</th>\n",
       "      <td>4</td>\n",
       "      <td>3.300</td>\n",
       "      <td>36.000000</td>\n",
       "      <td>2017-06-18</td>\n",
       "      <td>1</td>\n",
       "      <td>2.00</td>\n",
       "      <td>17</td>\n",
       "      <td>15.200000</td>\n",
       "      <td>12</td>\n",
       "      <td>False</td>\n",
       "      <td>False</td>\n",
       "      <td>False</td>\n",
       "      <td>10.100000</td>\n",
       "      <td>0</td>\n",
       "      <td>металлострой</td>\n",
       "      <td>25268.0</td>\n",
       "      <td>26980.0</td>\n",
       "      <td>0.0</td>\n",
       "      <td>NaN</td>\n",
       "      <td>0.0</td>\n",
       "      <td>NaN</td>\n",
       "      <td>53.0</td>\n",
       "    </tr>\n",
       "    <tr>\n",
       "      <th>20520</th>\n",
       "      <td>9</td>\n",
       "      <td>3.600</td>\n",
       "      <td>38.000000</td>\n",
       "      <td>2018-07-05</td>\n",
       "      <td>1</td>\n",
       "      <td>2.00</td>\n",
       "      <td>12</td>\n",
       "      <td>15.000000</td>\n",
       "      <td>9</td>\n",
       "      <td>False</td>\n",
       "      <td>False</td>\n",
       "      <td>False</td>\n",
       "      <td>11.800000</td>\n",
       "      <td>1</td>\n",
       "      <td>кудрово</td>\n",
       "      <td>NaN</td>\n",
       "      <td>NaN</td>\n",
       "      <td>NaN</td>\n",
       "      <td>NaN</td>\n",
       "      <td>NaN</td>\n",
       "      <td>NaN</td>\n",
       "      <td>62.0</td>\n",
       "    </tr>\n",
       "    <tr>\n",
       "      <th>355</th>\n",
       "      <td>17</td>\n",
       "      <td>3.600</td>\n",
       "      <td>55.200001</td>\n",
       "      <td>2018-07-12</td>\n",
       "      <td>2</td>\n",
       "      <td>25.00</td>\n",
       "      <td>5</td>\n",
       "      <td>32.000000</td>\n",
       "      <td>2</td>\n",
       "      <td>False</td>\n",
       "      <td>False</td>\n",
       "      <td>False</td>\n",
       "      <td>9.663867</td>\n",
       "      <td>2</td>\n",
       "      <td>гатчина</td>\n",
       "      <td>NaN</td>\n",
       "      <td>NaN</td>\n",
       "      <td>NaN</td>\n",
       "      <td>NaN</td>\n",
       "      <td>NaN</td>\n",
       "      <td>NaN</td>\n",
       "      <td>259.0</td>\n",
       "    </tr>\n",
       "    <tr>\n",
       "      <th>18545</th>\n",
       "      <td>6</td>\n",
       "      <td>3.750</td>\n",
       "      <td>43.000000</td>\n",
       "      <td>2019-03-18</td>\n",
       "      <td>2</td>\n",
       "      <td>25.00</td>\n",
       "      <td>5</td>\n",
       "      <td>29.000000</td>\n",
       "      <td>3</td>\n",
       "      <td>False</td>\n",
       "      <td>False</td>\n",
       "      <td>False</td>\n",
       "      <td>7.528012</td>\n",
       "      <td>0</td>\n",
       "      <td>санкт-петербург</td>\n",
       "      <td>27054.0</td>\n",
       "      <td>8033.0</td>\n",
       "      <td>1.0</td>\n",
       "      <td>540.0</td>\n",
       "      <td>0.0</td>\n",
       "      <td>NaN</td>\n",
       "      <td>12.0</td>\n",
       "    </tr>\n",
       "    <tr>\n",
       "      <th>10773</th>\n",
       "      <td>8</td>\n",
       "      <td>3.800</td>\n",
       "      <td>58.000000</td>\n",
       "      <td>2017-10-13</td>\n",
       "      <td>2</td>\n",
       "      <td>27.00</td>\n",
       "      <td>10</td>\n",
       "      <td>30.100000</td>\n",
       "      <td>3</td>\n",
       "      <td>False</td>\n",
       "      <td>False</td>\n",
       "      <td>False</td>\n",
       "      <td>8.100000</td>\n",
       "      <td>2</td>\n",
       "      <td>мурино</td>\n",
       "      <td>NaN</td>\n",
       "      <td>NaN</td>\n",
       "      <td>NaN</td>\n",
       "      <td>NaN</td>\n",
       "      <td>NaN</td>\n",
       "      <td>NaN</td>\n",
       "      <td>71.0</td>\n",
       "    </tr>\n",
       "    <tr>\n",
       "      <th>5076</th>\n",
       "      <td>0</td>\n",
       "      <td>3.850</td>\n",
       "      <td>30.500000</td>\n",
       "      <td>2018-10-03</td>\n",
       "      <td>1</td>\n",
       "      <td>24.00</td>\n",
       "      <td>5</td>\n",
       "      <td>19.500000</td>\n",
       "      <td>1</td>\n",
       "      <td>True</td>\n",
       "      <td>False</td>\n",
       "      <td>False</td>\n",
       "      <td>5.500000</td>\n",
       "      <td>0</td>\n",
       "      <td>санкт-петербург</td>\n",
       "      <td>29686.0</td>\n",
       "      <td>8389.0</td>\n",
       "      <td>3.0</td>\n",
       "      <td>397.0</td>\n",
       "      <td>1.0</td>\n",
       "      <td>578.0</td>\n",
       "      <td>7.0</td>\n",
       "    </tr>\n",
       "    <tr>\n",
       "      <th>17857</th>\n",
       "      <td>1</td>\n",
       "      <td>3.900</td>\n",
       "      <td>56.000000</td>\n",
       "      <td>2017-12-22</td>\n",
       "      <td>3</td>\n",
       "      <td>27.00</td>\n",
       "      <td>5</td>\n",
       "      <td>33.000000</td>\n",
       "      <td>4</td>\n",
       "      <td>False</td>\n",
       "      <td>False</td>\n",
       "      <td>False</td>\n",
       "      <td>9.803923</td>\n",
       "      <td>0</td>\n",
       "      <td>санкт-петербург</td>\n",
       "      <td>41030.0</td>\n",
       "      <td>15543.0</td>\n",
       "      <td>0.0</td>\n",
       "      <td>NaN</td>\n",
       "      <td>0.0</td>\n",
       "      <td>NaN</td>\n",
       "      <td>73.0</td>\n",
       "    </tr>\n",
       "    <tr>\n",
       "      <th>9379</th>\n",
       "      <td>5</td>\n",
       "      <td>3.950</td>\n",
       "      <td>42.000000</td>\n",
       "      <td>2017-03-26</td>\n",
       "      <td>3</td>\n",
       "      <td>25.00</td>\n",
       "      <td>5</td>\n",
       "      <td>30.000000</td>\n",
       "      <td>2</td>\n",
       "      <td>False</td>\n",
       "      <td>False</td>\n",
       "      <td>False</td>\n",
       "      <td>5.200000</td>\n",
       "      <td>0</td>\n",
       "      <td>санкт-петербург</td>\n",
       "      <td>11647.0</td>\n",
       "      <td>13581.0</td>\n",
       "      <td>0.0</td>\n",
       "      <td>NaN</td>\n",
       "      <td>0.0</td>\n",
       "      <td>NaN</td>\n",
       "      <td>NaN</td>\n",
       "    </tr>\n",
       "    <tr>\n",
       "      <th>22938</th>\n",
       "      <td>14</td>\n",
       "      <td>4.000</td>\n",
       "      <td>98.000000</td>\n",
       "      <td>2018-03-15</td>\n",
       "      <td>4</td>\n",
       "      <td>27.00</td>\n",
       "      <td>2</td>\n",
       "      <td>73.000000</td>\n",
       "      <td>2</td>\n",
       "      <td>True</td>\n",
       "      <td>False</td>\n",
       "      <td>False</td>\n",
       "      <td>9.000000</td>\n",
       "      <td>1</td>\n",
       "      <td>нижняя</td>\n",
       "      <td>NaN</td>\n",
       "      <td>NaN</td>\n",
       "      <td>NaN</td>\n",
       "      <td>NaN</td>\n",
       "      <td>NaN</td>\n",
       "      <td>NaN</td>\n",
       "      <td>27.0</td>\n",
       "    </tr>\n",
       "    <tr>\n",
       "      <th>16934</th>\n",
       "      <td>5</td>\n",
       "      <td>4.100</td>\n",
       "      <td>40.000000</td>\n",
       "      <td>2017-10-17</td>\n",
       "      <td>1</td>\n",
       "      <td>1.75</td>\n",
       "      <td>37</td>\n",
       "      <td>17.400000</td>\n",
       "      <td>5</td>\n",
       "      <td>False</td>\n",
       "      <td>False</td>\n",
       "      <td>False</td>\n",
       "      <td>8.340000</td>\n",
       "      <td>0</td>\n",
       "      <td>санкт-петербург</td>\n",
       "      <td>18732.0</td>\n",
       "      <td>20444.0</td>\n",
       "      <td>0.0</td>\n",
       "      <td>NaN</td>\n",
       "      <td>3.0</td>\n",
       "      <td>80.0</td>\n",
       "      <td>71.0</td>\n",
       "    </tr>\n",
       "    <tr>\n",
       "      <th>4643</th>\n",
       "      <td>0</td>\n",
       "      <td>4.300</td>\n",
       "      <td>45.000000</td>\n",
       "      <td>2018-02-01</td>\n",
       "      <td>2</td>\n",
       "      <td>25.00</td>\n",
       "      <td>9</td>\n",
       "      <td>30.000000</td>\n",
       "      <td>2</td>\n",
       "      <td>False</td>\n",
       "      <td>False</td>\n",
       "      <td>False</td>\n",
       "      <td>7.000000</td>\n",
       "      <td>1</td>\n",
       "      <td>санкт-петербург</td>\n",
       "      <td>12016.0</td>\n",
       "      <td>13256.0</td>\n",
       "      <td>1.0</td>\n",
       "      <td>658.0</td>\n",
       "      <td>1.0</td>\n",
       "      <td>331.0</td>\n",
       "      <td>181.0</td>\n",
       "    </tr>\n",
       "    <tr>\n",
       "      <th>5669</th>\n",
       "      <td>4</td>\n",
       "      <td>4.400</td>\n",
       "      <td>50.000000</td>\n",
       "      <td>2017-08-08</td>\n",
       "      <td>2</td>\n",
       "      <td>26.00</td>\n",
       "      <td>9</td>\n",
       "      <td>21.299999</td>\n",
       "      <td>3</td>\n",
       "      <td>False</td>\n",
       "      <td>False</td>\n",
       "      <td>False</td>\n",
       "      <td>7.000000</td>\n",
       "      <td>2</td>\n",
       "      <td>санкт-петербург</td>\n",
       "      <td>28981.0</td>\n",
       "      <td>10912.0</td>\n",
       "      <td>1.0</td>\n",
       "      <td>305.0</td>\n",
       "      <td>0.0</td>\n",
       "      <td>NaN</td>\n",
       "      <td>267.0</td>\n",
       "    </tr>\n",
       "    <tr>\n",
       "      <th>22309</th>\n",
       "      <td>20</td>\n",
       "      <td>5.300</td>\n",
       "      <td>45.000000</td>\n",
       "      <td>2017-09-30</td>\n",
       "      <td>1</td>\n",
       "      <td>10.30</td>\n",
       "      <td>16</td>\n",
       "      <td>15.500000</td>\n",
       "      <td>15</td>\n",
       "      <td>False</td>\n",
       "      <td>False</td>\n",
       "      <td>False</td>\n",
       "      <td>7.878152</td>\n",
       "      <td>0</td>\n",
       "      <td>санкт-петербург</td>\n",
       "      <td>36353.0</td>\n",
       "      <td>11936.0</td>\n",
       "      <td>2.0</td>\n",
       "      <td>440.0</td>\n",
       "      <td>2.0</td>\n",
       "      <td>450.0</td>\n",
       "      <td>136.0</td>\n",
       "    </tr>\n",
       "    <tr>\n",
       "      <th>15061</th>\n",
       "      <td>19</td>\n",
       "      <td>5.600</td>\n",
       "      <td>56.400002</td>\n",
       "      <td>2018-05-11</td>\n",
       "      <td>2</td>\n",
       "      <td>14.00</td>\n",
       "      <td>14</td>\n",
       "      <td>32.400002</td>\n",
       "      <td>5</td>\n",
       "      <td>False</td>\n",
       "      <td>False</td>\n",
       "      <td>False</td>\n",
       "      <td>9.100000</td>\n",
       "      <td>2</td>\n",
       "      <td>санкт-петербург</td>\n",
       "      <td>14814.0</td>\n",
       "      <td>13610.0</td>\n",
       "      <td>0.0</td>\n",
       "      <td>NaN</td>\n",
       "      <td>0.0</td>\n",
       "      <td>NaN</td>\n",
       "      <td>315.0</td>\n",
       "    </tr>\n",
       "    <tr>\n",
       "      <th>20507</th>\n",
       "      <td>12</td>\n",
       "      <td>5.950</td>\n",
       "      <td>60.000000</td>\n",
       "      <td>2018-02-19</td>\n",
       "      <td>2</td>\n",
       "      <td>22.60</td>\n",
       "      <td>14</td>\n",
       "      <td>35.000000</td>\n",
       "      <td>11</td>\n",
       "      <td>False</td>\n",
       "      <td>False</td>\n",
       "      <td>False</td>\n",
       "      <td>13.000000</td>\n",
       "      <td>1</td>\n",
       "      <td>санкт-петербург</td>\n",
       "      <td>27028.0</td>\n",
       "      <td>12570.0</td>\n",
       "      <td>0.0</td>\n",
       "      <td>NaN</td>\n",
       "      <td>0.0</td>\n",
       "      <td>NaN</td>\n",
       "      <td>40.0</td>\n",
       "    </tr>\n",
       "    <tr>\n",
       "      <th>22590</th>\n",
       "      <td>16</td>\n",
       "      <td>6.000</td>\n",
       "      <td>55.000000</td>\n",
       "      <td>2018-10-31</td>\n",
       "      <td>2</td>\n",
       "      <td>1.00</td>\n",
       "      <td>12</td>\n",
       "      <td>32.400002</td>\n",
       "      <td>7</td>\n",
       "      <td>False</td>\n",
       "      <td>False</td>\n",
       "      <td>False</td>\n",
       "      <td>10.000000</td>\n",
       "      <td>0</td>\n",
       "      <td>санкт-петербург</td>\n",
       "      <td>33053.0</td>\n",
       "      <td>14217.0</td>\n",
       "      <td>2.0</td>\n",
       "      <td>293.0</td>\n",
       "      <td>2.0</td>\n",
       "      <td>289.0</td>\n",
       "      <td>13.0</td>\n",
       "    </tr>\n",
       "    <tr>\n",
       "      <th>17496</th>\n",
       "      <td>15</td>\n",
       "      <td>6.700</td>\n",
       "      <td>92.900002</td>\n",
       "      <td>2019-02-19</td>\n",
       "      <td>3</td>\n",
       "      <td>20.00</td>\n",
       "      <td>17</td>\n",
       "      <td>53.200001</td>\n",
       "      <td>14</td>\n",
       "      <td>False</td>\n",
       "      <td>False</td>\n",
       "      <td>False</td>\n",
       "      <td>12.000000</td>\n",
       "      <td>5</td>\n",
       "      <td>санкт-петербург</td>\n",
       "      <td>16295.0</td>\n",
       "      <td>15092.0</td>\n",
       "      <td>1.0</td>\n",
       "      <td>967.0</td>\n",
       "      <td>0.0</td>\n",
       "      <td>NaN</td>\n",
       "      <td>NaN</td>\n",
       "    </tr>\n",
       "    <tr>\n",
       "      <th>20478</th>\n",
       "      <td>11</td>\n",
       "      <td>8.000</td>\n",
       "      <td>45.000000</td>\n",
       "      <td>2017-07-18</td>\n",
       "      <td>1</td>\n",
       "      <td>27.00</td>\n",
       "      <td>4</td>\n",
       "      <td>22.000000</td>\n",
       "      <td>2</td>\n",
       "      <td>False</td>\n",
       "      <td>False</td>\n",
       "      <td>False</td>\n",
       "      <td>10.000000</td>\n",
       "      <td>1</td>\n",
       "      <td>санкт-петербург</td>\n",
       "      <td>18975.0</td>\n",
       "      <td>3246.0</td>\n",
       "      <td>0.0</td>\n",
       "      <td>NaN</td>\n",
       "      <td>3.0</td>\n",
       "      <td>449.0</td>\n",
       "      <td>429.0</td>\n",
       "    </tr>\n",
       "    <tr>\n",
       "      <th>5807</th>\n",
       "      <td>17</td>\n",
       "      <td>8.150</td>\n",
       "      <td>80.000000</td>\n",
       "      <td>2019-01-09</td>\n",
       "      <td>2</td>\n",
       "      <td>27.00</td>\n",
       "      <td>36</td>\n",
       "      <td>41.000000</td>\n",
       "      <td>13</td>\n",
       "      <td>False</td>\n",
       "      <td>False</td>\n",
       "      <td>False</td>\n",
       "      <td>12.000000</td>\n",
       "      <td>5</td>\n",
       "      <td>санкт-петербург</td>\n",
       "      <td>18732.0</td>\n",
       "      <td>20444.0</td>\n",
       "      <td>0.0</td>\n",
       "      <td>NaN</td>\n",
       "      <td>3.0</td>\n",
       "      <td>80.0</td>\n",
       "      <td>38.0</td>\n",
       "    </tr>\n",
       "    <tr>\n",
       "      <th>22336</th>\n",
       "      <td>19</td>\n",
       "      <td>9.999</td>\n",
       "      <td>92.400002</td>\n",
       "      <td>2019-04-05</td>\n",
       "      <td>2</td>\n",
       "      <td>32.00</td>\n",
       "      <td>6</td>\n",
       "      <td>55.500000</td>\n",
       "      <td>5</td>\n",
       "      <td>False</td>\n",
       "      <td>False</td>\n",
       "      <td>False</td>\n",
       "      <td>16.500000</td>\n",
       "      <td>4</td>\n",
       "      <td>санкт-петербург</td>\n",
       "      <td>18838.0</td>\n",
       "      <td>3506.0</td>\n",
       "      <td>0.0</td>\n",
       "      <td>NaN</td>\n",
       "      <td>3.0</td>\n",
       "      <td>511.0</td>\n",
       "      <td>NaN</td>\n",
       "    </tr>\n",
       "    <tr>\n",
       "      <th>16446</th>\n",
       "      <td>6</td>\n",
       "      <td>12.300</td>\n",
       "      <td>88.300003</td>\n",
       "      <td>2019-03-12</td>\n",
       "      <td>3</td>\n",
       "      <td>2.00</td>\n",
       "      <td>5</td>\n",
       "      <td>63.900002</td>\n",
       "      <td>2</td>\n",
       "      <td>False</td>\n",
       "      <td>False</td>\n",
       "      <td>False</td>\n",
       "      <td>12.000000</td>\n",
       "      <td>0</td>\n",
       "      <td>санкт-петербург</td>\n",
       "      <td>38415.0</td>\n",
       "      <td>7675.0</td>\n",
       "      <td>1.0</td>\n",
       "      <td>568.0</td>\n",
       "      <td>1.0</td>\n",
       "      <td>154.0</td>\n",
       "      <td>NaN</td>\n",
       "    </tr>\n",
       "    <tr>\n",
       "      <th>22869</th>\n",
       "      <td>0</td>\n",
       "      <td>15.000</td>\n",
       "      <td>25.000000</td>\n",
       "      <td>2018-07-25</td>\n",
       "      <td>1</td>\n",
       "      <td>100.00</td>\n",
       "      <td>5</td>\n",
       "      <td>14.000000</td>\n",
       "      <td>5</td>\n",
       "      <td>True</td>\n",
       "      <td>False</td>\n",
       "      <td>False</td>\n",
       "      <td>11.000000</td>\n",
       "      <td>5</td>\n",
       "      <td>санкт-петербург</td>\n",
       "      <td>34963.0</td>\n",
       "      <td>8283.0</td>\n",
       "      <td>1.0</td>\n",
       "      <td>223.0</td>\n",
       "      <td>3.0</td>\n",
       "      <td>30.0</td>\n",
       "      <td>19.0</td>\n",
       "    </tr>\n",
       "  </tbody>\n",
       "</table>\n",
       "</div>"
      ],
      "text/plain": [
       "       total_images  last_price_million  total_area first_day_exposition  \\\n",
       "16884             0               1.500   33.000000           2018-10-03   \n",
       "5712              5               1.500   42.799999           2017-08-14   \n",
       "5850              9               1.650   35.500000           2018-05-29   \n",
       "14382             9               1.700   35.000000           2015-12-04   \n",
       "19329             5               1.700   40.000000           2018-07-15   \n",
       "11285             0               1.950   37.000000           2019-03-20   \n",
       "4212              1               2.120   35.430000           2017-12-18   \n",
       "22960            17               2.300   53.599998           2018-10-18   \n",
       "2572              4               2.400   62.000000           2018-12-27   \n",
       "5246              0               2.500   54.000000           2017-10-13   \n",
       "19098             7               2.700   56.000000           2018-02-04   \n",
       "3148             14               2.900   75.000000           2018-11-12   \n",
       "552              11               2.999   33.500000           2017-03-30   \n",
       "4876              7               3.000   25.000000           2017-09-27   \n",
       "6246              6               3.300   44.400002           2019-03-25   \n",
       "11352             4               3.300   36.000000           2017-06-18   \n",
       "20520             9               3.600   38.000000           2018-07-05   \n",
       "355              17               3.600   55.200001           2018-07-12   \n",
       "18545             6               3.750   43.000000           2019-03-18   \n",
       "10773             8               3.800   58.000000           2017-10-13   \n",
       "5076              0               3.850   30.500000           2018-10-03   \n",
       "17857             1               3.900   56.000000           2017-12-22   \n",
       "9379              5               3.950   42.000000           2017-03-26   \n",
       "22938            14               4.000   98.000000           2018-03-15   \n",
       "16934             5               4.100   40.000000           2017-10-17   \n",
       "4643              0               4.300   45.000000           2018-02-01   \n",
       "5669              4               4.400   50.000000           2017-08-08   \n",
       "22309            20               5.300   45.000000           2017-09-30   \n",
       "15061            19               5.600   56.400002           2018-05-11   \n",
       "20507            12               5.950   60.000000           2018-02-19   \n",
       "22590            16               6.000   55.000000           2018-10-31   \n",
       "17496            15               6.700   92.900002           2019-02-19   \n",
       "20478            11               8.000   45.000000           2017-07-18   \n",
       "5807             17               8.150   80.000000           2019-01-09   \n",
       "22336            19               9.999   92.400002           2019-04-05   \n",
       "16446             6              12.300   88.300003           2019-03-12   \n",
       "22869             0              15.000   25.000000           2018-07-25   \n",
       "\n",
       "       rooms  ceiling_height  floors_total  living_area  floor  is_apartment  \\\n",
       "16884      1            2.00             5    20.000000      5         False   \n",
       "5712       2            1.20             2    27.500000      1         False   \n",
       "5850       1            2.00             5    20.277012      5         False   \n",
       "14382      1           25.00             5    20.000000      2         False   \n",
       "19329      2            2.00             9    22.847338      8         False   \n",
       "11285      1           25.00             5    17.000000      4         False   \n",
       "4212       1            2.00            18    16.600000      9         False   \n",
       "22960      2            2.00             2    19.000000      1         False   \n",
       "2572       3            2.00             5    40.000000      4         False   \n",
       "5246       2           27.00             5    30.000000      3         False   \n",
       "19098      3            2.00             5    46.000000      1         False   \n",
       "3148       3           32.00             3    53.000000      2         False   \n",
       "552        1            2.00            15    17.500000      6         False   \n",
       "4876       0           27.00            25    17.000000     17         False   \n",
       "6246       2           25.00             5    31.299999      5         False   \n",
       "11352      1            2.00            17    15.200000     12         False   \n",
       "20520      1            2.00            12    15.000000      9         False   \n",
       "355        2           25.00             5    32.000000      2         False   \n",
       "18545      2           25.00             5    29.000000      3         False   \n",
       "10773      2           27.00            10    30.100000      3         False   \n",
       "5076       1           24.00             5    19.500000      1          True   \n",
       "17857      3           27.00             5    33.000000      4         False   \n",
       "9379       3           25.00             5    30.000000      2         False   \n",
       "22938      4           27.00             2    73.000000      2          True   \n",
       "16934      1            1.75            37    17.400000      5         False   \n",
       "4643       2           25.00             9    30.000000      2         False   \n",
       "5669       2           26.00             9    21.299999      3         False   \n",
       "22309      1           10.30            16    15.500000     15         False   \n",
       "15061      2           14.00            14    32.400002      5         False   \n",
       "20507      2           22.60            14    35.000000     11         False   \n",
       "22590      2            1.00            12    32.400002      7         False   \n",
       "17496      3           20.00            17    53.200001     14         False   \n",
       "20478      1           27.00             4    22.000000      2         False   \n",
       "5807       2           27.00            36    41.000000     13         False   \n",
       "22336      2           32.00             6    55.500000      5         False   \n",
       "16446      3            2.00             5    63.900002      2         False   \n",
       "22869      1          100.00             5    14.000000      5          True   \n",
       "\n",
       "       is_studio  is_open_plan  kitchen_area  balcony    locality_name  \\\n",
       "16884      False         False      6.000000        0           выборг   \n",
       "5712       False         False      5.200000        0              мга   \n",
       "5850       False         False      6.214987        0             луга   \n",
       "14382      False         False      8.000000        1       новый свет   \n",
       "19329      False         False      7.002802        0     сосновый бор   \n",
       "11285      False         False      9.000000        2             луга   \n",
       "4212       False         False      8.800000        2            тосно   \n",
       "22960      False         False     10.000000        0       всеволожск   \n",
       "2572       False         False      6.000000        1             луга   \n",
       "5246       False         False      9.000000        2             мины   \n",
       "19098      False         False      6.000000        0           выборг   \n",
       "3148       False         False      8.000000        0           волхов   \n",
       "552        False         False      6.500000        0  санкт-петербург   \n",
       "4876       False          True      4.376751        2           мурино   \n",
       "6246       False         False      5.700000        0        кронштадт   \n",
       "11352      False         False     10.100000        0     металлострой   \n",
       "20520      False         False     11.800000        1          кудрово   \n",
       "355        False         False      9.663867        2          гатчина   \n",
       "18545      False         False      7.528012        0  санкт-петербург   \n",
       "10773      False         False      8.100000        2           мурино   \n",
       "5076       False         False      5.500000        0  санкт-петербург   \n",
       "17857      False         False      9.803923        0  санкт-петербург   \n",
       "9379       False         False      5.200000        0  санкт-петербург   \n",
       "22938      False         False      9.000000        1           нижняя   \n",
       "16934      False         False      8.340000        0  санкт-петербург   \n",
       "4643       False         False      7.000000        1  санкт-петербург   \n",
       "5669       False         False      7.000000        2  санкт-петербург   \n",
       "22309      False         False      7.878152        0  санкт-петербург   \n",
       "15061      False         False      9.100000        2  санкт-петербург   \n",
       "20507      False         False     13.000000        1  санкт-петербург   \n",
       "22590      False         False     10.000000        0  санкт-петербург   \n",
       "17496      False         False     12.000000        5  санкт-петербург   \n",
       "20478      False         False     10.000000        1  санкт-петербург   \n",
       "5807       False         False     12.000000        5  санкт-петербург   \n",
       "22336      False         False     16.500000        4  санкт-петербург   \n",
       "16446      False         False     12.000000        0  санкт-петербург   \n",
       "22869      False         False     11.000000        5  санкт-петербург   \n",
       "\n",
       "       airports_nearest  city_centers_nearest  parks_around_3000  \\\n",
       "16884               NaN                   NaN                NaN   \n",
       "5712                NaN                   NaN                NaN   \n",
       "5850                NaN                   NaN                NaN   \n",
       "14382               NaN                   NaN                NaN   \n",
       "19329               NaN                   NaN                NaN   \n",
       "11285               NaN                   NaN                NaN   \n",
       "4212                NaN                   NaN                NaN   \n",
       "22960               NaN                   NaN                NaN   \n",
       "2572                NaN                   NaN                NaN   \n",
       "5246                NaN                   NaN                NaN   \n",
       "19098               NaN                   NaN                NaN   \n",
       "3148                NaN                   NaN                NaN   \n",
       "552             33972.0               11746.0                1.0   \n",
       "4876                NaN                   NaN                NaN   \n",
       "6246            68923.0               50649.0                1.0   \n",
       "11352           25268.0               26980.0                0.0   \n",
       "20520               NaN                   NaN                NaN   \n",
       "355                 NaN                   NaN                NaN   \n",
       "18545           27054.0                8033.0                1.0   \n",
       "10773               NaN                   NaN                NaN   \n",
       "5076            29686.0                8389.0                3.0   \n",
       "17857           41030.0               15543.0                0.0   \n",
       "9379            11647.0               13581.0                0.0   \n",
       "22938               NaN                   NaN                NaN   \n",
       "16934           18732.0               20444.0                0.0   \n",
       "4643            12016.0               13256.0                1.0   \n",
       "5669            28981.0               10912.0                1.0   \n",
       "22309           36353.0               11936.0                2.0   \n",
       "15061           14814.0               13610.0                0.0   \n",
       "20507           27028.0               12570.0                0.0   \n",
       "22590           33053.0               14217.0                2.0   \n",
       "17496           16295.0               15092.0                1.0   \n",
       "20478           18975.0                3246.0                0.0   \n",
       "5807            18732.0               20444.0                0.0   \n",
       "22336           18838.0                3506.0                0.0   \n",
       "16446           38415.0                7675.0                1.0   \n",
       "22869           34963.0                8283.0                1.0   \n",
       "\n",
       "       parks_nearest  ponds_around_3000  ponds_nearest  days_exposition  \n",
       "16884            NaN                NaN            NaN              6.0  \n",
       "5712             NaN                NaN            NaN            248.0  \n",
       "5850             NaN                NaN            NaN            100.0  \n",
       "14382            NaN                NaN            NaN            206.0  \n",
       "19329            NaN                NaN            NaN             45.0  \n",
       "11285            NaN                NaN            NaN             18.0  \n",
       "4212             NaN                NaN            NaN             36.0  \n",
       "22960            NaN                NaN            NaN              NaN  \n",
       "2572             NaN                NaN            NaN              NaN  \n",
       "5246             NaN                NaN            NaN            540.0  \n",
       "19098            NaN                NaN            NaN            282.0  \n",
       "3148             NaN                NaN            NaN              NaN  \n",
       "552            520.0                1.0          949.0            270.0  \n",
       "4876             NaN                NaN            NaN             28.0  \n",
       "6246           417.0                2.0           73.0              NaN  \n",
       "11352            NaN                0.0            NaN             53.0  \n",
       "20520            NaN                NaN            NaN             62.0  \n",
       "355              NaN                NaN            NaN            259.0  \n",
       "18545          540.0                0.0            NaN             12.0  \n",
       "10773            NaN                NaN            NaN             71.0  \n",
       "5076           397.0                1.0          578.0              7.0  \n",
       "17857            NaN                0.0            NaN             73.0  \n",
       "9379             NaN                0.0            NaN              NaN  \n",
       "22938            NaN                NaN            NaN             27.0  \n",
       "16934            NaN                3.0           80.0             71.0  \n",
       "4643           658.0                1.0          331.0            181.0  \n",
       "5669           305.0                0.0            NaN            267.0  \n",
       "22309          440.0                2.0          450.0            136.0  \n",
       "15061            NaN                0.0            NaN            315.0  \n",
       "20507            NaN                0.0            NaN             40.0  \n",
       "22590          293.0                2.0          289.0             13.0  \n",
       "17496          967.0                0.0            NaN              NaN  \n",
       "20478            NaN                3.0          449.0            429.0  \n",
       "5807             NaN                3.0           80.0             38.0  \n",
       "22336            NaN                3.0          511.0              NaN  \n",
       "16446          568.0                1.0          154.0              NaN  \n",
       "22869          223.0                3.0           30.0             19.0  "
      ]
     },
     "metadata": {},
     "output_type": "display_data"
    }
   ],
   "source": [
    "display(df.loc[(df['ceiling_height'] < 2.2) | (df['ceiling_height'] > 10)].sort_values('last_price_million', ascending=True))"
   ]
  },
  {
   "cell_type": "markdown",
   "metadata": {},
   "source": [
    "Есть значения, где как будто пользователи ошиблись, добавив 0 - исправим значения от 24 до 27, умножив на 0,1.\\\n",
    "Остальные строки удалим, т.к. похожи на выбросы - квартиры с высокими потолками не стоят намного дороже, хотя должны."
   ]
  },
  {
   "cell_type": "code",
   "execution_count": 21,
   "metadata": {
    "hidePrompt": true,
    "scrolled": false
   },
   "outputs": [
    {
     "data": {
      "text/html": [
       "<div>\n",
       "<style scoped>\n",
       "    .dataframe tbody tr th:only-of-type {\n",
       "        vertical-align: middle;\n",
       "    }\n",
       "\n",
       "    .dataframe tbody tr th {\n",
       "        vertical-align: top;\n",
       "    }\n",
       "\n",
       "    .dataframe thead th {\n",
       "        text-align: right;\n",
       "    }\n",
       "</style>\n",
       "<table border=\"1\" class=\"dataframe\">\n",
       "  <thead>\n",
       "    <tr style=\"text-align: right;\">\n",
       "      <th></th>\n",
       "      <th>total_images</th>\n",
       "      <th>last_price_million</th>\n",
       "      <th>total_area</th>\n",
       "      <th>first_day_exposition</th>\n",
       "      <th>rooms</th>\n",
       "      <th>ceiling_height</th>\n",
       "      <th>floors_total</th>\n",
       "      <th>living_area</th>\n",
       "      <th>floor</th>\n",
       "      <th>is_apartment</th>\n",
       "      <th>is_studio</th>\n",
       "      <th>is_open_plan</th>\n",
       "      <th>kitchen_area</th>\n",
       "      <th>balcony</th>\n",
       "      <th>locality_name</th>\n",
       "      <th>airports_nearest</th>\n",
       "      <th>city_centers_nearest</th>\n",
       "      <th>parks_around_3000</th>\n",
       "      <th>parks_nearest</th>\n",
       "      <th>ponds_around_3000</th>\n",
       "      <th>ponds_nearest</th>\n",
       "      <th>days_exposition</th>\n",
       "    </tr>\n",
       "  </thead>\n",
       "  <tbody>\n",
       "    <tr>\n",
       "      <th>16884</th>\n",
       "      <td>0</td>\n",
       "      <td>1.500</td>\n",
       "      <td>33.000000</td>\n",
       "      <td>2018-10-03</td>\n",
       "      <td>1</td>\n",
       "      <td>2.00</td>\n",
       "      <td>5</td>\n",
       "      <td>20.000000</td>\n",
       "      <td>5</td>\n",
       "      <td>False</td>\n",
       "      <td>False</td>\n",
       "      <td>False</td>\n",
       "      <td>6.000000</td>\n",
       "      <td>0</td>\n",
       "      <td>выборг</td>\n",
       "      <td>NaN</td>\n",
       "      <td>NaN</td>\n",
       "      <td>NaN</td>\n",
       "      <td>NaN</td>\n",
       "      <td>NaN</td>\n",
       "      <td>NaN</td>\n",
       "      <td>6.0</td>\n",
       "    </tr>\n",
       "    <tr>\n",
       "      <th>5712</th>\n",
       "      <td>5</td>\n",
       "      <td>1.500</td>\n",
       "      <td>42.799999</td>\n",
       "      <td>2017-08-14</td>\n",
       "      <td>2</td>\n",
       "      <td>1.20</td>\n",
       "      <td>2</td>\n",
       "      <td>27.500000</td>\n",
       "      <td>1</td>\n",
       "      <td>False</td>\n",
       "      <td>False</td>\n",
       "      <td>False</td>\n",
       "      <td>5.200000</td>\n",
       "      <td>0</td>\n",
       "      <td>мга</td>\n",
       "      <td>NaN</td>\n",
       "      <td>NaN</td>\n",
       "      <td>NaN</td>\n",
       "      <td>NaN</td>\n",
       "      <td>NaN</td>\n",
       "      <td>NaN</td>\n",
       "      <td>248.0</td>\n",
       "    </tr>\n",
       "    <tr>\n",
       "      <th>5850</th>\n",
       "      <td>9</td>\n",
       "      <td>1.650</td>\n",
       "      <td>35.500000</td>\n",
       "      <td>2018-05-29</td>\n",
       "      <td>1</td>\n",
       "      <td>2.00</td>\n",
       "      <td>5</td>\n",
       "      <td>20.277012</td>\n",
       "      <td>5</td>\n",
       "      <td>False</td>\n",
       "      <td>False</td>\n",
       "      <td>False</td>\n",
       "      <td>6.214987</td>\n",
       "      <td>0</td>\n",
       "      <td>луга</td>\n",
       "      <td>NaN</td>\n",
       "      <td>NaN</td>\n",
       "      <td>NaN</td>\n",
       "      <td>NaN</td>\n",
       "      <td>NaN</td>\n",
       "      <td>NaN</td>\n",
       "      <td>100.0</td>\n",
       "    </tr>\n",
       "    <tr>\n",
       "      <th>19329</th>\n",
       "      <td>5</td>\n",
       "      <td>1.700</td>\n",
       "      <td>40.000000</td>\n",
       "      <td>2018-07-15</td>\n",
       "      <td>2</td>\n",
       "      <td>2.00</td>\n",
       "      <td>9</td>\n",
       "      <td>22.847338</td>\n",
       "      <td>8</td>\n",
       "      <td>False</td>\n",
       "      <td>False</td>\n",
       "      <td>False</td>\n",
       "      <td>7.002802</td>\n",
       "      <td>0</td>\n",
       "      <td>сосновый бор</td>\n",
       "      <td>NaN</td>\n",
       "      <td>NaN</td>\n",
       "      <td>NaN</td>\n",
       "      <td>NaN</td>\n",
       "      <td>NaN</td>\n",
       "      <td>NaN</td>\n",
       "      <td>45.0</td>\n",
       "    </tr>\n",
       "    <tr>\n",
       "      <th>4212</th>\n",
       "      <td>1</td>\n",
       "      <td>2.120</td>\n",
       "      <td>35.430000</td>\n",
       "      <td>2017-12-18</td>\n",
       "      <td>1</td>\n",
       "      <td>2.00</td>\n",
       "      <td>18</td>\n",
       "      <td>16.600000</td>\n",
       "      <td>9</td>\n",
       "      <td>False</td>\n",
       "      <td>False</td>\n",
       "      <td>False</td>\n",
       "      <td>8.800000</td>\n",
       "      <td>2</td>\n",
       "      <td>тосно</td>\n",
       "      <td>NaN</td>\n",
       "      <td>NaN</td>\n",
       "      <td>NaN</td>\n",
       "      <td>NaN</td>\n",
       "      <td>NaN</td>\n",
       "      <td>NaN</td>\n",
       "      <td>36.0</td>\n",
       "    </tr>\n",
       "    <tr>\n",
       "      <th>22960</th>\n",
       "      <td>17</td>\n",
       "      <td>2.300</td>\n",
       "      <td>53.599998</td>\n",
       "      <td>2018-10-18</td>\n",
       "      <td>2</td>\n",
       "      <td>2.00</td>\n",
       "      <td>2</td>\n",
       "      <td>19.000000</td>\n",
       "      <td>1</td>\n",
       "      <td>False</td>\n",
       "      <td>False</td>\n",
       "      <td>False</td>\n",
       "      <td>10.000000</td>\n",
       "      <td>0</td>\n",
       "      <td>всеволожск</td>\n",
       "      <td>NaN</td>\n",
       "      <td>NaN</td>\n",
       "      <td>NaN</td>\n",
       "      <td>NaN</td>\n",
       "      <td>NaN</td>\n",
       "      <td>NaN</td>\n",
       "      <td>NaN</td>\n",
       "    </tr>\n",
       "    <tr>\n",
       "      <th>2572</th>\n",
       "      <td>4</td>\n",
       "      <td>2.400</td>\n",
       "      <td>62.000000</td>\n",
       "      <td>2018-12-27</td>\n",
       "      <td>3</td>\n",
       "      <td>2.00</td>\n",
       "      <td>5</td>\n",
       "      <td>40.000000</td>\n",
       "      <td>4</td>\n",
       "      <td>False</td>\n",
       "      <td>False</td>\n",
       "      <td>False</td>\n",
       "      <td>6.000000</td>\n",
       "      <td>1</td>\n",
       "      <td>луга</td>\n",
       "      <td>NaN</td>\n",
       "      <td>NaN</td>\n",
       "      <td>NaN</td>\n",
       "      <td>NaN</td>\n",
       "      <td>NaN</td>\n",
       "      <td>NaN</td>\n",
       "      <td>NaN</td>\n",
       "    </tr>\n",
       "    <tr>\n",
       "      <th>19098</th>\n",
       "      <td>7</td>\n",
       "      <td>2.700</td>\n",
       "      <td>56.000000</td>\n",
       "      <td>2018-02-04</td>\n",
       "      <td>3</td>\n",
       "      <td>2.00</td>\n",
       "      <td>5</td>\n",
       "      <td>46.000000</td>\n",
       "      <td>1</td>\n",
       "      <td>False</td>\n",
       "      <td>False</td>\n",
       "      <td>False</td>\n",
       "      <td>6.000000</td>\n",
       "      <td>0</td>\n",
       "      <td>выборг</td>\n",
       "      <td>NaN</td>\n",
       "      <td>NaN</td>\n",
       "      <td>NaN</td>\n",
       "      <td>NaN</td>\n",
       "      <td>NaN</td>\n",
       "      <td>NaN</td>\n",
       "      <td>282.0</td>\n",
       "    </tr>\n",
       "    <tr>\n",
       "      <th>3148</th>\n",
       "      <td>14</td>\n",
       "      <td>2.900</td>\n",
       "      <td>75.000000</td>\n",
       "      <td>2018-11-12</td>\n",
       "      <td>3</td>\n",
       "      <td>32.00</td>\n",
       "      <td>3</td>\n",
       "      <td>53.000000</td>\n",
       "      <td>2</td>\n",
       "      <td>False</td>\n",
       "      <td>False</td>\n",
       "      <td>False</td>\n",
       "      <td>8.000000</td>\n",
       "      <td>0</td>\n",
       "      <td>волхов</td>\n",
       "      <td>NaN</td>\n",
       "      <td>NaN</td>\n",
       "      <td>NaN</td>\n",
       "      <td>NaN</td>\n",
       "      <td>NaN</td>\n",
       "      <td>NaN</td>\n",
       "      <td>NaN</td>\n",
       "    </tr>\n",
       "    <tr>\n",
       "      <th>552</th>\n",
       "      <td>11</td>\n",
       "      <td>2.999</td>\n",
       "      <td>33.500000</td>\n",
       "      <td>2017-03-30</td>\n",
       "      <td>1</td>\n",
       "      <td>2.00</td>\n",
       "      <td>15</td>\n",
       "      <td>17.500000</td>\n",
       "      <td>6</td>\n",
       "      <td>False</td>\n",
       "      <td>False</td>\n",
       "      <td>False</td>\n",
       "      <td>6.500000</td>\n",
       "      <td>0</td>\n",
       "      <td>санкт-петербург</td>\n",
       "      <td>33972.0</td>\n",
       "      <td>11746.0</td>\n",
       "      <td>1.0</td>\n",
       "      <td>520.0</td>\n",
       "      <td>1.0</td>\n",
       "      <td>949.0</td>\n",
       "      <td>270.0</td>\n",
       "    </tr>\n",
       "    <tr>\n",
       "      <th>11352</th>\n",
       "      <td>4</td>\n",
       "      <td>3.300</td>\n",
       "      <td>36.000000</td>\n",
       "      <td>2017-06-18</td>\n",
       "      <td>1</td>\n",
       "      <td>2.00</td>\n",
       "      <td>17</td>\n",
       "      <td>15.200000</td>\n",
       "      <td>12</td>\n",
       "      <td>False</td>\n",
       "      <td>False</td>\n",
       "      <td>False</td>\n",
       "      <td>10.100000</td>\n",
       "      <td>0</td>\n",
       "      <td>металлострой</td>\n",
       "      <td>25268.0</td>\n",
       "      <td>26980.0</td>\n",
       "      <td>0.0</td>\n",
       "      <td>NaN</td>\n",
       "      <td>0.0</td>\n",
       "      <td>NaN</td>\n",
       "      <td>53.0</td>\n",
       "    </tr>\n",
       "    <tr>\n",
       "      <th>20520</th>\n",
       "      <td>9</td>\n",
       "      <td>3.600</td>\n",
       "      <td>38.000000</td>\n",
       "      <td>2018-07-05</td>\n",
       "      <td>1</td>\n",
       "      <td>2.00</td>\n",
       "      <td>12</td>\n",
       "      <td>15.000000</td>\n",
       "      <td>9</td>\n",
       "      <td>False</td>\n",
       "      <td>False</td>\n",
       "      <td>False</td>\n",
       "      <td>11.800000</td>\n",
       "      <td>1</td>\n",
       "      <td>кудрово</td>\n",
       "      <td>NaN</td>\n",
       "      <td>NaN</td>\n",
       "      <td>NaN</td>\n",
       "      <td>NaN</td>\n",
       "      <td>NaN</td>\n",
       "      <td>NaN</td>\n",
       "      <td>62.0</td>\n",
       "    </tr>\n",
       "    <tr>\n",
       "      <th>16934</th>\n",
       "      <td>5</td>\n",
       "      <td>4.100</td>\n",
       "      <td>40.000000</td>\n",
       "      <td>2017-10-17</td>\n",
       "      <td>1</td>\n",
       "      <td>1.75</td>\n",
       "      <td>37</td>\n",
       "      <td>17.400000</td>\n",
       "      <td>5</td>\n",
       "      <td>False</td>\n",
       "      <td>False</td>\n",
       "      <td>False</td>\n",
       "      <td>8.340000</td>\n",
       "      <td>0</td>\n",
       "      <td>санкт-петербург</td>\n",
       "      <td>18732.0</td>\n",
       "      <td>20444.0</td>\n",
       "      <td>0.0</td>\n",
       "      <td>NaN</td>\n",
       "      <td>3.0</td>\n",
       "      <td>80.0</td>\n",
       "      <td>71.0</td>\n",
       "    </tr>\n",
       "    <tr>\n",
       "      <th>22309</th>\n",
       "      <td>20</td>\n",
       "      <td>5.300</td>\n",
       "      <td>45.000000</td>\n",
       "      <td>2017-09-30</td>\n",
       "      <td>1</td>\n",
       "      <td>10.30</td>\n",
       "      <td>16</td>\n",
       "      <td>15.500000</td>\n",
       "      <td>15</td>\n",
       "      <td>False</td>\n",
       "      <td>False</td>\n",
       "      <td>False</td>\n",
       "      <td>7.878152</td>\n",
       "      <td>0</td>\n",
       "      <td>санкт-петербург</td>\n",
       "      <td>36353.0</td>\n",
       "      <td>11936.0</td>\n",
       "      <td>2.0</td>\n",
       "      <td>440.0</td>\n",
       "      <td>2.0</td>\n",
       "      <td>450.0</td>\n",
       "      <td>136.0</td>\n",
       "    </tr>\n",
       "    <tr>\n",
       "      <th>15061</th>\n",
       "      <td>19</td>\n",
       "      <td>5.600</td>\n",
       "      <td>56.400002</td>\n",
       "      <td>2018-05-11</td>\n",
       "      <td>2</td>\n",
       "      <td>14.00</td>\n",
       "      <td>14</td>\n",
       "      <td>32.400002</td>\n",
       "      <td>5</td>\n",
       "      <td>False</td>\n",
       "      <td>False</td>\n",
       "      <td>False</td>\n",
       "      <td>9.100000</td>\n",
       "      <td>2</td>\n",
       "      <td>санкт-петербург</td>\n",
       "      <td>14814.0</td>\n",
       "      <td>13610.0</td>\n",
       "      <td>0.0</td>\n",
       "      <td>NaN</td>\n",
       "      <td>0.0</td>\n",
       "      <td>NaN</td>\n",
       "      <td>315.0</td>\n",
       "    </tr>\n",
       "    <tr>\n",
       "      <th>22590</th>\n",
       "      <td>16</td>\n",
       "      <td>6.000</td>\n",
       "      <td>55.000000</td>\n",
       "      <td>2018-10-31</td>\n",
       "      <td>2</td>\n",
       "      <td>1.00</td>\n",
       "      <td>12</td>\n",
       "      <td>32.400002</td>\n",
       "      <td>7</td>\n",
       "      <td>False</td>\n",
       "      <td>False</td>\n",
       "      <td>False</td>\n",
       "      <td>10.000000</td>\n",
       "      <td>0</td>\n",
       "      <td>санкт-петербург</td>\n",
       "      <td>33053.0</td>\n",
       "      <td>14217.0</td>\n",
       "      <td>2.0</td>\n",
       "      <td>293.0</td>\n",
       "      <td>2.0</td>\n",
       "      <td>289.0</td>\n",
       "      <td>13.0</td>\n",
       "    </tr>\n",
       "    <tr>\n",
       "      <th>17496</th>\n",
       "      <td>15</td>\n",
       "      <td>6.700</td>\n",
       "      <td>92.900002</td>\n",
       "      <td>2019-02-19</td>\n",
       "      <td>3</td>\n",
       "      <td>20.00</td>\n",
       "      <td>17</td>\n",
       "      <td>53.200001</td>\n",
       "      <td>14</td>\n",
       "      <td>False</td>\n",
       "      <td>False</td>\n",
       "      <td>False</td>\n",
       "      <td>12.000000</td>\n",
       "      <td>5</td>\n",
       "      <td>санкт-петербург</td>\n",
       "      <td>16295.0</td>\n",
       "      <td>15092.0</td>\n",
       "      <td>1.0</td>\n",
       "      <td>967.0</td>\n",
       "      <td>0.0</td>\n",
       "      <td>NaN</td>\n",
       "      <td>NaN</td>\n",
       "    </tr>\n",
       "    <tr>\n",
       "      <th>22336</th>\n",
       "      <td>19</td>\n",
       "      <td>9.999</td>\n",
       "      <td>92.400002</td>\n",
       "      <td>2019-04-05</td>\n",
       "      <td>2</td>\n",
       "      <td>32.00</td>\n",
       "      <td>6</td>\n",
       "      <td>55.500000</td>\n",
       "      <td>5</td>\n",
       "      <td>False</td>\n",
       "      <td>False</td>\n",
       "      <td>False</td>\n",
       "      <td>16.500000</td>\n",
       "      <td>4</td>\n",
       "      <td>санкт-петербург</td>\n",
       "      <td>18838.0</td>\n",
       "      <td>3506.0</td>\n",
       "      <td>0.0</td>\n",
       "      <td>NaN</td>\n",
       "      <td>3.0</td>\n",
       "      <td>511.0</td>\n",
       "      <td>NaN</td>\n",
       "    </tr>\n",
       "    <tr>\n",
       "      <th>16446</th>\n",
       "      <td>6</td>\n",
       "      <td>12.300</td>\n",
       "      <td>88.300003</td>\n",
       "      <td>2019-03-12</td>\n",
       "      <td>3</td>\n",
       "      <td>2.00</td>\n",
       "      <td>5</td>\n",
       "      <td>63.900002</td>\n",
       "      <td>2</td>\n",
       "      <td>False</td>\n",
       "      <td>False</td>\n",
       "      <td>False</td>\n",
       "      <td>12.000000</td>\n",
       "      <td>0</td>\n",
       "      <td>санкт-петербург</td>\n",
       "      <td>38415.0</td>\n",
       "      <td>7675.0</td>\n",
       "      <td>1.0</td>\n",
       "      <td>568.0</td>\n",
       "      <td>1.0</td>\n",
       "      <td>154.0</td>\n",
       "      <td>NaN</td>\n",
       "    </tr>\n",
       "    <tr>\n",
       "      <th>22869</th>\n",
       "      <td>0</td>\n",
       "      <td>15.000</td>\n",
       "      <td>25.000000</td>\n",
       "      <td>2018-07-25</td>\n",
       "      <td>1</td>\n",
       "      <td>100.00</td>\n",
       "      <td>5</td>\n",
       "      <td>14.000000</td>\n",
       "      <td>5</td>\n",
       "      <td>True</td>\n",
       "      <td>False</td>\n",
       "      <td>False</td>\n",
       "      <td>11.000000</td>\n",
       "      <td>5</td>\n",
       "      <td>санкт-петербург</td>\n",
       "      <td>34963.0</td>\n",
       "      <td>8283.0</td>\n",
       "      <td>1.0</td>\n",
       "      <td>223.0</td>\n",
       "      <td>3.0</td>\n",
       "      <td>30.0</td>\n",
       "      <td>19.0</td>\n",
       "    </tr>\n",
       "  </tbody>\n",
       "</table>\n",
       "</div>"
      ],
      "text/plain": [
       "       total_images  last_price_million  total_area first_day_exposition  \\\n",
       "16884             0               1.500   33.000000           2018-10-03   \n",
       "5712              5               1.500   42.799999           2017-08-14   \n",
       "5850              9               1.650   35.500000           2018-05-29   \n",
       "19329             5               1.700   40.000000           2018-07-15   \n",
       "4212              1               2.120   35.430000           2017-12-18   \n",
       "22960            17               2.300   53.599998           2018-10-18   \n",
       "2572              4               2.400   62.000000           2018-12-27   \n",
       "19098             7               2.700   56.000000           2018-02-04   \n",
       "3148             14               2.900   75.000000           2018-11-12   \n",
       "552              11               2.999   33.500000           2017-03-30   \n",
       "11352             4               3.300   36.000000           2017-06-18   \n",
       "20520             9               3.600   38.000000           2018-07-05   \n",
       "16934             5               4.100   40.000000           2017-10-17   \n",
       "22309            20               5.300   45.000000           2017-09-30   \n",
       "15061            19               5.600   56.400002           2018-05-11   \n",
       "22590            16               6.000   55.000000           2018-10-31   \n",
       "17496            15               6.700   92.900002           2019-02-19   \n",
       "22336            19               9.999   92.400002           2019-04-05   \n",
       "16446             6              12.300   88.300003           2019-03-12   \n",
       "22869             0              15.000   25.000000           2018-07-25   \n",
       "\n",
       "       rooms  ceiling_height  floors_total  living_area  floor  is_apartment  \\\n",
       "16884      1            2.00             5    20.000000      5         False   \n",
       "5712       2            1.20             2    27.500000      1         False   \n",
       "5850       1            2.00             5    20.277012      5         False   \n",
       "19329      2            2.00             9    22.847338      8         False   \n",
       "4212       1            2.00            18    16.600000      9         False   \n",
       "22960      2            2.00             2    19.000000      1         False   \n",
       "2572       3            2.00             5    40.000000      4         False   \n",
       "19098      3            2.00             5    46.000000      1         False   \n",
       "3148       3           32.00             3    53.000000      2         False   \n",
       "552        1            2.00            15    17.500000      6         False   \n",
       "11352      1            2.00            17    15.200000     12         False   \n",
       "20520      1            2.00            12    15.000000      9         False   \n",
       "16934      1            1.75            37    17.400000      5         False   \n",
       "22309      1           10.30            16    15.500000     15         False   \n",
       "15061      2           14.00            14    32.400002      5         False   \n",
       "22590      2            1.00            12    32.400002      7         False   \n",
       "17496      3           20.00            17    53.200001     14         False   \n",
       "22336      2           32.00             6    55.500000      5         False   \n",
       "16446      3            2.00             5    63.900002      2         False   \n",
       "22869      1          100.00             5    14.000000      5          True   \n",
       "\n",
       "       is_studio  is_open_plan  kitchen_area  balcony    locality_name  \\\n",
       "16884      False         False      6.000000        0           выборг   \n",
       "5712       False         False      5.200000        0              мга   \n",
       "5850       False         False      6.214987        0             луга   \n",
       "19329      False         False      7.002802        0     сосновый бор   \n",
       "4212       False         False      8.800000        2            тосно   \n",
       "22960      False         False     10.000000        0       всеволожск   \n",
       "2572       False         False      6.000000        1             луга   \n",
       "19098      False         False      6.000000        0           выборг   \n",
       "3148       False         False      8.000000        0           волхов   \n",
       "552        False         False      6.500000        0  санкт-петербург   \n",
       "11352      False         False     10.100000        0     металлострой   \n",
       "20520      False         False     11.800000        1          кудрово   \n",
       "16934      False         False      8.340000        0  санкт-петербург   \n",
       "22309      False         False      7.878152        0  санкт-петербург   \n",
       "15061      False         False      9.100000        2  санкт-петербург   \n",
       "22590      False         False     10.000000        0  санкт-петербург   \n",
       "17496      False         False     12.000000        5  санкт-петербург   \n",
       "22336      False         False     16.500000        4  санкт-петербург   \n",
       "16446      False         False     12.000000        0  санкт-петербург   \n",
       "22869      False         False     11.000000        5  санкт-петербург   \n",
       "\n",
       "       airports_nearest  city_centers_nearest  parks_around_3000  \\\n",
       "16884               NaN                   NaN                NaN   \n",
       "5712                NaN                   NaN                NaN   \n",
       "5850                NaN                   NaN                NaN   \n",
       "19329               NaN                   NaN                NaN   \n",
       "4212                NaN                   NaN                NaN   \n",
       "22960               NaN                   NaN                NaN   \n",
       "2572                NaN                   NaN                NaN   \n",
       "19098               NaN                   NaN                NaN   \n",
       "3148                NaN                   NaN                NaN   \n",
       "552             33972.0               11746.0                1.0   \n",
       "11352           25268.0               26980.0                0.0   \n",
       "20520               NaN                   NaN                NaN   \n",
       "16934           18732.0               20444.0                0.0   \n",
       "22309           36353.0               11936.0                2.0   \n",
       "15061           14814.0               13610.0                0.0   \n",
       "22590           33053.0               14217.0                2.0   \n",
       "17496           16295.0               15092.0                1.0   \n",
       "22336           18838.0                3506.0                0.0   \n",
       "16446           38415.0                7675.0                1.0   \n",
       "22869           34963.0                8283.0                1.0   \n",
       "\n",
       "       parks_nearest  ponds_around_3000  ponds_nearest  days_exposition  \n",
       "16884            NaN                NaN            NaN              6.0  \n",
       "5712             NaN                NaN            NaN            248.0  \n",
       "5850             NaN                NaN            NaN            100.0  \n",
       "19329            NaN                NaN            NaN             45.0  \n",
       "4212             NaN                NaN            NaN             36.0  \n",
       "22960            NaN                NaN            NaN              NaN  \n",
       "2572             NaN                NaN            NaN              NaN  \n",
       "19098            NaN                NaN            NaN            282.0  \n",
       "3148             NaN                NaN            NaN              NaN  \n",
       "552            520.0                1.0          949.0            270.0  \n",
       "11352            NaN                0.0            NaN             53.0  \n",
       "20520            NaN                NaN            NaN             62.0  \n",
       "16934            NaN                3.0           80.0             71.0  \n",
       "22309          440.0                2.0          450.0            136.0  \n",
       "15061            NaN                0.0            NaN            315.0  \n",
       "22590          293.0                2.0          289.0             13.0  \n",
       "17496          967.0                0.0            NaN              NaN  \n",
       "22336            NaN                3.0          511.0              NaN  \n",
       "16446          568.0                1.0          154.0              NaN  \n",
       "22869          223.0                3.0           30.0             19.0  "
      ]
     },
     "metadata": {},
     "output_type": "display_data"
    },
    {
     "data": {
      "text/html": [
       "<div>\n",
       "<style scoped>\n",
       "    .dataframe tbody tr th:only-of-type {\n",
       "        vertical-align: middle;\n",
       "    }\n",
       "\n",
       "    .dataframe tbody tr th {\n",
       "        vertical-align: top;\n",
       "    }\n",
       "\n",
       "    .dataframe thead th {\n",
       "        text-align: right;\n",
       "    }\n",
       "</style>\n",
       "<table border=\"1\" class=\"dataframe\">\n",
       "  <thead>\n",
       "    <tr style=\"text-align: right;\">\n",
       "      <th></th>\n",
       "      <th>total_images</th>\n",
       "      <th>last_price_million</th>\n",
       "      <th>total_area</th>\n",
       "      <th>rooms</th>\n",
       "      <th>ceiling_height</th>\n",
       "      <th>floors_total</th>\n",
       "      <th>living_area</th>\n",
       "      <th>floor</th>\n",
       "      <th>kitchen_area</th>\n",
       "      <th>balcony</th>\n",
       "      <th>airports_nearest</th>\n",
       "      <th>city_centers_nearest</th>\n",
       "      <th>parks_around_3000</th>\n",
       "      <th>parks_nearest</th>\n",
       "      <th>ponds_around_3000</th>\n",
       "      <th>ponds_nearest</th>\n",
       "      <th>days_exposition</th>\n",
       "    </tr>\n",
       "  </thead>\n",
       "  <tbody>\n",
       "    <tr>\n",
       "      <th>count</th>\n",
       "      <td>23312.000000</td>\n",
       "      <td>23312.000000</td>\n",
       "      <td>23312.000000</td>\n",
       "      <td>23312.000000</td>\n",
       "      <td>23312.000000</td>\n",
       "      <td>23312.000000</td>\n",
       "      <td>23312.000000</td>\n",
       "      <td>23312.000000</td>\n",
       "      <td>23312.000000</td>\n",
       "      <td>23312.000000</td>\n",
       "      <td>17834.000000</td>\n",
       "      <td>17855.000000</td>\n",
       "      <td>17856.000000</td>\n",
       "      <td>7906.000000</td>\n",
       "      <td>17856.000000</td>\n",
       "      <td>8907.000000</td>\n",
       "      <td>20186.000000</td>\n",
       "    </tr>\n",
       "    <tr>\n",
       "      <th>mean</th>\n",
       "      <td>9.870625</td>\n",
       "      <td>6.176234</td>\n",
       "      <td>58.903103</td>\n",
       "      <td>2.048730</td>\n",
       "      <td>2.742175</td>\n",
       "      <td>10.686299</td>\n",
       "      <td>33.715576</td>\n",
       "      <td>5.873799</td>\n",
       "      <td>10.310096</td>\n",
       "      <td>0.594072</td>\n",
       "      <td>28816.218683</td>\n",
       "      <td>14248.539065</td>\n",
       "      <td>0.606295</td>\n",
       "      <td>491.480142</td>\n",
       "      <td>0.764729</td>\n",
       "      <td>519.623555</td>\n",
       "      <td>180.330477</td>\n",
       "    </tr>\n",
       "    <tr>\n",
       "      <th>std</th>\n",
       "      <td>5.672189</td>\n",
       "      <td>6.991754</td>\n",
       "      <td>28.604506</td>\n",
       "      <td>1.012356</td>\n",
       "      <td>0.223393</td>\n",
       "      <td>6.577230</td>\n",
       "      <td>18.561470</td>\n",
       "      <td>4.867886</td>\n",
       "      <td>5.538591</td>\n",
       "      <td>0.960140</td>\n",
       "      <td>12657.261867</td>\n",
       "      <td>8606.611920</td>\n",
       "      <td>0.797021</td>\n",
       "      <td>341.394923</td>\n",
       "      <td>0.935040</td>\n",
       "      <td>278.045270</td>\n",
       "      <td>219.221741</td>\n",
       "    </tr>\n",
       "    <tr>\n",
       "      <th>min</th>\n",
       "      <td>0.000000</td>\n",
       "      <td>0.430000</td>\n",
       "      <td>13.000000</td>\n",
       "      <td>0.000000</td>\n",
       "      <td>2.250000</td>\n",
       "      <td>1.000000</td>\n",
       "      <td>6.000000</td>\n",
       "      <td>1.000000</td>\n",
       "      <td>0.000000</td>\n",
       "      <td>0.000000</td>\n",
       "      <td>0.000000</td>\n",
       "      <td>181.000000</td>\n",
       "      <td>0.000000</td>\n",
       "      <td>1.000000</td>\n",
       "      <td>0.000000</td>\n",
       "      <td>13.000000</td>\n",
       "      <td>1.000000</td>\n",
       "    </tr>\n",
       "    <tr>\n",
       "      <th>25%</th>\n",
       "      <td>6.000000</td>\n",
       "      <td>3.400000</td>\n",
       "      <td>40.000000</td>\n",
       "      <td>1.000000</td>\n",
       "      <td>2.600000</td>\n",
       "      <td>5.000000</td>\n",
       "      <td>19.000000</td>\n",
       "      <td>2.000000</td>\n",
       "      <td>7.000000</td>\n",
       "      <td>0.000000</td>\n",
       "      <td>18539.000000</td>\n",
       "      <td>9359.500000</td>\n",
       "      <td>0.000000</td>\n",
       "      <td>288.000000</td>\n",
       "      <td>0.000000</td>\n",
       "      <td>295.000000</td>\n",
       "      <td>45.000000</td>\n",
       "    </tr>\n",
       "    <tr>\n",
       "      <th>50%</th>\n",
       "      <td>9.000000</td>\n",
       "      <td>4.600000</td>\n",
       "      <td>52.000000</td>\n",
       "      <td>2.000000</td>\n",
       "      <td>2.771284</td>\n",
       "      <td>9.000000</td>\n",
       "      <td>30.000000</td>\n",
       "      <td>4.000000</td>\n",
       "      <td>9.000000</td>\n",
       "      <td>0.000000</td>\n",
       "      <td>26785.500000</td>\n",
       "      <td>13140.000000</td>\n",
       "      <td>0.000000</td>\n",
       "      <td>455.000000</td>\n",
       "      <td>0.000000</td>\n",
       "      <td>503.000000</td>\n",
       "      <td>95.000000</td>\n",
       "    </tr>\n",
       "    <tr>\n",
       "      <th>75%</th>\n",
       "      <td>14.000000</td>\n",
       "      <td>6.700000</td>\n",
       "      <td>69.000000</td>\n",
       "      <td>3.000000</td>\n",
       "      <td>2.771284</td>\n",
       "      <td>16.000000</td>\n",
       "      <td>42.000000</td>\n",
       "      <td>8.000000</td>\n",
       "      <td>11.900000</td>\n",
       "      <td>1.000000</td>\n",
       "      <td>37312.250000</td>\n",
       "      <td>16299.500000</td>\n",
       "      <td>1.000000</td>\n",
       "      <td>613.000000</td>\n",
       "      <td>1.000000</td>\n",
       "      <td>733.000000</td>\n",
       "      <td>231.000000</td>\n",
       "    </tr>\n",
       "    <tr>\n",
       "      <th>max</th>\n",
       "      <td>50.000000</td>\n",
       "      <td>330.000000</td>\n",
       "      <td>250.000000</td>\n",
       "      <td>7.000000</td>\n",
       "      <td>8.300000</td>\n",
       "      <td>36.000000</td>\n",
       "      <td>184.000000</td>\n",
       "      <td>33.000000</td>\n",
       "      <td>107.000000</td>\n",
       "      <td>5.000000</td>\n",
       "      <td>84869.000000</td>\n",
       "      <td>65968.000000</td>\n",
       "      <td>3.000000</td>\n",
       "      <td>3190.000000</td>\n",
       "      <td>3.000000</td>\n",
       "      <td>1344.000000</td>\n",
       "      <td>1580.000000</td>\n",
       "    </tr>\n",
       "  </tbody>\n",
       "</table>\n",
       "</div>"
      ],
      "text/plain": [
       "       total_images  last_price_million    total_area         rooms  \\\n",
       "count  23312.000000        23312.000000  23312.000000  23312.000000   \n",
       "mean       9.870625            6.176234     58.903103      2.048730   \n",
       "std        5.672189            6.991754     28.604506      1.012356   \n",
       "min        0.000000            0.430000     13.000000      0.000000   \n",
       "25%        6.000000            3.400000     40.000000      1.000000   \n",
       "50%        9.000000            4.600000     52.000000      2.000000   \n",
       "75%       14.000000            6.700000     69.000000      3.000000   \n",
       "max       50.000000          330.000000    250.000000      7.000000   \n",
       "\n",
       "       ceiling_height  floors_total   living_area         floor  kitchen_area  \\\n",
       "count    23312.000000  23312.000000  23312.000000  23312.000000  23312.000000   \n",
       "mean         2.742175     10.686299     33.715576      5.873799     10.310096   \n",
       "std          0.223393      6.577230     18.561470      4.867886      5.538591   \n",
       "min          2.250000      1.000000      6.000000      1.000000      0.000000   \n",
       "25%          2.600000      5.000000     19.000000      2.000000      7.000000   \n",
       "50%          2.771284      9.000000     30.000000      4.000000      9.000000   \n",
       "75%          2.771284     16.000000     42.000000      8.000000     11.900000   \n",
       "max          8.300000     36.000000    184.000000     33.000000    107.000000   \n",
       "\n",
       "            balcony  airports_nearest  city_centers_nearest  \\\n",
       "count  23312.000000      17834.000000          17855.000000   \n",
       "mean       0.594072      28816.218683          14248.539065   \n",
       "std        0.960140      12657.261867           8606.611920   \n",
       "min        0.000000          0.000000            181.000000   \n",
       "25%        0.000000      18539.000000           9359.500000   \n",
       "50%        0.000000      26785.500000          13140.000000   \n",
       "75%        1.000000      37312.250000          16299.500000   \n",
       "max        5.000000      84869.000000          65968.000000   \n",
       "\n",
       "       parks_around_3000  parks_nearest  ponds_around_3000  ponds_nearest  \\\n",
       "count       17856.000000    7906.000000       17856.000000    8907.000000   \n",
       "mean            0.606295     491.480142           0.764729     519.623555   \n",
       "std             0.797021     341.394923           0.935040     278.045270   \n",
       "min             0.000000       1.000000           0.000000      13.000000   \n",
       "25%             0.000000     288.000000           0.000000     295.000000   \n",
       "50%             0.000000     455.000000           0.000000     503.000000   \n",
       "75%             1.000000     613.000000           1.000000     733.000000   \n",
       "max             3.000000    3190.000000           3.000000    1344.000000   \n",
       "\n",
       "       days_exposition  \n",
       "count     20186.000000  \n",
       "mean        180.330477  \n",
       "std         219.221741  \n",
       "min           1.000000  \n",
       "25%          45.000000  \n",
       "50%          95.000000  \n",
       "75%         231.000000  \n",
       "max        1580.000000  "
      ]
     },
     "execution_count": 21,
     "metadata": {},
     "output_type": "execute_result"
    }
   ],
   "source": [
    "# уменьшили высоту потолка в объявлениях с высотой от 22м до 28м в 10 раз\n",
    "df.loc[(df['ceiling_height'] >= 22) & (df['ceiling_height'] <= 28), 'ceiling_height'] *= 0.1\n",
    "display(df.loc[(df['ceiling_height'] < 2.2) | (df['ceiling_height'] > 10)].sort_values('last_price_million', ascending=True))\n",
    "\n",
    "# удалили строки, где высота потолка меньше 2,2м и выше 10м\n",
    "df = df.loc[(df['ceiling_height'] > 2.2) & (df['ceiling_height'] < 10)]\n",
    "df.describe()"
   ]
  },
  {
   "cell_type": "markdown",
   "metadata": {},
   "source": [
    "#### Расстояние до парка\n",
    "\n",
    "По диаграмме видно, в отличие от столбца `ponds_nearest`, где расстояние не превышает 1500 метров, `parks_nearest` превышает 3000 метров, что противоречит названию столбца.\\\n",
    "Заменим значения в этих строках на *None*, как в строках, где значение `parks_around3000` равно 0."
   ]
  },
  {
   "cell_type": "code",
   "execution_count": 22,
   "metadata": {
    "hidePrompt": true
   },
   "outputs": [
    {
     "data": {
      "text/html": [
       "<div>\n",
       "<style scoped>\n",
       "    .dataframe tbody tr th:only-of-type {\n",
       "        vertical-align: middle;\n",
       "    }\n",
       "\n",
       "    .dataframe tbody tr th {\n",
       "        vertical-align: top;\n",
       "    }\n",
       "\n",
       "    .dataframe thead th {\n",
       "        text-align: right;\n",
       "    }\n",
       "</style>\n",
       "<table border=\"1\" class=\"dataframe\">\n",
       "  <thead>\n",
       "    <tr style=\"text-align: right;\">\n",
       "      <th></th>\n",
       "      <th>total_images</th>\n",
       "      <th>last_price_million</th>\n",
       "      <th>total_area</th>\n",
       "      <th>first_day_exposition</th>\n",
       "      <th>rooms</th>\n",
       "      <th>ceiling_height</th>\n",
       "      <th>floors_total</th>\n",
       "      <th>living_area</th>\n",
       "      <th>floor</th>\n",
       "      <th>is_apartment</th>\n",
       "      <th>is_studio</th>\n",
       "      <th>is_open_plan</th>\n",
       "      <th>kitchen_area</th>\n",
       "      <th>balcony</th>\n",
       "      <th>locality_name</th>\n",
       "      <th>airports_nearest</th>\n",
       "      <th>city_centers_nearest</th>\n",
       "      <th>parks_around_3000</th>\n",
       "      <th>parks_nearest</th>\n",
       "      <th>ponds_around_3000</th>\n",
       "      <th>ponds_nearest</th>\n",
       "      <th>days_exposition</th>\n",
       "    </tr>\n",
       "  </thead>\n",
       "  <tbody>\n",
       "    <tr>\n",
       "      <th>1590</th>\n",
       "      <td>3</td>\n",
       "      <td>7.50</td>\n",
       "      <td>70.0</td>\n",
       "      <td>2017-07-11</td>\n",
       "      <td>2</td>\n",
       "      <td>2.771284</td>\n",
       "      <td>18</td>\n",
       "      <td>37.000000</td>\n",
       "      <td>13</td>\n",
       "      <td>False</td>\n",
       "      <td>False</td>\n",
       "      <td>False</td>\n",
       "      <td>10.0</td>\n",
       "      <td>0</td>\n",
       "      <td>санкт-петербург</td>\n",
       "      <td>14878.0</td>\n",
       "      <td>9791.0</td>\n",
       "      <td>0.0</td>\n",
       "      <td>3064.0</td>\n",
       "      <td>1.0</td>\n",
       "      <td>264.0</td>\n",
       "      <td>4.0</td>\n",
       "    </tr>\n",
       "    <tr>\n",
       "      <th>10959</th>\n",
       "      <td>9</td>\n",
       "      <td>3.00</td>\n",
       "      <td>31.1</td>\n",
       "      <td>2017-03-21</td>\n",
       "      <td>1</td>\n",
       "      <td>2.771284</td>\n",
       "      <td>5</td>\n",
       "      <td>17.700001</td>\n",
       "      <td>2</td>\n",
       "      <td>False</td>\n",
       "      <td>False</td>\n",
       "      <td>False</td>\n",
       "      <td>5.5</td>\n",
       "      <td>0</td>\n",
       "      <td>санкт-петербург</td>\n",
       "      <td>14821.0</td>\n",
       "      <td>9734.0</td>\n",
       "      <td>0.0</td>\n",
       "      <td>3190.0</td>\n",
       "      <td>1.0</td>\n",
       "      <td>431.0</td>\n",
       "      <td>234.0</td>\n",
       "    </tr>\n",
       "    <tr>\n",
       "      <th>19208</th>\n",
       "      <td>17</td>\n",
       "      <td>14.95</td>\n",
       "      <td>187.0</td>\n",
       "      <td>2017-10-12</td>\n",
       "      <td>5</td>\n",
       "      <td>3.000000</td>\n",
       "      <td>2</td>\n",
       "      <td>80.000000</td>\n",
       "      <td>2</td>\n",
       "      <td>False</td>\n",
       "      <td>False</td>\n",
       "      <td>False</td>\n",
       "      <td>17.0</td>\n",
       "      <td>1</td>\n",
       "      <td>санкт-петербург</td>\n",
       "      <td>36805.0</td>\n",
       "      <td>8656.0</td>\n",
       "      <td>0.0</td>\n",
       "      <td>3013.0</td>\n",
       "      <td>3.0</td>\n",
       "      <td>537.0</td>\n",
       "      <td>49.0</td>\n",
       "    </tr>\n",
       "    <tr>\n",
       "      <th>19430</th>\n",
       "      <td>9</td>\n",
       "      <td>3.90</td>\n",
       "      <td>30.5</td>\n",
       "      <td>2018-02-22</td>\n",
       "      <td>1</td>\n",
       "      <td>2.600000</td>\n",
       "      <td>5</td>\n",
       "      <td>16.500000</td>\n",
       "      <td>1</td>\n",
       "      <td>False</td>\n",
       "      <td>False</td>\n",
       "      <td>False</td>\n",
       "      <td>5.5</td>\n",
       "      <td>0</td>\n",
       "      <td>санкт-петербург</td>\n",
       "      <td>14821.0</td>\n",
       "      <td>9734.0</td>\n",
       "      <td>0.0</td>\n",
       "      <td>3190.0</td>\n",
       "      <td>1.0</td>\n",
       "      <td>431.0</td>\n",
       "      <td>176.0</td>\n",
       "    </tr>\n",
       "  </tbody>\n",
       "</table>\n",
       "</div>"
      ],
      "text/plain": [
       "       total_images  last_price_million  total_area first_day_exposition  \\\n",
       "1590              3                7.50        70.0           2017-07-11   \n",
       "10959             9                3.00        31.1           2017-03-21   \n",
       "19208            17               14.95       187.0           2017-10-12   \n",
       "19430             9                3.90        30.5           2018-02-22   \n",
       "\n",
       "       rooms  ceiling_height  floors_total  living_area  floor  is_apartment  \\\n",
       "1590       2        2.771284            18    37.000000     13         False   \n",
       "10959      1        2.771284             5    17.700001      2         False   \n",
       "19208      5        3.000000             2    80.000000      2         False   \n",
       "19430      1        2.600000             5    16.500000      1         False   \n",
       "\n",
       "       is_studio  is_open_plan  kitchen_area  balcony    locality_name  \\\n",
       "1590       False         False          10.0        0  санкт-петербург   \n",
       "10959      False         False           5.5        0  санкт-петербург   \n",
       "19208      False         False          17.0        1  санкт-петербург   \n",
       "19430      False         False           5.5        0  санкт-петербург   \n",
       "\n",
       "       airports_nearest  city_centers_nearest  parks_around_3000  \\\n",
       "1590            14878.0                9791.0                0.0   \n",
       "10959           14821.0                9734.0                0.0   \n",
       "19208           36805.0                8656.0                0.0   \n",
       "19430           14821.0                9734.0                0.0   \n",
       "\n",
       "       parks_nearest  ponds_around_3000  ponds_nearest  days_exposition  \n",
       "1590          3064.0                1.0          264.0              4.0  \n",
       "10959         3190.0                1.0          431.0            234.0  \n",
       "19208         3013.0                3.0          537.0             49.0  \n",
       "19430         3190.0                1.0          431.0            176.0  "
      ]
     },
     "metadata": {},
     "output_type": "display_data"
    },
    {
     "data": {
      "text/html": [
       "<div>\n",
       "<style scoped>\n",
       "    .dataframe tbody tr th:only-of-type {\n",
       "        vertical-align: middle;\n",
       "    }\n",
       "\n",
       "    .dataframe tbody tr th {\n",
       "        vertical-align: top;\n",
       "    }\n",
       "\n",
       "    .dataframe thead th {\n",
       "        text-align: right;\n",
       "    }\n",
       "</style>\n",
       "<table border=\"1\" class=\"dataframe\">\n",
       "  <thead>\n",
       "    <tr style=\"text-align: right;\">\n",
       "      <th></th>\n",
       "      <th>total_images</th>\n",
       "      <th>last_price_million</th>\n",
       "      <th>total_area</th>\n",
       "      <th>rooms</th>\n",
       "      <th>ceiling_height</th>\n",
       "      <th>floors_total</th>\n",
       "      <th>living_area</th>\n",
       "      <th>floor</th>\n",
       "      <th>kitchen_area</th>\n",
       "      <th>balcony</th>\n",
       "      <th>airports_nearest</th>\n",
       "      <th>city_centers_nearest</th>\n",
       "      <th>parks_around_3000</th>\n",
       "      <th>parks_nearest</th>\n",
       "      <th>ponds_around_3000</th>\n",
       "      <th>ponds_nearest</th>\n",
       "      <th>days_exposition</th>\n",
       "    </tr>\n",
       "  </thead>\n",
       "  <tbody>\n",
       "    <tr>\n",
       "      <th>count</th>\n",
       "      <td>23312.000000</td>\n",
       "      <td>23312.000000</td>\n",
       "      <td>23312.000000</td>\n",
       "      <td>23312.000000</td>\n",
       "      <td>23312.000000</td>\n",
       "      <td>23312.000000</td>\n",
       "      <td>23312.000000</td>\n",
       "      <td>23312.000000</td>\n",
       "      <td>23312.000000</td>\n",
       "      <td>23312.000000</td>\n",
       "      <td>17834.000000</td>\n",
       "      <td>17855.000000</td>\n",
       "      <td>17856.000000</td>\n",
       "      <td>7902.000000</td>\n",
       "      <td>17856.000000</td>\n",
       "      <td>8907.000000</td>\n",
       "      <td>20186.000000</td>\n",
       "    </tr>\n",
       "    <tr>\n",
       "      <th>mean</th>\n",
       "      <td>9.870625</td>\n",
       "      <td>6.176234</td>\n",
       "      <td>58.903103</td>\n",
       "      <td>2.048730</td>\n",
       "      <td>2.742175</td>\n",
       "      <td>10.686299</td>\n",
       "      <td>33.715576</td>\n",
       "      <td>5.873799</td>\n",
       "      <td>10.310096</td>\n",
       "      <td>0.594072</td>\n",
       "      <td>28816.218683</td>\n",
       "      <td>14248.539065</td>\n",
       "      <td>0.606295</td>\n",
       "      <td>490.152493</td>\n",
       "      <td>0.764729</td>\n",
       "      <td>519.623555</td>\n",
       "      <td>180.330477</td>\n",
       "    </tr>\n",
       "    <tr>\n",
       "      <th>std</th>\n",
       "      <td>5.672189</td>\n",
       "      <td>6.991754</td>\n",
       "      <td>28.604506</td>\n",
       "      <td>1.012356</td>\n",
       "      <td>0.223393</td>\n",
       "      <td>6.577230</td>\n",
       "      <td>18.561470</td>\n",
       "      <td>4.867886</td>\n",
       "      <td>5.538591</td>\n",
       "      <td>0.960140</td>\n",
       "      <td>12657.261867</td>\n",
       "      <td>8606.611920</td>\n",
       "      <td>0.797021</td>\n",
       "      <td>336.336303</td>\n",
       "      <td>0.935040</td>\n",
       "      <td>278.045270</td>\n",
       "      <td>219.221741</td>\n",
       "    </tr>\n",
       "    <tr>\n",
       "      <th>min</th>\n",
       "      <td>0.000000</td>\n",
       "      <td>0.430000</td>\n",
       "      <td>13.000000</td>\n",
       "      <td>0.000000</td>\n",
       "      <td>2.250000</td>\n",
       "      <td>1.000000</td>\n",
       "      <td>6.000000</td>\n",
       "      <td>1.000000</td>\n",
       "      <td>0.000000</td>\n",
       "      <td>0.000000</td>\n",
       "      <td>0.000000</td>\n",
       "      <td>181.000000</td>\n",
       "      <td>0.000000</td>\n",
       "      <td>1.000000</td>\n",
       "      <td>0.000000</td>\n",
       "      <td>13.000000</td>\n",
       "      <td>1.000000</td>\n",
       "    </tr>\n",
       "    <tr>\n",
       "      <th>25%</th>\n",
       "      <td>6.000000</td>\n",
       "      <td>3.400000</td>\n",
       "      <td>40.000000</td>\n",
       "      <td>1.000000</td>\n",
       "      <td>2.600000</td>\n",
       "      <td>5.000000</td>\n",
       "      <td>19.000000</td>\n",
       "      <td>2.000000</td>\n",
       "      <td>7.000000</td>\n",
       "      <td>0.000000</td>\n",
       "      <td>18539.000000</td>\n",
       "      <td>9359.500000</td>\n",
       "      <td>0.000000</td>\n",
       "      <td>288.000000</td>\n",
       "      <td>0.000000</td>\n",
       "      <td>295.000000</td>\n",
       "      <td>45.000000</td>\n",
       "    </tr>\n",
       "    <tr>\n",
       "      <th>50%</th>\n",
       "      <td>9.000000</td>\n",
       "      <td>4.600000</td>\n",
       "      <td>52.000000</td>\n",
       "      <td>2.000000</td>\n",
       "      <td>2.771284</td>\n",
       "      <td>9.000000</td>\n",
       "      <td>30.000000</td>\n",
       "      <td>4.000000</td>\n",
       "      <td>9.000000</td>\n",
       "      <td>0.000000</td>\n",
       "      <td>26785.500000</td>\n",
       "      <td>13140.000000</td>\n",
       "      <td>0.000000</td>\n",
       "      <td>455.000000</td>\n",
       "      <td>0.000000</td>\n",
       "      <td>503.000000</td>\n",
       "      <td>95.000000</td>\n",
       "    </tr>\n",
       "    <tr>\n",
       "      <th>75%</th>\n",
       "      <td>14.000000</td>\n",
       "      <td>6.700000</td>\n",
       "      <td>69.000000</td>\n",
       "      <td>3.000000</td>\n",
       "      <td>2.771284</td>\n",
       "      <td>16.000000</td>\n",
       "      <td>42.000000</td>\n",
       "      <td>8.000000</td>\n",
       "      <td>11.900000</td>\n",
       "      <td>1.000000</td>\n",
       "      <td>37312.250000</td>\n",
       "      <td>16299.500000</td>\n",
       "      <td>1.000000</td>\n",
       "      <td>612.000000</td>\n",
       "      <td>1.000000</td>\n",
       "      <td>733.000000</td>\n",
       "      <td>231.000000</td>\n",
       "    </tr>\n",
       "    <tr>\n",
       "      <th>max</th>\n",
       "      <td>50.000000</td>\n",
       "      <td>330.000000</td>\n",
       "      <td>250.000000</td>\n",
       "      <td>7.000000</td>\n",
       "      <td>8.300000</td>\n",
       "      <td>36.000000</td>\n",
       "      <td>184.000000</td>\n",
       "      <td>33.000000</td>\n",
       "      <td>107.000000</td>\n",
       "      <td>5.000000</td>\n",
       "      <td>84869.000000</td>\n",
       "      <td>65968.000000</td>\n",
       "      <td>3.000000</td>\n",
       "      <td>2984.000000</td>\n",
       "      <td>3.000000</td>\n",
       "      <td>1344.000000</td>\n",
       "      <td>1580.000000</td>\n",
       "    </tr>\n",
       "  </tbody>\n",
       "</table>\n",
       "</div>"
      ],
      "text/plain": [
       "       total_images  last_price_million    total_area         rooms  \\\n",
       "count  23312.000000        23312.000000  23312.000000  23312.000000   \n",
       "mean       9.870625            6.176234     58.903103      2.048730   \n",
       "std        5.672189            6.991754     28.604506      1.012356   \n",
       "min        0.000000            0.430000     13.000000      0.000000   \n",
       "25%        6.000000            3.400000     40.000000      1.000000   \n",
       "50%        9.000000            4.600000     52.000000      2.000000   \n",
       "75%       14.000000            6.700000     69.000000      3.000000   \n",
       "max       50.000000          330.000000    250.000000      7.000000   \n",
       "\n",
       "       ceiling_height  floors_total   living_area         floor  kitchen_area  \\\n",
       "count    23312.000000  23312.000000  23312.000000  23312.000000  23312.000000   \n",
       "mean         2.742175     10.686299     33.715576      5.873799     10.310096   \n",
       "std          0.223393      6.577230     18.561470      4.867886      5.538591   \n",
       "min          2.250000      1.000000      6.000000      1.000000      0.000000   \n",
       "25%          2.600000      5.000000     19.000000      2.000000      7.000000   \n",
       "50%          2.771284      9.000000     30.000000      4.000000      9.000000   \n",
       "75%          2.771284     16.000000     42.000000      8.000000     11.900000   \n",
       "max          8.300000     36.000000    184.000000     33.000000    107.000000   \n",
       "\n",
       "            balcony  airports_nearest  city_centers_nearest  \\\n",
       "count  23312.000000      17834.000000          17855.000000   \n",
       "mean       0.594072      28816.218683          14248.539065   \n",
       "std        0.960140      12657.261867           8606.611920   \n",
       "min        0.000000          0.000000            181.000000   \n",
       "25%        0.000000      18539.000000           9359.500000   \n",
       "50%        0.000000      26785.500000          13140.000000   \n",
       "75%        1.000000      37312.250000          16299.500000   \n",
       "max        5.000000      84869.000000          65968.000000   \n",
       "\n",
       "       parks_around_3000  parks_nearest  ponds_around_3000  ponds_nearest  \\\n",
       "count       17856.000000    7902.000000       17856.000000    8907.000000   \n",
       "mean            0.606295     490.152493           0.764729     519.623555   \n",
       "std             0.797021     336.336303           0.935040     278.045270   \n",
       "min             0.000000       1.000000           0.000000      13.000000   \n",
       "25%             0.000000     288.000000           0.000000     295.000000   \n",
       "50%             0.000000     455.000000           0.000000     503.000000   \n",
       "75%             1.000000     612.000000           1.000000     733.000000   \n",
       "max             3.000000    2984.000000           3.000000    1344.000000   \n",
       "\n",
       "       days_exposition  \n",
       "count     20186.000000  \n",
       "mean        180.330477  \n",
       "std         219.221741  \n",
       "min           1.000000  \n",
       "25%          45.000000  \n",
       "50%          95.000000  \n",
       "75%         231.000000  \n",
       "max        1580.000000  "
      ]
     },
     "execution_count": 22,
     "metadata": {},
     "output_type": "execute_result"
    }
   ],
   "source": [
    "# выводим строки, где есть превышение в столбце parks_nearest\n",
    "display(df.query('parks_nearest > 3000'))\n",
    "\n",
    "# заменяем значение на None как и других строках, где значение parks_around3000 равно 0\n",
    "df.loc[df['parks_nearest'] > 3000, 'parks_nearest'] = None\n",
    "df.describe()"
   ]
  },
  {
   "cell_type": "markdown",
   "metadata": {},
   "source": [
    "#### Расстояние до аэропорта\n",
    "\n",
    "Проверим есть ли строки, где расстояние до аэропорта равно нулю."
   ]
  },
  {
   "cell_type": "code",
   "execution_count": 23,
   "metadata": {
    "hidePrompt": true
   },
   "outputs": [
    {
     "data": {
      "text/html": [
       "<div>\n",
       "<style scoped>\n",
       "    .dataframe tbody tr th:only-of-type {\n",
       "        vertical-align: middle;\n",
       "    }\n",
       "\n",
       "    .dataframe tbody tr th {\n",
       "        vertical-align: top;\n",
       "    }\n",
       "\n",
       "    .dataframe thead th {\n",
       "        text-align: right;\n",
       "    }\n",
       "</style>\n",
       "<table border=\"1\" class=\"dataframe\">\n",
       "  <thead>\n",
       "    <tr style=\"text-align: right;\">\n",
       "      <th></th>\n",
       "      <th>total_images</th>\n",
       "      <th>last_price_million</th>\n",
       "      <th>total_area</th>\n",
       "      <th>first_day_exposition</th>\n",
       "      <th>rooms</th>\n",
       "      <th>ceiling_height</th>\n",
       "      <th>floors_total</th>\n",
       "      <th>living_area</th>\n",
       "      <th>floor</th>\n",
       "      <th>is_apartment</th>\n",
       "      <th>is_studio</th>\n",
       "      <th>is_open_plan</th>\n",
       "      <th>kitchen_area</th>\n",
       "      <th>balcony</th>\n",
       "      <th>locality_name</th>\n",
       "      <th>airports_nearest</th>\n",
       "      <th>city_centers_nearest</th>\n",
       "      <th>parks_around_3000</th>\n",
       "      <th>parks_nearest</th>\n",
       "      <th>ponds_around_3000</th>\n",
       "      <th>ponds_nearest</th>\n",
       "      <th>days_exposition</th>\n",
       "    </tr>\n",
       "  </thead>\n",
       "  <tbody>\n",
       "    <tr>\n",
       "      <th>21085</th>\n",
       "      <td>0</td>\n",
       "      <td>7.0</td>\n",
       "      <td>34.700001</td>\n",
       "      <td>2018-09-23</td>\n",
       "      <td>1</td>\n",
       "      <td>2.7</td>\n",
       "      <td>9</td>\n",
       "      <td>19.799999</td>\n",
       "      <td>3</td>\n",
       "      <td>False</td>\n",
       "      <td>False</td>\n",
       "      <td>False</td>\n",
       "      <td>6.0</td>\n",
       "      <td>2</td>\n",
       "      <td>санкт-петербург</td>\n",
       "      <td>0.0</td>\n",
       "      <td>22801.0</td>\n",
       "      <td>0.0</td>\n",
       "      <td>NaN</td>\n",
       "      <td>0.0</td>\n",
       "      <td>NaN</td>\n",
       "      <td>60.0</td>\n",
       "    </tr>\n",
       "  </tbody>\n",
       "</table>\n",
       "</div>"
      ],
      "text/plain": [
       "       total_images  last_price_million  total_area first_day_exposition  \\\n",
       "21085             0                 7.0   34.700001           2018-09-23   \n",
       "\n",
       "       rooms  ceiling_height  floors_total  living_area  floor  is_apartment  \\\n",
       "21085      1             2.7             9    19.799999      3         False   \n",
       "\n",
       "       is_studio  is_open_plan  kitchen_area  balcony    locality_name  \\\n",
       "21085      False         False           6.0        2  санкт-петербург   \n",
       "\n",
       "       airports_nearest  city_centers_nearest  parks_around_3000  \\\n",
       "21085               0.0               22801.0                0.0   \n",
       "\n",
       "       parks_nearest  ponds_around_3000  ponds_nearest  days_exposition  \n",
       "21085            NaN                0.0            NaN             60.0  "
      ]
     },
     "metadata": {},
     "output_type": "display_data"
    }
   ],
   "source": [
    "# строки, где квартиры находятся в 0 метров от аэропорта\n",
    "display(df.query('airports_nearest < 50'))\n",
    "\n",
    "# удаляем такие строки\n",
    "df = df.query('airports_nearest != 0')"
   ]
  },
  {
   "cell_type": "code",
   "execution_count": 24,
   "metadata": {
    "hidePrompt": true
   },
   "outputs": [
    {
     "name": "stdout",
     "output_type": "stream",
     "text": [
      "<class 'pandas.core.frame.DataFrame'>\n",
      "Int64Index: 23311 entries, 0 to 23698\n",
      "Data columns (total 22 columns):\n",
      " #   Column                Non-Null Count  Dtype         \n",
      "---  ------                --------------  -----         \n",
      " 0   total_images          23311 non-null  int32         \n",
      " 1   last_price_million    23311 non-null  float64       \n",
      " 2   total_area            23311 non-null  float32       \n",
      " 3   first_day_exposition  23311 non-null  datetime64[ns]\n",
      " 4   rooms                 23311 non-null  int32         \n",
      " 5   ceiling_height        23311 non-null  float32       \n",
      " 6   floors_total          23311 non-null  int32         \n",
      " 7   living_area           23311 non-null  float32       \n",
      " 8   floor                 23311 non-null  int32         \n",
      " 9   is_apartment          23311 non-null  bool          \n",
      " 10  is_studio             23311 non-null  bool          \n",
      " 11  is_open_plan          23311 non-null  bool          \n",
      " 12  kitchen_area          23311 non-null  float32       \n",
      " 13  balcony               23311 non-null  int32         \n",
      " 14  locality_name         23311 non-null  object        \n",
      " 15  airports_nearest      17833 non-null  float64       \n",
      " 16  city_centers_nearest  17854 non-null  float64       \n",
      " 17  parks_around_3000     17855 non-null  float64       \n",
      " 18  parks_nearest         7902 non-null   float64       \n",
      " 19  ponds_around_3000     17855 non-null  float64       \n",
      " 20  ponds_nearest         8907 non-null   float64       \n",
      " 21  days_exposition       20185 non-null  float64       \n",
      "dtypes: bool(3), datetime64[ns](1), float32(4), float64(8), int32(5), object(1)\n",
      "memory usage: 2.8+ MB\n"
     ]
    }
   ],
   "source": [
    "df.info()"
   ]
  },
  {
   "cell_type": "markdown",
   "metadata": {},
   "source": [
    "### Вывод\n",
    "\n",
    "Узнали, что датафрейм содержит объявления о продаже недвижимости в Санкт-Петербурге и области за период с ноября 2014 по начало мая 2019 годов.\n",
    "\n",
    "Внимательно рассмотрели данные.\\\n",
    "Проверили выбивающиеся из общего диапазона значения и исключили, либо обработали их для дальнейшего исследования.\n",
    "\n",
    "Нашли уникальные данные с высокими показателями по общей площади, цене квартиры и количеству комнат.\\\n",
    "Часть данных, к примеру с большим количеством комнат и большой площадью квартир - удалили, т.к. являются аномалиями объявлений и сильно повлияют на дальнейшие расчёты.\\\n",
    "Также избавились от строк, где сумма жилой площади и кухни превысила общую площадь."
   ]
  },
  {
   "cell_type": "markdown",
   "metadata": {},
   "source": [
    "## Посчитаем и добавим в таблицу новые столбцы"
   ]
  },
  {
   "cell_type": "markdown",
   "metadata": {},
   "source": [
    "### Цена квадратного метра"
   ]
  },
  {
   "cell_type": "code",
   "execution_count": 25,
   "metadata": {
    "hidePrompt": true
   },
   "outputs": [],
   "source": [
    "df['price_per_meter'] = df['last_price_million'] / df['total_area']"
   ]
  },
  {
   "cell_type": "markdown",
   "metadata": {},
   "source": [
    "### День недели, месяц и год публикации"
   ]
  },
  {
   "cell_type": "code",
   "execution_count": 26,
   "metadata": {
    "hidePrompt": true
   },
   "outputs": [],
   "source": [
    "df['weekday_exposition'] = df['first_day_exposition'].dt.weekday\n",
    "df['month_exposition'] = df['first_day_exposition'].dt.month\n",
    "df['year_exposition'] = df['first_day_exposition'].dt.year"
   ]
  },
  {
   "cell_type": "markdown",
   "metadata": {},
   "source": [
    "###  Категории по этажу квартиры: первый, последний и другой"
   ]
  },
  {
   "cell_type": "code",
   "execution_count": 27,
   "metadata": {
    "hidePrompt": true,
    "scrolled": true
   },
   "outputs": [
    {
     "data": {
      "text/html": [
       "<div>\n",
       "<style scoped>\n",
       "    .dataframe tbody tr th:only-of-type {\n",
       "        vertical-align: middle;\n",
       "    }\n",
       "\n",
       "    .dataframe tbody tr th {\n",
       "        vertical-align: top;\n",
       "    }\n",
       "\n",
       "    .dataframe thead th {\n",
       "        text-align: right;\n",
       "    }\n",
       "</style>\n",
       "<table border=\"1\" class=\"dataframe\">\n",
       "  <thead>\n",
       "    <tr style=\"text-align: right;\">\n",
       "      <th></th>\n",
       "      <th>total_images</th>\n",
       "      <th>last_price_million</th>\n",
       "      <th>total_area</th>\n",
       "      <th>first_day_exposition</th>\n",
       "      <th>rooms</th>\n",
       "      <th>ceiling_height</th>\n",
       "      <th>floors_total</th>\n",
       "      <th>living_area</th>\n",
       "      <th>floor</th>\n",
       "      <th>is_apartment</th>\n",
       "      <th>is_studio</th>\n",
       "      <th>is_open_plan</th>\n",
       "      <th>kitchen_area</th>\n",
       "      <th>balcony</th>\n",
       "      <th>locality_name</th>\n",
       "      <th>airports_nearest</th>\n",
       "      <th>city_centers_nearest</th>\n",
       "      <th>parks_around_3000</th>\n",
       "      <th>parks_nearest</th>\n",
       "      <th>ponds_around_3000</th>\n",
       "      <th>ponds_nearest</th>\n",
       "      <th>days_exposition</th>\n",
       "      <th>price_per_meter</th>\n",
       "      <th>weekday_exposition</th>\n",
       "      <th>month_exposition</th>\n",
       "      <th>year_exposition</th>\n",
       "      <th>floor_type</th>\n",
       "    </tr>\n",
       "  </thead>\n",
       "  <tbody>\n",
       "    <tr>\n",
       "      <th>1311</th>\n",
       "      <td>16</td>\n",
       "      <td>4.90</td>\n",
       "      <td>39.299999</td>\n",
       "      <td>2018-08-18</td>\n",
       "      <td>1</td>\n",
       "      <td>2.800000</td>\n",
       "      <td>15</td>\n",
       "      <td>17.4</td>\n",
       "      <td>5</td>\n",
       "      <td>False</td>\n",
       "      <td>False</td>\n",
       "      <td>False</td>\n",
       "      <td>9.8</td>\n",
       "      <td>0</td>\n",
       "      <td>санкт-петербург</td>\n",
       "      <td>43088.0</td>\n",
       "      <td>13239.0</td>\n",
       "      <td>1.0</td>\n",
       "      <td>604.0</td>\n",
       "      <td>0.0</td>\n",
       "      <td>NaN</td>\n",
       "      <td>10.0</td>\n",
       "      <td>0.124682</td>\n",
       "      <td>5</td>\n",
       "      <td>8</td>\n",
       "      <td>2018</td>\n",
       "      <td>other</td>\n",
       "    </tr>\n",
       "    <tr>\n",
       "      <th>9014</th>\n",
       "      <td>6</td>\n",
       "      <td>3.50</td>\n",
       "      <td>38.000000</td>\n",
       "      <td>2017-07-25</td>\n",
       "      <td>1</td>\n",
       "      <td>3.000000</td>\n",
       "      <td>18</td>\n",
       "      <td>19.4</td>\n",
       "      <td>10</td>\n",
       "      <td>False</td>\n",
       "      <td>False</td>\n",
       "      <td>False</td>\n",
       "      <td>10.0</td>\n",
       "      <td>0</td>\n",
       "      <td>санкт-петербург</td>\n",
       "      <td>43356.0</td>\n",
       "      <td>22672.0</td>\n",
       "      <td>0.0</td>\n",
       "      <td>NaN</td>\n",
       "      <td>1.0</td>\n",
       "      <td>1124.0</td>\n",
       "      <td>3.0</td>\n",
       "      <td>0.092105</td>\n",
       "      <td>1</td>\n",
       "      <td>7</td>\n",
       "      <td>2017</td>\n",
       "      <td>other</td>\n",
       "    </tr>\n",
       "    <tr>\n",
       "      <th>17669</th>\n",
       "      <td>7</td>\n",
       "      <td>7.35</td>\n",
       "      <td>72.000000</td>\n",
       "      <td>2018-02-01</td>\n",
       "      <td>3</td>\n",
       "      <td>2.771284</td>\n",
       "      <td>10</td>\n",
       "      <td>42.0</td>\n",
       "      <td>4</td>\n",
       "      <td>False</td>\n",
       "      <td>False</td>\n",
       "      <td>False</td>\n",
       "      <td>9.0</td>\n",
       "      <td>0</td>\n",
       "      <td>санкт-петербург</td>\n",
       "      <td>50355.0</td>\n",
       "      <td>15683.0</td>\n",
       "      <td>0.0</td>\n",
       "      <td>NaN</td>\n",
       "      <td>0.0</td>\n",
       "      <td>NaN</td>\n",
       "      <td>427.0</td>\n",
       "      <td>0.102083</td>\n",
       "      <td>3</td>\n",
       "      <td>2</td>\n",
       "      <td>2018</td>\n",
       "      <td>other</td>\n",
       "    </tr>\n",
       "  </tbody>\n",
       "</table>\n",
       "</div>"
      ],
      "text/plain": [
       "       total_images  last_price_million  total_area first_day_exposition  \\\n",
       "1311             16                4.90   39.299999           2018-08-18   \n",
       "9014              6                3.50   38.000000           2017-07-25   \n",
       "17669             7                7.35   72.000000           2018-02-01   \n",
       "\n",
       "       rooms  ceiling_height  floors_total  living_area  floor  is_apartment  \\\n",
       "1311       1        2.800000            15         17.4      5         False   \n",
       "9014       1        3.000000            18         19.4     10         False   \n",
       "17669      3        2.771284            10         42.0      4         False   \n",
       "\n",
       "       is_studio  is_open_plan  kitchen_area  balcony    locality_name  \\\n",
       "1311       False         False           9.8        0  санкт-петербург   \n",
       "9014       False         False          10.0        0  санкт-петербург   \n",
       "17669      False         False           9.0        0  санкт-петербург   \n",
       "\n",
       "       airports_nearest  city_centers_nearest  parks_around_3000  \\\n",
       "1311            43088.0               13239.0                1.0   \n",
       "9014            43356.0               22672.0                0.0   \n",
       "17669           50355.0               15683.0                0.0   \n",
       "\n",
       "       parks_nearest  ponds_around_3000  ponds_nearest  days_exposition  \\\n",
       "1311           604.0                0.0            NaN             10.0   \n",
       "9014             NaN                1.0         1124.0              3.0   \n",
       "17669            NaN                0.0            NaN            427.0   \n",
       "\n",
       "       price_per_meter  weekday_exposition  month_exposition  year_exposition  \\\n",
       "1311          0.124682                   5                 8             2018   \n",
       "9014          0.092105                   1                 7             2017   \n",
       "17669         0.102083                   3                 2             2018   \n",
       "\n",
       "      floor_type  \n",
       "1311       other  \n",
       "9014       other  \n",
       "17669      other  "
      ]
     },
     "execution_count": 27,
     "metadata": {},
     "output_type": "execute_result"
    }
   ],
   "source": [
    "df['floor_type'] = ['other']*len(df)\n",
    "df.loc[df['floor'] == 1, 'floor_type'] = 'first'\n",
    "df.loc[df['floor'] == df['floors_total'], 'floor_type'] = 'last'\n",
    "\n",
    "df.sample(3)"
   ]
  },
  {
   "cell_type": "markdown",
   "metadata": {},
   "source": [
    "### Cоотношение жилой к общей площади, а также отношение площади кухни к общей"
   ]
  },
  {
   "cell_type": "code",
   "execution_count": 28,
   "metadata": {
    "hidePrompt": true
   },
   "outputs": [],
   "source": [
    "df['living_to_total_area'] = df['living_area'] / df['total_area']\n",
    "df['kitchen_to_total_area'] = df['kitchen_area'] / df['total_area']"
   ]
  },
  {
   "cell_type": "markdown",
   "metadata": {},
   "source": [
    "### Расстояние до центра города"
   ]
  },
  {
   "cell_type": "code",
   "execution_count": 29,
   "metadata": {
    "hidePrompt": true
   },
   "outputs": [],
   "source": [
    "df['city_centers_distance'] = df['city_centers_nearest'] / 1000\n",
    "df['city_centers_distance'] = round(df['city_centers_distance'], 0)"
   ]
  },
  {
   "cell_type": "markdown",
   "metadata": {},
   "source": [
    "### Вывод\n",
    "Подготовили дополнительные параметры для более детального исследовательского анализа."
   ]
  },
  {
   "cell_type": "markdown",
   "metadata": {},
   "source": [
    "## Приступаем к исследовательскому анализу данных"
   ]
  },
  {
   "cell_type": "markdown",
   "metadata": {},
   "source": [
    "**Напишем функции для изучения количественных столбцов и отображения их в виде диаграммы.**"
   ]
  },
  {
   "cell_type": "code",
   "execution_count": 30,
   "metadata": {
    "hidePrompt": true
   },
   "outputs": [],
   "source": [
    "def build_hist(data):\n",
    "    plt.figure(figsize=(10,3))\n",
    "    data.hist(bins=100)\n",
    "    plt.ticklabel_format(style='plain')\n",
    "    plt.show()"
   ]
  },
  {
   "cell_type": "markdown",
   "metadata": {},
   "source": [
    "### Изучение параметров квартир"
   ]
  },
  {
   "cell_type": "markdown",
   "metadata": {},
   "source": [
    "#### Общая площадь"
   ]
  },
  {
   "cell_type": "code",
   "execution_count": 31,
   "metadata": {
    "hidePrompt": true
   },
   "outputs": [
    {
     "data": {
      "image/png": "[encoded data removed]",
      "text/plain": [
       "<Figure size 1000x300 with 1 Axes>"
      ]
     },
     "metadata": {},
     "output_type": "display_data"
    }
   ],
   "source": [
    "build_hist(df.total_area)"
   ]
  },
  {
   "cell_type": "markdown",
   "metadata": {},
   "source": [
    "Общая площадь квартир в основном до 100 кв.м.\\\n",
    "Около 1000 квартир до 200 кв.м.\\\n",
    "Выше 200 кв.м. квартир очень мало - выглядит реалистично."
   ]
  },
  {
   "cell_type": "markdown",
   "metadata": {},
   "source": [
    "#### Жилая площадь"
   ]
  },
  {
   "cell_type": "code",
   "execution_count": 32,
   "metadata": {
    "hidePrompt": true
   },
   "outputs": [
    {
     "data": {
      "image/png": "[encoded data removed]",
      "text/plain": [
       "<Figure size 1000x300 with 1 Axes>"
      ]
     },
     "metadata": {},
     "output_type": "display_data"
    }
   ],
   "source": [
    "build_hist(df.living_area)"
   ]
  },
  {
   "cell_type": "markdown",
   "metadata": {},
   "source": [
    "Есть провал в значениях около 25 кв.м. В предобработке заполнили около 2 тыс. строк, но это картину не поменяло.\\\n",
    "Могу предположить, что пользователи не однотипно замеряли жилую площадь своих квартир, либо есть типичные метражи квартир, которые используют застройщики."
   ]
  },
  {
   "cell_type": "markdown",
   "metadata": {},
   "source": [
    "#### Площадь кухни"
   ]
  },
  {
   "cell_type": "code",
   "execution_count": 33,
   "metadata": {
    "hidePrompt": true
   },
   "outputs": [
    {
     "data": {
      "image/png": "[encoded data removed]",
      "text/plain": [
       "<Figure size 1000x300 with 1 Axes>"
      ]
     },
     "metadata": {},
     "output_type": "display_data"
    }
   ],
   "source": [
    "build_hist(df.kitchen_area)"
   ]
  },
  {
   "cell_type": "markdown",
   "metadata": {},
   "source": [
    "Кухни также идут в соотношении к общей площади.\\\n",
    "Есть небольшое количество кухонь равных нулю - квартиры-студии."
   ]
  },
  {
   "cell_type": "markdown",
   "metadata": {},
   "source": [
    "#### Цена объекта"
   ]
  },
  {
   "cell_type": "code",
   "execution_count": 34,
   "metadata": {
    "hidePrompt": true
   },
   "outputs": [
    {
     "data": {
      "image/png": "[encoded data removed]",
      "text/plain": [
       "<Figure size 640x480 with 1 Axes>"
      ]
     },
     "metadata": {},
     "output_type": "display_data"
    }
   ],
   "source": [
    "plt.hist(df.last_price_million, bins=100, range=(0, 40))\n",
    "plt.show()"
   ]
  },
  {
   "cell_type": "markdown",
   "metadata": {},
   "source": [
    "Цена распределена корректно.\\\n",
    "Есть сверхдорогие квартиры, но так как присутствуют квартиры больших площадей и квартиры люкс-класса, считаем, что выбросов нет."
   ]
  },
  {
   "cell_type": "markdown",
   "metadata": {},
   "source": [
    "#### Количество комнат"
   ]
  },
  {
   "cell_type": "code",
   "execution_count": 35,
   "metadata": {
    "hidePrompt": true
   },
   "outputs": [
    {
     "data": {
      "image/png": "[encoded data removed]",
      "text/plain": [
       "<Figure size 1000x300 with 1 Axes>"
      ]
     },
     "metadata": {},
     "output_type": "display_data"
    }
   ],
   "source": [
    "build_hist(df.rooms)"
   ]
  },
  {
   "cell_type": "markdown",
   "metadata": {},
   "source": [
    "Количество комнат распределены в норме, больше 4-комнатых квартир очень мало объявлений - значения нормальные."
   ]
  },
  {
   "cell_type": "markdown",
   "metadata": {},
   "source": [
    "#### Высота потолков"
   ]
  },
  {
   "cell_type": "code",
   "execution_count": 36,
   "metadata": {
    "hidePrompt": true
   },
   "outputs": [
    {
     "data": {
      "image/png": "[encoded data removed]",
      "text/plain": [
       "<Figure size 1000x300 with 1 Axes>"
      ]
     },
     "metadata": {},
     "output_type": "display_data"
    }
   ],
   "source": [
    "build_hist(df.ceiling_height)"
   ]
  },
  {
   "cell_type": "markdown",
   "metadata": {},
   "source": [
    "Есть пики в значениях минимальных потолков по СНиП - 2,5м и 2,7м. Считаю, что данные корректны."
   ]
  },
  {
   "cell_type": "markdown",
   "metadata": {},
   "source": [
    "#### Этаж квартиры"
   ]
  },
  {
   "cell_type": "code",
   "execution_count": 37,
   "metadata": {
    "hidePrompt": true
   },
   "outputs": [
    {
     "data": {
      "image/png": "[encoded data removed]",
      "text/plain": [
       "<Figure size 1000x300 with 1 Axes>"
      ]
     },
     "metadata": {},
     "output_type": "display_data"
    }
   ],
   "source": [
    "build_hist(df.floor)"
   ]
  },
  {
   "cell_type": "markdown",
   "metadata": {},
   "source": [
    "Этажность распределилась нормально. Выбросы были предварительно отсортированы."
   ]
  },
  {
   "cell_type": "markdown",
   "metadata": {},
   "source": [
    "#### Тип этажа квартиры"
   ]
  },
  {
   "cell_type": "code",
   "execution_count": 38,
   "metadata": {
    "hidePrompt": true
   },
   "outputs": [
    {
     "data": {
      "image/png": "[encoded data removed]",
      "text/plain": [
       "<Figure size 640x480 with 1 Axes>"
      ]
     },
     "metadata": {},
     "output_type": "display_data"
    }
   ],
   "source": [
    "plt.hist(df.floor_type)\n",
    "plt.show()"
   ]
  },
  {
   "cell_type": "markdown",
   "metadata": {},
   "source": [
    "Категории этажей в нормальном распределении, как по теории с монетками."
   ]
  },
  {
   "cell_type": "markdown",
   "metadata": {},
   "source": [
    "#### Общее количество этажей в доме"
   ]
  },
  {
   "cell_type": "code",
   "execution_count": 39,
   "metadata": {
    "hidePrompt": true
   },
   "outputs": [
    {
     "data": {
      "image/png": "[encoded data removed]",
      "text/plain": [
       "<Figure size 1000x300 with 1 Axes>"
      ]
     },
     "metadata": {},
     "output_type": "display_data"
    }
   ],
   "source": [
    "build_hist(df.floors_total)"
   ]
  },
  {
   "cell_type": "markdown",
   "metadata": {},
   "source": [
    "Значения выглядят адекватными. Пики на типичных этажностях домов - пятиэтажки и 9-этажные."
   ]
  },
  {
   "cell_type": "markdown",
   "metadata": {},
   "source": [
    "#### Расстояние до центра города в метрах"
   ]
  },
  {
   "cell_type": "code",
   "execution_count": 40,
   "metadata": {
    "hidePrompt": true
   },
   "outputs": [
    {
     "data": {
      "image/png": "[encoded data removed]",
      "text/plain": [
       "<Figure size 1000x300 with 1 Axes>"
      ]
     },
     "metadata": {},
     "output_type": "display_data"
    }
   ],
   "source": [
    "build_hist(df.city_centers_nearest)"
   ]
  },
  {
   "cell_type": "markdown",
   "metadata": {},
   "source": [
    "Картографические данные оставляем без изменений для исследования."
   ]
  },
  {
   "cell_type": "markdown",
   "metadata": {},
   "source": [
    "#### Расстояние до ближайшего аэропорта"
   ]
  },
  {
   "cell_type": "code",
   "execution_count": 41,
   "metadata": {
    "hidePrompt": true
   },
   "outputs": [
    {
     "data": {
      "image/png": "[encoded data removed]",
      "text/plain": [
       "<Figure size 1000x300 with 1 Axes>"
      ]
     },
     "metadata": {},
     "output_type": "display_data"
    }
   ],
   "source": [
    "build_hist(df.airports_nearest)"
   ]
  },
  {
   "cell_type": "markdown",
   "metadata": {},
   "source": [
    "Расстояния в пределах Ленинградской области, без выбросов."
   ]
  },
  {
   "cell_type": "markdown",
   "metadata": {},
   "source": [
    "#### Расстояние до ближайшего парка"
   ]
  },
  {
   "cell_type": "code",
   "execution_count": 42,
   "metadata": {
    "hidePrompt": true
   },
   "outputs": [
    {
     "data": {
      "image/png": "[encoded data removed]",
      "text/plain": [
       "<Figure size 1000x300 with 1 Axes>"
      ]
     },
     "metadata": {},
     "output_type": "display_data"
    }
   ],
   "source": [
    "build_hist(df.parks_nearest)"
   ]
  },
  {
   "cell_type": "markdown",
   "metadata": {},
   "source": [
    "Есть жилые комплексы, которые расположены вплотную к парку. Выбросы выше 3000 метров предварительно убраны."
   ]
  },
  {
   "cell_type": "markdown",
   "metadata": {},
   "source": [
    "#### День публикации объявления"
   ]
  },
  {
   "cell_type": "code",
   "execution_count": 43,
   "metadata": {
    "hidePrompt": true
   },
   "outputs": [
    {
     "data": {
      "image/png": "[encoded data removed]",
      "text/plain": [
       "<Figure size 1000x300 with 1 Axes>"
      ]
     },
     "metadata": {},
     "output_type": "display_data"
    }
   ],
   "source": [
    "build_hist(df.weekday_exposition)"
   ]
  },
  {
   "cell_type": "markdown",
   "metadata": {},
   "source": [
    "Пользователи чаще публикуют объявления по будням."
   ]
  },
  {
   "cell_type": "markdown",
   "metadata": {},
   "source": [
    "#### Месяц публикации объявления"
   ]
  },
  {
   "cell_type": "code",
   "execution_count": 44,
   "metadata": {
    "hidePrompt": true
   },
   "outputs": [
    {
     "data": {
      "image/png": "[encoded data removed]",
      "text/plain": [
       "<Figure size 1000x300 with 1 Axes>"
      ]
     },
     "metadata": {},
     "output_type": "display_data"
    }
   ],
   "source": [
    "build_hist(df.month_exposition)"
   ]
  },
  {
   "cell_type": "markdown",
   "metadata": {},
   "source": [
    "Январь, май и декабрь - минимальные значения. В феврале - пик с постепенным снижением к маю, далее такой же плавный подъём к ноябрю.\\\n",
    "В месяцы малой активности много праздников (январь и май) или предновогодние сборы (декабрь), возможно это связано."
   ]
  },
  {
   "cell_type": "markdown",
   "metadata": {},
   "source": [
    "### Как быстро продавались квартиры?"
   ]
  },
  {
   "cell_type": "code",
   "execution_count": 45,
   "metadata": {
    "hidePrompt": true,
    "scrolled": true
   },
   "outputs": [
    {
     "data": {
      "text/plain": [
       "180.33643794897202"
      ]
     },
     "metadata": {},
     "output_type": "display_data"
    },
    {
     "data": {
      "text/plain": [
       "95.0"
      ]
     },
     "metadata": {},
     "output_type": "display_data"
    },
    {
     "data": {
      "image/png": "[encoded data removed]",
      "text/plain": [
       "<Figure size 1000x300 with 1 Axes>"
      ]
     },
     "metadata": {},
     "output_type": "display_data"
    }
   ],
   "source": [
    "# среднее количество дней, когда были размещены объявления\n",
    "display(df['days_exposition'].mean())\n",
    "\n",
    "# медианное количество дней, когда были размещены объявления\n",
    "display(df['days_exposition'].median())\n",
    "\n",
    "build_hist(df.days_exposition)"
   ]
  },
  {
   "cell_type": "markdown",
   "metadata": {},
   "source": [
    "Медианное значение почти в 2 раза меньше, чем среднее арифметическое.\\\n",
    "Из этого можно сделать вывод, что быстрые продажи проводились в пределах 3 месяцев.\\\n",
    "Объявления, которые размещены более года, скорее всего содержат неактивную часть объявлений."
   ]
  },
  {
   "cell_type": "markdown",
   "metadata": {},
   "source": [
    "### Какие факторы больше всего влияют на общую (полную) стоимость объекта?"
   ]
  },
  {
   "cell_type": "code",
   "execution_count": 46,
   "metadata": {
    "hidePrompt": true,
    "scrolled": false
   },
   "outputs": [
    {
     "data": {
      "image/png": "[encoded data removed]",
      "text/plain": [
       "<Figure size 1800x1000 with 1 Axes>"
      ]
     },
     "metadata": {},
     "output_type": "display_data"
    }
   ],
   "source": [
    "plt.figure(figsize=(18, 10))\n",
    "sns.heatmap(df[['last_price_million', 'total_area', 'living_area', 'kitchen_area', 'rooms']].corr(), \n",
    "            annot=True, cmap='YlGnBu', cbar=False, robust=True, linewidths=.2)\n",
    "plt.show()"
   ]
  },
  {
   "cell_type": "markdown",
   "metadata": {},
   "source": [
    "Сильнее всего коррелирует общая площадь квартир со стоимостью. Жилая площадь и площадь кухни немного меньше зависит.\\\n",
    "Что в целом логично - квартиры обычно продаются за квадратный метр, а планировки жилого помещения и кухни бывают разные.\n",
    "\n",
    "А вот с комнатами корреляция уже не такая сильная, т.к. могут быть большие комнаты или проведена перепланировка."
   ]
  },
  {
   "cell_type": "code",
   "execution_count": 47,
   "metadata": {
    "hideOutput": true,
    "hidePrompt": true
   },
   "outputs": [
    {
     "name": "stderr",
     "output_type": "stream",
     "text": [
      "C:\\Users\\eugen\\AppData\\Local\\Temp\\ipykernel_10084\\636317617.py:4: SettingWithCopyWarning: \n",
      "A value is trying to be set on a copy of a slice from a DataFrame.\n",
      "Try using .loc[row_indexer,col_indexer] = value instead\n",
      "\n",
      "See the caveats in the documentation: https://pandas.pydata.org/pandas-docs/stable/user_guide/indexing.html#returning-a-view-versus-a-copy\n",
      "  pivot_list['price_per_meter'] = round(pivot_list['price_per_meter'] * 1000, 0)\n"
     ]
    }
   ],
   "source": [
    "# подготовим таблицу для создания сводных\n",
    "pivot_list = df[['weekday_exposition', 'month_exposition', 'year_exposition', 'floor_type', 'price_per_meter']]\n",
    "# перевёл цену в тыс.рублей за кв.м.\n",
    "pivot_list['price_per_meter'] = round(pivot_list['price_per_meter'] * 1000, 0)\n",
    "pivot_list.columns = ['День недели', 'Месяц', 'Год', 'Тип этажа', 'Средняя цена тыс.руб./кв.м.']\n",
    "\n",
    "# подготовим сводные\n",
    "weekday = pivot_list.groupby(['День недели']).agg({'Средняя цена тыс.руб./кв.м.': 'mean'})\n",
    "weekday['День недели'] = ['Пн','Вт','Ср','Чт','Пт','Сб','Вс']\n",
    "\n",
    "month = pivot_list.groupby(['Месяц']).agg({'Средняя цена тыс.руб./кв.м.': 'mean'})\n",
    "month['Месяц'] = month.index\n",
    "\n",
    "year = pivot_list.groupby(['Год']).agg({'Средняя цена тыс.руб./кв.м.': 'mean'})\n",
    "year['Год'] = year.index\n",
    "\n",
    "floor_type = pivot_list.groupby(['Тип этажа']).agg({'Средняя цена тыс.руб./кв.м.': 'mean'})\n",
    "floor_type['Тип этажа'] = floor_type.index"
   ]
  },
  {
   "cell_type": "code",
   "execution_count": 48,
   "metadata": {
    "hidePrompt": true
   },
   "outputs": [
    {
     "data": {
      "image/png": "[encoded data removed]",
      "text/plain": [
       "<Figure size 640x480 with 1 Axes>"
      ]
     },
     "metadata": {},
     "output_type": "display_data"
    }
   ],
   "source": [
    "plt.plot(weekday['День недели'], weekday['Средняя цена тыс.руб./кв.м.'])\n",
    "plt.title('Средняя цена за квадратный метр по дням недели')\n",
    "plt.ylabel('цена, тыс.руб./кв.м.')\n",
    "plt.show()"
   ]
  },
  {
   "cell_type": "markdown",
   "metadata": {},
   "source": [
    "По графику можно сделать вывод, что более дешёвые квартиры выставляют в воскресенье.\\\n",
    "Возможно, в выходные выставляется больше квартир из провинции, в то время как средний класс и состоятельные люди могут поручить это дело риелторам, которые работают по будням."
   ]
  },
  {
   "cell_type": "code",
   "execution_count": 49,
   "metadata": {
    "hidePrompt": true
   },
   "outputs": [
    {
     "data": {
      "image/png": "[encoded data removed]",
      "text/plain": [
       "<Figure size 640x480 with 1 Axes>"
      ]
     },
     "metadata": {},
     "output_type": "display_data"
    }
   ],
   "source": [
    "plt.plot(month['Месяц'], month['Средняя цена тыс.руб./кв.м.'])\n",
    "plt.title('Средняя цена за квадратный метр по месяцам')\n",
    "plt.ylabel('цена, тыс.руб./кв.м.')\n",
    "plt.xlabel('номер месяца')\n",
    "plt.show()"
   ]
  },
  {
   "cell_type": "markdown",
   "metadata": {},
   "source": [
    "Есть пик в апреле, августе-сентябре и в декабре-январе.\\\n",
    "Скорее всего есть место сезонным изменениям цен на квартиры."
   ]
  },
  {
   "cell_type": "code",
   "execution_count": 50,
   "metadata": {
    "hidePrompt": true
   },
   "outputs": [
    {
     "data": {
      "image/png": "[encoded data removed]",
      "text/plain": [
       "<Figure size 640x480 with 1 Axes>"
      ]
     },
     "metadata": {},
     "output_type": "display_data"
    }
   ],
   "source": [
    "plt.plot(year['Год'], year['Средняя цена тыс.руб./кв.м.'])\n",
    "plt.title('Средняя цена за квадратный метр по годам')\n",
    "plt.ylabel('цена, тыс.руб./кв.м.')\n",
    "plt.show()"
   ]
  },
  {
   "cell_type": "markdown",
   "metadata": {},
   "source": [
    "В 2014 году был кризис, цены пару лет падали из-за низкого спроса.\\\n",
    "В период 2016-2018 годы стоимость жилья за квадратный метр держалась на одном уровне.\\\n",
    "В 2018 году государство ввело гопрограмму по ипотекам для молодых семей - в 2019 году началось повышение цен из-за увеличения спроса."
   ]
  },
  {
   "cell_type": "code",
   "execution_count": 51,
   "metadata": {
    "hidePrompt": true
   },
   "outputs": [
    {
     "data": {
      "image/png": "[encoded data removed]",
      "text/plain": [
       "<Figure size 1000x300 with 1 Axes>"
      ]
     },
     "metadata": {},
     "output_type": "display_data"
    }
   ],
   "source": [
    "plt.figure(figsize=(10,3))\n",
    "plt.bar(floor_type['Тип этажа'], floor_type['Средняя цена тыс.руб./кв.м.'])\n",
    "plt.title('Средняя цена за квадратный метр по типу этажа')\n",
    "plt.ylabel('цена, тыс.руб./кв.м.')\n",
    "plt.show()"
   ]
  },
  {
   "cell_type": "markdown",
   "metadata": {},
   "source": [
    "Цена за квадратный метр в квартирах на первом этаже - самая низкая.\\\n",
    "Чуть дороже стоят квартиры на последнем этаже.\\\n",
    "Остальные этажи более популярны и стоят дороже."
   ]
  },
  {
   "cell_type": "markdown",
   "metadata": {},
   "source": [
    "### Какие населённые пункты с самой высокой и низкой стоимостью квадратного метра?"
   ]
  },
  {
   "cell_type": "code",
   "execution_count": 52,
   "metadata": {
    "hidePrompt": true
   },
   "outputs": [
    {
     "data": {
      "text/html": [
       "<div>\n",
       "<style scoped>\n",
       "    .dataframe tbody tr th:only-of-type {\n",
       "        vertical-align: middle;\n",
       "    }\n",
       "\n",
       "    .dataframe tbody tr th {\n",
       "        vertical-align: top;\n",
       "    }\n",
       "\n",
       "    .dataframe thead th {\n",
       "        text-align: right;\n",
       "    }\n",
       "</style>\n",
       "<table border=\"1\" class=\"dataframe\">\n",
       "  <thead>\n",
       "    <tr style=\"text-align: right;\">\n",
       "      <th></th>\n",
       "      <th>Средняя стоимость жилья</th>\n",
       "      <th>Медианная стоимость жилья</th>\n",
       "      <th>Количество объявлений</th>\n",
       "      <th>Средняя цена за кв.м.</th>\n",
       "      <th>Медианная цена за кв.м.</th>\n",
       "    </tr>\n",
       "    <tr>\n",
       "      <th>locality_name</th>\n",
       "      <th></th>\n",
       "      <th></th>\n",
       "      <th></th>\n",
       "      <th></th>\n",
       "      <th></th>\n",
       "    </tr>\n",
       "  </thead>\n",
       "  <tbody>\n",
       "    <tr>\n",
       "      <th>санкт-петербург</th>\n",
       "      <td>7.530563</td>\n",
       "      <td>5.500</td>\n",
       "      <td>15451</td>\n",
       "      <td>0.113915</td>\n",
       "      <td>0.104650</td>\n",
       "    </tr>\n",
       "    <tr>\n",
       "      <th>пушкин</th>\n",
       "      <td>6.294480</td>\n",
       "      <td>5.150</td>\n",
       "      <td>367</td>\n",
       "      <td>0.103131</td>\n",
       "      <td>0.100000</td>\n",
       "    </tr>\n",
       "    <tr>\n",
       "      <th>кудрово</th>\n",
       "      <td>4.360365</td>\n",
       "      <td>3.890</td>\n",
       "      <td>468</td>\n",
       "      <td>0.095295</td>\n",
       "      <td>0.095675</td>\n",
       "    </tr>\n",
       "    <tr>\n",
       "      <th>парголово</th>\n",
       "      <td>4.491106</td>\n",
       "      <td>4.115</td>\n",
       "      <td>326</td>\n",
       "      <td>0.090135</td>\n",
       "      <td>0.091580</td>\n",
       "    </tr>\n",
       "    <tr>\n",
       "      <th>мурино</th>\n",
       "      <td>3.694561</td>\n",
       "      <td>3.400</td>\n",
       "      <td>578</td>\n",
       "      <td>0.085959</td>\n",
       "      <td>0.086176</td>\n",
       "    </tr>\n",
       "    <tr>\n",
       "      <th>шушары</th>\n",
       "      <td>4.111660</td>\n",
       "      <td>3.950</td>\n",
       "      <td>438</td>\n",
       "      <td>0.078547</td>\n",
       "      <td>0.076748</td>\n",
       "    </tr>\n",
       "    <tr>\n",
       "      <th>колпино</th>\n",
       "      <td>3.870742</td>\n",
       "      <td>3.600</td>\n",
       "      <td>336</td>\n",
       "      <td>0.075389</td>\n",
       "      <td>0.074724</td>\n",
       "    </tr>\n",
       "    <tr>\n",
       "      <th>всеволожск</th>\n",
       "      <td>3.784329</td>\n",
       "      <td>3.450</td>\n",
       "      <td>393</td>\n",
       "      <td>0.068646</td>\n",
       "      <td>0.065789</td>\n",
       "    </tr>\n",
       "    <tr>\n",
       "      <th>гатчина</th>\n",
       "      <td>3.485542</td>\n",
       "      <td>3.090</td>\n",
       "      <td>303</td>\n",
       "      <td>0.068625</td>\n",
       "      <td>0.067647</td>\n",
       "    </tr>\n",
       "    <tr>\n",
       "      <th>выборг</th>\n",
       "      <td>3.263389</td>\n",
       "      <td>2.900</td>\n",
       "      <td>234</td>\n",
       "      <td>0.058251</td>\n",
       "      <td>0.058357</td>\n",
       "    </tr>\n",
       "  </tbody>\n",
       "</table>\n",
       "</div>"
      ],
      "text/plain": [
       "                 Средняя стоимость жилья  Медианная стоимость жилья  \\\n",
       "locality_name                                                         \n",
       "санкт-петербург                 7.530563                      5.500   \n",
       "пушкин                          6.294480                      5.150   \n",
       "кудрово                         4.360365                      3.890   \n",
       "парголово                       4.491106                      4.115   \n",
       "мурино                          3.694561                      3.400   \n",
       "шушары                          4.111660                      3.950   \n",
       "колпино                         3.870742                      3.600   \n",
       "всеволожск                      3.784329                      3.450   \n",
       "гатчина                         3.485542                      3.090   \n",
       "выборг                          3.263389                      2.900   \n",
       "\n",
       "                 Количество объявлений  Средняя цена за кв.м.  \\\n",
       "locality_name                                                   \n",
       "санкт-петербург                  15451               0.113915   \n",
       "пушкин                             367               0.103131   \n",
       "кудрово                            468               0.095295   \n",
       "парголово                          326               0.090135   \n",
       "мурино                             578               0.085959   \n",
       "шушары                             438               0.078547   \n",
       "колпино                            336               0.075389   \n",
       "всеволожск                         393               0.068646   \n",
       "гатчина                            303               0.068625   \n",
       "выборг                             234               0.058251   \n",
       "\n",
       "                 Медианная цена за кв.м.  \n",
       "locality_name                             \n",
       "санкт-петербург                 0.104650  \n",
       "пушкин                          0.100000  \n",
       "кудрово                         0.095675  \n",
       "парголово                       0.091580  \n",
       "мурино                          0.086176  \n",
       "шушары                          0.076748  \n",
       "колпино                         0.074724  \n",
       "всеволожск                      0.065789  \n",
       "гатчина                         0.067647  \n",
       "выборг                          0.058357  "
      ]
     },
     "execution_count": 52,
     "metadata": {},
     "output_type": "execute_result"
    }
   ],
   "source": [
    "# создадим сводную для 10 населённых пунктов с самым большим количеством объявлений\n",
    "df_top = df.pivot_table(\n",
    "    index='locality_name', values=['price_per_meter', 'last_price_million'],\n",
    "    aggfunc={'price_per_meter':['count', 'median', 'mean'], 'last_price_million': ['median', 'mean']}\n",
    ").sort_values(\n",
    "    by=[('price_per_meter','count')], ascending=False\n",
    ").head(10)\n",
    "\n",
    "df_top.columns = ['Средняя стоимость жилья', 'Медианная стоимость жилья',\n",
    "                  'Количество объявлений', 'Средняя цена за кв.м.', 'Медианная цена за кв.м.']\n",
    "\n",
    "# отсортируем по средней цене за квадратный метр\n",
    "df_top.sort_values('Средняя цена за кв.м.', ascending=False)"
   ]
  },
  {
   "cell_type": "markdown",
   "metadata": {},
   "source": [
    "По цене за один квадратный метр отслеживается тенденция - чем дальше от Санкт-Петербурга, тем дешевле стоит квадратный метр жилья.\\\n",
    "Из топ-10 населённых пунктов только Всеволожск, Гатчина и Выборг не являются ближайшими пригородами СПб, и то занимают с 8 по 10 места."
   ]
  },
  {
   "cell_type": "markdown",
   "metadata": {},
   "source": [
    "### Как стоимость объектов зависит от расстояния до центра города в Санкт-Петербурге?"
   ]
  },
  {
   "cell_type": "code",
   "execution_count": 53,
   "metadata": {
    "hidePrompt": true
   },
   "outputs": [
    {
     "data": {
      "text/html": [
       "<style type=\"text/css\">\n",
       "</style>\n",
       "<table id=\"T_e1a8a\">\n",
       "  <thead>\n",
       "    <tr>\n",
       "      <th class=\"blank level0\" >&nbsp;</th>\n",
       "      <th id=\"T_e1a8a_level0_col0\" class=\"col_heading level0 col0\" >city_centers_distance</th>\n",
       "      <th id=\"T_e1a8a_level0_col1\" class=\"col_heading level0 col1\" >price_per_meter</th>\n",
       "    </tr>\n",
       "  </thead>\n",
       "  <tbody>\n",
       "    <tr>\n",
       "      <th id=\"T_e1a8a_level0_row0\" class=\"row_heading level0 row0\" >0</th>\n",
       "      <td id=\"T_e1a8a_row0_col0\" class=\"data row0 col0\" >0.000000</td>\n",
       "      <td id=\"T_e1a8a_row0_col1\" class=\"data row0 col1\" >0.22</td>\n",
       "    </tr>\n",
       "    <tr>\n",
       "      <th id=\"T_e1a8a_level0_row1\" class=\"row_heading level0 row1\" >1</th>\n",
       "      <td id=\"T_e1a8a_row1_col0\" class=\"data row1 col0\" >1.000000</td>\n",
       "      <td id=\"T_e1a8a_row1_col1\" class=\"data row1 col1\" >0.18</td>\n",
       "    </tr>\n",
       "    <tr>\n",
       "      <th id=\"T_e1a8a_level0_row2\" class=\"row_heading level0 row2\" >2</th>\n",
       "      <td id=\"T_e1a8a_row2_col0\" class=\"data row2 col0\" >2.000000</td>\n",
       "      <td id=\"T_e1a8a_row2_col1\" class=\"data row2 col1\" >0.16</td>\n",
       "    </tr>\n",
       "    <tr>\n",
       "      <th id=\"T_e1a8a_level0_row3\" class=\"row_heading level0 row3\" >3</th>\n",
       "      <td id=\"T_e1a8a_row3_col0\" class=\"data row3 col0\" >3.000000</td>\n",
       "      <td id=\"T_e1a8a_row3_col1\" class=\"data row3 col1\" >0.12</td>\n",
       "    </tr>\n",
       "    <tr>\n",
       "      <th id=\"T_e1a8a_level0_row4\" class=\"row_heading level0 row4\" >4</th>\n",
       "      <td id=\"T_e1a8a_row4_col0\" class=\"data row4 col0\" >4.000000</td>\n",
       "      <td id=\"T_e1a8a_row4_col1\" class=\"data row4 col1\" >0.13</td>\n",
       "    </tr>\n",
       "    <tr>\n",
       "      <th id=\"T_e1a8a_level0_row5\" class=\"row_heading level0 row5\" >5</th>\n",
       "      <td id=\"T_e1a8a_row5_col0\" class=\"data row5 col0\" >5.000000</td>\n",
       "      <td id=\"T_e1a8a_row5_col1\" class=\"data row5 col1\" >0.14</td>\n",
       "    </tr>\n",
       "    <tr>\n",
       "      <th id=\"T_e1a8a_level0_row6\" class=\"row_heading level0 row6\" >6</th>\n",
       "      <td id=\"T_e1a8a_row6_col0\" class=\"data row6 col0\" >6.000000</td>\n",
       "      <td id=\"T_e1a8a_row6_col1\" class=\"data row6 col1\" >0.15</td>\n",
       "    </tr>\n",
       "    <tr>\n",
       "      <th id=\"T_e1a8a_level0_row7\" class=\"row_heading level0 row7\" >7</th>\n",
       "      <td id=\"T_e1a8a_row7_col0\" class=\"data row7 col0\" >7.000000</td>\n",
       "      <td id=\"T_e1a8a_row7_col1\" class=\"data row7 col1\" >0.15</td>\n",
       "    </tr>\n",
       "    <tr>\n",
       "      <th id=\"T_e1a8a_level0_row8\" class=\"row_heading level0 row8\" >8</th>\n",
       "      <td id=\"T_e1a8a_row8_col0\" class=\"data row8 col0\" >8.000000</td>\n",
       "      <td id=\"T_e1a8a_row8_col1\" class=\"data row8 col1\" >0.12</td>\n",
       "    </tr>\n",
       "    <tr>\n",
       "      <th id=\"T_e1a8a_level0_row9\" class=\"row_heading level0 row9\" >9</th>\n",
       "      <td id=\"T_e1a8a_row9_col0\" class=\"data row9 col0\" >9.000000</td>\n",
       "      <td id=\"T_e1a8a_row9_col1\" class=\"data row9 col1\" >0.11</td>\n",
       "    </tr>\n",
       "  </tbody>\n",
       "</table>\n"
      ],
      "text/plain": [
       "<pandas.io.formats.style.Styler at 0x25a64d0e350>"
      ]
     },
     "metadata": {},
     "output_type": "display_data"
    },
    {
     "data": {
      "image/png": "[encoded data removed]",
      "text/plain": [
       "<Figure size 1500x500 with 1 Axes>"
      ]
     },
     "metadata": {},
     "output_type": "display_data"
    }
   ],
   "source": [
    "# добавим столбец-указатель по городу Санкт-Петербург\n",
    "spb = ['санкт-петербург']\n",
    "df['is_spb'] = df['locality_name'].isin(spb)\n",
    "\n",
    "# рассчитаем медианную стоимость для каждого километра\n",
    "area_price = df[df['is_spb']== True].pivot_table(index='city_centers_distance', values='price_per_meter').reset_index()\n",
    "display(area_price.head(10).style.format({'price_per_meter': '{:.2f}'}))\n",
    "\n",
    "# построим график\n",
    "area_price.plot.scatter(['city_centers_distance'], ['price_per_meter'], figsize=(15, 5))\n",
    "plt.xlabel('Расстояние до центра, км')\n",
    "plt.ylabel('Стоимость кв.м.')\n",
    "plt.title('Связь между расстоянием до центра и стоимостью квадратного метра квартиры')\n",
    "plt.plot()\n",
    "plt.show()"
   ]
  },
  {
   "cell_type": "markdown",
   "metadata": {},
   "source": [
    "Видна обратная корреляция - в целом цена за квадратный метр жилья в Санкт-Петербурге падает с каждым километром от центра города.\n",
    "Центр города заканчивается на 10-м километре, т.к. цена перестаёт резко снижаться."
   ]
  },
  {
   "cell_type": "markdown",
   "metadata": {},
   "source": [
    "#### Вывод\n",
    "Детально изучили объекты в имеющемся датасете:\n",
    "- Чаще всего на продажу уходит три месяца\n",
    "- Дороже всего квартиры в Санкт-Петербургах и его пригородах\n",
    "- Наблюдается корреляция между общей ценой объекта и его площадьми: общей, жилой и кухонной. Корреляция между ценой и количеством комнат менее выражена\n",
    "- Также наблюдается обратная корреляция между расстоянием до центра СПб и ценой за квадратный метр."
   ]
  },
  {
   "cell_type": "markdown",
   "metadata": {},
   "source": [
    "### Общий вывод"
   ]
  },
  {
   "cell_type": "markdown",
   "metadata": {},
   "source": [
    "В ходе работы была проведена предобработка данных:\n",
    "- устранены некоторые пропуски, некорректные значения\n",
    "- оптимизированы названия населенных пунктов.\n",
    "- удалены аномалии расчёта.\n",
    "\n",
    "Скорее всего, часть некорректных и пропущенных значений является ошибками ввода, часть - следствием невозможности обработать неполный адрес объекта.\n",
    "В дальнейшем при сборе данных стоит попытаться контролировать получаемые значения - ограничить высоту потолка, не пропускать общую этажность дома, площадь кухни, жилую площадь.\n",
    "\n",
    "Из полученного датасета можно сделать вывод, что в центре Петербурга квартиры дороже, чем на окраине или в городах-спутниках. Студии и однушки по цене квадратного метра являются лидерами, но при этом продаются быстрее всего. К тому же и количество их предложений самое большое.\\\n",
    "Декабрь, январь и май - меньше всего размещённых объявлений.\\\n",
    "В 2014 году был пик стоимости за 1 квадратный метр, после кризиса цены упали из-за низкого спроса и начали восстанавливаться только после введения госпрограмм на ипотеки в 2018 году.\\\n",
    "Квартиры на первом и последнем этаже дешевле, чем на других этажах.\\\n",
    "В целом по Ленобласти существует однозначная зависимость между площадью квартиры и ее стоимостью, и между площадью и количеством комнат, что вполне ожидаемо: чем больше площадь квартиры, тем в ней больше комнат и тем она дороже.\\\n",
    "Присутствует связь между общей ценой и ценой 1 кв.м., общей ценой и относительной площадью кухни.\\\n",
    "Для более точной оценки рыночной стоимости квартиры, на мой взгляд, следует учитывать и такие факторы, как расстояние до метро, материал дома, год постройки, наличие лифта, в старом фонде - производился ли капитальный ремонт, электрическая или газовая плита, есть ли горячее водоснабжение или имеется газовая колонка.\\\n",
    "Стоимость квартиры при этом зависит от совокупности всех факторов нелинейно - квартиры в доходных домах в центре ценятся за расположение, историческую и культурную ценность даже при необходимости огромных вложений в ремонт, а однушки в Мурино - за ликвидность и возможность получать доход от сдачи в аренду без особых затрат на ремонт."
   ]
  }
 ],
 "metadata": {
  "ExecuteTimeLog": [
   {
    "duration": 1323,
    "start_time": "2023-07-24T19:34:47.915Z"
   },
   {
    "duration": 106,
    "start_time": "2023-07-24T19:34:52.316Z"
   },
   {
    "duration": 82,
    "start_time": "2023-07-24T19:35:01.366Z"
   },
   {
    "duration": 106,
    "start_time": "2023-07-24T19:35:18.192Z"
   },
   {
    "duration": 118,
    "start_time": "2023-07-24T19:35:48.291Z"
   },
   {
    "duration": 99,
    "start_time": "2023-07-24T19:35:56.003Z"
   },
   {
    "duration": 139,
    "start_time": "2023-07-24T19:36:04.480Z"
   },
   {
    "duration": 105,
    "start_time": "2023-07-24T19:36:15.445Z"
   },
   {
    "duration": 106,
    "start_time": "2023-07-24T19:36:27.996Z"
   },
   {
    "duration": 97,
    "start_time": "2023-07-24T19:37:19.826Z"
   },
   {
    "duration": 93,
    "start_time": "2023-07-24T19:37:54.201Z"
   },
   {
    "duration": 90,
    "start_time": "2023-07-24T19:42:03.560Z"
   },
   {
    "duration": 96,
    "start_time": "2023-07-24T19:44:54.420Z"
   },
   {
    "duration": 70,
    "start_time": "2023-07-24T19:46:36.744Z"
   },
   {
    "duration": 99,
    "start_time": "2023-07-24T19:46:53.404Z"
   },
   {
    "duration": 508,
    "start_time": "2023-07-24T19:47:07.496Z"
   },
   {
    "duration": 96,
    "start_time": "2023-07-24T19:51:24.344Z"
   },
   {
    "duration": 103,
    "start_time": "2023-07-24T19:51:53.910Z"
   },
   {
    "duration": 549,
    "start_time": "2023-07-24T19:52:18.301Z"
   },
   {
    "duration": 425,
    "start_time": "2023-07-24T19:53:24.852Z"
   },
   {
    "duration": 446,
    "start_time": "2023-07-24T19:54:43.151Z"
   },
   {
    "duration": 475,
    "start_time": "2023-07-24T19:57:32.571Z"
   },
   {
    "duration": 461,
    "start_time": "2023-07-24T19:58:03.846Z"
   },
   {
    "duration": 545,
    "start_time": "2023-07-24T19:58:45.722Z"
   },
   {
    "duration": 430,
    "start_time": "2023-07-24T19:58:53.697Z"
   },
   {
    "duration": 452,
    "start_time": "2023-07-24T19:59:13.051Z"
   },
   {
    "duration": 469,
    "start_time": "2023-07-24T19:59:32.821Z"
   },
   {
    "duration": 1098,
    "start_time": "2023-07-24T19:59:50.825Z"
   },
   {
    "duration": 427,
    "start_time": "2023-07-24T20:36:49.509Z"
   },
   {
    "duration": 450,
    "start_time": "2023-07-24T20:36:53.725Z"
   },
   {
    "duration": 526,
    "start_time": "2023-07-24T20:37:05.927Z"
   },
   {
    "duration": 470,
    "start_time": "2023-07-24T20:38:21.499Z"
   },
   {
    "duration": 448,
    "start_time": "2023-07-24T20:39:57.435Z"
   },
   {
    "duration": 1016,
    "start_time": "2023-07-25T18:50:00.116Z"
   },
   {
    "duration": 2761,
    "start_time": "2023-07-25T18:50:36.548Z"
   },
   {
    "duration": 4491,
    "start_time": "2023-07-25T18:51:16.997Z"
   },
   {
    "duration": 8,
    "start_time": "2023-07-25T19:20:11.245Z"
   },
   {
    "duration": 64,
    "start_time": "2023-07-25T19:23:49.718Z"
   },
   {
    "duration": 47,
    "start_time": "2023-07-25T19:24:27.425Z"
   },
   {
    "duration": 67,
    "start_time": "2023-07-25T19:25:10.407Z"
   },
   {
    "duration": 11,
    "start_time": "2023-07-25T19:25:56.195Z"
   },
   {
    "duration": 15,
    "start_time": "2023-07-25T19:26:12.364Z"
   },
   {
    "duration": 23,
    "start_time": "2023-07-25T19:26:43.399Z"
   },
   {
    "duration": 5175,
    "start_time": "2023-07-25T19:26:51.794Z"
   },
   {
    "duration": 75,
    "start_time": "2023-07-25T19:26:56.971Z"
   },
   {
    "duration": 11,
    "start_time": "2023-07-25T19:36:35.449Z"
   },
   {
    "duration": 5326,
    "start_time": "2023-07-25T19:36:55.543Z"
   },
   {
    "duration": 76,
    "start_time": "2023-07-25T19:37:00.871Z"
   },
   {
    "duration": 23,
    "start_time": "2023-07-25T19:37:11.970Z"
   },
   {
    "duration": 23,
    "start_time": "2023-07-25T19:38:12.596Z"
   },
   {
    "duration": 15,
    "start_time": "2023-07-25T19:38:30.041Z"
   },
   {
    "duration": 93,
    "start_time": "2023-07-25T19:39:08.005Z"
   },
   {
    "duration": 48,
    "start_time": "2023-07-25T19:46:01.538Z"
   },
   {
    "duration": 72,
    "start_time": "2023-07-25T19:46:22.522Z"
   },
   {
    "duration": 5200,
    "start_time": "2023-07-25T19:46:54.069Z"
   },
   {
    "duration": 70,
    "start_time": "2023-07-25T19:46:59.271Z"
   },
   {
    "duration": 78,
    "start_time": "2023-07-25T19:48:42.596Z"
   },
   {
    "duration": 24,
    "start_time": "2023-07-25T19:49:02.555Z"
   },
   {
    "duration": 38,
    "start_time": "2023-07-25T19:49:13.689Z"
   },
   {
    "duration": 4,
    "start_time": "2023-07-25T19:50:12.849Z"
   },
   {
    "duration": 9,
    "start_time": "2023-07-25T19:51:15.465Z"
   },
   {
    "duration": 1596,
    "start_time": "2023-08-02T05:27:45.398Z"
   },
   {
    "duration": 601,
    "start_time": "2023-08-02T05:27:46.997Z"
   },
   {
    "duration": 33,
    "start_time": "2023-08-02T05:27:47.599Z"
   },
   {
    "duration": 17,
    "start_time": "2023-08-02T05:27:47.634Z"
   },
   {
    "duration": 94,
    "start_time": "2023-08-02T05:27:47.654Z"
   },
   {
    "duration": 2061,
    "start_time": "2023-08-02T05:27:47.750Z"
   },
   {
    "duration": 9,
    "start_time": "2023-08-02T05:27:49.813Z"
   },
   {
    "duration": 47,
    "start_time": "2023-08-02T05:27:49.825Z"
   },
   {
    "duration": 144,
    "start_time": "2023-08-02T05:27:49.874Z"
   },
   {
    "duration": 12,
    "start_time": "2023-08-02T05:27:50.020Z"
   },
   {
    "duration": 29,
    "start_time": "2023-08-02T05:27:50.034Z"
   },
   {
    "duration": 15,
    "start_time": "2023-08-02T05:27:50.065Z"
   },
   {
    "duration": 88,
    "start_time": "2023-08-02T05:27:50.082Z"
   },
   {
    "duration": 20,
    "start_time": "2023-08-02T05:27:50.174Z"
   },
   {
    "duration": 160,
    "start_time": "2023-08-02T05:27:50.210Z"
   },
   {
    "duration": 64,
    "start_time": "2023-08-02T05:27:50.372Z"
   },
   {
    "duration": 152,
    "start_time": "2023-08-02T05:27:50.438Z"
   },
   {
    "duration": 117,
    "start_time": "2023-08-02T05:27:50.593Z"
   },
   {
    "duration": 13,
    "start_time": "2023-08-02T05:27:50.711Z"
   },
   {
    "duration": 19,
    "start_time": "2023-08-02T05:27:50.726Z"
   },
   {
    "duration": 14,
    "start_time": "2023-08-02T05:27:50.747Z"
   },
   {
    "duration": 26,
    "start_time": "2023-08-02T05:27:50.763Z"
   },
   {
    "duration": 37,
    "start_time": "2023-08-02T05:27:50.790Z"
   },
   {
    "duration": 6,
    "start_time": "2023-08-02T05:27:50.829Z"
   },
   {
    "duration": 8,
    "start_time": "2023-08-02T05:27:50.836Z"
   },
   {
    "duration": 15,
    "start_time": "2023-08-02T05:27:50.846Z"
   },
   {
    "duration": 237,
    "start_time": "2023-08-02T05:27:50.863Z"
   },
   {
    "duration": 249,
    "start_time": "2023-08-02T05:27:51.108Z"
   },
   {
    "duration": 268,
    "start_time": "2023-08-02T05:27:51.359Z"
   },
   {
    "duration": 418,
    "start_time": "2023-08-02T05:27:51.629Z"
   },
   {
    "duration": 263,
    "start_time": "2023-08-02T05:27:52.049Z"
   },
   {
    "duration": 238,
    "start_time": "2023-08-02T05:27:52.314Z"
   },
   {
    "duration": 238,
    "start_time": "2023-08-02T05:27:52.554Z"
   },
   {
    "duration": 117,
    "start_time": "2023-08-02T05:27:52.794Z"
   },
   {
    "duration": 249,
    "start_time": "2023-08-02T05:27:52.913Z"
   },
   {
    "duration": 359,
    "start_time": "2023-08-02T05:27:53.164Z"
   },
   {
    "duration": 264,
    "start_time": "2023-08-02T05:27:53.525Z"
   },
   {
    "duration": 279,
    "start_time": "2023-08-02T05:27:53.791Z"
   },
   {
    "duration": 253,
    "start_time": "2023-08-02T05:27:54.071Z"
   },
   {
    "duration": 228,
    "start_time": "2023-08-02T05:27:54.325Z"
   },
   {
    "duration": 375,
    "start_time": "2023-08-02T05:27:54.558Z"
   },
   {
    "duration": 673,
    "start_time": "2023-08-02T05:27:54.935Z"
   },
   {
    "duration": 33,
    "start_time": "2023-08-02T05:27:55.611Z"
   },
   {
    "duration": 323,
    "start_time": "2023-08-02T05:27:55.646Z"
   },
   {
    "duration": 12,
    "start_time": "2023-08-02T05:29:40.080Z"
   },
   {
    "duration": 4,
    "start_time": "2023-08-02T05:30:15.552Z"
   },
   {
    "duration": 100,
    "start_time": "2023-08-02T05:30:46.520Z"
   },
   {
    "duration": 8,
    "start_time": "2023-08-02T05:31:06.773Z"
   },
   {
    "duration": 66,
    "start_time": "2023-08-02T18:25:23.561Z"
   },
   {
    "duration": 1445,
    "start_time": "2023-08-02T18:30:38.064Z"
   },
   {
    "duration": 423,
    "start_time": "2023-08-02T18:30:39.653Z"
   },
   {
    "duration": 46,
    "start_time": "2023-08-02T18:30:41.289Z"
   },
   {
    "duration": 22,
    "start_time": "2023-08-02T18:30:43.833Z"
   },
   {
    "duration": 79,
    "start_time": "2023-08-02T18:30:45.954Z"
   },
   {
    "duration": 2020,
    "start_time": "2023-08-02T18:30:47.865Z"
   },
   {
    "duration": 8,
    "start_time": "2023-08-02T18:31:06.320Z"
   },
   {
    "duration": 22,
    "start_time": "2023-08-02T18:31:09.688Z"
   },
   {
    "duration": 19,
    "start_time": "2023-08-02T18:31:12.963Z"
   },
   {
    "duration": 131,
    "start_time": "2023-08-02T18:32:16.111Z"
   },
   {
    "duration": 10,
    "start_time": "2023-08-02T18:33:29.821Z"
   },
   {
    "duration": 14,
    "start_time": "2023-08-02T18:33:37.591Z"
   },
   {
    "duration": 15,
    "start_time": "2023-08-02T18:35:12.694Z"
   },
   {
    "duration": 110,
    "start_time": "2023-08-02T18:35:19.093Z"
   },
   {
    "duration": 22,
    "start_time": "2023-08-02T18:36:20.787Z"
   },
   {
    "duration": 32,
    "start_time": "2023-08-02T18:36:38.462Z"
   },
   {
    "duration": 1126,
    "start_time": "2023-08-07T06:34:06.423Z"
   },
   {
    "duration": 292,
    "start_time": "2023-08-07T06:34:07.551Z"
   },
   {
    "duration": 28,
    "start_time": "2023-08-07T06:34:07.844Z"
   },
   {
    "duration": 20,
    "start_time": "2023-08-07T06:34:07.874Z"
   },
   {
    "duration": 85,
    "start_time": "2023-08-07T06:34:07.895Z"
   },
   {
    "duration": 4067,
    "start_time": "2023-08-07T06:34:07.982Z"
   },
   {
    "duration": 7,
    "start_time": "2023-08-07T06:34:12.051Z"
   },
   {
    "duration": 88,
    "start_time": "2023-08-07T06:34:12.060Z"
   },
   {
    "duration": 8,
    "start_time": "2023-08-07T06:34:12.150Z"
   },
   {
    "duration": 507,
    "start_time": "2023-08-07T06:34:12.162Z"
   },
   {
    "duration": 67,
    "start_time": "2023-08-07T06:34:12.676Z"
   },
   {
    "duration": 94,
    "start_time": "2023-08-07T06:34:12.745Z"
   },
   {
    "duration": 13,
    "start_time": "2023-08-07T06:34:12.840Z"
   },
   {
    "duration": 190,
    "start_time": "2023-08-07T06:34:12.854Z"
   },
   {
    "duration": 35,
    "start_time": "2023-08-07T06:34:13.046Z"
   },
   {
    "duration": 138,
    "start_time": "2023-08-07T06:34:13.137Z"
   },
   {
    "duration": 64,
    "start_time": "2023-08-07T06:34:13.277Z"
   },
   {
    "duration": 107,
    "start_time": "2023-08-07T06:34:13.343Z"
   },
   {
    "duration": 190,
    "start_time": "2023-08-07T06:34:13.452Z"
   },
   {
    "duration": 10,
    "start_time": "2023-08-07T06:34:13.644Z"
   },
   {
    "duration": 102,
    "start_time": "2023-08-07T06:34:13.655Z"
   },
   {
    "duration": 284,
    "start_time": "2023-08-07T06:34:13.759Z"
   },
   {
    "duration": 220,
    "start_time": "2023-08-07T06:34:14.045Z"
   },
   {
    "duration": 84,
    "start_time": "2023-08-07T06:34:14.267Z"
   },
   {
    "duration": 19,
    "start_time": "2023-08-07T06:34:14.353Z"
   },
   {
    "duration": 67,
    "start_time": "2023-08-07T06:34:14.374Z"
   },
   {
    "duration": 28,
    "start_time": "2023-08-07T06:34:14.443Z"
   },
   {
    "duration": 91,
    "start_time": "2023-08-07T06:34:14.476Z"
   },
   {
    "duration": 131,
    "start_time": "2023-08-07T06:34:14.569Z"
   },
   {
    "duration": 12,
    "start_time": "2023-08-07T06:34:14.703Z"
   },
   {
    "duration": 45,
    "start_time": "2023-08-07T06:34:14.717Z"
   },
   {
    "duration": 510,
    "start_time": "2023-08-07T06:34:14.764Z"
   },
   {
    "duration": 675,
    "start_time": "2023-08-07T06:34:15.275Z"
   },
   {
    "duration": 502,
    "start_time": "2023-08-07T06:34:15.951Z"
   },
   {
    "duration": 607,
    "start_time": "2023-08-07T06:34:16.455Z"
   },
   {
    "duration": 418,
    "start_time": "2023-08-07T06:34:17.063Z"
   },
   {
    "duration": 481,
    "start_time": "2023-08-07T06:34:17.483Z"
   },
   {
    "duration": 489,
    "start_time": "2023-08-07T06:34:17.967Z"
   },
   {
    "duration": 308,
    "start_time": "2023-08-07T06:34:18.458Z"
   },
   {
    "duration": 490,
    "start_time": "2023-08-07T06:34:18.767Z"
   },
   {
    "duration": 609,
    "start_time": "2023-08-07T06:34:19.259Z"
   },
   {
    "duration": 480,
    "start_time": "2023-08-07T06:34:19.869Z"
   },
   {
    "duration": 414,
    "start_time": "2023-08-07T06:34:20.351Z"
   },
   {
    "duration": 411,
    "start_time": "2023-08-07T06:34:20.769Z"
   },
   {
    "duration": 402,
    "start_time": "2023-08-07T06:34:21.238Z"
   },
   {
    "duration": 600,
    "start_time": "2023-08-07T06:34:21.642Z"
   },
   {
    "duration": 439,
    "start_time": "2023-08-07T06:34:22.244Z"
   },
   {
    "duration": 23,
    "start_time": "2023-08-07T06:34:22.738Z"
   },
   {
    "duration": 288,
    "start_time": "2023-08-07T06:34:22.763Z"
   },
   {
    "duration": 287,
    "start_time": "2023-08-07T06:34:23.053Z"
   },
   {
    "duration": 208,
    "start_time": "2023-08-07T06:34:23.342Z"
   },
   {
    "duration": 186,
    "start_time": "2023-08-07T06:34:23.552Z"
   },
   {
    "duration": 38,
    "start_time": "2023-08-07T06:34:23.740Z"
   },
   {
    "duration": 469,
    "start_time": "2023-08-07T06:34:23.780Z"
   },
   {
    "duration": 77,
    "start_time": "2023-08-07T06:36:41.430Z"
   },
   {
    "duration": 217,
    "start_time": "2023-08-07T06:37:47.341Z"
   },
   {
    "duration": 2838,
    "start_time": "2023-08-07T19:33:56.160Z"
   },
   {
    "duration": 938,
    "start_time": "2023-08-07T19:33:59.005Z"
   },
   {
    "duration": 105,
    "start_time": "2023-08-07T19:33:59.946Z"
   },
   {
    "duration": 92,
    "start_time": "2023-08-07T19:34:00.053Z"
   },
   {
    "duration": 169,
    "start_time": "2023-08-07T19:34:00.148Z"
   },
   {
    "duration": 5742,
    "start_time": "2023-08-07T19:34:00.320Z"
   },
   {
    "duration": 10,
    "start_time": "2023-08-07T19:34:06.064Z"
   },
   {
    "duration": 75,
    "start_time": "2023-08-07T19:34:06.097Z"
   },
   {
    "duration": 650,
    "start_time": "2023-08-07T19:34:06.175Z"
   },
   {
    "duration": 16,
    "start_time": "2023-08-07T19:34:06.829Z"
   },
   {
    "duration": 131,
    "start_time": "2023-08-07T19:34:06.888Z"
   },
   {
    "duration": 17,
    "start_time": "2023-08-07T19:34:07.027Z"
   },
   {
    "duration": 222,
    "start_time": "2023-08-07T19:34:07.099Z"
   },
   {
    "duration": 65,
    "start_time": "2023-08-07T19:34:07.334Z"
   },
   {
    "duration": 145,
    "start_time": "2023-08-07T19:34:07.401Z"
   },
   {
    "duration": 46,
    "start_time": "2023-08-07T19:34:07.548Z"
   },
   {
    "duration": 39,
    "start_time": "2023-08-07T19:34:07.597Z"
   },
   {
    "duration": 174,
    "start_time": "2023-08-07T19:34:07.638Z"
   },
   {
    "duration": 20,
    "start_time": "2023-08-07T19:34:07.819Z"
   },
   {
    "duration": 199,
    "start_time": "2023-08-07T19:34:07.897Z"
   },
   {
    "duration": 328,
    "start_time": "2023-08-07T19:34:08.103Z"
   },
   {
    "duration": 292,
    "start_time": "2023-08-07T19:34:08.437Z"
   },
   {
    "duration": 99,
    "start_time": "2023-08-07T19:34:08.732Z"
   },
   {
    "duration": 67,
    "start_time": "2023-08-07T19:34:08.845Z"
   },
   {
    "duration": 15,
    "start_time": "2023-08-07T19:34:08.923Z"
   },
   {
    "duration": 68,
    "start_time": "2023-08-07T19:34:08.942Z"
   },
   {
    "duration": 132,
    "start_time": "2023-08-07T19:34:09.018Z"
   },
   {
    "duration": 20,
    "start_time": "2023-08-07T19:34:09.152Z"
   },
   {
    "duration": 11,
    "start_time": "2023-08-07T19:34:09.201Z"
   },
   {
    "duration": 13,
    "start_time": "2023-08-07T19:34:09.219Z"
   },
   {
    "duration": 961,
    "start_time": "2023-08-07T19:34:09.244Z"
   },
   {
    "duration": 815,
    "start_time": "2023-08-07T19:34:10.207Z"
   },
   {
    "duration": 834,
    "start_time": "2023-08-07T19:34:11.029Z"
   },
   {
    "duration": 1318,
    "start_time": "2023-08-07T19:34:11.900Z"
   },
   {
    "duration": 796,
    "start_time": "2023-08-07T19:34:13.230Z"
   },
   {
    "duration": 875,
    "start_time": "2023-08-07T19:34:14.037Z"
   },
   {
    "duration": 706,
    "start_time": "2023-08-07T19:34:14.923Z"
   },
   {
    "duration": 317,
    "start_time": "2023-08-07T19:34:15.647Z"
   },
   {
    "duration": 863,
    "start_time": "2023-08-07T19:34:15.966Z"
   },
   {
    "duration": 1012,
    "start_time": "2023-08-07T19:34:16.838Z"
   },
   {
    "duration": 945,
    "start_time": "2023-08-07T19:34:17.858Z"
   },
   {
    "duration": 614,
    "start_time": "2023-08-07T19:34:18.808Z"
   },
   {
    "duration": 708,
    "start_time": "2023-08-07T19:34:19.433Z"
   },
   {
    "duration": 732,
    "start_time": "2023-08-07T19:34:20.145Z"
   },
   {
    "duration": 703,
    "start_time": "2023-08-07T19:34:20.890Z"
   },
   {
    "duration": 1127,
    "start_time": "2023-08-07T19:34:21.605Z"
   },
   {
    "duration": 93,
    "start_time": "2023-08-07T19:34:22.739Z"
   },
   {
    "duration": 360,
    "start_time": "2023-08-07T19:34:22.839Z"
   },
   {
    "duration": 295,
    "start_time": "2023-08-07T19:34:23.204Z"
   },
   {
    "duration": 319,
    "start_time": "2023-08-07T19:34:23.503Z"
   },
   {
    "duration": 305,
    "start_time": "2023-08-07T19:34:23.828Z"
   },
   {
    "duration": 90,
    "start_time": "2023-08-07T19:34:24.135Z"
   },
   {
    "duration": 667,
    "start_time": "2023-08-07T19:34:24.233Z"
   },
   {
    "duration": 123,
    "start_time": "2023-08-07T19:38:39.788Z"
   }
  ],
  "celltoolbar": "Необработанный формат ячейки",
  "kernelspec": {
   "display_name": "Python 3 (ipykernel)",
   "language": "python",
   "name": "python3"
  },
  "language_info": {
   "codemirror_mode": {
    "name": "ipython",
    "version": 3
   },
   "file_extension": ".py",
   "mimetype": "text/x-python",
   "name": "python",
   "nbconvert_exporter": "python",
   "pygments_lexer": "ipython3",
   "version": "3.11.4"
  },
  "toc": {
   "base_numbering": 1,
   "nav_menu": {},
   "number_sections": true,
   "sideBar": true,
   "skip_h1_title": true,
   "title_cell": "Table of Contents",
   "title_sidebar": "Contents",
   "toc_cell": false,
   "toc_position": {
    "height": "calc(100% - 180px)",
    "left": "10px",
    "top": "150px",
    "width": "252px"
   },
   "toc_section_display": true,
   "toc_window_display": false
  }
 },
 "nbformat": 4,
 "nbformat_minor": 2
}
