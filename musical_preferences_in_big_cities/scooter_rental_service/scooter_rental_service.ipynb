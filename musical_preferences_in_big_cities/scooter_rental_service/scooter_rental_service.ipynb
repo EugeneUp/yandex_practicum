{
 "cells": [
  {
   "cell_type": "markdown",
   "id": "55870694",
   "metadata": {},
   "source": [
    "# Влияние подписки на сервис по прокату самокатов\n",
    "\n",
    "**Цель исследования**\n",
    "\n",
    "Проверить как наличие платной подписки влияет на длительность, расстояние поездки, а также на сумму выручки.\n",
    "\n",
    "**Входные данные**\n",
    "\n",
    "**Пользователи** — *`users_go.csv`*\n",
    "- `user_id` - уникальный идентификатор пользователя\n",
    "- `name` - имя пользователя\n",
    "- `age` - возраст\n",
    "- `city` - город\n",
    "- `subscription_type` - тип подписки (free, ultra)\n",
    "\n",
    "**Поездки** — *`rides_go.csv`*\n",
    "- `user_id` - уникальный идентификатор пользователя\n",
    "- `distance` - расстояние, которое пользователь проехал в текущей сессии (в метрах)\n",
    "- `duration` - продолжительность сессии (в минутах) — время с того момента, как пользователь нажал кнопку «Начать поездку» до момента, как он нажал кнопку «Завершить поездку»\n",
    "- `date` - дата совершения поездки\n",
    "\n",
    "**Подписки** — *`subscriptions_go.csv`*\n",
    "- `subscription_type` - тип подписки\n",
    "- `minute_price` - стоимость одной минуты поездки по данной подписке\n",
    "- `start_ride_price` - стоимость начала поездки\n",
    "- `subscription_fee` - стоимость ежемесячного платежа\n",
    "\n",
    "**Ход исследования**\n",
    "*    Загрузка данных;\n",
    "*    Предобработка данных;\n",
    "*    Исследовательский анализ данных;\n",
    "*    Объединение данных;\n",
    "*    Подсчёт выручки;\n",
    "*    Проверка гипотез."
   ]
  },
  {
   "cell_type": "code",
   "execution_count": 1,
   "id": "6ef43367",
   "metadata": {
    "hidePrompt": true
   },
   "outputs": [],
   "source": [
    "# подключаем библиотеки\n",
    "import pandas as pd\n",
    "import numpy as np\n",
    "import matplotlib.pyplot as plt\n",
    "from scipy import stats as st"
   ]
  },
  {
   "cell_type": "markdown",
   "id": "e2569a7f",
   "metadata": {
    "hidePrompt": false
   },
   "source": [
    "## Загрузка данных"
   ]
  },
  {
   "cell_type": "code",
   "execution_count": 2,
   "id": "62615386",
   "metadata": {
    "hidePrompt": true
   },
   "outputs": [
    {
     "data": {
      "text/html": [
       "<div>\n",
       "<style scoped>\n",
       "    .dataframe tbody tr th:only-of-type {\n",
       "        vertical-align: middle;\n",
       "    }\n",
       "\n",
       "    .dataframe tbody tr th {\n",
       "        vertical-align: top;\n",
       "    }\n",
       "\n",
       "    .dataframe thead th {\n",
       "        text-align: right;\n",
       "    }\n",
       "</style>\n",
       "<table border=\"1\" class=\"dataframe\">\n",
       "  <thead>\n",
       "    <tr style=\"text-align: right;\">\n",
       "      <th></th>\n",
       "      <th>user_id</th>\n",
       "      <th>name</th>\n",
       "      <th>age</th>\n",
       "      <th>city</th>\n",
       "      <th>subscription_type</th>\n",
       "    </tr>\n",
       "  </thead>\n",
       "  <tbody>\n",
       "    <tr>\n",
       "      <th>1394</th>\n",
       "      <td>1395</td>\n",
       "      <td>Артём</td>\n",
       "      <td>30</td>\n",
       "      <td>Сочи</td>\n",
       "      <td>free</td>\n",
       "    </tr>\n",
       "    <tr>\n",
       "      <th>1457</th>\n",
       "      <td>1458</td>\n",
       "      <td>Тамерлан</td>\n",
       "      <td>24</td>\n",
       "      <td>Сочи</td>\n",
       "      <td>free</td>\n",
       "    </tr>\n",
       "    <tr>\n",
       "      <th>1465</th>\n",
       "      <td>1466</td>\n",
       "      <td>Григорий</td>\n",
       "      <td>24</td>\n",
       "      <td>Ростов-на-Дону</td>\n",
       "      <td>free</td>\n",
       "    </tr>\n",
       "    <tr>\n",
       "      <th>666</th>\n",
       "      <td>667</td>\n",
       "      <td>Арина</td>\n",
       "      <td>23</td>\n",
       "      <td>Ростов-на-Дону</td>\n",
       "      <td>ultra</td>\n",
       "    </tr>\n",
       "    <tr>\n",
       "      <th>1328</th>\n",
       "      <td>1329</td>\n",
       "      <td>Самир</td>\n",
       "      <td>35</td>\n",
       "      <td>Сочи</td>\n",
       "      <td>free</td>\n",
       "    </tr>\n",
       "    <tr>\n",
       "      <th>1373</th>\n",
       "      <td>1374</td>\n",
       "      <td>Марк</td>\n",
       "      <td>29</td>\n",
       "      <td>Пятигорск</td>\n",
       "      <td>free</td>\n",
       "    </tr>\n",
       "    <tr>\n",
       "      <th>1243</th>\n",
       "      <td>1244</td>\n",
       "      <td>Ксения</td>\n",
       "      <td>23</td>\n",
       "      <td>Екатеринбург</td>\n",
       "      <td>free</td>\n",
       "    </tr>\n",
       "    <tr>\n",
       "      <th>1311</th>\n",
       "      <td>1312</td>\n",
       "      <td>Регина</td>\n",
       "      <td>21</td>\n",
       "      <td>Краснодар</td>\n",
       "      <td>free</td>\n",
       "    </tr>\n",
       "    <tr>\n",
       "      <th>204</th>\n",
       "      <td>205</td>\n",
       "      <td>Тимофей</td>\n",
       "      <td>26</td>\n",
       "      <td>Пятигорск</td>\n",
       "      <td>ultra</td>\n",
       "    </tr>\n",
       "    <tr>\n",
       "      <th>727</th>\n",
       "      <td>728</td>\n",
       "      <td>Вячеслав</td>\n",
       "      <td>12</td>\n",
       "      <td>Пятигорск</td>\n",
       "      <td>free</td>\n",
       "    </tr>\n",
       "  </tbody>\n",
       "</table>\n",
       "</div>"
      ],
      "text/plain": [
       "      user_id      name  age            city subscription_type\n",
       "1394     1395     Артём   30            Сочи              free\n",
       "1457     1458  Тамерлан   24            Сочи              free\n",
       "1465     1466  Григорий   24  Ростов-на-Дону              free\n",
       "666       667     Арина   23  Ростов-на-Дону             ultra\n",
       "1328     1329     Самир   35            Сочи              free\n",
       "1373     1374      Марк   29       Пятигорск              free\n",
       "1243     1244    Ксения   23    Екатеринбург              free\n",
       "1311     1312    Регина   21       Краснодар              free\n",
       "204       205   Тимофей   26       Пятигорск             ultra\n",
       "727       728  Вячеслав   12       Пятигорск              free"
      ]
     },
     "metadata": {},
     "output_type": "display_data"
    },
    {
     "data": {
      "text/html": [
       "<div>\n",
       "<style scoped>\n",
       "    .dataframe tbody tr th:only-of-type {\n",
       "        vertical-align: middle;\n",
       "    }\n",
       "\n",
       "    .dataframe tbody tr th {\n",
       "        vertical-align: top;\n",
       "    }\n",
       "\n",
       "    .dataframe thead th {\n",
       "        text-align: right;\n",
       "    }\n",
       "</style>\n",
       "<table border=\"1\" class=\"dataframe\">\n",
       "  <thead>\n",
       "    <tr style=\"text-align: right;\">\n",
       "      <th></th>\n",
       "      <th>user_id</th>\n",
       "      <th>age</th>\n",
       "    </tr>\n",
       "  </thead>\n",
       "  <tbody>\n",
       "    <tr>\n",
       "      <th>count</th>\n",
       "      <td>1565.000000</td>\n",
       "      <td>1565.000000</td>\n",
       "    </tr>\n",
       "    <tr>\n",
       "      <th>mean</th>\n",
       "      <td>762.633866</td>\n",
       "      <td>24.922045</td>\n",
       "    </tr>\n",
       "    <tr>\n",
       "      <th>std</th>\n",
       "      <td>443.260155</td>\n",
       "      <td>4.553496</td>\n",
       "    </tr>\n",
       "    <tr>\n",
       "      <th>min</th>\n",
       "      <td>1.000000</td>\n",
       "      <td>12.000000</td>\n",
       "    </tr>\n",
       "    <tr>\n",
       "      <th>25%</th>\n",
       "      <td>378.000000</td>\n",
       "      <td>22.000000</td>\n",
       "    </tr>\n",
       "    <tr>\n",
       "      <th>50%</th>\n",
       "      <td>762.000000</td>\n",
       "      <td>25.000000</td>\n",
       "    </tr>\n",
       "    <tr>\n",
       "      <th>75%</th>\n",
       "      <td>1146.000000</td>\n",
       "      <td>28.000000</td>\n",
       "    </tr>\n",
       "    <tr>\n",
       "      <th>max</th>\n",
       "      <td>1534.000000</td>\n",
       "      <td>43.000000</td>\n",
       "    </tr>\n",
       "  </tbody>\n",
       "</table>\n",
       "</div>"
      ],
      "text/plain": [
       "           user_id          age\n",
       "count  1565.000000  1565.000000\n",
       "mean    762.633866    24.922045\n",
       "std     443.260155     4.553496\n",
       "min       1.000000    12.000000\n",
       "25%     378.000000    22.000000\n",
       "50%     762.000000    25.000000\n",
       "75%    1146.000000    28.000000\n",
       "max    1534.000000    43.000000"
      ]
     },
     "metadata": {},
     "output_type": "display_data"
    },
    {
     "name": "stdout",
     "output_type": "stream",
     "text": [
      "<class 'pandas.core.frame.DataFrame'>\n",
      "RangeIndex: 1565 entries, 0 to 1564\n",
      "Data columns (total 5 columns):\n",
      " #   Column             Non-Null Count  Dtype \n",
      "---  ------             --------------  ----- \n",
      " 0   user_id            1565 non-null   int64 \n",
      " 1   name               1565 non-null   object\n",
      " 2   age                1565 non-null   int64 \n",
      " 3   city               1565 non-null   object\n",
      " 4   subscription_type  1565 non-null   object\n",
      "dtypes: int64(2), object(3)\n",
      "memory usage: 61.3+ KB\n"
     ]
    },
    {
     "data": {
      "text/plain": [
       "None"
      ]
     },
     "metadata": {},
     "output_type": "display_data"
    }
   ],
   "source": [
    "# подгружаем данные таблицы пользователей\n",
    "df_users = pd.read_csv('/users_go.csv', sep=',', decimal='.', engine='python')\n",
    "\n",
    "display(df_users.sample(10))\n",
    "display(df_users.describe())\n",
    "display(df_users.info())"
   ]
  },
  {
   "cell_type": "code",
   "execution_count": 3,
   "id": "712d2ce9",
   "metadata": {
    "hidePrompt": true
   },
   "outputs": [
    {
     "data": {
      "text/html": [
       "<div>\n",
       "<style scoped>\n",
       "    .dataframe tbody tr th:only-of-type {\n",
       "        vertical-align: middle;\n",
       "    }\n",
       "\n",
       "    .dataframe tbody tr th {\n",
       "        vertical-align: top;\n",
       "    }\n",
       "\n",
       "    .dataframe thead th {\n",
       "        text-align: right;\n",
       "    }\n",
       "</style>\n",
       "<table border=\"1\" class=\"dataframe\">\n",
       "  <thead>\n",
       "    <tr style=\"text-align: right;\">\n",
       "      <th></th>\n",
       "      <th>user_id</th>\n",
       "      <th>distance</th>\n",
       "      <th>duration</th>\n",
       "      <th>date</th>\n",
       "    </tr>\n",
       "  </thead>\n",
       "  <tbody>\n",
       "    <tr>\n",
       "      <th>6826</th>\n",
       "      <td>722</td>\n",
       "      <td>669.905310</td>\n",
       "      <td>13.512145</td>\n",
       "      <td>2021-10-04</td>\n",
       "    </tr>\n",
       "    <tr>\n",
       "      <th>3588</th>\n",
       "      <td>386</td>\n",
       "      <td>3501.187897</td>\n",
       "      <td>22.003394</td>\n",
       "      <td>2021-05-01</td>\n",
       "    </tr>\n",
       "    <tr>\n",
       "      <th>17691</th>\n",
       "      <td>1509</td>\n",
       "      <td>2418.905819</td>\n",
       "      <td>13.537315</td>\n",
       "      <td>2021-06-12</td>\n",
       "    </tr>\n",
       "    <tr>\n",
       "      <th>8854</th>\n",
       "      <td>876</td>\n",
       "      <td>4682.311311</td>\n",
       "      <td>25.558667</td>\n",
       "      <td>2021-05-13</td>\n",
       "    </tr>\n",
       "    <tr>\n",
       "      <th>6630</th>\n",
       "      <td>709</td>\n",
       "      <td>2273.921770</td>\n",
       "      <td>21.527207</td>\n",
       "      <td>2021-02-10</td>\n",
       "    </tr>\n",
       "    <tr>\n",
       "      <th>131</th>\n",
       "      <td>13</td>\n",
       "      <td>4676.575006</td>\n",
       "      <td>21.706300</td>\n",
       "      <td>2021-10-24</td>\n",
       "    </tr>\n",
       "    <tr>\n",
       "      <th>14296</th>\n",
       "      <td>1264</td>\n",
       "      <td>2456.748494</td>\n",
       "      <td>10.758153</td>\n",
       "      <td>2021-10-18</td>\n",
       "    </tr>\n",
       "    <tr>\n",
       "      <th>12216</th>\n",
       "      <td>1117</td>\n",
       "      <td>2570.110203</td>\n",
       "      <td>17.425276</td>\n",
       "      <td>2021-12-03</td>\n",
       "    </tr>\n",
       "    <tr>\n",
       "      <th>11031</th>\n",
       "      <td>1030</td>\n",
       "      <td>2229.900375</td>\n",
       "      <td>6.459801</td>\n",
       "      <td>2021-09-02</td>\n",
       "    </tr>\n",
       "    <tr>\n",
       "      <th>13895</th>\n",
       "      <td>1237</td>\n",
       "      <td>2726.739989</td>\n",
       "      <td>21.906960</td>\n",
       "      <td>2021-09-26</td>\n",
       "    </tr>\n",
       "  </tbody>\n",
       "</table>\n",
       "</div>"
      ],
      "text/plain": [
       "       user_id     distance   duration        date\n",
       "6826       722   669.905310  13.512145  2021-10-04\n",
       "3588       386  3501.187897  22.003394  2021-05-01\n",
       "17691     1509  2418.905819  13.537315  2021-06-12\n",
       "8854       876  4682.311311  25.558667  2021-05-13\n",
       "6630       709  2273.921770  21.527207  2021-02-10\n",
       "131         13  4676.575006  21.706300  2021-10-24\n",
       "14296     1264  2456.748494  10.758153  2021-10-18\n",
       "12216     1117  2570.110203  17.425276  2021-12-03\n",
       "11031     1030  2229.900375   6.459801  2021-09-02\n",
       "13895     1237  2726.739989  21.906960  2021-09-26"
      ]
     },
     "metadata": {},
     "output_type": "display_data"
    },
    {
     "data": {
      "text/html": [
       "<div>\n",
       "<style scoped>\n",
       "    .dataframe tbody tr th:only-of-type {\n",
       "        vertical-align: middle;\n",
       "    }\n",
       "\n",
       "    .dataframe tbody tr th {\n",
       "        vertical-align: top;\n",
       "    }\n",
       "\n",
       "    .dataframe thead th {\n",
       "        text-align: right;\n",
       "    }\n",
       "</style>\n",
       "<table border=\"1\" class=\"dataframe\">\n",
       "  <thead>\n",
       "    <tr style=\"text-align: right;\">\n",
       "      <th></th>\n",
       "      <th>user_id</th>\n",
       "      <th>distance</th>\n",
       "      <th>duration</th>\n",
       "    </tr>\n",
       "  </thead>\n",
       "  <tbody>\n",
       "    <tr>\n",
       "      <th>count</th>\n",
       "      <td>18068.000000</td>\n",
       "      <td>18068.000000</td>\n",
       "      <td>18068.000000</td>\n",
       "    </tr>\n",
       "    <tr>\n",
       "      <th>mean</th>\n",
       "      <td>842.869936</td>\n",
       "      <td>3070.659976</td>\n",
       "      <td>17.805011</td>\n",
       "    </tr>\n",
       "    <tr>\n",
       "      <th>std</th>\n",
       "      <td>434.734317</td>\n",
       "      <td>1116.831209</td>\n",
       "      <td>6.091051</td>\n",
       "    </tr>\n",
       "    <tr>\n",
       "      <th>min</th>\n",
       "      <td>1.000000</td>\n",
       "      <td>0.855683</td>\n",
       "      <td>0.500000</td>\n",
       "    </tr>\n",
       "    <tr>\n",
       "      <th>25%</th>\n",
       "      <td>487.000000</td>\n",
       "      <td>2543.226360</td>\n",
       "      <td>13.597563</td>\n",
       "    </tr>\n",
       "    <tr>\n",
       "      <th>50%</th>\n",
       "      <td>889.000000</td>\n",
       "      <td>3133.609994</td>\n",
       "      <td>17.678395</td>\n",
       "    </tr>\n",
       "    <tr>\n",
       "      <th>75%</th>\n",
       "      <td>1213.250000</td>\n",
       "      <td>3776.222735</td>\n",
       "      <td>21.724800</td>\n",
       "    </tr>\n",
       "    <tr>\n",
       "      <th>max</th>\n",
       "      <td>1534.000000</td>\n",
       "      <td>7211.007745</td>\n",
       "      <td>40.823963</td>\n",
       "    </tr>\n",
       "  </tbody>\n",
       "</table>\n",
       "</div>"
      ],
      "text/plain": [
       "            user_id      distance      duration\n",
       "count  18068.000000  18068.000000  18068.000000\n",
       "mean     842.869936   3070.659976     17.805011\n",
       "std      434.734317   1116.831209      6.091051\n",
       "min        1.000000      0.855683      0.500000\n",
       "25%      487.000000   2543.226360     13.597563\n",
       "50%      889.000000   3133.609994     17.678395\n",
       "75%     1213.250000   3776.222735     21.724800\n",
       "max     1534.000000   7211.007745     40.823963"
      ]
     },
     "metadata": {},
     "output_type": "display_data"
    },
    {
     "name": "stdout",
     "output_type": "stream",
     "text": [
      "<class 'pandas.core.frame.DataFrame'>\n",
      "RangeIndex: 18068 entries, 0 to 18067\n",
      "Data columns (total 4 columns):\n",
      " #   Column    Non-Null Count  Dtype  \n",
      "---  ------    --------------  -----  \n",
      " 0   user_id   18068 non-null  int64  \n",
      " 1   distance  18068 non-null  float64\n",
      " 2   duration  18068 non-null  float64\n",
      " 3   date      18068 non-null  object \n",
      "dtypes: float64(2), int64(1), object(1)\n",
      "memory usage: 564.8+ KB\n"
     ]
    },
    {
     "data": {
      "text/plain": [
       "None"
      ]
     },
     "metadata": {},
     "output_type": "display_data"
    }
   ],
   "source": [
    "# подгружаем данные таблицы поездок пользователей\n",
    "df_rides = pd.read_csv('/rides_go.csv', sep=',', decimal='.', engine='python')\n",
    "\n",
    "display(df_rides.sample(10))\n",
    "display(df_rides.describe())\n",
    "display(df_rides.info())"
   ]
  },
  {
   "cell_type": "code",
   "execution_count": 4,
   "id": "5cc67cf6",
   "metadata": {
    "hidePrompt": true
   },
   "outputs": [
    {
     "data": {
      "text/html": [
       "<div>\n",
       "<style scoped>\n",
       "    .dataframe tbody tr th:only-of-type {\n",
       "        vertical-align: middle;\n",
       "    }\n",
       "\n",
       "    .dataframe tbody tr th {\n",
       "        vertical-align: top;\n",
       "    }\n",
       "\n",
       "    .dataframe thead th {\n",
       "        text-align: right;\n",
       "    }\n",
       "</style>\n",
       "<table border=\"1\" class=\"dataframe\">\n",
       "  <thead>\n",
       "    <tr style=\"text-align: right;\">\n",
       "      <th></th>\n",
       "      <th>subscription_type</th>\n",
       "      <th>minute_price</th>\n",
       "      <th>start_ride_price</th>\n",
       "      <th>subscription_fee</th>\n",
       "    </tr>\n",
       "  </thead>\n",
       "  <tbody>\n",
       "    <tr>\n",
       "      <th>0</th>\n",
       "      <td>free</td>\n",
       "      <td>8</td>\n",
       "      <td>50</td>\n",
       "      <td>0</td>\n",
       "    </tr>\n",
       "    <tr>\n",
       "      <th>1</th>\n",
       "      <td>ultra</td>\n",
       "      <td>6</td>\n",
       "      <td>0</td>\n",
       "      <td>199</td>\n",
       "    </tr>\n",
       "  </tbody>\n",
       "</table>\n",
       "</div>"
      ],
      "text/plain": [
       "  subscription_type  minute_price  start_ride_price  subscription_fee\n",
       "0              free             8                50                 0\n",
       "1             ultra             6                 0               199"
      ]
     },
     "metadata": {},
     "output_type": "display_data"
    }
   ],
   "source": [
    "# подгружаем данные по подпискам\n",
    "df_subs = pd.read_csv('/subscriptions_go.csv', sep=',', decimal='.', engine='python')\n",
    "\n",
    "display(df_subs)"
   ]
  },
  {
   "cell_type": "markdown",
   "id": "4ec0275e",
   "metadata": {},
   "source": [
    "**Вывод**\n",
    "\n",
    "После загрузки файлов получили информацию:\n",
    "- о видах подписки - есть 2 подписки, бесплатная и Ультра, а также их параметры.\n",
    "- информацию о пользователях сервиса: нужно дополнительно проверить на дубликаты, т.к. количество ID пользователей в таблице меньше общего числа строк. Также проверить нет ли неявных дубликатов в названии городов.\n",
    "- информацию о поездках: поменяем тип данных в дате поездки для удобства дальнейшего исследования."
   ]
  },
  {
   "cell_type": "markdown",
   "id": "20ff356a",
   "metadata": {},
   "source": [
    "## Предобработка данных"
   ]
  },
  {
   "cell_type": "markdown",
   "id": "a60f2c15",
   "metadata": {},
   "source": [
    "### Поменяем тип данных в столбце даты с *object* на *datetime*.\n",
    "Также добавим столбец с месяцами по дате совершения поездки."
   ]
  },
  {
   "cell_type": "code",
   "execution_count": 5,
   "id": "9a0edf2b",
   "metadata": {
    "hidePrompt": true
   },
   "outputs": [
    {
     "name": "stdout",
     "output_type": "stream",
     "text": [
      "Начальная дата выборки: {Timestamp('2021-01-01 00:00:00')}\n",
      "Конечная дата выборки: {Timestamp('2021-12-30 00:00:00')}\n",
      "Временной промежуток выборки: {Timedelta('363 days 00:00:00')}\n"
     ]
    }
   ],
   "source": [
    "# меняем тип данных в столбце с датой совершения поездки\n",
    "df_rides['date'] = pd.to_datetime(df_rides['date'], format='%Y.%m.%d')\n",
    "\n",
    "# добавляем столбец с номером месяца, когда была совершена поездка\n",
    "df_rides['month'] = df_rides['date'].dt.month\n",
    "\n",
    "print(f'Начальная дата выборки:', {df_rides['date'].min()})\n",
    "print(f'Конечная дата выборки:', {df_rides['date'].max()})\n",
    "print(f'Временной промежуток выборки:', {df_rides['date'].max() - df_rides['date'].min()})"
   ]
  },
  {
   "cell_type": "markdown",
   "id": "52c04fb0",
   "metadata": {},
   "source": [
    "### Проверим таблицу с информацией о пользователях на наличие дубликатов."
   ]
  },
  {
   "cell_type": "code",
   "execution_count": 6,
   "id": "9a42f162",
   "metadata": {
    "hidePrompt": true
   },
   "outputs": [
    {
     "data": {
      "text/plain": [
       "31"
      ]
     },
     "execution_count": 6,
     "metadata": {},
     "output_type": "execute_result"
    }
   ],
   "source": [
    "# найдём количество дубликатов среди пользователей\n",
    "df_users.duplicated().sum()"
   ]
  },
  {
   "cell_type": "markdown",
   "id": "6c9ef902",
   "metadata": {},
   "source": [
    "Нашли 31 дубликат, что предварительно было видно по разнице в ID и общему числу строк набора данных - удалим дубликаты."
   ]
  },
  {
   "cell_type": "code",
   "execution_count": 7,
   "id": "c2f11fca",
   "metadata": {
    "hidePrompt": true
   },
   "outputs": [
    {
     "data": {
      "text/html": [
       "<div>\n",
       "<style scoped>\n",
       "    .dataframe tbody tr th:only-of-type {\n",
       "        vertical-align: middle;\n",
       "    }\n",
       "\n",
       "    .dataframe tbody tr th {\n",
       "        vertical-align: top;\n",
       "    }\n",
       "\n",
       "    .dataframe thead th {\n",
       "        text-align: right;\n",
       "    }\n",
       "</style>\n",
       "<table border=\"1\" class=\"dataframe\">\n",
       "  <thead>\n",
       "    <tr style=\"text-align: right;\">\n",
       "      <th></th>\n",
       "      <th>user_id</th>\n",
       "      <th>age</th>\n",
       "    </tr>\n",
       "  </thead>\n",
       "  <tbody>\n",
       "    <tr>\n",
       "      <th>count</th>\n",
       "      <td>1534.000000</td>\n",
       "      <td>1534.000000</td>\n",
       "    </tr>\n",
       "    <tr>\n",
       "      <th>mean</th>\n",
       "      <td>767.500000</td>\n",
       "      <td>24.903520</td>\n",
       "    </tr>\n",
       "    <tr>\n",
       "      <th>std</th>\n",
       "      <td>442.971971</td>\n",
       "      <td>4.572367</td>\n",
       "    </tr>\n",
       "    <tr>\n",
       "      <th>min</th>\n",
       "      <td>1.000000</td>\n",
       "      <td>12.000000</td>\n",
       "    </tr>\n",
       "    <tr>\n",
       "      <th>25%</th>\n",
       "      <td>384.250000</td>\n",
       "      <td>22.000000</td>\n",
       "    </tr>\n",
       "    <tr>\n",
       "      <th>50%</th>\n",
       "      <td>767.500000</td>\n",
       "      <td>25.000000</td>\n",
       "    </tr>\n",
       "    <tr>\n",
       "      <th>75%</th>\n",
       "      <td>1150.750000</td>\n",
       "      <td>28.000000</td>\n",
       "    </tr>\n",
       "    <tr>\n",
       "      <th>max</th>\n",
       "      <td>1534.000000</td>\n",
       "      <td>43.000000</td>\n",
       "    </tr>\n",
       "  </tbody>\n",
       "</table>\n",
       "</div>"
      ],
      "text/plain": [
       "           user_id          age\n",
       "count  1534.000000  1534.000000\n",
       "mean    767.500000    24.903520\n",
       "std     442.971971     4.572367\n",
       "min       1.000000    12.000000\n",
       "25%     384.250000    22.000000\n",
       "50%     767.500000    25.000000\n",
       "75%    1150.750000    28.000000\n",
       "max    1534.000000    43.000000"
      ]
     },
     "execution_count": 7,
     "metadata": {},
     "output_type": "execute_result"
    }
   ],
   "source": [
    "# удаляем дубликаты и сбрасываем индексы\n",
    "df_users = df_users.drop_duplicates().reset_index(drop=True)\n",
    "df_users.describe()"
   ]
  },
  {
   "cell_type": "markdown",
   "id": "a6837b7a",
   "metadata": {},
   "source": [
    "Проверим на уникальность названия городов, чтобы в дальнейшем не возникли ошибки при исследовании."
   ]
  },
  {
   "cell_type": "code",
   "execution_count": 8,
   "id": "48fcdff6",
   "metadata": {
    "hidePrompt": true
   },
   "outputs": [
    {
     "data": {
      "text/plain": [
       "array(['Тюмень', 'Омск', 'Москва', 'Ростов-на-Дону', 'Краснодар',\n",
       "       'Пятигорск', 'Екатеринбург', 'Сочи'], dtype=object)"
      ]
     },
     "execution_count": 8,
     "metadata": {},
     "output_type": "execute_result"
    }
   ],
   "source": [
    "# выведем список уникальных значений в столбце с названиями городов\n",
    "df_users['city'].unique()"
   ]
  },
  {
   "cell_type": "markdown",
   "id": "15d33cb9",
   "metadata": {},
   "source": [
    "Неявных дубликатов в таблице нет."
   ]
  },
  {
   "cell_type": "markdown",
   "id": "00956bd0",
   "metadata": {},
   "source": [
    "**Вывод**\n",
    "\n",
    "- Проверили дубликаты в списке пользователей - нашли 31 задвоенную строку и удалили их.\n",
    "- Проверили на наличие неявных дубликатов в названиях городов - таких не нашлось.\n",
    "- Поменяли тип данных в столбце с датой и добавили столбец с номером месяца, когда совершена поездка.\n",
    "\n",
    "Данные готовы для исследовательского анализа."
   ]
  },
  {
   "cell_type": "markdown",
   "id": "27b82092",
   "metadata": {},
   "source": [
    "## Исследовательский анализ данных"
   ]
  },
  {
   "cell_type": "markdown",
   "id": "8a49b6e9",
   "metadata": {},
   "source": [
    "Напишем функции для визуализации данных."
   ]
  },
  {
   "cell_type": "code",
   "execution_count": 9,
   "id": "40eb5778",
   "metadata": {
    "hidePrompt": true
   },
   "outputs": [],
   "source": [
    "# для дискретных данных\n",
    "def build_plot(data, title, xlabel, ylabel, rotation=90):\n",
    "    plt.figure(figsize=(10,3))\n",
    "    plt.ticklabel_format(style='plain')\n",
    "    ax = data.plot.bar()\n",
    "    plt.title(title)\n",
    "    plt.xlabel(xlabel)\n",
    "    plt.ylabel(ylabel)\n",
    "    plt.xticks(rotation=rotation)\n",
    "    plt.show()\n",
    "\n",
    "# для непрерывных данных\n",
    "def build_hist(data, title, xlabel, ylabel):\n",
    "    plt.figure(figsize=(10,3))\n",
    "    data.hist(bins=50)\n",
    "    plt.ticklabel_format(style='plain')\n",
    "    plt.title(title)\n",
    "    plt.xlabel(xlabel)\n",
    "    plt.ylabel(ylabel)\n",
    "    plt.show()"
   ]
  },
  {
   "cell_type": "code",
   "execution_count": 10,
   "id": "c9966cd8",
   "metadata": {
    "hidePrompt": true
   },
   "outputs": [
    {
     "data": {
      "image/png": "[encoded data removed]",
      "text/plain": [
       "<Figure size 1000x300 with 1 Axes>"
      ]
     },
     "metadata": {},
     "output_type": "display_data"
    }
   ],
   "source": [
    "# выведем количество пользователей в отдельно взятом городе\n",
    "build_plot(\n",
    "    df_users['city'].value_counts(), 'Количество пользователей по каждому городу', 'Города', 'Количество пользователей', 45\n",
    ")"
   ]
  },
  {
   "cell_type": "markdown",
   "id": "9bb79511",
   "metadata": {},
   "source": [
    "Самое большое количество поездок в наборе данных - Пятигорск, самое меньшее - по Москве."
   ]
  },
  {
   "cell_type": "code",
   "execution_count": 11,
   "id": "7df21631",
   "metadata": {
    "hidePrompt": true
   },
   "outputs": [
    {
     "data": {
      "image/png": "[encoded data removed]",
      "text/plain": [
       "<Figure size 640x480 with 1 Axes>"
      ]
     },
     "metadata": {},
     "output_type": "display_data"
    }
   ],
   "source": [
    "# выведем количество пользователей с разным типом подписки\n",
    "fig1, ax1 = plt.subplots()\n",
    "plt.title('Распределение пользователей по типу подписки')\n",
    "subs_type = df_users.value_counts('subscription_type').reset_index()\n",
    "subs_type.columns = ['type','count']\n",
    "ax1.pie(subs_type['count'], labels=subs_type['type'], autopct='%.0f%%')\n",
    "plt.show()"
   ]
  },
  {
   "cell_type": "markdown",
   "id": "90d8daad",
   "metadata": {},
   "source": [
    "Без подписки ездит большее число пользователей, но разрыв не такой большой."
   ]
  },
  {
   "cell_type": "code",
   "execution_count": 12,
   "id": "6dc912e2",
   "metadata": {
    "hidePrompt": true
   },
   "outputs": [
    {
     "data": {
      "image/png": "[encoded data removed]",
      "text/plain": [
       "<Figure size 1000x300 with 1 Axes>"
      ]
     },
     "metadata": {},
     "output_type": "display_data"
    }
   ],
   "source": [
    "# выведем соотношение пользователей по возрасту\n",
    "build_plot(df_users['age'].value_counts().sort_index(), \n",
    "           'Соотношение пользователей по возрасту', 'Возраст пользователей', 'Количество пользователей', 0)"
   ]
  },
  {
   "cell_type": "markdown",
   "id": "4b5afd6f",
   "metadata": {},
   "source": [
    "Большинство пользователей сервиса находятся в возрастном диапазоне от 20 до 30 лет."
   ]
  },
  {
   "cell_type": "code",
   "execution_count": 13,
   "id": "b54b7ed5",
   "metadata": {
    "hidePrompt": true,
    "scrolled": true
   },
   "outputs": [
    {
     "data": {
      "image/png": "[encoded data removed]",
      "text/plain": [
       "<Figure size 1000x300 with 1 Axes>"
      ]
     },
     "metadata": {},
     "output_type": "display_data"
    }
   ],
   "source": [
    "# выведем расстрояние, которое пользователь преодолел за одну поездку\n",
    "build_hist(df_rides.distance, 'Распределение поездок по расстоянию', 'Расстояние поездок в метрах', 'Количество поездок')"
   ]
  },
  {
   "cell_type": "markdown",
   "id": "18996ae9",
   "metadata": {},
   "source": [
    "Большинство поездок были на расстояние от 2 до 5 км.\\\n",
    "Также есть небольшой пик до 1000 метров, скорее всего, это тестовые заезды новых пользователей."
   ]
  },
  {
   "cell_type": "code",
   "execution_count": 14,
   "id": "6d906639",
   "metadata": {
    "hidePrompt": true
   },
   "outputs": [
    {
     "data": {
      "image/png": "[encoded data removed]",
      "text/plain": [
       "<Figure size 1000x300 with 1 Axes>"
      ]
     },
     "metadata": {},
     "output_type": "display_data"
    }
   ],
   "source": [
    "# выведем информацию о длительности поездок\n",
    "build_hist(df_rides.duration, 'Распределение поездок по времени', 'Длительность поездок в минутах', 'Количество поездок')"
   ]
  },
  {
   "cell_type": "markdown",
   "id": "0ebe18bf",
   "metadata": {},
   "source": [
    "Основная масса поездок по длительности имеет нормальное распределение. Также есть небольшой \"выступ\" около 1 минуты - скорее всего часть пользователей опробовала сервис."
   ]
  },
  {
   "cell_type": "markdown",
   "id": "ba11300d",
   "metadata": {},
   "source": [
    "**Вывод**\n",
    "\n",
    "Посмотрели \"типичного пользователя\" сервиса, а также какие обычно поездки совершают."
   ]
  },
  {
   "cell_type": "markdown",
   "id": "73cedd5a",
   "metadata": {},
   "source": [
    "## Объединение данных"
   ]
  },
  {
   "cell_type": "code",
   "execution_count": 15,
   "id": "bd88b6cc",
   "metadata": {
    "hidePrompt": true
   },
   "outputs": [
    {
     "name": "stdout",
     "output_type": "stream",
     "text": [
      "Количество строк в таблице до объединения: 18068\n",
      "Количество строк в таблице после объединения: 18068\n",
      "Количество столбцов в таблице до объединения: 12\n",
      "Количество столбцов в таблице после объединения: 12\n"
     ]
    }
   ],
   "source": [
    "# объединяем таблицу пользователей и поездок\n",
    "df_temp = df_users.merge(df_rides, on='user_id', how='left')\n",
    "\n",
    "# добавляем к ним также таблицу с параметрами подписок\n",
    "df_full = df_temp.merge(df_subs, on='subscription_type', how='left')\n",
    "\n",
    "# проверим количество строк и столбцов до и после объединения таблиц\n",
    "print(f'Количество строк в таблице до объединения: {df_rides.shape[0]}')\n",
    "print(f'Количество строк в таблице после объединения: {df_full.shape[0]}')\n",
    "print(f'Количество столбцов в таблице до объединения: {df_rides.shape[1] + df_users.shape[1] + df_subs.shape[1] - 2}')\n",
    "print(f'Количество столбцов в таблице после объединения: {df_full.shape[1]}')"
   ]
  },
  {
   "cell_type": "code",
   "execution_count": 16,
   "id": "6bfb34ab",
   "metadata": {
    "hidePrompt": true
   },
   "outputs": [],
   "source": [
    "# создадим отдельный набор данных с бесплатной подпиской\n",
    "df_free = df_full.loc[df_full['subscription_type'] == 'free']\n",
    "\n",
    "# также создадим набор данных с платной подпиской\n",
    "df_ultra = df_full.loc[df_full['subscription_type'] == 'ultra']"
   ]
  },
  {
   "cell_type": "markdown",
   "id": "fd354afa",
   "metadata": {},
   "source": [
    "Теперь посмотрим графики по расстоянию и длительности поездок для разных подписок"
   ]
  },
  {
   "cell_type": "code",
   "execution_count": 17,
   "id": "697a23de",
   "metadata": {
    "hidePrompt": true
   },
   "outputs": [
    {
     "data": {
      "image/png": "[encoded data removed]",
      "text/plain": [
       "<Figure size 1500x500 with 2 Axes>"
      ]
     },
     "metadata": {},
     "output_type": "display_data"
    }
   ],
   "source": [
    "fig, axs = plt.subplots(1, 2, figsize=(15,5))\n",
    "\n",
    "# график расстояний с разными подписками\n",
    "axs[0].hist(df_free['distance'], bins=50, color='skyblue', edgecolor='black', alpha=0.7, label='Бесплатная подписка')\n",
    "axs[0].hist(df_ultra['distance'], bins=50, color='green', edgecolor='black', alpha=0.7, label='Подписка Ультра')\n",
    "axs[0].set_title('Расстояние поездки для разных подписок')\n",
    "axs[0].set_xlabel('Расстояние в метрах')\n",
    "axs[0].set_ylabel('Количество поездок')\n",
    "axs[0].legend()\n",
    "\n",
    "# график продолжительности поездки с разными подписками\n",
    "axs[1].hist(df_free['duration'], bins=50, color='skyblue', edgecolor='black', alpha=0.7, label='Бесплатная подписка')\n",
    "axs[1].hist(df_ultra['duration'], bins=50, color='green', edgecolor='black', alpha=0.7, label='Подписка Ультра')\n",
    "axs[1].set_title('Продолжительность поездки для разных подписок')\n",
    "axs[1].set_xlabel('Продолжительность в минутах')\n",
    "axs[1].set_ylabel('Количество поездок')\n",
    "axs[1].legend()\n",
    "\n",
    "plt.tight_layout()\n",
    "plt.show()"
   ]
  },
  {
   "cell_type": "markdown",
   "id": "19b783b4",
   "metadata": {},
   "source": [
    "**Вывод**\n",
    "\n",
    "Пользователи с бесплатной подпиской ездят более быстро или с меньшим количеством остановок, т.к. при меньшем времени поездки преодолевают часто большие расстояния.\\\n",
    "\"Выступ\", который был обнаружен в предыдущем этапе подтвердился - пользователи с бесплатной подпиской пробовали сервис и заканчивали поездку до начала второй минуты. А обладатели платной подписки редко заканчивают поездку раньше 5 минут."
   ]
  },
  {
   "cell_type": "markdown",
   "id": "bbf8c177",
   "metadata": {},
   "source": [
    "## Подсчёт выручки"
   ]
  },
  {
   "cell_type": "markdown",
   "id": "6db638f8",
   "metadata": {},
   "source": [
    "Создаём таблицу со строками по каждому пользователю за каждый отдельный месяц с информацией суммарного расстояния, продолжительности поездок и количества совершённых поездок.\\\n",
    "Перед созданием таблицы с аггрегированными данными добавим столбец с округлённой длительностью поездок до большего числа. Так в дальнейшем сможем верно рассчитать какую сумму заплатил каждый пользователь."
   ]
  },
  {
   "cell_type": "code",
   "execution_count": 18,
   "id": "6a108547",
   "metadata": {
    "hidePrompt": true
   },
   "outputs": [
    {
     "data": {
      "text/html": [
       "<div>\n",
       "<style scoped>\n",
       "    .dataframe tbody tr th:only-of-type {\n",
       "        vertical-align: middle;\n",
       "    }\n",
       "\n",
       "    .dataframe tbody tr th {\n",
       "        vertical-align: top;\n",
       "    }\n",
       "\n",
       "    .dataframe thead th {\n",
       "        text-align: right;\n",
       "    }\n",
       "</style>\n",
       "<table border=\"1\" class=\"dataframe\">\n",
       "  <thead>\n",
       "    <tr style=\"text-align: right;\">\n",
       "      <th></th>\n",
       "      <th>user_id</th>\n",
       "      <th>month</th>\n",
       "      <th>start_ride_price</th>\n",
       "      <th>minute_price</th>\n",
       "      <th>subscription_fee</th>\n",
       "      <th>subscription_type</th>\n",
       "      <th>distance</th>\n",
       "      <th>duration</th>\n",
       "      <th>rides_count</th>\n",
       "    </tr>\n",
       "  </thead>\n",
       "  <tbody>\n",
       "    <tr>\n",
       "      <th>0</th>\n",
       "      <td>1</td>\n",
       "      <td>1</td>\n",
       "      <td>0</td>\n",
       "      <td>6</td>\n",
       "      <td>199</td>\n",
       "      <td>ultra</td>\n",
       "      <td>7027.511294</td>\n",
       "      <td>42.0</td>\n",
       "      <td>2</td>\n",
       "    </tr>\n",
       "    <tr>\n",
       "      <th>1</th>\n",
       "      <td>1</td>\n",
       "      <td>4</td>\n",
       "      <td>0</td>\n",
       "      <td>6</td>\n",
       "      <td>199</td>\n",
       "      <td>ultra</td>\n",
       "      <td>754.159807</td>\n",
       "      <td>7.0</td>\n",
       "      <td>1</td>\n",
       "    </tr>\n",
       "    <tr>\n",
       "      <th>2</th>\n",
       "      <td>1</td>\n",
       "      <td>8</td>\n",
       "      <td>0</td>\n",
       "      <td>6</td>\n",
       "      <td>199</td>\n",
       "      <td>ultra</td>\n",
       "      <td>6723.470560</td>\n",
       "      <td>46.0</td>\n",
       "      <td>2</td>\n",
       "    </tr>\n",
       "    <tr>\n",
       "      <th>3</th>\n",
       "      <td>1</td>\n",
       "      <td>10</td>\n",
       "      <td>0</td>\n",
       "      <td>6</td>\n",
       "      <td>199</td>\n",
       "      <td>ultra</td>\n",
       "      <td>5809.911100</td>\n",
       "      <td>32.0</td>\n",
       "      <td>2</td>\n",
       "    </tr>\n",
       "    <tr>\n",
       "      <th>4</th>\n",
       "      <td>1</td>\n",
       "      <td>11</td>\n",
       "      <td>0</td>\n",
       "      <td>6</td>\n",
       "      <td>199</td>\n",
       "      <td>ultra</td>\n",
       "      <td>7003.499363</td>\n",
       "      <td>56.0</td>\n",
       "      <td>3</td>\n",
       "    </tr>\n",
       "    <tr>\n",
       "      <th>...</th>\n",
       "      <td>...</td>\n",
       "      <td>...</td>\n",
       "      <td>...</td>\n",
       "      <td>...</td>\n",
       "      <td>...</td>\n",
       "      <td>...</td>\n",
       "      <td>...</td>\n",
       "      <td>...</td>\n",
       "      <td>...</td>\n",
       "    </tr>\n",
       "    <tr>\n",
       "      <th>11326</th>\n",
       "      <td>1534</td>\n",
       "      <td>6</td>\n",
       "      <td>50</td>\n",
       "      <td>8</td>\n",
       "      <td>0</td>\n",
       "      <td>free</td>\n",
       "      <td>3409.468534</td>\n",
       "      <td>26.0</td>\n",
       "      <td>2</td>\n",
       "    </tr>\n",
       "    <tr>\n",
       "      <th>11327</th>\n",
       "      <td>1534</td>\n",
       "      <td>8</td>\n",
       "      <td>50</td>\n",
       "      <td>8</td>\n",
       "      <td>0</td>\n",
       "      <td>free</td>\n",
       "      <td>7622.453034</td>\n",
       "      <td>48.0</td>\n",
       "      <td>2</td>\n",
       "    </tr>\n",
       "    <tr>\n",
       "      <th>11328</th>\n",
       "      <td>1534</td>\n",
       "      <td>9</td>\n",
       "      <td>50</td>\n",
       "      <td>8</td>\n",
       "      <td>0</td>\n",
       "      <td>free</td>\n",
       "      <td>4928.173852</td>\n",
       "      <td>23.0</td>\n",
       "      <td>1</td>\n",
       "    </tr>\n",
       "    <tr>\n",
       "      <th>11329</th>\n",
       "      <td>1534</td>\n",
       "      <td>11</td>\n",
       "      <td>50</td>\n",
       "      <td>8</td>\n",
       "      <td>0</td>\n",
       "      <td>free</td>\n",
       "      <td>13350.015305</td>\n",
       "      <td>78.0</td>\n",
       "      <td>4</td>\n",
       "    </tr>\n",
       "    <tr>\n",
       "      <th>11330</th>\n",
       "      <td>1534</td>\n",
       "      <td>12</td>\n",
       "      <td>50</td>\n",
       "      <td>8</td>\n",
       "      <td>0</td>\n",
       "      <td>free</td>\n",
       "      <td>2371.711192</td>\n",
       "      <td>16.0</td>\n",
       "      <td>1</td>\n",
       "    </tr>\n",
       "  </tbody>\n",
       "</table>\n",
       "<p>11331 rows × 9 columns</p>\n",
       "</div>"
      ],
      "text/plain": [
       "       user_id  month  start_ride_price  minute_price  subscription_fee  \\\n",
       "0            1      1                 0             6               199   \n",
       "1            1      4                 0             6               199   \n",
       "2            1      8                 0             6               199   \n",
       "3            1     10                 0             6               199   \n",
       "4            1     11                 0             6               199   \n",
       "...        ...    ...               ...           ...               ...   \n",
       "11326     1534      6                50             8                 0   \n",
       "11327     1534      8                50             8                 0   \n",
       "11328     1534      9                50             8                 0   \n",
       "11329     1534     11                50             8                 0   \n",
       "11330     1534     12                50             8                 0   \n",
       "\n",
       "      subscription_type      distance  duration  rides_count  \n",
       "0                 ultra   7027.511294      42.0            2  \n",
       "1                 ultra    754.159807       7.0            1  \n",
       "2                 ultra   6723.470560      46.0            2  \n",
       "3                 ultra   5809.911100      32.0            2  \n",
       "4                 ultra   7003.499363      56.0            3  \n",
       "...                 ...           ...       ...          ...  \n",
       "11326              free   3409.468534      26.0            2  \n",
       "11327              free   7622.453034      48.0            2  \n",
       "11328              free   4928.173852      23.0            1  \n",
       "11329              free  13350.015305      78.0            4  \n",
       "11330              free   2371.711192      16.0            1  \n",
       "\n",
       "[11331 rows x 9 columns]"
      ]
     },
     "execution_count": 18,
     "metadata": {},
     "output_type": "execute_result"
    }
   ],
   "source": [
    "# добавляем столбец с округлённой длительностью поездки\n",
    "df_full['duration_round'] = np.ceil(df_full['duration'])\n",
    "\n",
    "# создаём таблицу с суммарными данными помесячно по каждому пользователю\n",
    "df_grouped = df_full.groupby(['user_id', 'month', 'start_ride_price', \n",
    "                              'minute_price', 'subscription_fee', 'subscription_type'])\\\n",
    "                    .agg({'distance': 'sum',\n",
    "                          'duration_round': 'sum',\n",
    "                          'age':'count'})\\\n",
    "                    .reset_index()\n",
    "# переименуем столбцы\n",
    "df_grouped.columns = ['user_id','month','start_ride_price','minute_price',\n",
    "                      'subscription_fee','subscription_type','distance','duration','rides_count']\n",
    "\n",
    "df_grouped"
   ]
  },
  {
   "cell_type": "markdown",
   "id": "ef454b90",
   "metadata": {},
   "source": [
    "Теперь рассчитаем и добавим столбец с помесячной выручкой, которую принёс каждый пользователь."
   ]
  },
  {
   "cell_type": "code",
   "execution_count": 19,
   "id": "19f1ed23",
   "metadata": {
    "hidePrompt": true
   },
   "outputs": [],
   "source": [
    "# создадим формулу для расчёта выручки с каждого пользователя помесячно\n",
    "def income(row):\n",
    "    return ((row['start_ride_price'] * row['rides_count']) \n",
    "            + (row['minute_price'] * row['duration']) + row['subscription_fee']) "
   ]
  },
  {
   "cell_type": "code",
   "execution_count": 20,
   "id": "8caae5f0",
   "metadata": {
    "hidePrompt": true
   },
   "outputs": [
    {
     "data": {
      "text/html": [
       "<div>\n",
       "<style scoped>\n",
       "    .dataframe tbody tr th:only-of-type {\n",
       "        vertical-align: middle;\n",
       "    }\n",
       "\n",
       "    .dataframe tbody tr th {\n",
       "        vertical-align: top;\n",
       "    }\n",
       "\n",
       "    .dataframe thead th {\n",
       "        text-align: right;\n",
       "    }\n",
       "</style>\n",
       "<table border=\"1\" class=\"dataframe\">\n",
       "  <thead>\n",
       "    <tr style=\"text-align: right;\">\n",
       "      <th></th>\n",
       "      <th>user_id</th>\n",
       "      <th>month</th>\n",
       "      <th>start_ride_price</th>\n",
       "      <th>minute_price</th>\n",
       "      <th>subscription_fee</th>\n",
       "      <th>subscription_type</th>\n",
       "      <th>distance</th>\n",
       "      <th>duration</th>\n",
       "      <th>rides_count</th>\n",
       "      <th>income</th>\n",
       "    </tr>\n",
       "  </thead>\n",
       "  <tbody>\n",
       "    <tr>\n",
       "      <th>0</th>\n",
       "      <td>1</td>\n",
       "      <td>1</td>\n",
       "      <td>0</td>\n",
       "      <td>6</td>\n",
       "      <td>199</td>\n",
       "      <td>ultra</td>\n",
       "      <td>7027.511294</td>\n",
       "      <td>42.0</td>\n",
       "      <td>2</td>\n",
       "      <td>451.0</td>\n",
       "    </tr>\n",
       "    <tr>\n",
       "      <th>1</th>\n",
       "      <td>1</td>\n",
       "      <td>4</td>\n",
       "      <td>0</td>\n",
       "      <td>6</td>\n",
       "      <td>199</td>\n",
       "      <td>ultra</td>\n",
       "      <td>754.159807</td>\n",
       "      <td>7.0</td>\n",
       "      <td>1</td>\n",
       "      <td>241.0</td>\n",
       "    </tr>\n",
       "    <tr>\n",
       "      <th>2</th>\n",
       "      <td>1</td>\n",
       "      <td>8</td>\n",
       "      <td>0</td>\n",
       "      <td>6</td>\n",
       "      <td>199</td>\n",
       "      <td>ultra</td>\n",
       "      <td>6723.470560</td>\n",
       "      <td>46.0</td>\n",
       "      <td>2</td>\n",
       "      <td>475.0</td>\n",
       "    </tr>\n",
       "    <tr>\n",
       "      <th>3</th>\n",
       "      <td>1</td>\n",
       "      <td>10</td>\n",
       "      <td>0</td>\n",
       "      <td>6</td>\n",
       "      <td>199</td>\n",
       "      <td>ultra</td>\n",
       "      <td>5809.911100</td>\n",
       "      <td>32.0</td>\n",
       "      <td>2</td>\n",
       "      <td>391.0</td>\n",
       "    </tr>\n",
       "    <tr>\n",
       "      <th>4</th>\n",
       "      <td>1</td>\n",
       "      <td>11</td>\n",
       "      <td>0</td>\n",
       "      <td>6</td>\n",
       "      <td>199</td>\n",
       "      <td>ultra</td>\n",
       "      <td>7003.499363</td>\n",
       "      <td>56.0</td>\n",
       "      <td>3</td>\n",
       "      <td>535.0</td>\n",
       "    </tr>\n",
       "    <tr>\n",
       "      <th>...</th>\n",
       "      <td>...</td>\n",
       "      <td>...</td>\n",
       "      <td>...</td>\n",
       "      <td>...</td>\n",
       "      <td>...</td>\n",
       "      <td>...</td>\n",
       "      <td>...</td>\n",
       "      <td>...</td>\n",
       "      <td>...</td>\n",
       "      <td>...</td>\n",
       "    </tr>\n",
       "    <tr>\n",
       "      <th>11326</th>\n",
       "      <td>1534</td>\n",
       "      <td>6</td>\n",
       "      <td>50</td>\n",
       "      <td>8</td>\n",
       "      <td>0</td>\n",
       "      <td>free</td>\n",
       "      <td>3409.468534</td>\n",
       "      <td>26.0</td>\n",
       "      <td>2</td>\n",
       "      <td>308.0</td>\n",
       "    </tr>\n",
       "    <tr>\n",
       "      <th>11327</th>\n",
       "      <td>1534</td>\n",
       "      <td>8</td>\n",
       "      <td>50</td>\n",
       "      <td>8</td>\n",
       "      <td>0</td>\n",
       "      <td>free</td>\n",
       "      <td>7622.453034</td>\n",
       "      <td>48.0</td>\n",
       "      <td>2</td>\n",
       "      <td>484.0</td>\n",
       "    </tr>\n",
       "    <tr>\n",
       "      <th>11328</th>\n",
       "      <td>1534</td>\n",
       "      <td>9</td>\n",
       "      <td>50</td>\n",
       "      <td>8</td>\n",
       "      <td>0</td>\n",
       "      <td>free</td>\n",
       "      <td>4928.173852</td>\n",
       "      <td>23.0</td>\n",
       "      <td>1</td>\n",
       "      <td>234.0</td>\n",
       "    </tr>\n",
       "    <tr>\n",
       "      <th>11329</th>\n",
       "      <td>1534</td>\n",
       "      <td>11</td>\n",
       "      <td>50</td>\n",
       "      <td>8</td>\n",
       "      <td>0</td>\n",
       "      <td>free</td>\n",
       "      <td>13350.015305</td>\n",
       "      <td>78.0</td>\n",
       "      <td>4</td>\n",
       "      <td>824.0</td>\n",
       "    </tr>\n",
       "    <tr>\n",
       "      <th>11330</th>\n",
       "      <td>1534</td>\n",
       "      <td>12</td>\n",
       "      <td>50</td>\n",
       "      <td>8</td>\n",
       "      <td>0</td>\n",
       "      <td>free</td>\n",
       "      <td>2371.711192</td>\n",
       "      <td>16.0</td>\n",
       "      <td>1</td>\n",
       "      <td>178.0</td>\n",
       "    </tr>\n",
       "  </tbody>\n",
       "</table>\n",
       "<p>11331 rows × 10 columns</p>\n",
       "</div>"
      ],
      "text/plain": [
       "       user_id  month  start_ride_price  minute_price  subscription_fee  \\\n",
       "0            1      1                 0             6               199   \n",
       "1            1      4                 0             6               199   \n",
       "2            1      8                 0             6               199   \n",
       "3            1     10                 0             6               199   \n",
       "4            1     11                 0             6               199   \n",
       "...        ...    ...               ...           ...               ...   \n",
       "11326     1534      6                50             8                 0   \n",
       "11327     1534      8                50             8                 0   \n",
       "11328     1534      9                50             8                 0   \n",
       "11329     1534     11                50             8                 0   \n",
       "11330     1534     12                50             8                 0   \n",
       "\n",
       "      subscription_type      distance  duration  rides_count  income  \n",
       "0                 ultra   7027.511294      42.0            2   451.0  \n",
       "1                 ultra    754.159807       7.0            1   241.0  \n",
       "2                 ultra   6723.470560      46.0            2   475.0  \n",
       "3                 ultra   5809.911100      32.0            2   391.0  \n",
       "4                 ultra   7003.499363      56.0            3   535.0  \n",
       "...                 ...           ...       ...          ...     ...  \n",
       "11326              free   3409.468534      26.0            2   308.0  \n",
       "11327              free   7622.453034      48.0            2   484.0  \n",
       "11328              free   4928.173852      23.0            1   234.0  \n",
       "11329              free  13350.015305      78.0            4   824.0  \n",
       "11330              free   2371.711192      16.0            1   178.0  \n",
       "\n",
       "[11331 rows x 10 columns]"
      ]
     },
     "execution_count": 20,
     "metadata": {},
     "output_type": "execute_result"
    }
   ],
   "source": [
    "# добавим столбец с выручкой\n",
    "df_grouped['income'] = df_grouped.apply(income, axis=1)\n",
    "\n",
    "df_grouped"
   ]
  },
  {
   "cell_type": "markdown",
   "id": "9596179d",
   "metadata": {},
   "source": [
    "**Вывод**\n",
    "\n",
    "Рассчитали выручку каждого отдельного пользователя за отдельные месяцы и создали отдельную таблицу с необходимыми данными для проверки гипотез."
   ]
  },
  {
   "cell_type": "markdown",
   "id": "e62ffdf3",
   "metadata": {},
   "source": [
    "## Проверка гипотез"
   ]
  },
  {
   "cell_type": "markdown",
   "id": "36b99a2e",
   "metadata": {},
   "source": [
    "### Проверим гипотезу - тратят ли пользователи с подпиской больше времени на поездки? Если да, то пользователи с подпиской могут быть «выгоднее» для компании.\n",
    "\n",
    "$\\begin{equation*}\n",
    " \\begin{cases}\n",
    "   H_0 :\\text{пользователи с платной подпиской не оказывают влияние на длительность поездок}\\\\\n",
    "   H_1 :\\text{обладатели платной подписки тратят больше времени на поездки}\n",
    " \\end{cases}\n",
    "\\end{equation*}$"
   ]
  },
  {
   "cell_type": "code",
   "execution_count": 21,
   "id": "c56acf7a",
   "metadata": {
    "hidePrompt": true
   },
   "outputs": [
    {
     "name": "stdout",
     "output_type": "stream",
     "text": [
      "Средняя длительность поездки с платной подпиской: 18.5 минут\n",
      "Средняя длительность поездки без подписки: 17.4 минут\n",
      "p-value: 1.2804098316645618e-34\n",
      "Отвергаем нулевую гипотезу - с подпиской поездки продолжительнее\n"
     ]
    }
   ],
   "source": [
    "duration_ultra = df_full[df_full['subscription_type'] == 'ultra']['duration']\n",
    "duration_free = df_full[df_full['subscription_type'] == 'free']['duration']\n",
    "\n",
    "print(f\"Средняя длительность поездки с платной подпиской: {duration_ultra.mean():.1f} минут\")\n",
    "print(f\"Средняя длительность поездки без подписки: {duration_free.mean():.1f} минут\")\n",
    "\n",
    "alpha = 0.05\n",
    "results = st.ttest_ind(duration_ultra, duration_free, alternative='greater')\n",
    "print(f'p-value: {results.pvalue}')\n",
    " \n",
    "if results.pvalue < alpha:\n",
    "    print('Отвергаем нулевую гипотезу - с подпиской поездки продолжительнее')\n",
    "else:\n",
    "    print('Нет оснований отвергнуть нулевую гипотезу - поездки не стали продолжительнее')"
   ]
  },
  {
   "cell_type": "markdown",
   "id": "3b6ee54b",
   "metadata": {},
   "source": [
    "Пользователи с подпиской совершают более длительные по времени поездки - альтернативная гипотеза подтвердилась."
   ]
  },
  {
   "cell_type": "markdown",
   "id": "7555b3e1",
   "metadata": {},
   "source": [
    "### Расстояние одной поездки в 3130 метров — оптимальное с точки зрения износа самоката. Проверим гипотезу, можно ли сказать, что расстояние, которое проезжают пользователи с подпиской за одну поездку, не превышает 3130 метров?\n",
    "\n",
    "$\\begin{equation*}\n",
    " \\begin{cases}\n",
    "   H_0 :\\text{обладатели платной подписки совершают поездки не превышающие 3130 метров}\\\\\n",
    "   H_1 :\\text{обладатели платной подписки совершают поездки длиннее, чем 3130 метров}\n",
    " \\end{cases}\n",
    "\\end{equation*}$"
   ]
  },
  {
   "cell_type": "code",
   "execution_count": 22,
   "id": "e3214411",
   "metadata": {
    "hidePrompt": true
   },
   "outputs": [
    {
     "name": "stdout",
     "output_type": "stream",
     "text": [
      "p-значение: 0.9195368847849785\n",
      "Не получилось отвергнуть нулевую гипотезу - поездки не превышают 3130 метров\n"
     ]
    }
   ],
   "source": [
    "distance_ultra = df_full[df_full['subscription_type'] == 'ultra']['distance']\n",
    "distance_goal = 3130\n",
    "\n",
    "alpha = 0.05\n",
    "\n",
    "results = st.ttest_1samp(\n",
    "    distance_ultra, \n",
    "    distance_goal,\n",
    "    alternative='greater')\n",
    "\n",
    "print('p-значение:', results.pvalue)\n",
    "\n",
    "if results.pvalue < alpha:\n",
    "    print('Отвергаем нулевую гипотезу - поездки длиннее 3130 метров')\n",
    "else:\n",
    "    print('Не получилось отвергнуть нулевую гипотезу - поездки не превышают 3130 метров')"
   ]
  },
  {
   "cell_type": "markdown",
   "id": "223805b8",
   "metadata": {},
   "source": [
    "Подтвердилась гипотеза, что пользователи с подпиской не совершают более длинные поездки, чем предполагалось.\n",
    "Дополнительных расходов в виде технического обслуживания самокатов обладатели платных подписок не несут."
   ]
  },
  {
   "cell_type": "markdown",
   "id": "abe62c79",
   "metadata": {},
   "source": [
    "### Проверим гипотезу о том, будет ли выручка от пользователей с подпиской по месяцам выше, чем выручка от пользователей без подписки.\n",
    "\n",
    "$\\begin{equation*}\n",
    " \\begin{cases}\n",
    "   H_0 :\\text{помесячная выручка с платной подпиской равна выручке от пользователей без подписки}\\\\\n",
    "   H_1 :\\text{помесячная выручка от пользователей с подпиской выше, чем выручка от пользователей без подписки}\n",
    " \\end{cases}\n",
    "\\end{equation*}$"
   ]
  },
  {
   "cell_type": "code",
   "execution_count": 23,
   "id": "af5bf818",
   "metadata": {
    "hidePrompt": true
   },
   "outputs": [
    {
     "name": "stdout",
     "output_type": "stream",
     "text": [
      "Средняя помесячная выручка с обладателя платной подписки: 362.8 рублей\n",
      "Средняя помесячная выручка пользователя без подписки: 328.6 рублей\n",
      "p-value: 1.8850394384715216e-31\n",
      "Отвергаем нулевую гипотезу - помесячная выручка от пользователей с подпиской выше, чем выручка от пользователей без подписки\n"
     ]
    }
   ],
   "source": [
    "income_ultra = df_grouped[df_grouped['subscription_type'] == 'ultra']['income']\n",
    "income_free = df_grouped[df_grouped['subscription_type'] == 'free']['income']\n",
    "\n",
    "print(f\"Средняя помесячная выручка с обладателя платной подписки: {income_ultra.mean():.1f} рублей\")\n",
    "print(f\"Средняя помесячная выручка пользователя без подписки: {income_free.mean():.1f} рублей\")\n",
    "\n",
    "alpha = 0.05\n",
    "results = st.ttest_ind(income_ultra, income_free, alternative='greater')\n",
    "print(f'p-value: {results.pvalue}')\n",
    " \n",
    "if results.pvalue < alpha:\n",
    "    print('Отвергаем нулевую гипотезу - помесячная выручка от пользователей с подпиской выше, чем выручка от пользователей без подписки')\n",
    "else:\n",
    "    print('Нет оснований отвергнуть нулевую гипотезу - помесячная выручка с платной подпиской не изменилась по сравнению с выручкой от пользователей без подписки')"
   ]
  },
  {
   "cell_type": "markdown",
   "id": "552551a3",
   "metadata": {},
   "source": [
    "Альтернативная гипотеза подтвердилась - помесячная выручка от пользователей с подпиской выше, чем выручка от пользователей без подписки."
   ]
  },
  {
   "cell_type": "markdown",
   "id": "48b1cc31",
   "metadata": {},
   "source": [
    "### Вывод\n",
    "\n",
    "По тестам поняли, что пользователи с подпиской начинают дольше по времени ездить и приносят больше помесячной выручки.\\\n",
    "При этом они не начнут совершать длинных поездок, которые могли бы привести к дополнительным расходам на обслуживание самокатов."
   ]
  },
  {
   "cell_type": "markdown",
   "id": "c81d983f",
   "metadata": {},
   "source": [
    "## Общий вывод\n",
    "\n",
    "В ходе исследования нам была предоставлена выборка данных о поездках с помощью сервиса GoFast за 2021 год по 8 городам.\\\n",
    "У сервиса есть 2 подписки: бесплатная и тариф Ultra.\n",
    "\n",
    "В рамках предобработки данных исключили дубликаты пользователей, поменяли типы данных.\n",
    "\n",
    "Провели исследовательский анализ, где ознакомились с данными по поездкам:\n",
    "- Пик пользователей по возрасту - 25 лет. Чем моложе или старше люди от этого значения, тем показатель ниже.\n",
    "- Обладателей платной подписки - 46%, пользователей без подписки - 54%.\n",
    "- Средняя длительность поездки по времени - от 15 до 20 минут.\n",
    "- Средняя дальность поездки - около 3000 метров.\n",
    "\n",
    "Объединили данные из нескольких таблиц, чтобы получить более целую картину по пользователям и их поездкам.\\\n",
    "При визуальном сравнении длительности и дальности поездок по виду подписки заметили, что пользователи без подписки совершали поездки менее одной минуты - делали тестовые заезды. Обладатели платной подписки всегда совершают более продолжительные поездки.\n",
    "\n",
    "Рассчитали ежемесячную выручку по каждому пользователю, а также подсчитали количество поездок, суммарную длительность и дальность поездок для каждого пользователя помесячно.\n",
    "\n",
    "Провели статистический анализ данных, где выяснили, что пользователи с подпиской начинают дольше по времени ездить и приносят больше помесячной выручки.\\\n",
    "При этом они не начнут совершать длинных поездок, которые могли бы привести к дополнительным расходам на обслуживание самокатов.\n",
    "Следовательно, обладатели платной подписки выгоднее для компании, чем пользователи без подписки."
   ]
  }
 ],
 "metadata": {
  "ExecuteTimeLog": [
   {
    "duration": 1204,
    "start_time": "2023-08-16T07:16:28.670Z"
   },
   {
    "duration": 126,
    "start_time": "2023-08-16T07:16:29.876Z"
   },
   {
    "duration": 131,
    "start_time": "2023-08-16T07:16:30.004Z"
   },
   {
    "duration": 56,
    "start_time": "2023-08-16T07:16:30.137Z"
   },
   {
    "duration": 14,
    "start_time": "2023-08-16T07:16:30.194Z"
   },
   {
    "duration": 87,
    "start_time": "2023-08-16T07:16:30.210Z"
   },
   {
    "duration": 48,
    "start_time": "2023-08-16T07:16:30.299Z"
   },
   {
    "duration": 9,
    "start_time": "2023-08-16T07:16:30.349Z"
   },
   {
    "duration": 29,
    "start_time": "2023-08-16T07:16:30.359Z"
   },
   {
    "duration": 182,
    "start_time": "2023-08-16T07:16:30.390Z"
   },
   {
    "duration": 94,
    "start_time": "2023-08-16T07:16:30.573Z"
   },
   {
    "duration": 223,
    "start_time": "2023-08-16T07:16:30.669Z"
   },
   {
    "duration": 166,
    "start_time": "2023-08-16T07:16:30.893Z"
   },
   {
    "duration": 169,
    "start_time": "2023-08-16T07:16:31.061Z"
   },
   {
    "duration": 32,
    "start_time": "2023-08-16T07:16:31.238Z"
   },
   {
    "duration": 11,
    "start_time": "2023-08-16T07:16:31.272Z"
   },
   {
    "duration": 961,
    "start_time": "2023-08-16T07:16:31.284Z"
   },
   {
    "duration": 24,
    "start_time": "2023-08-16T07:16:32.246Z"
   },
   {
    "duration": 42,
    "start_time": "2023-08-16T07:16:32.271Z"
   },
   {
    "duration": 246,
    "start_time": "2023-08-16T07:16:32.314Z"
   },
   {
    "duration": 9,
    "start_time": "2023-08-16T07:16:32.562Z"
   },
   {
    "duration": 41,
    "start_time": "2023-08-16T07:16:32.573Z"
   },
   {
    "duration": 44,
    "start_time": "2023-08-16T07:16:32.616Z"
   },
   {
    "duration": 1017,
    "start_time": "2023-08-16T07:31:11.151Z"
   },
   {
    "duration": 61,
    "start_time": "2023-08-16T07:31:12.170Z"
   },
   {
    "duration": 89,
    "start_time": "2023-08-16T07:31:12.233Z"
   },
   {
    "duration": 18,
    "start_time": "2023-08-16T07:31:12.324Z"
   },
   {
    "duration": 14,
    "start_time": "2023-08-16T07:31:12.343Z"
   },
   {
    "duration": 4,
    "start_time": "2023-08-16T07:31:12.359Z"
   },
   {
    "duration": 27,
    "start_time": "2023-08-16T07:31:12.364Z"
   },
   {
    "duration": 4,
    "start_time": "2023-08-16T07:31:12.392Z"
   },
   {
    "duration": 6,
    "start_time": "2023-08-16T07:31:12.397Z"
   },
   {
    "duration": 142,
    "start_time": "2023-08-16T07:31:12.405Z"
   },
   {
    "duration": 91,
    "start_time": "2023-08-16T07:31:12.549Z"
   },
   {
    "duration": 215,
    "start_time": "2023-08-16T07:31:12.642Z"
   },
   {
    "duration": 166,
    "start_time": "2023-08-16T07:31:12.858Z"
   },
   {
    "duration": 175,
    "start_time": "2023-08-16T07:31:13.025Z"
   },
   {
    "duration": 27,
    "start_time": "2023-08-16T07:31:13.201Z"
   },
   {
    "duration": 8,
    "start_time": "2023-08-16T07:31:13.238Z"
   },
   {
    "duration": 870,
    "start_time": "2023-08-16T07:31:13.247Z"
   },
   {
    "duration": 30,
    "start_time": "2023-08-16T07:31:14.118Z"
   },
   {
    "duration": 3,
    "start_time": "2023-08-16T07:31:14.149Z"
   },
   {
    "duration": 211,
    "start_time": "2023-08-16T07:31:14.154Z"
   },
   {
    "duration": 8,
    "start_time": "2023-08-16T07:31:14.367Z"
   },
   {
    "duration": 7,
    "start_time": "2023-08-16T07:31:14.377Z"
   },
   {
    "duration": 16,
    "start_time": "2023-08-16T07:31:14.385Z"
   },
   {
    "duration": 1199,
    "start_time": "2023-08-17T06:44:16.834Z"
   },
   {
    "duration": 70,
    "start_time": "2023-08-17T06:44:18.036Z"
   },
   {
    "duration": 109,
    "start_time": "2023-08-17T06:44:18.108Z"
   },
   {
    "duration": 21,
    "start_time": "2023-08-17T06:44:18.219Z"
   },
   {
    "duration": 30,
    "start_time": "2023-08-17T06:44:18.242Z"
   },
   {
    "duration": 28,
    "start_time": "2023-08-17T06:44:18.274Z"
   },
   {
    "duration": 17,
    "start_time": "2023-08-17T06:44:18.304Z"
   },
   {
    "duration": 8,
    "start_time": "2023-08-17T06:44:18.324Z"
   },
   {
    "duration": 24,
    "start_time": "2023-08-17T06:44:18.334Z"
   },
   {
    "duration": 192,
    "start_time": "2023-08-17T06:44:18.361Z"
   },
   {
    "duration": 79,
    "start_time": "2023-08-17T06:44:18.555Z"
   },
   {
    "duration": 294,
    "start_time": "2023-08-17T06:44:18.636Z"
   },
   {
    "duration": 228,
    "start_time": "2023-08-17T06:44:18.932Z"
   },
   {
    "duration": 221,
    "start_time": "2023-08-17T06:44:19.162Z"
   },
   {
    "duration": 21,
    "start_time": "2023-08-17T06:44:19.385Z"
   },
   {
    "duration": 11,
    "start_time": "2023-08-17T06:44:19.408Z"
   },
   {
    "duration": 1024,
    "start_time": "2023-08-17T06:44:19.421Z"
   },
   {
    "duration": 39,
    "start_time": "2023-08-17T06:44:20.447Z"
   },
   {
    "duration": 4,
    "start_time": "2023-08-17T06:44:20.488Z"
   },
   {
    "duration": 207,
    "start_time": "2023-08-17T06:44:20.494Z"
   },
   {
    "duration": 13,
    "start_time": "2023-08-17T06:44:20.704Z"
   },
   {
    "duration": 14,
    "start_time": "2023-08-17T06:44:20.719Z"
   },
   {
    "duration": 32,
    "start_time": "2023-08-17T06:44:20.735Z"
   },
   {
    "duration": 1213,
    "start_time": "2023-08-17T06:51:05.031Z"
   },
   {
    "duration": 64,
    "start_time": "2023-08-17T06:51:06.246Z"
   },
   {
    "duration": 116,
    "start_time": "2023-08-17T06:51:06.312Z"
   },
   {
    "duration": 28,
    "start_time": "2023-08-17T06:51:06.430Z"
   },
   {
    "duration": 13,
    "start_time": "2023-08-17T06:51:06.460Z"
   },
   {
    "duration": 9,
    "start_time": "2023-08-17T06:51:06.475Z"
   },
   {
    "duration": 17,
    "start_time": "2023-08-17T06:51:06.486Z"
   },
   {
    "duration": 4,
    "start_time": "2023-08-17T06:51:06.505Z"
   },
   {
    "duration": 15,
    "start_time": "2023-08-17T06:51:06.511Z"
   },
   {
    "duration": 199,
    "start_time": "2023-08-17T06:51:06.529Z"
   },
   {
    "duration": 88,
    "start_time": "2023-08-17T06:51:06.730Z"
   },
   {
    "duration": 278,
    "start_time": "2023-08-17T06:51:06.820Z"
   },
   {
    "duration": 212,
    "start_time": "2023-08-17T06:51:07.100Z"
   },
   {
    "duration": 225,
    "start_time": "2023-08-17T06:51:07.314Z"
   },
   {
    "duration": 22,
    "start_time": "2023-08-17T06:51:07.541Z"
   },
   {
    "duration": 10,
    "start_time": "2023-08-17T06:51:07.564Z"
   },
   {
    "duration": 1085,
    "start_time": "2023-08-17T06:51:07.575Z"
   },
   {
    "duration": 38,
    "start_time": "2023-08-17T06:51:08.662Z"
   },
   {
    "duration": 4,
    "start_time": "2023-08-17T06:51:08.701Z"
   },
   {
    "duration": 230,
    "start_time": "2023-08-17T06:51:08.706Z"
   },
   {
    "duration": 21,
    "start_time": "2023-08-17T06:51:08.938Z"
   },
   {
    "duration": 42,
    "start_time": "2023-08-17T06:51:08.961Z"
   },
   {
    "duration": 49,
    "start_time": "2023-08-17T06:51:09.005Z"
   },
   {
    "duration": 1121,
    "start_time": "2023-08-17T17:47:17.884Z"
   },
   {
    "duration": 64,
    "start_time": "2023-08-17T17:47:19.007Z"
   },
   {
    "duration": 108,
    "start_time": "2023-08-17T17:47:19.073Z"
   },
   {
    "duration": 21,
    "start_time": "2023-08-17T17:47:19.183Z"
   },
   {
    "duration": 14,
    "start_time": "2023-08-17T17:47:19.206Z"
   },
   {
    "duration": 7,
    "start_time": "2023-08-17T17:47:19.221Z"
   },
   {
    "duration": 37,
    "start_time": "2023-08-17T17:47:19.229Z"
   },
   {
    "duration": 5,
    "start_time": "2023-08-17T17:47:19.267Z"
   },
   {
    "duration": 18,
    "start_time": "2023-08-17T17:47:19.274Z"
   },
   {
    "duration": 168,
    "start_time": "2023-08-17T17:47:19.294Z"
   },
   {
    "duration": 89,
    "start_time": "2023-08-17T17:47:19.463Z"
   },
   {
    "duration": 248,
    "start_time": "2023-08-17T17:47:19.554Z"
   },
   {
    "duration": 200,
    "start_time": "2023-08-17T17:47:19.804Z"
   },
   {
    "duration": 200,
    "start_time": "2023-08-17T17:47:20.006Z"
   },
   {
    "duration": 19,
    "start_time": "2023-08-17T17:47:20.208Z"
   },
   {
    "duration": 24,
    "start_time": "2023-08-17T17:47:20.228Z"
   },
   {
    "duration": 968,
    "start_time": "2023-08-17T17:47:20.254Z"
   },
   {
    "duration": 40,
    "start_time": "2023-08-17T17:47:21.223Z"
   },
   {
    "duration": 2,
    "start_time": "2023-08-17T17:47:21.265Z"
   },
   {
    "duration": 206,
    "start_time": "2023-08-17T17:47:21.269Z"
   },
   {
    "duration": 11,
    "start_time": "2023-08-17T17:47:21.477Z"
   },
   {
    "duration": 7,
    "start_time": "2023-08-17T17:47:21.490Z"
   },
   {
    "duration": 17,
    "start_time": "2023-08-17T17:47:21.499Z"
   }
  ],
  "celltoolbar": "Необработанный формат ячейки",
  "kernelspec": {
   "display_name": "Python 3 (ipykernel)",
   "language": "python",
   "name": "python3"
  },
  "language_info": {
   "codemirror_mode": {
    "name": "ipython",
    "version": 3
   },
   "file_extension": ".py",
   "mimetype": "text/x-python",
   "name": "python",
   "nbconvert_exporter": "python",
   "pygments_lexer": "ipython3",
   "version": "3.11.4"
  },
  "toc": {
   "base_numbering": 1,
   "nav_menu": {},
   "number_sections": true,
   "sideBar": true,
   "skip_h1_title": true,
   "title_cell": "Table of Contents",
   "title_sidebar": "Contents",
   "toc_cell": false,
   "toc_position": {},
   "toc_section_display": true,
   "toc_window_display": false
  }
 },
 "nbformat": 4,
 "nbformat_minor": 5
}
